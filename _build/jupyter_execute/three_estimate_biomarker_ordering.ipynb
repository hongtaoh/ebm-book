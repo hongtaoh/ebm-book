{
 "cells": [
  {
   "cell_type": "markdown",
   "metadata": {},
   "source": [
    "# Estimating biomarker ordering\n",
    "\n",
    ">The sampler for the biomarker ordering can be a bit tricker. The simplest way to do it might be to do a Metropolis-Hastings step where you select two indicies and propose swapping their order. Then you can work out the relative probabilities, evaluate and then accept/reject based on that. It's not the fastest sampler, but it is a lot more straightforward than some ways of doing it.  \n",
    "\n",
    "In the following, we assume we know the actual $\\theta$ and $\\phi$ values. Other than those, we know nothing except for participants' observed biomarker values. And we want to estimate the current order in which different biomarkers are affected by the disease in question. "
   ]
  },
  {
   "cell_type": "code",
   "execution_count": 1,
   "metadata": {},
   "outputs": [],
   "source": [
    "import pandas as pd \n",
    "import numpy as np \n",
    "import re \n",
    "import altair as alt \n",
    "import seaborn as sns\n",
    "import matplotlib.pyplot as plt \n",
    "from collections import Counter\n",
    "import math"
   ]
  },
  {
   "cell_type": "markdown",
   "metadata": {},
   "source": [
    "We only have three columns: biomarker, participant, and measurement. "
   ]
  },
  {
   "cell_type": "code",
   "execution_count": 2,
   "metadata": {},
   "outputs": [
    {
     "data": {
      "text/html": [
       "<div>\n",
       "<style scoped>\n",
       "    .dataframe tbody tr th:only-of-type {\n",
       "        vertical-align: middle;\n",
       "    }\n",
       "\n",
       "    .dataframe tbody tr th {\n",
       "        vertical-align: top;\n",
       "    }\n",
       "\n",
       "    .dataframe thead th {\n",
       "        text-align: right;\n",
       "    }\n",
       "</style>\n",
       "<table border=\"1\" class=\"dataframe\">\n",
       "  <thead>\n",
       "    <tr style=\"text-align: right;\">\n",
       "      <th></th>\n",
       "      <th>participant</th>\n",
       "      <th>biomarker</th>\n",
       "      <th>measurement</th>\n",
       "      <th>k_j</th>\n",
       "      <th>S_n</th>\n",
       "      <th>affected_or_not</th>\n",
       "      <th>Diseased</th>\n",
       "    </tr>\n",
       "  </thead>\n",
       "  <tbody>\n",
       "    <tr>\n",
       "      <th>9</th>\n",
       "      <td>9</td>\n",
       "      <td>MMSE</td>\n",
       "      <td>25.419103</td>\n",
       "      <td>0</td>\n",
       "      <td>5</td>\n",
       "      <td>not_affected</td>\n",
       "      <td>False</td>\n",
       "    </tr>\n",
       "    <tr>\n",
       "      <th>470</th>\n",
       "      <td>70</td>\n",
       "      <td>HIP-FCI</td>\n",
       "      <td>5.414052</td>\n",
       "      <td>8</td>\n",
       "      <td>1</td>\n",
       "      <td>affected</td>\n",
       "      <td>True</td>\n",
       "    </tr>\n",
       "    <tr>\n",
       "      <th>952</th>\n",
       "      <td>52</td>\n",
       "      <td>FUS-FCI</td>\n",
       "      <td>-7.625785</td>\n",
       "      <td>10</td>\n",
       "      <td>10</td>\n",
       "      <td>affected</td>\n",
       "      <td>True</td>\n",
       "    </tr>\n",
       "    <tr>\n",
       "      <th>358</th>\n",
       "      <td>58</td>\n",
       "      <td>P-Tau</td>\n",
       "      <td>-24.032721</td>\n",
       "      <td>4</td>\n",
       "      <td>4</td>\n",
       "      <td>affected</td>\n",
       "      <td>True</td>\n",
       "    </tr>\n",
       "    <tr>\n",
       "      <th>201</th>\n",
       "      <td>1</td>\n",
       "      <td>AB</td>\n",
       "      <td>170.017716</td>\n",
       "      <td>1</td>\n",
       "      <td>3</td>\n",
       "      <td>not_affected</td>\n",
       "      <td>True</td>\n",
       "    </tr>\n",
       "  </tbody>\n",
       "</table>\n",
       "</div>"
      ],
      "text/plain": [
       "     participant biomarker  measurement  k_j  S_n affected_or_not  Diseased\n",
       "9              9      MMSE    25.419103    0    5    not_affected     False\n",
       "470           70   HIP-FCI     5.414052    8    1        affected      True\n",
       "952           52   FUS-FCI    -7.625785   10   10        affected      True\n",
       "358           58     P-Tau   -24.032721    4    4        affected      True\n",
       "201            1        AB   170.017716    1    3    not_affected      True"
      ]
     },
     "execution_count": 2,
     "metadata": {},
     "output_type": "execute_result"
    }
   ],
   "source": [
    "data = pd.read_csv('data/participant_data.csv')\n",
    "data['Diseased'] = data.apply(lambda row: row.k_j > 0, axis = 1)\n",
    "data.sample(5)"
   ]
  },
  {
   "cell_type": "code",
   "execution_count": 3,
   "metadata": {},
   "outputs": [
    {
     "data": {
      "text/plain": [
       "[67, 69, 39, 9, 10, 81, 51, 20, 24, 27]"
      ]
     },
     "execution_count": 3,
     "metadata": {},
     "output_type": "execute_result"
    }
   ],
   "source": [
    "## These are the healthy participants (Participant ID)\n",
    "non_diseased_participants = list(set(data.loc[data.Diseased == False].participant))\n",
    "non_diseased_participants"
   ]
  },
  {
   "cell_type": "code",
   "execution_count": 4,
   "metadata": {},
   "outputs": [
    {
     "data": {
      "text/html": [
       "<div>\n",
       "<style scoped>\n",
       "    .dataframe tbody tr th:only-of-type {\n",
       "        vertical-align: middle;\n",
       "    }\n",
       "\n",
       "    .dataframe tbody tr th {\n",
       "        vertical-align: top;\n",
       "    }\n",
       "\n",
       "    .dataframe thead th {\n",
       "        text-align: right;\n",
       "    }\n",
       "</style>\n",
       "<table border=\"1\" class=\"dataframe\">\n",
       "  <thead>\n",
       "    <tr style=\"text-align: right;\">\n",
       "      <th></th>\n",
       "      <th>participant</th>\n",
       "      <th>biomarker</th>\n",
       "      <th>measurement</th>\n",
       "      <th>Diseased</th>\n",
       "    </tr>\n",
       "  </thead>\n",
       "  <tbody>\n",
       "    <tr>\n",
       "      <th>0</th>\n",
       "      <td>0</td>\n",
       "      <td>MMSE</td>\n",
       "      <td>27.506251</td>\n",
       "      <td>True</td>\n",
       "    </tr>\n",
       "    <tr>\n",
       "      <th>1</th>\n",
       "      <td>1</td>\n",
       "      <td>MMSE</td>\n",
       "      <td>20.177897</td>\n",
       "      <td>True</td>\n",
       "    </tr>\n",
       "    <tr>\n",
       "      <th>2</th>\n",
       "      <td>2</td>\n",
       "      <td>MMSE</td>\n",
       "      <td>27.821436</td>\n",
       "      <td>True</td>\n",
       "    </tr>\n",
       "    <tr>\n",
       "      <th>3</th>\n",
       "      <td>3</td>\n",
       "      <td>MMSE</td>\n",
       "      <td>27.799397</td>\n",
       "      <td>True</td>\n",
       "    </tr>\n",
       "    <tr>\n",
       "      <th>4</th>\n",
       "      <td>4</td>\n",
       "      <td>MMSE</td>\n",
       "      <td>20.916698</td>\n",
       "      <td>True</td>\n",
       "    </tr>\n",
       "  </tbody>\n",
       "</table>\n",
       "</div>"
      ],
      "text/plain": [
       "   participant biomarker  measurement  Diseased\n",
       "0            0      MMSE    27.506251      True\n",
       "1            1      MMSE    20.177897      True\n",
       "2            2      MMSE    27.821436      True\n",
       "3            3      MMSE    27.799397      True\n",
       "4            4      MMSE    20.916698      True"
      ]
     },
     "execution_count": 4,
     "metadata": {},
     "output_type": "execute_result"
    }
   ],
   "source": [
    "data_we_have = data.drop(['k_j', 'S_n', 'affected_or_not'], axis = 1)\n",
    "data_we_have.head()"
   ]
  },
  {
   "cell_type": "code",
   "execution_count": 5,
   "metadata": {},
   "outputs": [
    {
     "data": {
      "text/html": [
       "<div>\n",
       "<style scoped>\n",
       "    .dataframe tbody tr th:only-of-type {\n",
       "        vertical-align: middle;\n",
       "    }\n",
       "\n",
       "    .dataframe tbody tr th {\n",
       "        vertical-align: top;\n",
       "    }\n",
       "\n",
       "    .dataframe thead th {\n",
       "        text-align: right;\n",
       "    }\n",
       "</style>\n",
       "<table border=\"1\" class=\"dataframe\">\n",
       "  <thead>\n",
       "    <tr style=\"text-align: right;\">\n",
       "      <th></th>\n",
       "      <th>biomarker</th>\n",
       "      <th>theta_mean</th>\n",
       "      <th>theta_std</th>\n",
       "      <th>phi_mean</th>\n",
       "      <th>phi_std</th>\n",
       "    </tr>\n",
       "  </thead>\n",
       "  <tbody>\n",
       "    <tr>\n",
       "      <th>0</th>\n",
       "      <td>MMSE</td>\n",
       "      <td>28.0</td>\n",
       "      <td>0.666667</td>\n",
       "      <td>22.0</td>\n",
       "      <td>2.666667</td>\n",
       "    </tr>\n",
       "    <tr>\n",
       "      <th>1</th>\n",
       "      <td>ADAS</td>\n",
       "      <td>-6.0</td>\n",
       "      <td>1.333333</td>\n",
       "      <td>-20.0</td>\n",
       "      <td>4.000000</td>\n",
       "    </tr>\n",
       "    <tr>\n",
       "      <th>2</th>\n",
       "      <td>AB</td>\n",
       "      <td>250.0</td>\n",
       "      <td>50.000000</td>\n",
       "      <td>150.0</td>\n",
       "      <td>16.666667</td>\n",
       "    </tr>\n",
       "    <tr>\n",
       "      <th>3</th>\n",
       "      <td>P-Tau</td>\n",
       "      <td>-25.0</td>\n",
       "      <td>16.666667</td>\n",
       "      <td>-50.0</td>\n",
       "      <td>33.333333</td>\n",
       "    </tr>\n",
       "    <tr>\n",
       "      <th>4</th>\n",
       "      <td>HIP-FCI</td>\n",
       "      <td>5.0</td>\n",
       "      <td>1.666667</td>\n",
       "      <td>-5.0</td>\n",
       "      <td>6.666667</td>\n",
       "    </tr>\n",
       "  </tbody>\n",
       "</table>\n",
       "</div>"
      ],
      "text/plain": [
       "  biomarker  theta_mean  theta_std  phi_mean    phi_std\n",
       "0      MMSE        28.0   0.666667      22.0   2.666667\n",
       "1      ADAS        -6.0   1.333333     -20.0   4.000000\n",
       "2        AB       250.0  50.000000     150.0  16.666667\n",
       "3     P-Tau       -25.0  16.666667     -50.0  33.333333\n",
       "4   HIP-FCI         5.0   1.666667      -5.0   6.666667"
      ]
     },
     "execution_count": 5,
     "metadata": {},
     "output_type": "execute_result"
    }
   ],
   "source": [
    "theta_phi = pd.read_csv('data/means_stds.csv')\n",
    "theta_phi.head()"
   ]
  },
  {
   "cell_type": "code",
   "execution_count": 6,
   "metadata": {},
   "outputs": [],
   "source": [
    "def fill_up_pdata(pdata, k_j):\n",
    "    '''Fill up a single participant's data using k_j; basically add two columns: \n",
    "    k_j and affected\n",
    "    Note that this function assumes that pdata already has the S_n column\n",
    "    \n",
    "    Input:\n",
    "    - pdata: a dataframe of ten biomarker values for a specific participant \n",
    "    - k_j: a scalar\n",
    "    '''\n",
    "    data = pdata.copy()\n",
    "    data['k_j'] = k_j\n",
    "    data['affected'] = data.apply(lambda row: row.k_j >= row.S_n, axis = 1)\n",
    "    return data "
   ]
  },
  {
   "cell_type": "code",
   "execution_count": 7,
   "metadata": {},
   "outputs": [],
   "source": [
    "def compute_single_measurement_likelihood(theta_phi, biomarker, affected, measurement):\n",
    "    '''Computes the likelihood of the measurement value of a single biomarker\n",
    "    We know the normal distribution defined by either theta or phi\n",
    "    and we know the measurement. This will give us the probability\n",
    "    of this given measurement value. \n",
    "\n",
    "    input:\n",
    "    - theta_phi: the dataframe containing theta and phi values for each biomarker\n",
    "    - biomarker: an integer between 0 and 9 \n",
    "    - affected: boolean \n",
    "    - measurement: the observed value for a biomarker in a specific participant\n",
    "\n",
    "    output: a scalar\n",
    "    '''\n",
    "    biomarker_params = theta_phi[theta_phi.biomarker == biomarker].reset_index()\n",
    "    mu = biomarker_params['theta_mean'][0] if affected else biomarker_params['phi_mean'][0]\n",
    "    std = biomarker_params['theta_std'][0] if affected else biomarker_params['phi_std'][0]\n",
    "    var = std**2\n",
    "    likelihood = np.exp(-(measurement - mu)**2/(2*var))/np.sqrt(2*np.pi*var)\n",
    "    return likelihood"
   ]
  },
  {
   "cell_type": "code",
   "execution_count": 8,
   "metadata": {},
   "outputs": [],
   "source": [
    "def compute_likelihood(pdata, k_j, theta_phi):\n",
    "    '''This implementes the formula of https://ebm-book2.vercel.app/distributions.html#known-k-j\n",
    "    This function computes the likelihood of seeing this sequence of biomarker values for a specific participant\n",
    "    '''\n",
    "    data = fill_up_pdata(pdata, k_j)\n",
    "    likelihood = 1\n",
    "    for i, row in data.iterrows():\n",
    "        biomarker = row['biomarker']\n",
    "        measurement = row['measurement']\n",
    "        affected = row['affected']\n",
    "        likelihood *= compute_single_measurement_likelihood(\n",
    "            theta_phi, biomarker, affected, measurement)\n",
    "    return likelihood"
   ]
  },
  {
   "cell_type": "markdown",
   "metadata": {},
   "source": [
    "## Testing\n",
    "\n",
    "The above functions can compute the likelihood of a participant's sequence of biomarker data, given that we know the exact ordering and we assume a `k_j`. Next, we will test those functions by selecting a specific participant. We compute the likelihood by trying all possible `k_j` and see whether the one with the highest likelihood is the real `k_j` in the original data. "
   ]
  },
  {
   "cell_type": "code",
   "execution_count": 9,
   "metadata": {},
   "outputs": [
    {
     "data": {
      "text/html": [
       "<div>\n",
       "<style scoped>\n",
       "    .dataframe tbody tr th:only-of-type {\n",
       "        vertical-align: middle;\n",
       "    }\n",
       "\n",
       "    .dataframe tbody tr th {\n",
       "        vertical-align: top;\n",
       "    }\n",
       "\n",
       "    .dataframe thead th {\n",
       "        text-align: right;\n",
       "    }\n",
       "</style>\n",
       "<table border=\"1\" class=\"dataframe\">\n",
       "  <thead>\n",
       "    <tr style=\"text-align: right;\">\n",
       "      <th></th>\n",
       "      <th>participant</th>\n",
       "      <th>biomarker</th>\n",
       "      <th>measurement</th>\n",
       "      <th>k_j</th>\n",
       "      <th>S_n</th>\n",
       "      <th>affected_or_not</th>\n",
       "      <th>Diseased</th>\n",
       "    </tr>\n",
       "  </thead>\n",
       "  <tbody>\n",
       "    <tr>\n",
       "      <th>0</th>\n",
       "      <td>15</td>\n",
       "      <td>MMSE</td>\n",
       "      <td>28.508457</td>\n",
       "      <td>9</td>\n",
       "      <td>5</td>\n",
       "      <td>affected</td>\n",
       "      <td>True</td>\n",
       "    </tr>\n",
       "    <tr>\n",
       "      <th>1</th>\n",
       "      <td>15</td>\n",
       "      <td>ADAS</td>\n",
       "      <td>-7.347819</td>\n",
       "      <td>9</td>\n",
       "      <td>6</td>\n",
       "      <td>affected</td>\n",
       "      <td>True</td>\n",
       "    </tr>\n",
       "    <tr>\n",
       "      <th>2</th>\n",
       "      <td>15</td>\n",
       "      <td>AB</td>\n",
       "      <td>272.420253</td>\n",
       "      <td>9</td>\n",
       "      <td>3</td>\n",
       "      <td>affected</td>\n",
       "      <td>True</td>\n",
       "    </tr>\n",
       "    <tr>\n",
       "      <th>3</th>\n",
       "      <td>15</td>\n",
       "      <td>P-Tau</td>\n",
       "      <td>-37.559134</td>\n",
       "      <td>9</td>\n",
       "      <td>4</td>\n",
       "      <td>affected</td>\n",
       "      <td>True</td>\n",
       "    </tr>\n",
       "    <tr>\n",
       "      <th>4</th>\n",
       "      <td>15</td>\n",
       "      <td>HIP-FCI</td>\n",
       "      <td>4.941480</td>\n",
       "      <td>9</td>\n",
       "      <td>1</td>\n",
       "      <td>affected</td>\n",
       "      <td>True</td>\n",
       "    </tr>\n",
       "    <tr>\n",
       "      <th>5</th>\n",
       "      <td>15</td>\n",
       "      <td>HIP-GMI</td>\n",
       "      <td>0.003623</td>\n",
       "      <td>9</td>\n",
       "      <td>7</td>\n",
       "      <td>affected</td>\n",
       "      <td>True</td>\n",
       "    </tr>\n",
       "    <tr>\n",
       "      <th>6</th>\n",
       "      <td>15</td>\n",
       "      <td>AVLT-Sum</td>\n",
       "      <td>66.625292</td>\n",
       "      <td>9</td>\n",
       "      <td>8</td>\n",
       "      <td>affected</td>\n",
       "      <td>True</td>\n",
       "    </tr>\n",
       "    <tr>\n",
       "      <th>7</th>\n",
       "      <td>15</td>\n",
       "      <td>PCC-FCI</td>\n",
       "      <td>14.861075</td>\n",
       "      <td>9</td>\n",
       "      <td>2</td>\n",
       "      <td>affected</td>\n",
       "      <td>True</td>\n",
       "    </tr>\n",
       "    <tr>\n",
       "      <th>8</th>\n",
       "      <td>15</td>\n",
       "      <td>FUS-GMI</td>\n",
       "      <td>0.643119</td>\n",
       "      <td>9</td>\n",
       "      <td>9</td>\n",
       "      <td>affected</td>\n",
       "      <td>True</td>\n",
       "    </tr>\n",
       "    <tr>\n",
       "      <th>9</th>\n",
       "      <td>15</td>\n",
       "      <td>FUS-FCI</td>\n",
       "      <td>-25.892480</td>\n",
       "      <td>9</td>\n",
       "      <td>10</td>\n",
       "      <td>not_affected</td>\n",
       "      <td>True</td>\n",
       "    </tr>\n",
       "  </tbody>\n",
       "</table>\n",
       "</div>"
      ],
      "text/plain": [
       "   participant biomarker  measurement  k_j  S_n affected_or_not  Diseased\n",
       "0           15      MMSE    28.508457    9    5        affected      True\n",
       "1           15      ADAS    -7.347819    9    6        affected      True\n",
       "2           15        AB   272.420253    9    3        affected      True\n",
       "3           15     P-Tau   -37.559134    9    4        affected      True\n",
       "4           15   HIP-FCI     4.941480    9    1        affected      True\n",
       "5           15   HIP-GMI     0.003623    9    7        affected      True\n",
       "6           15  AVLT-Sum    66.625292    9    8        affected      True\n",
       "7           15   PCC-FCI    14.861075    9    2        affected      True\n",
       "8           15   FUS-GMI     0.643119    9    9        affected      True\n",
       "9           15   FUS-FCI   -25.892480    9   10    not_affected      True"
      ]
     },
     "execution_count": 9,
     "metadata": {},
     "output_type": "execute_result"
    }
   ],
   "source": [
    "p = 15 # we chose this participant\n",
    "pdata = data[data.participant == p].reset_index(drop=True)\n",
    "pdata"
   ]
  },
  {
   "cell_type": "code",
   "execution_count": 10,
   "metadata": {},
   "outputs": [
    {
     "data": {
      "text/plain": [
       "{'MMSE': 5,\n",
       " 'ADAS': 6,\n",
       " 'AB': 3,\n",
       " 'P-Tau': 4,\n",
       " 'HIP-FCI': 1,\n",
       " 'HIP-GMI': 7,\n",
       " 'AVLT-Sum': 8,\n",
       " 'PCC-FCI': 2,\n",
       " 'FUS-GMI': 9,\n",
       " 'FUS-FCI': 10}"
      ]
     },
     "execution_count": 10,
     "metadata": {},
     "output_type": "execute_result"
    }
   ],
   "source": [
    "# ordering of biomarker affected by the disease\n",
    "# biomarker: disease stage\n",
    "# note that the value >= 1\n",
    "real_ordering_dic = dict(zip(pdata.biomarker, pdata.S_n))\n",
    "real_ordering_dic"
   ]
  },
  {
   "cell_type": "code",
   "execution_count": 11,
   "metadata": {},
   "outputs": [
    {
     "data": {
      "text/html": [
       "<div>\n",
       "<style scoped>\n",
       "    .dataframe tbody tr th:only-of-type {\n",
       "        vertical-align: middle;\n",
       "    }\n",
       "\n",
       "    .dataframe tbody tr th {\n",
       "        vertical-align: top;\n",
       "    }\n",
       "\n",
       "    .dataframe thead th {\n",
       "        text-align: right;\n",
       "    }\n",
       "</style>\n",
       "<table border=\"1\" class=\"dataframe\">\n",
       "  <thead>\n",
       "    <tr style=\"text-align: right;\">\n",
       "      <th></th>\n",
       "      <th>participant</th>\n",
       "      <th>biomarker</th>\n",
       "      <th>measurement</th>\n",
       "      <th>Diseased</th>\n",
       "      <th>S_n</th>\n",
       "    </tr>\n",
       "  </thead>\n",
       "  <tbody>\n",
       "    <tr>\n",
       "      <th>0</th>\n",
       "      <td>15</td>\n",
       "      <td>MMSE</td>\n",
       "      <td>28.508457</td>\n",
       "      <td>True</td>\n",
       "      <td>5</td>\n",
       "    </tr>\n",
       "    <tr>\n",
       "      <th>1</th>\n",
       "      <td>15</td>\n",
       "      <td>ADAS</td>\n",
       "      <td>-7.347819</td>\n",
       "      <td>True</td>\n",
       "      <td>6</td>\n",
       "    </tr>\n",
       "    <tr>\n",
       "      <th>2</th>\n",
       "      <td>15</td>\n",
       "      <td>AB</td>\n",
       "      <td>272.420253</td>\n",
       "      <td>True</td>\n",
       "      <td>3</td>\n",
       "    </tr>\n",
       "    <tr>\n",
       "      <th>3</th>\n",
       "      <td>15</td>\n",
       "      <td>P-Tau</td>\n",
       "      <td>-37.559134</td>\n",
       "      <td>True</td>\n",
       "      <td>4</td>\n",
       "    </tr>\n",
       "    <tr>\n",
       "      <th>4</th>\n",
       "      <td>15</td>\n",
       "      <td>HIP-FCI</td>\n",
       "      <td>4.941480</td>\n",
       "      <td>True</td>\n",
       "      <td>1</td>\n",
       "    </tr>\n",
       "    <tr>\n",
       "      <th>5</th>\n",
       "      <td>15</td>\n",
       "      <td>HIP-GMI</td>\n",
       "      <td>0.003623</td>\n",
       "      <td>True</td>\n",
       "      <td>7</td>\n",
       "    </tr>\n",
       "    <tr>\n",
       "      <th>6</th>\n",
       "      <td>15</td>\n",
       "      <td>AVLT-Sum</td>\n",
       "      <td>66.625292</td>\n",
       "      <td>True</td>\n",
       "      <td>8</td>\n",
       "    </tr>\n",
       "    <tr>\n",
       "      <th>7</th>\n",
       "      <td>15</td>\n",
       "      <td>PCC-FCI</td>\n",
       "      <td>14.861075</td>\n",
       "      <td>True</td>\n",
       "      <td>2</td>\n",
       "    </tr>\n",
       "    <tr>\n",
       "      <th>8</th>\n",
       "      <td>15</td>\n",
       "      <td>FUS-GMI</td>\n",
       "      <td>0.643119</td>\n",
       "      <td>True</td>\n",
       "      <td>9</td>\n",
       "    </tr>\n",
       "    <tr>\n",
       "      <th>9</th>\n",
       "      <td>15</td>\n",
       "      <td>FUS-FCI</td>\n",
       "      <td>-25.892480</td>\n",
       "      <td>True</td>\n",
       "      <td>10</td>\n",
       "    </tr>\n",
       "  </tbody>\n",
       "</table>\n",
       "</div>"
      ],
      "text/plain": [
       "   participant biomarker  measurement  Diseased  S_n\n",
       "0           15      MMSE    28.508457      True    5\n",
       "1           15      ADAS    -7.347819      True    6\n",
       "2           15        AB   272.420253      True    3\n",
       "3           15     P-Tau   -37.559134      True    4\n",
       "4           15   HIP-FCI     4.941480      True    1\n",
       "5           15   HIP-GMI     0.003623      True    7\n",
       "6           15  AVLT-Sum    66.625292      True    8\n",
       "7           15   PCC-FCI    14.861075      True    2\n",
       "8           15   FUS-GMI     0.643119      True    9\n",
       "9           15   FUS-FCI   -25.892480      True   10"
      ]
     },
     "execution_count": 11,
     "metadata": {},
     "output_type": "execute_result"
    }
   ],
   "source": [
    "# get the participant data without k_j, and affected or not\n",
    "pdata = data_we_have[data_we_have.participant == p].reset_index(drop=True)\n",
    "# obtain real ordering:\n",
    "pdata['S_n'] = pdata.apply(lambda row: real_ordering_dic[row['biomarker']], axis = 1)\n",
    "pdata"
   ]
  },
  {
   "cell_type": "code",
   "execution_count": 12,
   "metadata": {},
   "outputs": [],
   "source": [
    "# num_biomarkers = len(pdata.biomarker.unique())\n",
    "# for x in range(num_biomarkers):\n",
    "#     print(x)"
   ]
  },
  {
   "cell_type": "code",
   "execution_count": 13,
   "metadata": {},
   "outputs": [
    {
     "data": {
      "text/html": [
       "<div>\n",
       "<style scoped>\n",
       "    .dataframe tbody tr th:only-of-type {\n",
       "        vertical-align: middle;\n",
       "    }\n",
       "\n",
       "    .dataframe tbody tr th {\n",
       "        vertical-align: top;\n",
       "    }\n",
       "\n",
       "    .dataframe thead th {\n",
       "        text-align: right;\n",
       "    }\n",
       "</style>\n",
       "<table border=\"1\" class=\"dataframe\">\n",
       "  <thead>\n",
       "    <tr style=\"text-align: right;\">\n",
       "      <th></th>\n",
       "      <th>index</th>\n",
       "      <th>likelihood</th>\n",
       "    </tr>\n",
       "  </thead>\n",
       "  <tbody>\n",
       "    <tr>\n",
       "      <th>9</th>\n",
       "      <td>9</td>\n",
       "      <td>8.546526e-11</td>\n",
       "    </tr>\n",
       "    <tr>\n",
       "      <th>8</th>\n",
       "      <td>8</td>\n",
       "      <td>1.051643e-11</td>\n",
       "    </tr>\n",
       "    <tr>\n",
       "      <th>10</th>\n",
       "      <td>10</td>\n",
       "      <td>2.886950e-15</td>\n",
       "    </tr>\n",
       "    <tr>\n",
       "      <th>6</th>\n",
       "      <td>6</td>\n",
       "      <td>5.456709e-21</td>\n",
       "    </tr>\n",
       "    <tr>\n",
       "      <th>7</th>\n",
       "      <td>7</td>\n",
       "      <td>2.734383e-21</td>\n",
       "    </tr>\n",
       "    <tr>\n",
       "      <th>5</th>\n",
       "      <td>5</td>\n",
       "      <td>2.037858e-23</td>\n",
       "    </tr>\n",
       "    <tr>\n",
       "      <th>4</th>\n",
       "      <td>4</td>\n",
       "      <td>3.466624e-25</td>\n",
       "    </tr>\n",
       "    <tr>\n",
       "      <th>3</th>\n",
       "      <td>3</td>\n",
       "      <td>2.147496e-25</td>\n",
       "    </tr>\n",
       "    <tr>\n",
       "      <th>2</th>\n",
       "      <td>2</td>\n",
       "      <td>1.371344e-36</td>\n",
       "    </tr>\n",
       "    <tr>\n",
       "      <th>1</th>\n",
       "      <td>1</td>\n",
       "      <td>2.673134e-38</td>\n",
       "    </tr>\n",
       "    <tr>\n",
       "      <th>0</th>\n",
       "      <td>0</td>\n",
       "      <td>2.199626e-39</td>\n",
       "    </tr>\n",
       "  </tbody>\n",
       "</table>\n",
       "</div>"
      ],
      "text/plain": [
       "    index    likelihood\n",
       "9       9  8.546526e-11\n",
       "8       8  1.051643e-11\n",
       "10     10  2.886950e-15\n",
       "6       6  5.456709e-21\n",
       "7       7  2.734383e-21\n",
       "5       5  2.037858e-23\n",
       "4       4  3.466624e-25\n",
       "3       3  2.147496e-25\n",
       "2       2  1.371344e-36\n",
       "1       1  2.673134e-38\n",
       "0       0  2.199626e-39"
      ]
     },
     "execution_count": 13,
     "metadata": {},
     "output_type": "execute_result"
    }
   ],
   "source": [
    "num_biomarkers = len(pdata.biomarker.unique())\n",
    "# calculate likelihood for all possible k_j\n",
    "# note that k_j should be 0-10\n",
    "likelihood_list = [\n",
    "    compute_likelihood(pdata=pdata, k_j=x, theta_phi=theta_phi) for x in range(num_biomarkers+1)]\n",
    "kjs = np.arange(11)\n",
    "dic = dict(zip(kjs, likelihood_list))\n",
    "df = pd.DataFrame.from_dict(dic, orient='index', columns=['likelihood']).reset_index()\n",
    "df.sort_values('likelihood', ascending=False)"
   ]
  },
  {
   "cell_type": "markdown",
   "metadata": {},
   "source": [
    "<!-- From the above result, we can see that the most likelihood `k_j` is 8, which is in fact the real `k_j` in the participant data.  -->\n",
    "\n",
    "## Metropolis-Hastings Algorithm Implementation\n",
    "\n",
    "Next, we will implement the metropolis-hastings algorithm using the above functions. "
   ]
  },
  {
   "cell_type": "code",
   "execution_count": 14,
   "metadata": {},
   "outputs": [],
   "source": [
    "def average_all_likelihood(pdata, num_biomarkers, theta_phi):\n",
    "    '''This is to compute https://ebm-book2.vercel.app/distributions.html#unknown-k-j\n",
    "    '''\n",
    "    return np.mean([compute_likelihood(pdata=pdata, k_j=x, theta_phi=theta_phi) for x in range(num_biomarkers+1)])"
   ]
  },
  {
   "cell_type": "code",
   "execution_count": 15,
   "metadata": {},
   "outputs": [],
   "source": [
    "def compute_ln_likelihood_assuming_ordering(ordering_dic, data, num_participants, num_biomarkers, theta_phi):\n",
    "    \"\"\"Compute the (ln version of) the likelihood of seeing all participants' data,\n",
    "    assuming that we already know the ordering\n",
    "    Inputs:\n",
    "        - ordering: an array of ordering for biomarker 0-9\n",
    "        - data: data_we_have\n",
    "        - num_participants\n",
    "        - num_biomarkers \n",
    "    Outputs:\n",
    "        - ln(likelihood)\n",
    "    \"\"\"\n",
    "    # fill up S_n column using the ordering dict\n",
    "    # copy first in order not to change data_we_have\n",
    "    filled_data = data.copy()\n",
    "    filled_data['S_n'] = filled_data.apply(lambda row: ordering_dic[row['biomarker']], axis = 1)\n",
    "    ln_likelihood = 0 \n",
    "    for p in range(num_participants):\n",
    "        pdata = filled_data[filled_data.participant == p].reset_index(drop=True)\n",
    "        average_likelihood = average_all_likelihood(pdata, num_biomarkers, theta_phi)\n",
    "        p_ln_likelihood = (\n",
    "            # natural logarithm\n",
    "           np.log(average_likelihood) \n",
    "           if average_likelihood > 0\n",
    "           # this is to avoid np.log(0)\n",
    "           else np.log(average_likelihood + 1e-20)\n",
    "        )\n",
    "        ln_likelihood += p_ln_likelihood\n",
    "    return ln_likelihood"
   ]
  },
  {
   "cell_type": "markdown",
   "metadata": {},
   "source": [
    "A brush up on log:\n",
    "\n",
    "$L = P1 \\cdot P2 \\cdot P3$\n",
    "\n",
    "$\\ln(L) = \\ln (P1 \\cdot P2 \\cdot P3) = \\ln(P1) + \\ln(P2) + \\ln(P3)$\n",
    "\n",
    "You may wonder why above I am using the second equation to get the likelihood of observing a specific participant's data. This is because if we want to estimate $k_j$, we need to know $S$, which we do not know and are trying to estimate here. \n",
    "\n",
    "If we want to estimate $S$ through using the first equation, we need $k_j$, but we do not know it. \n",
    "\n",
    "To sum up, to obtain $S$, we need to know $k_j$. And to obtain $k_j$, we need to know $S$. Therefore, we are not able to use the first equation. "
   ]
  },
  {
   "cell_type": "code",
   "execution_count": 16,
   "metadata": {},
   "outputs": [],
   "source": [
    "def metropolis_hastings(data, iterations, theta_phi):\n",
    "    '''Implement the metropolis-hastings algorithm\n",
    "    Inputs: \n",
    "        - data: data_we_have\n",
    "        - iterations: number of iterations\n",
    "\n",
    "    Outputs:\n",
    "        - best_order: a numpy array\n",
    "        - best_likelihood: a scalar \n",
    "    '''\n",
    "    num_participants = len(data.participant.unique())\n",
    "    num_biomarkers = len(data.biomarker.unique())\n",
    "\n",
    "    # initialize an ordering and likelihood\n",
    "    # note that it should be a random permutation of numbers 1-10\n",
    "    best_order = np.random.permutation(np.arange(1, num_biomarkers+1))\n",
    "    biomarker_names = np.array(list(data.biomarker.unique()))\n",
    "    biomarker_best_order_dic = dict(zip(biomarker_names, best_order))\n",
    "\n",
    "    best_likelihood = -np.inf \n",
    "    # best_order = np.array(list(real_ordering_dic.values()))\n",
    "    # best_likelihood = compute_likelihood_based_on_ordering(\n",
    "    #     best_order, data, num_participants, num_biomarkers, theta_phi\n",
    "    # )\n",
    "    for _ in range(iterations):\n",
    "        new_order = best_order.copy()\n",
    "        # randomly select two indices\n",
    "        a, b = np.random.choice(num_biomarkers, 2, replace=False)\n",
    "        # swapping the order\n",
    "        new_order[a], new_order[b] = new_order[b], new_order[a]\n",
    "        biomarker_new_order_dic = dict(zip(biomarker_names, new_order))\n",
    "        ln_likelihood = compute_ln_likelihood_assuming_ordering(\n",
    "            biomarker_new_order_dic, data, num_participants, num_biomarkers, theta_phi)\n",
    "        # if swapping results in higher likelihood, \n",
    "        # update the likelihood and accept the new ordering \n",
    "        if ln_likelihood > best_likelihood:\n",
    "            best_likelihood = ln_likelihood \n",
    "            biomarker_best_order_dic = biomarker_new_order_dic\n",
    "        else: \n",
    "            # ratio = likelihood/best_likelihood\n",
    "            # np.exp(a - b) = np.exp(a)/np.exp(b)\n",
    "            acceptance_ratio = np.exp(ln_likelihood - best_likelihood)\n",
    "            random_number = np.random.rand()\n",
    "            if random_number < acceptance_ratio:\n",
    "                best_likelihood = ln_likelihood\n",
    "                biomarker_best_order_dic = biomarker_new_order_dic\n",
    "        print(f\"iteration {_ + 1} done\")\n",
    "    return biomarker_best_order_dic, best_likelihood"
   ]
  },
  {
   "cell_type": "markdown",
   "metadata": {},
   "source": [
    "When `ln_likelihood` is smaller than `best_likelihood`, we still conditionally accept `ln_likelihood`. This is \"to allow exploration of the parameter space. This step is crucial in MCMC algorithms to avoid getting stuck in local maxima and to ensure that the sampling covers the entire distribution space adequately\".\n",
    "\n",
    "Note that the condition is `if random_number < acceptance_ratio`. This `<` cannot be changed to `>`. Why?\n",
    "\n",
    "When the `accepatance_ratio` is small, then it indicates `ln_likelihood` is small. We do not want to accept this `ln_likelihood` in this case. Because `ln_likelihood` is small, `random_number < acceptance_ratio` is less likely than `random_number > acceptance_ratio`. That's why we use `<` rather than `>`. "
   ]
  },
  {
   "cell_type": "code",
   "execution_count": 17,
   "metadata": {},
   "outputs": [
    {
     "name": "stdout",
     "output_type": "stream",
     "text": [
      "iteration 1 done\n"
     ]
    },
    {
     "name": "stdout",
     "output_type": "stream",
     "text": [
      "iteration 2 done\n"
     ]
    },
    {
     "name": "stdout",
     "output_type": "stream",
     "text": [
      "iteration 3 done\n"
     ]
    },
    {
     "name": "stdout",
     "output_type": "stream",
     "text": [
      "iteration 4 done\n"
     ]
    },
    {
     "name": "stdout",
     "output_type": "stream",
     "text": [
      "iteration 5 done\n"
     ]
    },
    {
     "name": "stdout",
     "output_type": "stream",
     "text": [
      "iteration 6 done\n"
     ]
    },
    {
     "name": "stdout",
     "output_type": "stream",
     "text": [
      "iteration 7 done\n"
     ]
    },
    {
     "name": "stdout",
     "output_type": "stream",
     "text": [
      "iteration 8 done\n"
     ]
    },
    {
     "name": "stdout",
     "output_type": "stream",
     "text": [
      "iteration 9 done\n"
     ]
    },
    {
     "name": "stdout",
     "output_type": "stream",
     "text": [
      "iteration 10 done\n"
     ]
    }
   ],
   "source": [
    "biomarker_best_order_dic, best_likelihood = metropolis_hastings(\n",
    "    data = data_we_have, iterations = 10, theta_phi = theta_phi)"
   ]
  },
  {
   "cell_type": "code",
   "execution_count": 18,
   "metadata": {},
   "outputs": [
    {
     "data": {
      "text/plain": [
       "({'MMSE': 3,\n",
       "  'ADAS': 2,\n",
       "  'AB': 1,\n",
       "  'P-Tau': 8,\n",
       "  'HIP-FCI': 7,\n",
       "  'HIP-GMI': 10,\n",
       "  'AVLT-Sum': 5,\n",
       "  'PCC-FCI': 4,\n",
       "  'FUS-GMI': 6,\n",
       "  'FUS-FCI': 9},\n",
       " {'MMSE': 5,\n",
       "  'ADAS': 6,\n",
       "  'AB': 3,\n",
       "  'P-Tau': 4,\n",
       "  'HIP-FCI': 1,\n",
       "  'HIP-GMI': 7,\n",
       "  'AVLT-Sum': 8,\n",
       "  'PCC-FCI': 2,\n",
       "  'FUS-GMI': 9,\n",
       "  'FUS-FCI': 10})"
      ]
     },
     "execution_count": 18,
     "metadata": {},
     "output_type": "execute_result"
    }
   ],
   "source": [
    "biomarker_best_order_dic, real_ordering_dic"
   ]
  },
  {
   "cell_type": "markdown",
   "metadata": {},
   "source": [
    "## Unknown theta and phi"
   ]
  },
  {
   "cell_type": "markdown",
   "metadata": {},
   "source": [
    "I found it challenging to infer the ordering of biomarkers affected by the disease without knowing theta and phi. This is because we do not need to know participants' real disease stage in the formula of https://ebm-book2.vercel.app/distributions.html#unknown-k-j; However, without knowing all participants' disease stages, we are not able to estimate theta and phi. "
   ]
  },
  {
   "cell_type": "code",
   "execution_count": 19,
   "metadata": {},
   "outputs": [
    {
     "data": {
      "text/html": [
       "<div>\n",
       "<style scoped>\n",
       "    .dataframe tbody tr th:only-of-type {\n",
       "        vertical-align: middle;\n",
       "    }\n",
       "\n",
       "    .dataframe tbody tr th {\n",
       "        vertical-align: top;\n",
       "    }\n",
       "\n",
       "    .dataframe thead th {\n",
       "        text-align: right;\n",
       "    }\n",
       "</style>\n",
       "<table border=\"1\" class=\"dataframe\">\n",
       "  <thead>\n",
       "    <tr style=\"text-align: right;\">\n",
       "      <th></th>\n",
       "      <th>participant</th>\n",
       "      <th>biomarker</th>\n",
       "      <th>measurement</th>\n",
       "      <th>k_j</th>\n",
       "      <th>S_n</th>\n",
       "      <th>affected_or_not</th>\n",
       "      <th>Diseased</th>\n",
       "    </tr>\n",
       "  </thead>\n",
       "  <tbody>\n",
       "    <tr>\n",
       "      <th>0</th>\n",
       "      <td>0</td>\n",
       "      <td>MMSE</td>\n",
       "      <td>27.506251</td>\n",
       "      <td>8</td>\n",
       "      <td>5</td>\n",
       "      <td>affected</td>\n",
       "      <td>True</td>\n",
       "    </tr>\n",
       "    <tr>\n",
       "      <th>1</th>\n",
       "      <td>1</td>\n",
       "      <td>MMSE</td>\n",
       "      <td>20.177897</td>\n",
       "      <td>1</td>\n",
       "      <td>5</td>\n",
       "      <td>not_affected</td>\n",
       "      <td>True</td>\n",
       "    </tr>\n",
       "    <tr>\n",
       "      <th>2</th>\n",
       "      <td>2</td>\n",
       "      <td>MMSE</td>\n",
       "      <td>27.821436</td>\n",
       "      <td>10</td>\n",
       "      <td>5</td>\n",
       "      <td>affected</td>\n",
       "      <td>True</td>\n",
       "    </tr>\n",
       "    <tr>\n",
       "      <th>3</th>\n",
       "      <td>3</td>\n",
       "      <td>MMSE</td>\n",
       "      <td>27.799397</td>\n",
       "      <td>9</td>\n",
       "      <td>5</td>\n",
       "      <td>affected</td>\n",
       "      <td>True</td>\n",
       "    </tr>\n",
       "    <tr>\n",
       "      <th>4</th>\n",
       "      <td>4</td>\n",
       "      <td>MMSE</td>\n",
       "      <td>20.916698</td>\n",
       "      <td>3</td>\n",
       "      <td>5</td>\n",
       "      <td>not_affected</td>\n",
       "      <td>True</td>\n",
       "    </tr>\n",
       "  </tbody>\n",
       "</table>\n",
       "</div>"
      ],
      "text/plain": [
       "   participant biomarker  measurement  k_j  S_n affected_or_not  Diseased\n",
       "0            0      MMSE    27.506251    8    5        affected      True\n",
       "1            1      MMSE    20.177897    1    5    not_affected      True\n",
       "2            2      MMSE    27.821436   10    5        affected      True\n",
       "3            3      MMSE    27.799397    9    5        affected      True\n",
       "4            4      MMSE    20.916698    3    5    not_affected      True"
      ]
     },
     "execution_count": 19,
     "metadata": {},
     "output_type": "execute_result"
    }
   ],
   "source": [
    "data.head()"
   ]
  },
  {
   "cell_type": "code",
   "execution_count": 20,
   "metadata": {},
   "outputs": [
    {
     "data": {
      "text/plain": [
       "array([ 8,  1, 10,  9,  3,  5,  4, 10,  1,  0,  0,  4,  6, 10,  8,  9,  8,\n",
       "        6,  7,  5,  0,  3,  6,  4,  0,  1,  7,  0,  4,  4,  3,  5,  9,  8,\n",
       "        2,  7,  1,  6, 10,  0,  5,  8,  2,  7,  4,  8,  3,  6,  6, 10,  2,\n",
       "        0, 10,  1,  1,  5,  7,  8,  4,  2,  7,  4,  2,  3, 10, 10,  6,  0,\n",
       "        2,  0,  8,  2,  5,  9,  3,  9,  9,  5,  2,  5,  8,  0, 10, 10,  9,\n",
       "        9,  9,  6,  7,  4,  5,  6, 10,  1,  3,  1,  3, 10,  9, 10])"
      ]
     },
     "execution_count": 20,
     "metadata": {},
     "output_type": "execute_result"
    }
   ],
   "source": [
    "actual_stage_dict = dict(zip(data.participant, data.k_j))\n",
    "actual_stages = np.array(list(actual_stage_dict.values()))\n",
    "actual_stages"
   ]
  },
  {
   "cell_type": "code",
   "execution_count": 21,
   "metadata": {},
   "outputs": [
    {
     "data": {
      "text/html": [
       "<div>\n",
       "<style scoped>\n",
       "    .dataframe tbody tr th:only-of-type {\n",
       "        vertical-align: middle;\n",
       "    }\n",
       "\n",
       "    .dataframe tbody tr th {\n",
       "        vertical-align: top;\n",
       "    }\n",
       "\n",
       "    .dataframe thead th {\n",
       "        text-align: right;\n",
       "    }\n",
       "</style>\n",
       "<table border=\"1\" class=\"dataframe\">\n",
       "  <thead>\n",
       "    <tr style=\"text-align: right;\">\n",
       "      <th></th>\n",
       "      <th>participant</th>\n",
       "      <th>biomarker</th>\n",
       "      <th>measurement</th>\n",
       "      <th>Diseased</th>\n",
       "    </tr>\n",
       "  </thead>\n",
       "  <tbody>\n",
       "    <tr>\n",
       "      <th>0</th>\n",
       "      <td>0</td>\n",
       "      <td>MMSE</td>\n",
       "      <td>27.506251</td>\n",
       "      <td>True</td>\n",
       "    </tr>\n",
       "    <tr>\n",
       "      <th>1</th>\n",
       "      <td>1</td>\n",
       "      <td>MMSE</td>\n",
       "      <td>20.177897</td>\n",
       "      <td>True</td>\n",
       "    </tr>\n",
       "    <tr>\n",
       "      <th>2</th>\n",
       "      <td>2</td>\n",
       "      <td>MMSE</td>\n",
       "      <td>27.821436</td>\n",
       "      <td>True</td>\n",
       "    </tr>\n",
       "    <tr>\n",
       "      <th>3</th>\n",
       "      <td>3</td>\n",
       "      <td>MMSE</td>\n",
       "      <td>27.799397</td>\n",
       "      <td>True</td>\n",
       "    </tr>\n",
       "    <tr>\n",
       "      <th>4</th>\n",
       "      <td>4</td>\n",
       "      <td>MMSE</td>\n",
       "      <td>20.916698</td>\n",
       "      <td>True</td>\n",
       "    </tr>\n",
       "  </tbody>\n",
       "</table>\n",
       "</div>"
      ],
      "text/plain": [
       "   participant biomarker  measurement  Diseased\n",
       "0            0      MMSE    27.506251      True\n",
       "1            1      MMSE    20.177897      True\n",
       "2            2      MMSE    27.821436      True\n",
       "3            3      MMSE    27.799397      True\n",
       "4            4      MMSE    20.916698      True"
      ]
     },
     "execution_count": 21,
     "metadata": {},
     "output_type": "execute_result"
    }
   ],
   "source": [
    "data_we_have.head()"
   ]
  },
  {
   "cell_type": "code",
   "execution_count": 22,
   "metadata": {},
   "outputs": [],
   "source": [
    "def add_kj_and_affected(data_we_have, participant_stages, num_participants):\n",
    "    '''This is to fill up data_we_have. \n",
    "    Basically, add two columns: k_j, and affected, based on the initial or updated participant_stages\n",
    "    Note that we assume here we've already got S_n\n",
    "\n",
    "    Inputs:\n",
    "        - data_we_have\n",
    "        - participant_stages: np array \n",
    "        - participants: 0-99\n",
    "    '''\n",
    "    participant_stage_dic = dict(zip(np.arange(0,num_participants), participant_stages))\n",
    "    data_we_have['k_j'] = data_we_have.apply(lambda row: participant_stage_dic[row.participant], axis = 1)\n",
    "    data_we_have['affected'] = data_we_have.apply(lambda row: row.k_j >= row.S_n, axis = 1)\n",
    "    return data_we_have "
   ]
  },
  {
   "cell_type": "code",
   "execution_count": 23,
   "metadata": {},
   "outputs": [],
   "source": [
    "def estimate_params_exact(m0, n0, s0_sq, v0, data):\n",
    "    '''This is to estimate means and vars based on conjugate priors\n",
    "    Inputs:\n",
    "        - data: a vector of measurements \n",
    "        - m0: prior estimate of $\\mu$.\n",
    "        - n0: how strongly is the prior belief in $m_0$ is held.\n",
    "        - s0_sq: prior estimate of $\\sigma^2$.\n",
    "        - v0: prior degress of freedome, influencing the certainty of $s_0^2$.\n",
    "    \n",
    "    Outputs:\n",
    "        - mu estiate, std estimate\n",
    "    '''\n",
    "    # Data summary\n",
    "    sample_mean = np.mean(data)\n",
    "    sample_size = len(data)\n",
    "    sample_var = np.var(data, ddof=1)  # ddof=1 for unbiased estimator\n",
    "\n",
    "    # Update hyperparameters for the Normal-Inverse Gamma posterior\n",
    "    updated_m0 = (n0 * m0 + sample_size * sample_mean) / (n0 + sample_size)\n",
    "    updated_n0 = n0 + sample_size\n",
    "    updated_v0 = v0 + sample_size \n",
    "    updated_s0_sq = (1 / updated_v0) * ((sample_size - 1) * sample_var + v0 * s0_sq + \n",
    "                    (n0 * sample_size / updated_n0) * (sample_mean - m0)**2)\n",
    "    updated_alpha = updated_v0/2\n",
    "    updated_beta = updated_v0*updated_s0_sq/2\n",
    "\n",
    "    # Posterior estimates\n",
    "    mu_posterior_mean = updated_m0\n",
    "    sigma_squared_posterior_mean = updated_beta/updated_alpha\n",
    "\n",
    "    mu_estimation = mu_posterior_mean\n",
    "    std_estimation = np.sqrt(sigma_squared_posterior_mean)\n",
    "\n",
    "    return mu_estimation, std_estimation"
   ]
  },
  {
   "cell_type": "code",
   "execution_count": 24,
   "metadata": {},
   "outputs": [],
   "source": [
    "def get_estimated_means_stds_df(biomarkers, data_we_have):\n",
    "    '''To get estimated parameters, returns a Pandas DataFrame\n",
    "    Input:\n",
    "    - biomarkers: biomarkers \n",
    "    - data_we_have: participants data filled with initial or updated participant_stages\n",
    "\n",
    "    Output: \n",
    "    - estimate_means_std_df, just like means_stds_df, containing the estimated mean and std_dev for \n",
    "      distribution of biomarker values when the biomarker is affected and not affected\n",
    "    '''\n",
    "     # empty list of dictionaries to store the estimates \n",
    "    means_stds_estimate_dict_list = []\n",
    "    \n",
    "    for biomarker in biomarkers: \n",
    "        dic = {'biomarker': biomarker}  # Initialize dictionary outside the inner loop\n",
    "        for affected in [True, False]:\n",
    "            data_full = data_we_have[(data_we_have.biomarker == biomarker) & (\n",
    "            data_we_have.affected == affected)]\n",
    "            data = data_full.measurement\n",
    "            mu_estimate, std_estimate = estimate_params_exact(\n",
    "                m0 = 0, n0 = 1, s0_sq = 1, v0 = 1, data=data)\n",
    "            if affected:\n",
    "                dic['theta_mean'] = mu_estimate\n",
    "                dic['theta_std'] = std_estimate\n",
    "            else:\n",
    "                dic['phi_mean'] = mu_estimate\n",
    "                dic['phi_std'] = std_estimate\n",
    "        # print(f\"biomarker {biomarker} done!\")\n",
    "        means_stds_estimate_dict_list.append(dic)\n",
    "    estimate_means_stds_df = pd.DataFrame(means_stds_estimate_dict_list)\n",
    "    return estimate_means_stds_df "
   ]
  },
  {
   "cell_type": "code",
   "execution_count": 25,
   "metadata": {},
   "outputs": [],
   "source": [
    "def metropolis_hastings_unknown_theta_phi(data_we_have, iterations, burn_in, thining):\n",
    "    num_participants = len(data_we_have.participant.unique())\n",
    "    num_biomarkers = len(data_we_have.biomarker.unique())\n",
    "    biomarker_names = np.array(list(data_we_have.biomarker.unique()))\n",
    "\n",
    "    all_dicts = []\n",
    "\n",
    "    # initialize an ordering and likelihood\n",
    "    # note that it should be a random permutation of numbers 1-10\n",
    "    best_order = np.random.permutation(np.arange(1, 11))\n",
    "    biomarker_best_order_dic = dict(zip(biomarker_names, best_order))\n",
    "    best_likelihood = -np.inf \n",
    "\n",
    "    # initialize participant_stages \n",
    "    # note that high should be num_stages + 1; otherwise, no participants will be in the stage of 10\n",
    "    participant_stages = np.random.randint(low = 0, high = num_biomarkers+1, size = num_participants)\n",
    "    participant_stages[non_diseased_participants] = 0\n",
    "\n",
    "    for _ in range(iterations):\n",
    "        # when we update best_order below,\n",
    "        # in each iteration, new_order will also update\n",
    "        new_order = best_order.copy()\n",
    "        # randomly select two indices\n",
    "        a, b = np.random.choice(num_biomarkers, 2, replace=False)\n",
    "        # swaping the order\n",
    "        new_order[a], new_order[b] = new_order[b], new_order[a]\n",
    "\n",
    "        # likelihood of seeing all participants' data \n",
    "        # biomarker - order dict\n",
    "        ordering_dic = dict(zip(biomarker_names, new_order))\n",
    "        # fill up S_n column using the ordering dict\n",
    "        # copy first in order not to change data_we_have\n",
    "        data = data_we_have.copy()\n",
    "        # now data_we_have has S_n column\n",
    "        data['S_n'] = data.apply(lambda row: ordering_dic[row['biomarker']], axis = 1)\n",
    "\n",
    "        # add kj and affected based on the initial randomized participant_stages\n",
    "        data = add_kj_and_affected(data, participant_stages, num_participants)\n",
    "        # print(data.head())\n",
    "\n",
    "        # get estimated_theta_phi\n",
    "        estimated_theta_phi = get_estimated_means_stds_df(biomarker_names, data_we_have=data)\n",
    "\n",
    "        all_participant_ln_likelihood = 0 \n",
    "        for p in range(num_participants):\n",
    "            # this participant data\n",
    "            pdata = data[data.participant == p].reset_index(drop=True)\n",
    "\n",
    "            \"\"\"If this participant is not diseased (i.e., if we know k_j is equal to 0)\n",
    "            We still need to compute the likelihood of this participant seeing this sequence of biomarker data\n",
    "            but we do not need to estimate k_j like below\n",
    "\n",
    "            We still need to compute the likelihood because we need to add it to all_participant_ln_likelihood\n",
    "            \"\"\"\n",
    "            if p in non_diseased_participants:\n",
    "                this_participant_likelihood = compute_likelihood(\n",
    "                    pdata, k_j = 0, theta_phi = estimated_theta_phi)\n",
    "                this_participant_ln_likelihood = np.log(this_participant_likelihood)\n",
    "            else:\n",
    "                # initiaze stage_likelihood\n",
    "                stage_likelihood = np.zeros(num_biomarkers + 1)\n",
    "                for k_j in range(num_biomarkers +1):\n",
    "                    # even though data above has everything, it is filled up by random stages\n",
    "                    # we don't like it and want to know the true k_j. All the following is to update participant_stages\n",
    "\n",
    "                    # likelihood for this participant to have this specific sequence of biomarker values\n",
    "                    participant_likelihood = compute_likelihood(pdata, k_j, estimated_theta_phi)\n",
    "\n",
    "                    # update each stage likelihood for this participant\n",
    "                    stage_likelihood[k_j] = participant_likelihood\n",
    "                likelihood_sum = np.sum(stage_likelihood)\n",
    "                normalized_stage_likelihood = [l/likelihood_sum for l in stage_likelihood]\n",
    "                sampled_stage = np.random.choice(np.arange(num_biomarkers + 1), p = normalized_stage_likelihood)\n",
    "                participant_stages[p] = sampled_stage   \n",
    "\n",
    "                # if participant is in sample_stage, what is the likelihood of seeing this sequence of biomarker data:\n",
    "                this_participant_likelihood =  stage_likelihood[sampled_stage]\n",
    "\n",
    "                # then, update all_participant_likelihood\n",
    "                if this_participant_likelihood == 0:\n",
    "                    this_participant_ln_likelihood = np.log(this_participant_likelihood + 1e20)\n",
    "                else:\n",
    "                    this_participant_ln_likelihood = np.log(this_participant_likelihood)\n",
    "            all_participant_ln_likelihood += this_participant_ln_likelihood\n",
    "            \n",
    "        acceptance_ratio = np.exp(all_participant_ln_likelihood - best_likelihood)\n",
    "        random_number = np.random.rand()\n",
    "        if random_number < acceptance_ratio:\n",
    "            best_likelihood = all_participant_ln_likelihood\n",
    "            biomarker_best_order_dic = ordering_dic\n",
    "        \n",
    "        if _ >= burn_in and _ % thining == 0:\n",
    "            all_dicts.append(ordering_dic)\n",
    "\n",
    "        print(f\"iteration {_ + 1} done\")\n",
    "    return biomarker_best_order_dic, participant_stages, all_dicts\n"
   ]
  },
  {
   "cell_type": "code",
   "execution_count": 26,
   "metadata": {},
   "outputs": [
    {
     "name": "stdout",
     "output_type": "stream",
     "text": [
      "iteration 1 done\n"
     ]
    },
    {
     "name": "stdout",
     "output_type": "stream",
     "text": [
      "iteration 2 done\n"
     ]
    },
    {
     "name": "stdout",
     "output_type": "stream",
     "text": [
      "iteration 3 done\n"
     ]
    },
    {
     "name": "stdout",
     "output_type": "stream",
     "text": [
      "iteration 4 done\n"
     ]
    },
    {
     "name": "stdout",
     "output_type": "stream",
     "text": [
      "iteration 5 done\n"
     ]
    },
    {
     "name": "stdout",
     "output_type": "stream",
     "text": [
      "iteration 6 done\n"
     ]
    },
    {
     "name": "stdout",
     "output_type": "stream",
     "text": [
      "iteration 7 done\n"
     ]
    },
    {
     "name": "stdout",
     "output_type": "stream",
     "text": [
      "iteration 8 done\n"
     ]
    },
    {
     "name": "stdout",
     "output_type": "stream",
     "text": [
      "iteration 9 done\n"
     ]
    },
    {
     "name": "stdout",
     "output_type": "stream",
     "text": [
      "iteration 10 done\n"
     ]
    }
   ],
   "source": [
    "biomarker_best_order_dic, participant_stages, all_dicts = metropolis_hastings_unknown_theta_phi(\n",
    "    data_we_have, iterations = 10, burn_in=1, thining=2)"
   ]
  },
  {
   "cell_type": "code",
   "execution_count": 27,
   "metadata": {},
   "outputs": [
    {
     "data": {
      "text/plain": [
       "({'MMSE': 1,\n",
       "  'ADAS': 3,\n",
       "  'AB': 5,\n",
       "  'P-Tau': 9,\n",
       "  'HIP-FCI': 6,\n",
       "  'HIP-GMI': 10,\n",
       "  'AVLT-Sum': 7,\n",
       "  'PCC-FCI': 2,\n",
       "  'FUS-GMI': 4,\n",
       "  'FUS-FCI': 8},\n",
       " {'MMSE': 5,\n",
       "  'ADAS': 6,\n",
       "  'AB': 3,\n",
       "  'P-Tau': 4,\n",
       "  'HIP-FCI': 1,\n",
       "  'HIP-GMI': 7,\n",
       "  'AVLT-Sum': 8,\n",
       "  'PCC-FCI': 2,\n",
       "  'FUS-GMI': 9,\n",
       "  'FUS-FCI': 10})"
      ]
     },
     "execution_count": 27,
     "metadata": {},
     "output_type": "execute_result"
    }
   ],
   "source": [
    "biomarker_best_order_dic, real_ordering_dic"
   ]
  },
  {
   "cell_type": "code",
   "execution_count": 28,
   "metadata": {},
   "outputs": [
    {
     "data": {
      "text/plain": [
       "array([ 9,  0, 10,  7,  7, 10,  5, 10,  2,  0,  0,  9, 10, 10,  9,  9,  9,\n",
       "        6,  6,  3,  0,  3, 10,  0,  0,  4,  6,  0,  3,  5,  8,  9,  9,  9,\n",
       "        3,  6,  0,  9,  7,  0,  6,  9,  8, 10,  6,  6, 10,  6,  9,  5,  3,\n",
       "        0,  9, 10,  1,  7,  6,  7,  2,  2,  9,  6,  2,  9,  6,  9,  5,  0,\n",
       "        1,  0,  4,  3,  1,  7,  6,  7,  8,  2,  0,  2, 10,  0,  7, 10, 10,\n",
       "       10,  8, 10,  5,  2,  2,  6,  9,  0,  2,  0,  5,  9, 10, 10])"
      ]
     },
     "execution_count": 28,
     "metadata": {},
     "output_type": "execute_result"
    }
   ],
   "source": [
    "participant_stages"
   ]
  },
  {
   "cell_type": "code",
   "execution_count": 29,
   "metadata": {},
   "outputs": [
    {
     "data": {
      "text/plain": [
       "[{'MMSE': 10,\n",
       "  'ADAS': 3,\n",
       "  'AB': 5,\n",
       "  'P-Tau': 9,\n",
       "  'HIP-FCI': 6,\n",
       "  'HIP-GMI': 1,\n",
       "  'AVLT-Sum': 7,\n",
       "  'PCC-FCI': 8,\n",
       "  'FUS-GMI': 4,\n",
       "  'FUS-FCI': 2},\n",
       " {'MMSE': 1,\n",
       "  'ADAS': 3,\n",
       "  'AB': 5,\n",
       "  'P-Tau': 9,\n",
       "  'HIP-FCI': 6,\n",
       "  'HIP-GMI': 8,\n",
       "  'AVLT-Sum': 7,\n",
       "  'PCC-FCI': 10,\n",
       "  'FUS-GMI': 4,\n",
       "  'FUS-FCI': 2},\n",
       " {'MMSE': 1,\n",
       "  'ADAS': 2,\n",
       "  'AB': 5,\n",
       "  'P-Tau': 9,\n",
       "  'HIP-FCI': 6,\n",
       "  'HIP-GMI': 10,\n",
       "  'AVLT-Sum': 7,\n",
       "  'PCC-FCI': 8,\n",
       "  'FUS-GMI': 4,\n",
       "  'FUS-FCI': 3},\n",
       " {'MMSE': 10,\n",
       "  'ADAS': 3,\n",
       "  'AB': 5,\n",
       "  'P-Tau': 9,\n",
       "  'HIP-FCI': 6,\n",
       "  'HIP-GMI': 1,\n",
       "  'AVLT-Sum': 7,\n",
       "  'PCC-FCI': 8,\n",
       "  'FUS-GMI': 4,\n",
       "  'FUS-FCI': 2}]"
      ]
     },
     "execution_count": 29,
     "metadata": {},
     "output_type": "execute_result"
    }
   ],
   "source": [
    "all_dicts"
   ]
  },
  {
   "cell_type": "code",
   "execution_count": 30,
   "metadata": {},
   "outputs": [
    {
     "data": {
      "text/html": [
       "<div>\n",
       "<style scoped>\n",
       "    .dataframe tbody tr th:only-of-type {\n",
       "        vertical-align: middle;\n",
       "    }\n",
       "\n",
       "    .dataframe tbody tr th {\n",
       "        vertical-align: top;\n",
       "    }\n",
       "\n",
       "    .dataframe thead th {\n",
       "        text-align: right;\n",
       "    }\n",
       "</style>\n",
       "<table border=\"1\" class=\"dataframe\">\n",
       "  <thead>\n",
       "    <tr style=\"text-align: right;\">\n",
       "      <th></th>\n",
       "      <th>MMSE</th>\n",
       "      <th>ADAS</th>\n",
       "      <th>AB</th>\n",
       "      <th>P-Tau</th>\n",
       "      <th>HIP-FCI</th>\n",
       "      <th>HIP-GMI</th>\n",
       "      <th>AVLT-Sum</th>\n",
       "      <th>PCC-FCI</th>\n",
       "      <th>FUS-GMI</th>\n",
       "      <th>FUS-FCI</th>\n",
       "    </tr>\n",
       "  </thead>\n",
       "  <tbody>\n",
       "    <tr>\n",
       "      <th>0</th>\n",
       "      <td>10</td>\n",
       "      <td>3</td>\n",
       "      <td>5</td>\n",
       "      <td>9</td>\n",
       "      <td>6</td>\n",
       "      <td>1</td>\n",
       "      <td>7</td>\n",
       "      <td>8</td>\n",
       "      <td>4</td>\n",
       "      <td>2</td>\n",
       "    </tr>\n",
       "    <tr>\n",
       "      <th>1</th>\n",
       "      <td>1</td>\n",
       "      <td>3</td>\n",
       "      <td>5</td>\n",
       "      <td>9</td>\n",
       "      <td>6</td>\n",
       "      <td>8</td>\n",
       "      <td>7</td>\n",
       "      <td>10</td>\n",
       "      <td>4</td>\n",
       "      <td>2</td>\n",
       "    </tr>\n",
       "    <tr>\n",
       "      <th>2</th>\n",
       "      <td>1</td>\n",
       "      <td>2</td>\n",
       "      <td>5</td>\n",
       "      <td>9</td>\n",
       "      <td>6</td>\n",
       "      <td>10</td>\n",
       "      <td>7</td>\n",
       "      <td>8</td>\n",
       "      <td>4</td>\n",
       "      <td>3</td>\n",
       "    </tr>\n",
       "    <tr>\n",
       "      <th>3</th>\n",
       "      <td>10</td>\n",
       "      <td>3</td>\n",
       "      <td>5</td>\n",
       "      <td>9</td>\n",
       "      <td>6</td>\n",
       "      <td>1</td>\n",
       "      <td>7</td>\n",
       "      <td>8</td>\n",
       "      <td>4</td>\n",
       "      <td>2</td>\n",
       "    </tr>\n",
       "  </tbody>\n",
       "</table>\n",
       "</div>"
      ],
      "text/plain": [
       "   MMSE  ADAS  AB  P-Tau  HIP-FCI  HIP-GMI  AVLT-Sum  PCC-FCI  FUS-GMI  \\\n",
       "0    10     3   5      9        6        1         7        8        4   \n",
       "1     1     3   5      9        6        8         7       10        4   \n",
       "2     1     2   5      9        6       10         7        8        4   \n",
       "3    10     3   5      9        6        1         7        8        4   \n",
       "\n",
       "   FUS-FCI  \n",
       "0        2  \n",
       "1        2  \n",
       "2        3  \n",
       "3        2  "
      ]
     },
     "execution_count": 30,
     "metadata": {},
     "output_type": "execute_result"
    }
   ],
   "source": [
    "pd.DataFrame(all_dicts)"
   ]
  },
  {
   "cell_type": "code",
   "execution_count": 31,
   "metadata": {},
   "outputs": [
    {
     "data": {
      "text/plain": [
       "array([[0., 0., 0., 0., 0., 0., 0., 0., 0., 0.],\n",
       "       [0., 0., 0., 0., 0., 0., 0., 0., 0., 0.],\n",
       "       [0., 0., 0., 0., 0., 0., 0., 0., 0., 0.],\n",
       "       [0., 0., 0., 0., 0., 0., 0., 0., 0., 0.],\n",
       "       [0., 0., 0., 0., 0., 0., 0., 0., 0., 0.],\n",
       "       [0., 0., 0., 0., 0., 0., 0., 0., 0., 0.],\n",
       "       [0., 0., 0., 0., 0., 0., 0., 0., 0., 0.],\n",
       "       [0., 0., 0., 0., 0., 0., 0., 0., 0., 0.],\n",
       "       [0., 0., 0., 0., 0., 0., 0., 0., 0., 0.],\n",
       "       [0., 0., 0., 0., 0., 0., 0., 0., 0., 0.]])"
      ]
     },
     "execution_count": 31,
     "metadata": {},
     "output_type": "execute_result"
    }
   ],
   "source": [
    "data_to_plot = np.zeros((10,10))\n",
    "# data_to_plot[stage-1, biomarker]\n",
    "# data_to_plot[2,1] = 3\n",
    "data_to_plot"
   ]
  },
  {
   "cell_type": "code",
   "execution_count": 32,
   "metadata": {},
   "outputs": [
    {
     "name": "stdout",
     "output_type": "stream",
     "text": [
      "dict_values([10, 3, 5, 9, 6, 1, 7, 8, 4, 2])\n",
      "dict_values([1, 3, 5, 9, 6, 8, 7, 10, 4, 2])\n",
      "dict_values([1, 2, 5, 9, 6, 10, 7, 8, 4, 3])\n",
      "dict_values([10, 3, 5, 9, 6, 1, 7, 8, 4, 2])\n"
     ]
    }
   ],
   "source": [
    "for x in all_dicts:\n",
    "    print(x.values())"
   ]
  },
  {
   "cell_type": "code",
   "execution_count": 33,
   "metadata": {},
   "outputs": [],
   "source": [
    "all_ordering = [np.array(list(x.values())) for x in all_dicts]\n",
    "for array in all_ordering:\n",
    "    for biomarker, stage in enumerate(array):\n",
    "        data_to_plot[stage-1, biomarker] += 1"
   ]
  },
  {
   "cell_type": "code",
   "execution_count": 34,
   "metadata": {},
   "outputs": [
    {
     "data": {
      "text/plain": [
       "array([[0.5 , 0.  , 0.  , 0.  , 0.  , 0.5 , 0.  , 0.  , 0.  , 0.  ],\n",
       "       [0.  , 0.25, 0.  , 0.  , 0.  , 0.  , 0.  , 0.  , 0.  , 0.75],\n",
       "       [0.  , 0.75, 0.  , 0.  , 0.  , 0.  , 0.  , 0.  , 0.  , 0.25],\n",
       "       [0.  , 0.  , 0.  , 0.  , 0.  , 0.  , 0.  , 0.  , 1.  , 0.  ],\n",
       "       [0.  , 0.  , 1.  , 0.  , 0.  , 0.  , 0.  , 0.  , 0.  , 0.  ],\n",
       "       [0.  , 0.  , 0.  , 0.  , 1.  , 0.  , 0.  , 0.  , 0.  , 0.  ],\n",
       "       [0.  , 0.  , 0.  , 0.  , 0.  , 0.  , 1.  , 0.  , 0.  , 0.  ],\n",
       "       [0.  , 0.  , 0.  , 0.  , 0.  , 0.25, 0.  , 0.75, 0.  , 0.  ],\n",
       "       [0.  , 0.  , 0.  , 1.  , 0.  , 0.  , 0.  , 0.  , 0.  , 0.  ],\n",
       "       [0.5 , 0.  , 0.  , 0.  , 0.  , 0.25, 0.  , 0.25, 0.  , 0.  ]])"
      ]
     },
     "execution_count": 34,
     "metadata": {},
     "output_type": "execute_result"
    }
   ],
   "source": [
    "# each array is in the array list is for a stage\n",
    "data_to_plot\n",
    "data_to_plot[0].sum()\n",
    "data_to_plot = data_to_plot/data_to_plot[0].sum()\n",
    "data_to_plot"
   ]
  },
  {
   "cell_type": "code",
   "execution_count": 35,
   "metadata": {},
   "outputs": [
    {
     "data": {
      "text/html": [
       "<div>\n",
       "<style scoped>\n",
       "    .dataframe tbody tr th:only-of-type {\n",
       "        vertical-align: middle;\n",
       "    }\n",
       "\n",
       "    .dataframe tbody tr th {\n",
       "        vertical-align: top;\n",
       "    }\n",
       "\n",
       "    .dataframe thead th {\n",
       "        text-align: right;\n",
       "    }\n",
       "</style>\n",
       "<table border=\"1\" class=\"dataframe\">\n",
       "  <thead>\n",
       "    <tr style=\"text-align: right;\">\n",
       "      <th></th>\n",
       "      <th>MMSE</th>\n",
       "      <th>ADAS</th>\n",
       "      <th>AB</th>\n",
       "      <th>P-Tau</th>\n",
       "      <th>HIP-FCI</th>\n",
       "      <th>HIP-GMI</th>\n",
       "      <th>AVLT-Sum</th>\n",
       "      <th>PCC-FCI</th>\n",
       "      <th>FUS-GMI</th>\n",
       "      <th>FUS-FCI</th>\n",
       "    </tr>\n",
       "  </thead>\n",
       "  <tbody>\n",
       "    <tr>\n",
       "      <th>1</th>\n",
       "      <td>0.5</td>\n",
       "      <td>0.00</td>\n",
       "      <td>0.0</td>\n",
       "      <td>0.0</td>\n",
       "      <td>0.0</td>\n",
       "      <td>0.50</td>\n",
       "      <td>0.0</td>\n",
       "      <td>0.00</td>\n",
       "      <td>0.0</td>\n",
       "      <td>0.00</td>\n",
       "    </tr>\n",
       "    <tr>\n",
       "      <th>2</th>\n",
       "      <td>0.0</td>\n",
       "      <td>0.25</td>\n",
       "      <td>0.0</td>\n",
       "      <td>0.0</td>\n",
       "      <td>0.0</td>\n",
       "      <td>0.00</td>\n",
       "      <td>0.0</td>\n",
       "      <td>0.00</td>\n",
       "      <td>0.0</td>\n",
       "      <td>0.75</td>\n",
       "    </tr>\n",
       "    <tr>\n",
       "      <th>3</th>\n",
       "      <td>0.0</td>\n",
       "      <td>0.75</td>\n",
       "      <td>0.0</td>\n",
       "      <td>0.0</td>\n",
       "      <td>0.0</td>\n",
       "      <td>0.00</td>\n",
       "      <td>0.0</td>\n",
       "      <td>0.00</td>\n",
       "      <td>0.0</td>\n",
       "      <td>0.25</td>\n",
       "    </tr>\n",
       "    <tr>\n",
       "      <th>4</th>\n",
       "      <td>0.0</td>\n",
       "      <td>0.00</td>\n",
       "      <td>0.0</td>\n",
       "      <td>0.0</td>\n",
       "      <td>0.0</td>\n",
       "      <td>0.00</td>\n",
       "      <td>0.0</td>\n",
       "      <td>0.00</td>\n",
       "      <td>1.0</td>\n",
       "      <td>0.00</td>\n",
       "    </tr>\n",
       "    <tr>\n",
       "      <th>5</th>\n",
       "      <td>0.0</td>\n",
       "      <td>0.00</td>\n",
       "      <td>1.0</td>\n",
       "      <td>0.0</td>\n",
       "      <td>0.0</td>\n",
       "      <td>0.00</td>\n",
       "      <td>0.0</td>\n",
       "      <td>0.00</td>\n",
       "      <td>0.0</td>\n",
       "      <td>0.00</td>\n",
       "    </tr>\n",
       "    <tr>\n",
       "      <th>6</th>\n",
       "      <td>0.0</td>\n",
       "      <td>0.00</td>\n",
       "      <td>0.0</td>\n",
       "      <td>0.0</td>\n",
       "      <td>1.0</td>\n",
       "      <td>0.00</td>\n",
       "      <td>0.0</td>\n",
       "      <td>0.00</td>\n",
       "      <td>0.0</td>\n",
       "      <td>0.00</td>\n",
       "    </tr>\n",
       "    <tr>\n",
       "      <th>7</th>\n",
       "      <td>0.0</td>\n",
       "      <td>0.00</td>\n",
       "      <td>0.0</td>\n",
       "      <td>0.0</td>\n",
       "      <td>0.0</td>\n",
       "      <td>0.00</td>\n",
       "      <td>1.0</td>\n",
       "      <td>0.00</td>\n",
       "      <td>0.0</td>\n",
       "      <td>0.00</td>\n",
       "    </tr>\n",
       "    <tr>\n",
       "      <th>8</th>\n",
       "      <td>0.0</td>\n",
       "      <td>0.00</td>\n",
       "      <td>0.0</td>\n",
       "      <td>0.0</td>\n",
       "      <td>0.0</td>\n",
       "      <td>0.25</td>\n",
       "      <td>0.0</td>\n",
       "      <td>0.75</td>\n",
       "      <td>0.0</td>\n",
       "      <td>0.00</td>\n",
       "    </tr>\n",
       "    <tr>\n",
       "      <th>9</th>\n",
       "      <td>0.0</td>\n",
       "      <td>0.00</td>\n",
       "      <td>0.0</td>\n",
       "      <td>1.0</td>\n",
       "      <td>0.0</td>\n",
       "      <td>0.00</td>\n",
       "      <td>0.0</td>\n",
       "      <td>0.00</td>\n",
       "      <td>0.0</td>\n",
       "      <td>0.00</td>\n",
       "    </tr>\n",
       "    <tr>\n",
       "      <th>10</th>\n",
       "      <td>0.5</td>\n",
       "      <td>0.00</td>\n",
       "      <td>0.0</td>\n",
       "      <td>0.0</td>\n",
       "      <td>0.0</td>\n",
       "      <td>0.25</td>\n",
       "      <td>0.0</td>\n",
       "      <td>0.25</td>\n",
       "      <td>0.0</td>\n",
       "      <td>0.00</td>\n",
       "    </tr>\n",
       "  </tbody>\n",
       "</table>\n",
       "</div>"
      ],
      "text/plain": [
       "    MMSE  ADAS   AB  P-Tau  HIP-FCI  HIP-GMI  AVLT-Sum  PCC-FCI  FUS-GMI  \\\n",
       "1    0.5  0.00  0.0    0.0      0.0     0.50       0.0     0.00      0.0   \n",
       "2    0.0  0.25  0.0    0.0      0.0     0.00       0.0     0.00      0.0   \n",
       "3    0.0  0.75  0.0    0.0      0.0     0.00       0.0     0.00      0.0   \n",
       "4    0.0  0.00  0.0    0.0      0.0     0.00       0.0     0.00      1.0   \n",
       "5    0.0  0.00  1.0    0.0      0.0     0.00       0.0     0.00      0.0   \n",
       "6    0.0  0.00  0.0    0.0      1.0     0.00       0.0     0.00      0.0   \n",
       "7    0.0  0.00  0.0    0.0      0.0     0.00       1.0     0.00      0.0   \n",
       "8    0.0  0.00  0.0    0.0      0.0     0.25       0.0     0.75      0.0   \n",
       "9    0.0  0.00  0.0    1.0      0.0     0.00       0.0     0.00      0.0   \n",
       "10   0.5  0.00  0.0    0.0      0.0     0.25       0.0     0.25      0.0   \n",
       "\n",
       "    FUS-FCI  \n",
       "1      0.00  \n",
       "2      0.75  \n",
       "3      0.25  \n",
       "4      0.00  \n",
       "5      0.00  \n",
       "6      0.00  \n",
       "7      0.00  \n",
       "8      0.00  \n",
       "9      0.00  \n",
       "10     0.00  "
      ]
     },
     "execution_count": 35,
     "metadata": {},
     "output_type": "execute_result"
    }
   ],
   "source": [
    "data_to_plot_df = pd.DataFrame(data_to_plot)\n",
    "biomarker_names = np.array(list(data_we_have.biomarker.unique()))\n",
    "data_to_plot_df.index = pd.RangeIndex(start=1, stop=len(data_to_plot_df) + 1)\n",
    "data_to_plot_df.columns = biomarker_names\n",
    "data_to_plot_df"
   ]
  },
  {
   "cell_type": "code",
   "execution_count": 36,
   "metadata": {},
   "outputs": [
    {
     "data": {
      "image/png": "[encoded data removed]",
      "text/plain": [
       "<Figure size 640x480 with 2 Axes>"
      ]
     },
     "metadata": {},
     "output_type": "display_data"
    }
   ],
   "source": [
    "sns.heatmap(data_to_plot_df.transpose(), annot=True, cmap=\"Greys\", linewidths=.5, cbar_kws={'label': 'Probability'})\n",
    "plt.xlabel('Stage')\n",
    "plt.ylabel('Biomarker')\n",
    "plt.title('Heatmap of Biomarkers Involvement in Stages')\n",
    "plt.show()"
   ]
  }
 ],
 "metadata": {
  "kernelspec": {
   "display_name": "bayes",
   "language": "python",
   "name": "python3"
  },
  "language_info": {
   "codemirror_mode": {
    "name": "ipython",
    "version": 3
   },
   "file_extension": ".py",
   "mimetype": "text/x-python",
   "name": "python",
   "nbconvert_exporter": "python",
   "pygments_lexer": "ipython3",
   "version": "3.8.19"
  }
 },
 "nbformat": 4,
 "nbformat_minor": 2
}