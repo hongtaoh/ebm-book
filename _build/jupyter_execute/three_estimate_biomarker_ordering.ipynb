{
 "cells": [
  {
   "cell_type": "markdown",
   "metadata": {},
   "source": [
    "# Estimating biomarker ordering\n",
    "\n",
    ">The sampler for the biomarker ordering can be a bit tricker. The simplest way to do it might be to do a Metropolis-Hastings step where you select two indicies and propose swapping their order. Then you can work out the relative probabilities, evaluate and then accept/reject based on that. It's not the fastest sampler, but it is a lot more straightforward than some ways of doing it.  \n",
    "\n",
    "In the following, we assume we know the actual $\\theta$ and $\\phi$ values. Other than those, we know nothing except for participants' observed biomarker values. And we want to estimate the current order in which different biomarkers are affected by the disease in question. "
   ]
  },
  {
   "cell_type": "code",
   "execution_count": 1,
   "metadata": {},
   "outputs": [],
   "source": [
    "import pandas as pd \n",
    "import numpy as np \n",
    "import re \n",
    "import altair as alt \n",
    "import seaborn as sns\n",
    "import matplotlib.pyplot as plt \n",
    "from collections import Counter\n",
    "import math"
   ]
  },
  {
   "cell_type": "markdown",
   "metadata": {},
   "source": [
    "We only have three columns: biomarker, participant, and measurement. "
   ]
  },
  {
   "cell_type": "code",
   "execution_count": 2,
   "metadata": {},
   "outputs": [
    {
     "data": {
      "text/html": [
       "<div>\n",
       "<style scoped>\n",
       "    .dataframe tbody tr th:only-of-type {\n",
       "        vertical-align: middle;\n",
       "    }\n",
       "\n",
       "    .dataframe tbody tr th {\n",
       "        vertical-align: top;\n",
       "    }\n",
       "\n",
       "    .dataframe thead th {\n",
       "        text-align: right;\n",
       "    }\n",
       "</style>\n",
       "<table border=\"1\" class=\"dataframe\">\n",
       "  <thead>\n",
       "    <tr style=\"text-align: right;\">\n",
       "      <th></th>\n",
       "      <th>Biomarker</th>\n",
       "      <th>participant</th>\n",
       "      <th>measurement</th>\n",
       "      <th>k_j</th>\n",
       "      <th>S_n</th>\n",
       "      <th>affected_or_not</th>\n",
       "      <th>Diseased</th>\n",
       "    </tr>\n",
       "  </thead>\n",
       "  <tbody>\n",
       "    <tr>\n",
       "      <th>562</th>\n",
       "      <td>5</td>\n",
       "      <td>62</td>\n",
       "      <td>0.541972</td>\n",
       "      <td>6</td>\n",
       "      <td>3</td>\n",
       "      <td>affected</td>\n",
       "      <td>True</td>\n",
       "    </tr>\n",
       "    <tr>\n",
       "      <th>443</th>\n",
       "      <td>4</td>\n",
       "      <td>43</td>\n",
       "      <td>5.619782</td>\n",
       "      <td>10</td>\n",
       "      <td>8</td>\n",
       "      <td>affected</td>\n",
       "      <td>True</td>\n",
       "    </tr>\n",
       "    <tr>\n",
       "      <th>449</th>\n",
       "      <td>4</td>\n",
       "      <td>49</td>\n",
       "      <td>-14.379981</td>\n",
       "      <td>1</td>\n",
       "      <td>8</td>\n",
       "      <td>not_affected</td>\n",
       "      <td>True</td>\n",
       "    </tr>\n",
       "    <tr>\n",
       "      <th>783</th>\n",
       "      <td>7</td>\n",
       "      <td>83</td>\n",
       "      <td>6.562122</td>\n",
       "      <td>4</td>\n",
       "      <td>7</td>\n",
       "      <td>not_affected</td>\n",
       "      <td>True</td>\n",
       "    </tr>\n",
       "    <tr>\n",
       "      <th>778</th>\n",
       "      <td>7</td>\n",
       "      <td>78</td>\n",
       "      <td>8.418247</td>\n",
       "      <td>8</td>\n",
       "      <td>7</td>\n",
       "      <td>affected</td>\n",
       "      <td>True</td>\n",
       "    </tr>\n",
       "  </tbody>\n",
       "</table>\n",
       "</div>"
      ],
      "text/plain": [
       "    Biomarker  participant  measurement  k_j  S_n affected_or_not  Diseased\n",
       "562         5           62     0.541972    6    3        affected      True\n",
       "443         4           43     5.619782   10    8        affected      True\n",
       "449         4           49   -14.379981    1    8    not_affected      True\n",
       "783         7           83     6.562122    4    7    not_affected      True\n",
       "778         7           78     8.418247    8    7        affected      True"
      ]
     },
     "execution_count": 2,
     "metadata": {},
     "output_type": "execute_result"
    }
   ],
   "source": [
    "data = pd.read_csv('data/participant_data.csv')\n",
    "data.Biomarker = [re.sub(\"Biomarker \", \"\", text) for text in data.Biomarker.tolist()]\n",
    "data['Diseased'] = data.apply(lambda row: row.k_j > 0, axis = 1)\n",
    "data.sample(5)"
   ]
  },
  {
   "cell_type": "code",
   "execution_count": 3,
   "metadata": {},
   "outputs": [
    {
     "data": {
      "text/plain": [
       "[2, 35, 81, 87, 92]"
      ]
     },
     "execution_count": 3,
     "metadata": {},
     "output_type": "execute_result"
    }
   ],
   "source": [
    "## These are the healthy participants (Participant ID)\n",
    "non_diseased_participants = list(set(data.loc[data.Diseased == False].participant))\n",
    "non_diseased_participants"
   ]
  },
  {
   "cell_type": "code",
   "execution_count": 4,
   "metadata": {},
   "outputs": [
    {
     "data": {
      "text/plain": [
       "False"
      ]
     },
     "execution_count": 4,
     "metadata": {},
     "output_type": "execute_result"
    }
   ],
   "source": [
    "3 in non_diseased_participants"
   ]
  },
  {
   "cell_type": "code",
   "execution_count": 5,
   "metadata": {},
   "outputs": [
    {
     "data": {
      "text/html": [
       "<div>\n",
       "<style scoped>\n",
       "    .dataframe tbody tr th:only-of-type {\n",
       "        vertical-align: middle;\n",
       "    }\n",
       "\n",
       "    .dataframe tbody tr th {\n",
       "        vertical-align: top;\n",
       "    }\n",
       "\n",
       "    .dataframe thead th {\n",
       "        text-align: right;\n",
       "    }\n",
       "</style>\n",
       "<table border=\"1\" class=\"dataframe\">\n",
       "  <thead>\n",
       "    <tr style=\"text-align: right;\">\n",
       "      <th></th>\n",
       "      <th>Biomarker</th>\n",
       "      <th>participant</th>\n",
       "      <th>measurement</th>\n",
       "      <th>Diseased</th>\n",
       "    </tr>\n",
       "  </thead>\n",
       "  <tbody>\n",
       "    <tr>\n",
       "      <th>0</th>\n",
       "      <td>0</td>\n",
       "      <td>0</td>\n",
       "      <td>28.430422</td>\n",
       "      <td>True</td>\n",
       "    </tr>\n",
       "    <tr>\n",
       "      <th>1</th>\n",
       "      <td>0</td>\n",
       "      <td>1</td>\n",
       "      <td>27.271975</td>\n",
       "      <td>True</td>\n",
       "    </tr>\n",
       "    <tr>\n",
       "      <th>2</th>\n",
       "      <td>0</td>\n",
       "      <td>2</td>\n",
       "      <td>15.562816</td>\n",
       "      <td>False</td>\n",
       "    </tr>\n",
       "    <tr>\n",
       "      <th>3</th>\n",
       "      <td>0</td>\n",
       "      <td>3</td>\n",
       "      <td>27.592558</td>\n",
       "      <td>True</td>\n",
       "    </tr>\n",
       "    <tr>\n",
       "      <th>4</th>\n",
       "      <td>0</td>\n",
       "      <td>4</td>\n",
       "      <td>28.282987</td>\n",
       "      <td>True</td>\n",
       "    </tr>\n",
       "  </tbody>\n",
       "</table>\n",
       "</div>"
      ],
      "text/plain": [
       "  Biomarker  participant  measurement  Diseased\n",
       "0         0            0    28.430422      True\n",
       "1         0            1    27.271975      True\n",
       "2         0            2    15.562816     False\n",
       "3         0            3    27.592558      True\n",
       "4         0            4    28.282987      True"
      ]
     },
     "execution_count": 5,
     "metadata": {},
     "output_type": "execute_result"
    }
   ],
   "source": [
    "data_we_have = data.drop(['k_j', 'S_n', 'affected_or_not'], axis = 1)\n",
    "data_we_have.head()"
   ]
  },
  {
   "cell_type": "code",
   "execution_count": 6,
   "metadata": {},
   "outputs": [
    {
     "data": {
      "text/html": [
       "<div>\n",
       "<style scoped>\n",
       "    .dataframe tbody tr th:only-of-type {\n",
       "        vertical-align: middle;\n",
       "    }\n",
       "\n",
       "    .dataframe tbody tr th {\n",
       "        vertical-align: top;\n",
       "    }\n",
       "\n",
       "    .dataframe thead th {\n",
       "        text-align: right;\n",
       "    }\n",
       "</style>\n",
       "<table border=\"1\" class=\"dataframe\">\n",
       "  <thead>\n",
       "    <tr style=\"text-align: right;\">\n",
       "      <th></th>\n",
       "      <th>biomarker</th>\n",
       "      <th>theta_mean</th>\n",
       "      <th>theta_std</th>\n",
       "      <th>phi_mean</th>\n",
       "      <th>phi_std</th>\n",
       "    </tr>\n",
       "  </thead>\n",
       "  <tbody>\n",
       "    <tr>\n",
       "      <th>0</th>\n",
       "      <td>0</td>\n",
       "      <td>28.0</td>\n",
       "      <td>0.666667</td>\n",
       "      <td>22.0</td>\n",
       "      <td>2.666667</td>\n",
       "    </tr>\n",
       "    <tr>\n",
       "      <th>1</th>\n",
       "      <td>1</td>\n",
       "      <td>-6.0</td>\n",
       "      <td>1.333333</td>\n",
       "      <td>-20.0</td>\n",
       "      <td>4.000000</td>\n",
       "    </tr>\n",
       "    <tr>\n",
       "      <th>2</th>\n",
       "      <td>2</td>\n",
       "      <td>250.0</td>\n",
       "      <td>50.000000</td>\n",
       "      <td>150.0</td>\n",
       "      <td>16.666667</td>\n",
       "    </tr>\n",
       "    <tr>\n",
       "      <th>3</th>\n",
       "      <td>3</td>\n",
       "      <td>-25.0</td>\n",
       "      <td>16.666667</td>\n",
       "      <td>-50.0</td>\n",
       "      <td>33.333333</td>\n",
       "    </tr>\n",
       "    <tr>\n",
       "      <th>4</th>\n",
       "      <td>4</td>\n",
       "      <td>5.0</td>\n",
       "      <td>1.666667</td>\n",
       "      <td>-5.0</td>\n",
       "      <td>6.666667</td>\n",
       "    </tr>\n",
       "  </tbody>\n",
       "</table>\n",
       "</div>"
      ],
      "text/plain": [
       "   biomarker  theta_mean  theta_std  phi_mean    phi_std\n",
       "0          0        28.0   0.666667      22.0   2.666667\n",
       "1          1        -6.0   1.333333     -20.0   4.000000\n",
       "2          2       250.0  50.000000     150.0  16.666667\n",
       "3          3       -25.0  16.666667     -50.0  33.333333\n",
       "4          4         5.0   1.666667      -5.0   6.666667"
      ]
     },
     "execution_count": 6,
     "metadata": {},
     "output_type": "execute_result"
    }
   ],
   "source": [
    "theta_phi = pd.read_csv('data/means_stds.csv')\n",
    "theta_phi.head()"
   ]
  },
  {
   "cell_type": "code",
   "execution_count": 7,
   "metadata": {},
   "outputs": [
    {
     "data": {
      "text/plain": [
       "numpy.int64"
      ]
     },
     "execution_count": 7,
     "metadata": {},
     "output_type": "execute_result"
    }
   ],
   "source": [
    "type(theta_phi['biomarker'][0])"
   ]
  },
  {
   "cell_type": "code",
   "execution_count": 8,
   "metadata": {},
   "outputs": [],
   "source": [
    "def fill_up_pdata(pdata, k_j):\n",
    "    '''Fill up a single participant's data using k_j; basically add two columns: \n",
    "    k_j and affected\n",
    "    Note that this function assumes that pdata already has the S_n column\n",
    "    \n",
    "    Input:\n",
    "    - pdata: a dataframe of ten biomarker values for a specific participant \n",
    "    - k_j: a scalar\n",
    "    '''\n",
    "    data = pdata.copy()\n",
    "    data['k_j'] = k_j\n",
    "    data['affected'] = data.apply(lambda row: row.k_j >= row.S_n, axis = 1)\n",
    "    return data "
   ]
  },
  {
   "cell_type": "code",
   "execution_count": 9,
   "metadata": {},
   "outputs": [],
   "source": [
    "def compute_single_measurement_likelihood(theta_phi, biomarker, affected, measurement):\n",
    "    '''Computes the likelihood of the measurement value of a single biomarker\n",
    "    We know the normal distribution defined by either theta or phi\n",
    "    and we know the measurement. This will give us the probability\n",
    "    of this given measurement value. \n",
    "\n",
    "    input:\n",
    "    - theta_phi: the dataframe containing theta and phi values for each biomarker\n",
    "    - biomarker: an integer between 0 and 9 \n",
    "    - affected: boolean \n",
    "    - measurement: the observed value for a biomarker in a specific participant\n",
    "\n",
    "    output: a scalar\n",
    "    '''\n",
    "    biomarker_params = theta_phi[theta_phi.biomarker == biomarker].reset_index()\n",
    "    mu = biomarker_params['theta_mean'][0] if affected else biomarker_params['phi_mean'][0]\n",
    "    std = biomarker_params['theta_std'][0] if affected else biomarker_params['phi_std'][0]\n",
    "    var = std**2\n",
    "    likelihood = np.exp(-(measurement - mu)**2/(2*var))/np.sqrt(2*np.pi*var)\n",
    "    return likelihood"
   ]
  },
  {
   "cell_type": "code",
   "execution_count": 10,
   "metadata": {},
   "outputs": [],
   "source": [
    "def compute_likelihood(pdata, k_j, theta_phi):\n",
    "    '''This implementes the formula of https://ebm-book2.vercel.app/distributions.html#known-k-j\n",
    "    This function computes the likelihood of seeing this sequence of biomarker values for a specific participant\n",
    "    '''\n",
    "    data = fill_up_pdata(pdata, k_j)\n",
    "    likelihood = 1\n",
    "    for i, row in data.iterrows():\n",
    "        biomarker = int(row['Biomarker'])\n",
    "        measurement = row['measurement']\n",
    "        affected = row['affected']\n",
    "        likelihood *= compute_single_measurement_likelihood(\n",
    "            theta_phi, biomarker, affected, measurement)\n",
    "    return likelihood"
   ]
  },
  {
   "cell_type": "markdown",
   "metadata": {},
   "source": [
    "## Testing\n",
    "\n",
    "The above functions can compute the likelihood of a participant's sequence of biomarker data, given that we know the exact ordering and we assume a `k_j`. Next, we will test those functions by selecting a specific participant. We compute the likelihood by trying all possible `k_j` and see whether the one with the highest likelihood is the real `k_j` in the original data. "
   ]
  },
  {
   "cell_type": "code",
   "execution_count": 11,
   "metadata": {},
   "outputs": [
    {
     "data": {
      "text/html": [
       "<div>\n",
       "<style scoped>\n",
       "    .dataframe tbody tr th:only-of-type {\n",
       "        vertical-align: middle;\n",
       "    }\n",
       "\n",
       "    .dataframe tbody tr th {\n",
       "        vertical-align: top;\n",
       "    }\n",
       "\n",
       "    .dataframe thead th {\n",
       "        text-align: right;\n",
       "    }\n",
       "</style>\n",
       "<table border=\"1\" class=\"dataframe\">\n",
       "  <thead>\n",
       "    <tr style=\"text-align: right;\">\n",
       "      <th></th>\n",
       "      <th>Biomarker</th>\n",
       "      <th>participant</th>\n",
       "      <th>measurement</th>\n",
       "      <th>k_j</th>\n",
       "      <th>S_n</th>\n",
       "      <th>affected_or_not</th>\n",
       "      <th>Diseased</th>\n",
       "    </tr>\n",
       "  </thead>\n",
       "  <tbody>\n",
       "    <tr>\n",
       "      <th>0</th>\n",
       "      <td>0</td>\n",
       "      <td>15</td>\n",
       "      <td>29.480355</td>\n",
       "      <td>10</td>\n",
       "      <td>1</td>\n",
       "      <td>affected</td>\n",
       "      <td>True</td>\n",
       "    </tr>\n",
       "    <tr>\n",
       "      <th>1</th>\n",
       "      <td>1</td>\n",
       "      <td>15</td>\n",
       "      <td>-5.662743</td>\n",
       "      <td>10</td>\n",
       "      <td>5</td>\n",
       "      <td>affected</td>\n",
       "      <td>True</td>\n",
       "    </tr>\n",
       "    <tr>\n",
       "      <th>2</th>\n",
       "      <td>2</td>\n",
       "      <td>15</td>\n",
       "      <td>238.565813</td>\n",
       "      <td>10</td>\n",
       "      <td>2</td>\n",
       "      <td>affected</td>\n",
       "      <td>True</td>\n",
       "    </tr>\n",
       "    <tr>\n",
       "      <th>3</th>\n",
       "      <td>3</td>\n",
       "      <td>15</td>\n",
       "      <td>-34.302119</td>\n",
       "      <td>10</td>\n",
       "      <td>6</td>\n",
       "      <td>affected</td>\n",
       "      <td>True</td>\n",
       "    </tr>\n",
       "    <tr>\n",
       "      <th>4</th>\n",
       "      <td>4</td>\n",
       "      <td>15</td>\n",
       "      <td>6.185946</td>\n",
       "      <td>10</td>\n",
       "      <td>8</td>\n",
       "      <td>affected</td>\n",
       "      <td>True</td>\n",
       "    </tr>\n",
       "    <tr>\n",
       "      <th>5</th>\n",
       "      <td>5</td>\n",
       "      <td>15</td>\n",
       "      <td>0.392585</td>\n",
       "      <td>10</td>\n",
       "      <td>3</td>\n",
       "      <td>affected</td>\n",
       "      <td>True</td>\n",
       "    </tr>\n",
       "    <tr>\n",
       "      <th>6</th>\n",
       "      <td>6</td>\n",
       "      <td>15</td>\n",
       "      <td>50.390961</td>\n",
       "      <td>10</td>\n",
       "      <td>9</td>\n",
       "      <td>affected</td>\n",
       "      <td>True</td>\n",
       "    </tr>\n",
       "    <tr>\n",
       "      <th>7</th>\n",
       "      <td>7</td>\n",
       "      <td>15</td>\n",
       "      <td>11.766209</td>\n",
       "      <td>10</td>\n",
       "      <td>7</td>\n",
       "      <td>affected</td>\n",
       "      <td>True</td>\n",
       "    </tr>\n",
       "    <tr>\n",
       "      <th>8</th>\n",
       "      <td>8</td>\n",
       "      <td>15</td>\n",
       "      <td>0.652524</td>\n",
       "      <td>10</td>\n",
       "      <td>4</td>\n",
       "      <td>affected</td>\n",
       "      <td>True</td>\n",
       "    </tr>\n",
       "    <tr>\n",
       "      <th>9</th>\n",
       "      <td>9</td>\n",
       "      <td>15</td>\n",
       "      <td>-7.199526</td>\n",
       "      <td>10</td>\n",
       "      <td>10</td>\n",
       "      <td>affected</td>\n",
       "      <td>True</td>\n",
       "    </tr>\n",
       "  </tbody>\n",
       "</table>\n",
       "</div>"
      ],
      "text/plain": [
       "  Biomarker  participant  measurement  k_j  S_n affected_or_not  Diseased\n",
       "0         0           15    29.480355   10    1        affected      True\n",
       "1         1           15    -5.662743   10    5        affected      True\n",
       "2         2           15   238.565813   10    2        affected      True\n",
       "3         3           15   -34.302119   10    6        affected      True\n",
       "4         4           15     6.185946   10    8        affected      True\n",
       "5         5           15     0.392585   10    3        affected      True\n",
       "6         6           15    50.390961   10    9        affected      True\n",
       "7         7           15    11.766209   10    7        affected      True\n",
       "8         8           15     0.652524   10    4        affected      True\n",
       "9         9           15    -7.199526   10   10        affected      True"
      ]
     },
     "execution_count": 11,
     "metadata": {},
     "output_type": "execute_result"
    }
   ],
   "source": [
    "p = 15 # we chose this participant\n",
    "pdata = data[data.participant == p].reset_index(drop=True)\n",
    "pdata"
   ]
  },
  {
   "cell_type": "code",
   "execution_count": 12,
   "metadata": {},
   "outputs": [
    {
     "data": {
      "text/plain": [
       "{0: 1, 1: 5, 2: 2, 3: 6, 4: 8, 5: 3, 6: 9, 7: 7, 8: 4, 9: 10}"
      ]
     },
     "execution_count": 12,
     "metadata": {},
     "output_type": "execute_result"
    }
   ],
   "source": [
    "# ordering of biomarker affected by the disease\n",
    "# biomarker: disease stage\n",
    "# note that the value >= 1\n",
    "real_ordering_dic = dict(zip(np.arange(10), pdata.S_n))\n",
    "real_ordering_dic"
   ]
  },
  {
   "cell_type": "code",
   "execution_count": 13,
   "metadata": {},
   "outputs": [
    {
     "data": {
      "text/html": [
       "<div>\n",
       "<style scoped>\n",
       "    .dataframe tbody tr th:only-of-type {\n",
       "        vertical-align: middle;\n",
       "    }\n",
       "\n",
       "    .dataframe tbody tr th {\n",
       "        vertical-align: top;\n",
       "    }\n",
       "\n",
       "    .dataframe thead th {\n",
       "        text-align: right;\n",
       "    }\n",
       "</style>\n",
       "<table border=\"1\" class=\"dataframe\">\n",
       "  <thead>\n",
       "    <tr style=\"text-align: right;\">\n",
       "      <th></th>\n",
       "      <th>Biomarker</th>\n",
       "      <th>participant</th>\n",
       "      <th>measurement</th>\n",
       "      <th>Diseased</th>\n",
       "      <th>S_n</th>\n",
       "    </tr>\n",
       "  </thead>\n",
       "  <tbody>\n",
       "    <tr>\n",
       "      <th>0</th>\n",
       "      <td>0</td>\n",
       "      <td>15</td>\n",
       "      <td>29.480355</td>\n",
       "      <td>True</td>\n",
       "      <td>1</td>\n",
       "    </tr>\n",
       "    <tr>\n",
       "      <th>1</th>\n",
       "      <td>1</td>\n",
       "      <td>15</td>\n",
       "      <td>-5.662743</td>\n",
       "      <td>True</td>\n",
       "      <td>5</td>\n",
       "    </tr>\n",
       "    <tr>\n",
       "      <th>2</th>\n",
       "      <td>2</td>\n",
       "      <td>15</td>\n",
       "      <td>238.565813</td>\n",
       "      <td>True</td>\n",
       "      <td>2</td>\n",
       "    </tr>\n",
       "    <tr>\n",
       "      <th>3</th>\n",
       "      <td>3</td>\n",
       "      <td>15</td>\n",
       "      <td>-34.302119</td>\n",
       "      <td>True</td>\n",
       "      <td>6</td>\n",
       "    </tr>\n",
       "    <tr>\n",
       "      <th>4</th>\n",
       "      <td>4</td>\n",
       "      <td>15</td>\n",
       "      <td>6.185946</td>\n",
       "      <td>True</td>\n",
       "      <td>8</td>\n",
       "    </tr>\n",
       "    <tr>\n",
       "      <th>5</th>\n",
       "      <td>5</td>\n",
       "      <td>15</td>\n",
       "      <td>0.392585</td>\n",
       "      <td>True</td>\n",
       "      <td>3</td>\n",
       "    </tr>\n",
       "    <tr>\n",
       "      <th>6</th>\n",
       "      <td>6</td>\n",
       "      <td>15</td>\n",
       "      <td>50.390961</td>\n",
       "      <td>True</td>\n",
       "      <td>9</td>\n",
       "    </tr>\n",
       "    <tr>\n",
       "      <th>7</th>\n",
       "      <td>7</td>\n",
       "      <td>15</td>\n",
       "      <td>11.766209</td>\n",
       "      <td>True</td>\n",
       "      <td>7</td>\n",
       "    </tr>\n",
       "    <tr>\n",
       "      <th>8</th>\n",
       "      <td>8</td>\n",
       "      <td>15</td>\n",
       "      <td>0.652524</td>\n",
       "      <td>True</td>\n",
       "      <td>4</td>\n",
       "    </tr>\n",
       "    <tr>\n",
       "      <th>9</th>\n",
       "      <td>9</td>\n",
       "      <td>15</td>\n",
       "      <td>-7.199526</td>\n",
       "      <td>True</td>\n",
       "      <td>10</td>\n",
       "    </tr>\n",
       "  </tbody>\n",
       "</table>\n",
       "</div>"
      ],
      "text/plain": [
       "  Biomarker  participant  measurement  Diseased  S_n\n",
       "0         0           15    29.480355      True    1\n",
       "1         1           15    -5.662743      True    5\n",
       "2         2           15   238.565813      True    2\n",
       "3         3           15   -34.302119      True    6\n",
       "4         4           15     6.185946      True    8\n",
       "5         5           15     0.392585      True    3\n",
       "6         6           15    50.390961      True    9\n",
       "7         7           15    11.766209      True    7\n",
       "8         8           15     0.652524      True    4\n",
       "9         9           15    -7.199526      True   10"
      ]
     },
     "execution_count": 13,
     "metadata": {},
     "output_type": "execute_result"
    }
   ],
   "source": [
    "# get the participant data without k_j, and affected or not\n",
    "pdata = data_we_have[data_we_have.participant == p].reset_index(drop=True)\n",
    "# obtain real ordering:\n",
    "pdata['S_n'] = pdata.apply(lambda row: real_ordering_dic[int(row['Biomarker'])], axis = 1)\n",
    "pdata"
   ]
  },
  {
   "cell_type": "code",
   "execution_count": 14,
   "metadata": {},
   "outputs": [
    {
     "data": {
      "text/html": [
       "<div>\n",
       "<style scoped>\n",
       "    .dataframe tbody tr th:only-of-type {\n",
       "        vertical-align: middle;\n",
       "    }\n",
       "\n",
       "    .dataframe tbody tr th {\n",
       "        vertical-align: top;\n",
       "    }\n",
       "\n",
       "    .dataframe thead th {\n",
       "        text-align: right;\n",
       "    }\n",
       "</style>\n",
       "<table border=\"1\" class=\"dataframe\">\n",
       "  <thead>\n",
       "    <tr style=\"text-align: right;\">\n",
       "      <th></th>\n",
       "      <th>index</th>\n",
       "      <th>likelihood</th>\n",
       "    </tr>\n",
       "  </thead>\n",
       "  <tbody>\n",
       "    <tr>\n",
       "      <th>10</th>\n",
       "      <td>10</td>\n",
       "      <td>5.726705e-10</td>\n",
       "    </tr>\n",
       "    <tr>\n",
       "      <th>9</th>\n",
       "      <td>9</td>\n",
       "      <td>4.651241e-11</td>\n",
       "    </tr>\n",
       "    <tr>\n",
       "      <th>8</th>\n",
       "      <td>8</td>\n",
       "      <td>4.086644e-15</td>\n",
       "    </tr>\n",
       "    <tr>\n",
       "      <th>7</th>\n",
       "      <td>7</td>\n",
       "      <td>3.220442e-16</td>\n",
       "    </tr>\n",
       "    <tr>\n",
       "      <th>6</th>\n",
       "      <td>6</td>\n",
       "      <td>4.933073e-17</td>\n",
       "    </tr>\n",
       "    <tr>\n",
       "      <th>5</th>\n",
       "      <td>5</td>\n",
       "      <td>2.579711e-17</td>\n",
       "    </tr>\n",
       "    <tr>\n",
       "      <th>4</th>\n",
       "      <td>4</td>\n",
       "      <td>1.440739e-20</td>\n",
       "    </tr>\n",
       "    <tr>\n",
       "      <th>3</th>\n",
       "      <td>3</td>\n",
       "      <td>1.434698e-21</td>\n",
       "    </tr>\n",
       "    <tr>\n",
       "      <th>2</th>\n",
       "      <td>2</td>\n",
       "      <td>9.667752e-22</td>\n",
       "    </tr>\n",
       "    <tr>\n",
       "      <th>1</th>\n",
       "      <td>1</td>\n",
       "      <td>2.197798e-27</td>\n",
       "    </tr>\n",
       "    <tr>\n",
       "      <th>0</th>\n",
       "      <td>0</td>\n",
       "      <td>1.264585e-28</td>\n",
       "    </tr>\n",
       "  </tbody>\n",
       "</table>\n",
       "</div>"
      ],
      "text/plain": [
       "    index    likelihood\n",
       "10     10  5.726705e-10\n",
       "9       9  4.651241e-11\n",
       "8       8  4.086644e-15\n",
       "7       7  3.220442e-16\n",
       "6       6  4.933073e-17\n",
       "5       5  2.579711e-17\n",
       "4       4  1.440739e-20\n",
       "3       3  1.434698e-21\n",
       "2       2  9.667752e-22\n",
       "1       1  2.197798e-27\n",
       "0       0  1.264585e-28"
      ]
     },
     "execution_count": 14,
     "metadata": {},
     "output_type": "execute_result"
    }
   ],
   "source": [
    "num_biomarkers = len(pdata.Biomarker.unique())\n",
    "# calculate likelihood for all possible k_j\n",
    "likelihood_list = [\n",
    "    compute_likelihood(pdata=pdata, k_j=x, theta_phi=theta_phi) for x in range(num_biomarkers+1)]\n",
    "kjs = np.arange(11)\n",
    "dic = dict(zip(kjs, likelihood_list))\n",
    "df = pd.DataFrame.from_dict(dic, orient='index', columns=['likelihood']).reset_index()\n",
    "df.sort_values('likelihood', ascending=False)"
   ]
  },
  {
   "cell_type": "markdown",
   "metadata": {},
   "source": [
    "<!-- From the above result, we can see that the most likelihood `k_j` is 8, which is in fact the real `k_j` in the participant data.  -->\n",
    "\n",
    "## Metropolis-Hastings Algorithm Implementation\n",
    "\n",
    "Next, we will implement the metropolis-hastings algorithm using the above functions. "
   ]
  },
  {
   "cell_type": "code",
   "execution_count": 15,
   "metadata": {},
   "outputs": [],
   "source": [
    "def average_all_likelihood(pdata, num_biomarkers, theta_phi):\n",
    "    '''This is to compute https://ebm-book2.vercel.app/distributions.html#unknown-k-j\n",
    "    '''\n",
    "    return np.mean([compute_likelihood(pdata=pdata, k_j=x, theta_phi=theta_phi) for x in range(num_biomarkers+1)])"
   ]
  },
  {
   "cell_type": "code",
   "execution_count": 16,
   "metadata": {},
   "outputs": [],
   "source": [
    "def compute_ln_likelihood_assuming_ordering(ordering, data, num_participants, num_biomarkers, theta_phi):\n",
    "    \"\"\"Compute the (ln version of) the likelihood of seeing all participants' data,\n",
    "    assuming that we already know the ordering\n",
    "    Inputs:\n",
    "        - ordering: an array of ordering for biomarker 0-9\n",
    "        - data: data_we_have\n",
    "        - num_participants\n",
    "        - num_biomarkers \n",
    "    Outputs:\n",
    "        - ln(likelihood)\n",
    "    \"\"\"\n",
    "    # biomarker - order dict\n",
    "    ordering_dic = dict(zip(np.arange(num_biomarkers), ordering))\n",
    "    # fill up S_n column using the ordering dict\n",
    "    # copy first in order not to change data_we_have\n",
    "    filled_data = data.copy()\n",
    "    filled_data['S_n'] = filled_data.apply(lambda row: ordering_dic[int(row['Biomarker'])], axis = 1)\n",
    "    ln_likelihood = 0 \n",
    "    for p in range(num_participants):\n",
    "        pdata = filled_data[filled_data.participant == p].reset_index(drop=True)\n",
    "        average_likelihood = average_all_likelihood(pdata, num_biomarkers, theta_phi)\n",
    "        p_ln_likelihood = (\n",
    "            # natural logarithm\n",
    "           np.log(average_likelihood) \n",
    "           if average_likelihood > 0\n",
    "           # this is to avoid np.log(0)\n",
    "           else np.log(average_likelihood + 1e-20)\n",
    "        )\n",
    "        ln_likelihood += p_ln_likelihood\n",
    "    return ln_likelihood"
   ]
  },
  {
   "cell_type": "markdown",
   "metadata": {},
   "source": [
    "A brush up on log:\n",
    "\n",
    "$L = P1 \\cdot P2 \\cdot P3$\n",
    "\n",
    "$\\ln(L) = \\ln (P1 \\cdot P2 \\cdot P3) = \\ln(P1) + \\ln(P2) + \\ln(P3)$\n",
    "\n",
    "You may wonder why above I am using the second equation to get the likelihood of observing a specific participant's data. This is because if we want to estimate $k_j$, we need to know $S$, which we do not know and are trying to estimate here. \n",
    "\n",
    "If we want to estimate $S$ through using the first equation, we need $k_j$, but we do not know it. \n",
    "\n",
    "To sum up, to obtain $S$, we need to know $k_j$. And to obtain $k_j$, we need to know $S$. Therefore, we are not able to use the first equation. "
   ]
  },
  {
   "cell_type": "code",
   "execution_count": 17,
   "metadata": {},
   "outputs": [],
   "source": [
    "def metropolis_hastings(data, iterations, theta_phi):\n",
    "    '''Implement the metropolis-hastings algorithm\n",
    "    Inputs: \n",
    "        - data: data_we_have\n",
    "        - iterations: number of iterations\n",
    "\n",
    "    Outputs:\n",
    "        - best_order: a numpy array\n",
    "        - best_likelihood: a scalar \n",
    "    '''\n",
    "    num_participants = len(data.participant.unique())\n",
    "    num_biomarkers = len(data.Biomarker.unique())\n",
    "\n",
    "    # initialize an ordering and likelihood\n",
    "    # note that it should be a random permutation of numbers 1-10\n",
    "    best_order = np.random.permutation(np.arange(1, 11))\n",
    "    best_likelihood = -np.inf \n",
    "    # best_order = np.array(list(real_ordering_dic.values()))\n",
    "    # best_likelihood = compute_likelihood_based_on_ordering(\n",
    "    #     best_order, data, num_participants, num_biomarkers, theta_phi\n",
    "    # )\n",
    "    for _ in range(iterations):\n",
    "        new_order = best_order.copy()\n",
    "        # randomly select two indices\n",
    "        a, b = np.random.choice(num_biomarkers, 2, replace=False)\n",
    "        # swapping the order\n",
    "        new_order[a], new_order[b] = new_order[b], new_order[a]\n",
    "        ln_likelihood = compute_ln_likelihood_assuming_ordering(\n",
    "            new_order, data, num_participants, num_biomarkers, theta_phi)\n",
    "        # if swapping results in higher likelihood, \n",
    "        # update the likelihood and accept the new ordering \n",
    "        if ln_likelihood > best_likelihood:\n",
    "            best_likelihood = ln_likelihood \n",
    "            best_order = new_order\n",
    "        else: \n",
    "            # ratio = likelihood/best_likelihood\n",
    "            # np.exp(a - b) = np.exp(a)/np.exp(b)\n",
    "            acceptance_ratio = np.exp(ln_likelihood - best_likelihood)\n",
    "            random_number = np.random.rand()\n",
    "            if random_number < acceptance_ratio:\n",
    "                best_likelihood = ln_likelihood\n",
    "                best_order = new_order\n",
    "        print(f\"iteration {_ + 1} done\")\n",
    "    return best_order, best_likelihood\n"
   ]
  },
  {
   "cell_type": "markdown",
   "metadata": {},
   "source": [
    "When `ln_likelihood` is smaller than `best_likelihood`, we still conditionally accept `ln_likelihood`. This is \"to allow exploration of the parameter space. This step is crucial in MCMC algorithms to avoid getting stuck in local maxima and to ensure that the sampling covers the entire distribution space adequately\".\n",
    "\n",
    "Note that the condition is `if random_number < acceptance_ratio`. This `<` cannot be changed to `>`. Why?\n",
    "\n",
    "When the `accepatance_ratio` is small, then it indicates `ln_likelihood` is small. We do not want to accept this `ln_likelihood` in this case. Because `ln_likelihood` is small, `random_number < acceptance_ratio` is less likely than `random_number > acceptance_ratio`. That's why we use `<` rather than `>`. "
   ]
  },
  {
   "cell_type": "code",
   "execution_count": 18,
   "metadata": {},
   "outputs": [],
   "source": [
    "# best_order, best_likelihood = metropolis_hastings(\n",
    "#     data = data_we_have, iterations = 10, theta_phi = theta_phi)"
   ]
  },
  {
   "cell_type": "code",
   "execution_count": 19,
   "metadata": {},
   "outputs": [],
   "source": [
    "# best_order, np.array(list(real_ordering_dic.values()))"
   ]
  },
  {
   "cell_type": "markdown",
   "metadata": {},
   "source": [
    "## Unknown theta and phi"
   ]
  },
  {
   "cell_type": "markdown",
   "metadata": {},
   "source": [
    "I found it challenging to infer the ordering of biomarkers affected by the disease without knowing theta and phi. This is because we do not need to know participants' real disease stage in the formula of https://ebm-book2.vercel.app/distributions.html#unknown-k-j; However, without knowing all participants' disease stages, we are not able to estimate theta and phi. "
   ]
  },
  {
   "cell_type": "code",
   "execution_count": 20,
   "metadata": {},
   "outputs": [
    {
     "data": {
      "text/html": [
       "<div>\n",
       "<style scoped>\n",
       "    .dataframe tbody tr th:only-of-type {\n",
       "        vertical-align: middle;\n",
       "    }\n",
       "\n",
       "    .dataframe tbody tr th {\n",
       "        vertical-align: top;\n",
       "    }\n",
       "\n",
       "    .dataframe thead th {\n",
       "        text-align: right;\n",
       "    }\n",
       "</style>\n",
       "<table border=\"1\" class=\"dataframe\">\n",
       "  <thead>\n",
       "    <tr style=\"text-align: right;\">\n",
       "      <th></th>\n",
       "      <th>Biomarker</th>\n",
       "      <th>participant</th>\n",
       "      <th>measurement</th>\n",
       "      <th>k_j</th>\n",
       "      <th>S_n</th>\n",
       "      <th>affected_or_not</th>\n",
       "      <th>Diseased</th>\n",
       "    </tr>\n",
       "  </thead>\n",
       "  <tbody>\n",
       "    <tr>\n",
       "      <th>0</th>\n",
       "      <td>0</td>\n",
       "      <td>0</td>\n",
       "      <td>28.430422</td>\n",
       "      <td>5</td>\n",
       "      <td>1</td>\n",
       "      <td>affected</td>\n",
       "      <td>True</td>\n",
       "    </tr>\n",
       "    <tr>\n",
       "      <th>1</th>\n",
       "      <td>0</td>\n",
       "      <td>1</td>\n",
       "      <td>27.271975</td>\n",
       "      <td>4</td>\n",
       "      <td>1</td>\n",
       "      <td>affected</td>\n",
       "      <td>True</td>\n",
       "    </tr>\n",
       "    <tr>\n",
       "      <th>2</th>\n",
       "      <td>0</td>\n",
       "      <td>2</td>\n",
       "      <td>15.562816</td>\n",
       "      <td>0</td>\n",
       "      <td>1</td>\n",
       "      <td>not_affected</td>\n",
       "      <td>False</td>\n",
       "    </tr>\n",
       "    <tr>\n",
       "      <th>3</th>\n",
       "      <td>0</td>\n",
       "      <td>3</td>\n",
       "      <td>27.592558</td>\n",
       "      <td>5</td>\n",
       "      <td>1</td>\n",
       "      <td>affected</td>\n",
       "      <td>True</td>\n",
       "    </tr>\n",
       "    <tr>\n",
       "      <th>4</th>\n",
       "      <td>0</td>\n",
       "      <td>4</td>\n",
       "      <td>28.282987</td>\n",
       "      <td>4</td>\n",
       "      <td>1</td>\n",
       "      <td>affected</td>\n",
       "      <td>True</td>\n",
       "    </tr>\n",
       "  </tbody>\n",
       "</table>\n",
       "</div>"
      ],
      "text/plain": [
       "  Biomarker  participant  measurement  k_j  S_n affected_or_not  Diseased\n",
       "0         0            0    28.430422    5    1        affected      True\n",
       "1         0            1    27.271975    4    1        affected      True\n",
       "2         0            2    15.562816    0    1    not_affected     False\n",
       "3         0            3    27.592558    5    1        affected      True\n",
       "4         0            4    28.282987    4    1        affected      True"
      ]
     },
     "execution_count": 20,
     "metadata": {},
     "output_type": "execute_result"
    }
   ],
   "source": [
    "data.head()"
   ]
  },
  {
   "cell_type": "code",
   "execution_count": 21,
   "metadata": {},
   "outputs": [
    {
     "data": {
      "text/plain": [
       "array([ 5,  4,  0,  5,  4,  7,  8,  1,  6,  1,  6, 10,  2,  9,  2, 10, 10,\n",
       "        4,  7,  8, 10,  6,  9,  3,  7,  1,  4,  4, 10,  8,  4,  6,  5,  1,\n",
       "        4,  0,  3, 10,  1,  7,  2,  1,  5, 10,  3,  6,  1,  1,  7,  1,  4,\n",
       "        4,  1,  1, 10,  4,  4, 10,  9,  5,  5,  5,  6, 10,  2,  6,  8,  9,\n",
       "        6,  7,  6,  5,  7,  8, 10,  1,  8,  6,  8,  5,  4,  0,  9,  4,  7,\n",
       "        6,  2,  0,  8,  3,  4,  6,  0,  6,  4,  8,  1,  1,  7,  9])"
      ]
     },
     "execution_count": 21,
     "metadata": {},
     "output_type": "execute_result"
    }
   ],
   "source": [
    "actual_stage_dict = dict(zip(data.participant, data.k_j))\n",
    "actual_stages = np.array(list(actual_stage_dict.values()))\n",
    "actual_stages"
   ]
  },
  {
   "cell_type": "code",
   "execution_count": 22,
   "metadata": {},
   "outputs": [
    {
     "data": {
      "text/html": [
       "<div>\n",
       "<style scoped>\n",
       "    .dataframe tbody tr th:only-of-type {\n",
       "        vertical-align: middle;\n",
       "    }\n",
       "\n",
       "    .dataframe tbody tr th {\n",
       "        vertical-align: top;\n",
       "    }\n",
       "\n",
       "    .dataframe thead th {\n",
       "        text-align: right;\n",
       "    }\n",
       "</style>\n",
       "<table border=\"1\" class=\"dataframe\">\n",
       "  <thead>\n",
       "    <tr style=\"text-align: right;\">\n",
       "      <th></th>\n",
       "      <th>Biomarker</th>\n",
       "      <th>participant</th>\n",
       "      <th>measurement</th>\n",
       "      <th>Diseased</th>\n",
       "    </tr>\n",
       "  </thead>\n",
       "  <tbody>\n",
       "    <tr>\n",
       "      <th>0</th>\n",
       "      <td>0</td>\n",
       "      <td>0</td>\n",
       "      <td>28.430422</td>\n",
       "      <td>True</td>\n",
       "    </tr>\n",
       "    <tr>\n",
       "      <th>1</th>\n",
       "      <td>0</td>\n",
       "      <td>1</td>\n",
       "      <td>27.271975</td>\n",
       "      <td>True</td>\n",
       "    </tr>\n",
       "    <tr>\n",
       "      <th>2</th>\n",
       "      <td>0</td>\n",
       "      <td>2</td>\n",
       "      <td>15.562816</td>\n",
       "      <td>False</td>\n",
       "    </tr>\n",
       "    <tr>\n",
       "      <th>3</th>\n",
       "      <td>0</td>\n",
       "      <td>3</td>\n",
       "      <td>27.592558</td>\n",
       "      <td>True</td>\n",
       "    </tr>\n",
       "    <tr>\n",
       "      <th>4</th>\n",
       "      <td>0</td>\n",
       "      <td>4</td>\n",
       "      <td>28.282987</td>\n",
       "      <td>True</td>\n",
       "    </tr>\n",
       "  </tbody>\n",
       "</table>\n",
       "</div>"
      ],
      "text/plain": [
       "  Biomarker  participant  measurement  Diseased\n",
       "0         0            0    28.430422      True\n",
       "1         0            1    27.271975      True\n",
       "2         0            2    15.562816     False\n",
       "3         0            3    27.592558      True\n",
       "4         0            4    28.282987      True"
      ]
     },
     "execution_count": 22,
     "metadata": {},
     "output_type": "execute_result"
    }
   ],
   "source": [
    "data_we_have.head()"
   ]
  },
  {
   "cell_type": "code",
   "execution_count": 23,
   "metadata": {},
   "outputs": [],
   "source": [
    "def add_kj_and_affected(data_we_have, participant_stages, num_participants):\n",
    "    '''This is to fill up data_we_have. \n",
    "    Basically, add two columns: k_j, and affected, based on the initial or updated participant_stages\n",
    "    Note that we assume here we've already got S_n\n",
    "\n",
    "    Inputs:\n",
    "        - data_we_have\n",
    "        - participant_stages: np array \n",
    "        - participants: 0-99\n",
    "    '''\n",
    "    participant_stage_dic = dict(zip(np.arange(0,num_participants), participant_stages))\n",
    "    data_we_have['k_j'] = data_we_have.apply(lambda row: participant_stage_dic[row.participant], axis = 1)\n",
    "    data_we_have['affected'] = data_we_have.apply(lambda row: row.k_j >= row.S_n, axis = 1)\n",
    "    return data_we_have "
   ]
  },
  {
   "cell_type": "code",
   "execution_count": 24,
   "metadata": {},
   "outputs": [],
   "source": [
    "def estimate_params_exact(m0, n0, s0_sq, v0, data):\n",
    "    '''This is to estimate means and vars based on conjugate priors\n",
    "    Inputs:\n",
    "        - data: a vector of measurements \n",
    "        - m0: prior estimate of $\\mu$.\n",
    "        - n0: how strongly is the prior belief in $m_0$ is held.\n",
    "        - s0_sq: prior estimate of $\\sigma^2$.\n",
    "        - v0: prior degress of freedome, influencing the certainty of $s_0^2$.\n",
    "    \n",
    "    Outputs:\n",
    "        - mu estiate, std estimate\n",
    "    '''\n",
    "    # Data summary\n",
    "    sample_mean = np.mean(data)\n",
    "    sample_size = len(data)\n",
    "    sample_var = np.var(data, ddof=1)  # ddof=1 for unbiased estimator\n",
    "\n",
    "    # Update hyperparameters for the Normal-Inverse Gamma posterior\n",
    "    updated_m0 = (n0 * m0 + sample_size * sample_mean) / (n0 + sample_size)\n",
    "    updated_n0 = n0 + sample_size\n",
    "    updated_v0 = v0 + sample_size \n",
    "    updated_s0_sq = (1 / updated_v0) * ((sample_size - 1) * sample_var + v0 * s0_sq + \n",
    "                    (n0 * sample_size / updated_n0) * (sample_mean - m0)**2)\n",
    "    updated_alpha = updated_v0/2\n",
    "    updated_beta = updated_v0*updated_s0_sq/2\n",
    "\n",
    "    # Posterior estimates\n",
    "    mu_posterior_mean = updated_m0\n",
    "    sigma_squared_posterior_mean = updated_beta/updated_alpha\n",
    "\n",
    "    mu_estimation = mu_posterior_mean\n",
    "    std_estimation = np.sqrt(sigma_squared_posterior_mean)\n",
    "\n",
    "    return mu_estimation, std_estimation"
   ]
  },
  {
   "cell_type": "code",
   "execution_count": 25,
   "metadata": {},
   "outputs": [],
   "source": [
    "def get_estimated_means_stds_df(biomarkers, data_we_have):\n",
    "    '''To get estimated parameters, returns a Pandas DataFrame\n",
    "    Input:\n",
    "    - biomarkers: 0-9\n",
    "    - data_we_have: participants data filled with initial or updated participant_stages\n",
    "\n",
    "    Output: \n",
    "    - estimate_means_std_df, just like means_stds_df, containing the estimated mean and std_dev for \n",
    "      distribution of biomarker values when the biomarker is affected and not affected\n",
    "    '''\n",
    "    # empty list of dictionaries to store the estimations\n",
    "    means_stds_estimate_dict_list = []\n",
    "    for biomarker in biomarkers: \n",
    "        dic = {'biomarker': biomarker}  # Initialize dictionary outside the inner loop\n",
    "        for affected in [True, False]:\n",
    "            data_full = data_we_have[(data_we_have.Biomarker == str(biomarker)) & (\n",
    "            data_we_have.affected == affected)]\n",
    "            data = np.array(data_full.measurement)\n",
    "            # if len(data) == 0:\n",
    "            #     print(data_full)\n",
    "            mu_estimate, std_estimate = estimate_params_exact(\n",
    "                m0 = 0, n0 = 1, s0_sq = 1, v0 = 1, data=data)\n",
    "            if affected:\n",
    "                dic['theta_mean'] = mu_estimate\n",
    "                dic['theta_std'] = std_estimate\n",
    "            else:\n",
    "                dic['phi_mean'] = mu_estimate\n",
    "                dic['phi_std'] = std_estimate\n",
    "        means_stds_estimate_dict_list.append(dic)\n",
    "    estimate_means_stds_df = pd.DataFrame(means_stds_estimate_dict_list)\n",
    "    return estimate_means_stds_df "
   ]
  },
  {
   "cell_type": "code",
   "execution_count": 26,
   "metadata": {},
   "outputs": [],
   "source": [
    "def metropolis_hastings_unknown_theta_phi(data_we_have, iterations, burn_in, thining):\n",
    "    num_participants = len(data_we_have.participant.unique())\n",
    "    num_biomarkers = len(data_we_have.Biomarker.unique())\n",
    "    biomarkers = np.arange(start = 0, stop = num_biomarkers, step = 1)\n",
    "\n",
    "    all_ordering = []\n",
    "\n",
    "    # initialize an ordering and likelihood\n",
    "    # note that it should be a random permutation of numbers 1-10\n",
    "    best_order = np.random.permutation(np.arange(1, 11))\n",
    "    best_likelihood = -np.inf \n",
    "\n",
    "    # initialize participant_stages \n",
    "    # note that high should be num_stages + 1; otherwise, no participants will be in the stage of 10\n",
    "    participant_stages = np.random.randint(low = 0, high = num_biomarkers+1, size = num_participants)\n",
    "    participant_stages[non_diseased_participants] = 0\n",
    "\n",
    "    for _ in range(iterations):\n",
    "        if 0 not in participant_stages:\n",
    "            print(f\"_\")\n",
    "        # when we update best_order below,\n",
    "        # in each iteration, new_order will also update\n",
    "        new_order = best_order.copy()\n",
    "        # randomly select two indices\n",
    "        a, b = np.random.choice(num_biomarkers, 2, replace=False)\n",
    "        # swaping the order\n",
    "        new_order[a], new_order[b] = new_order[b], new_order[a]\n",
    "\n",
    "        # likelihood of seeing all participants' data \n",
    "        # biomarker - order dict\n",
    "        ordering_dic = dict(zip(np.arange(num_biomarkers), new_order))\n",
    "        # fill up S_n column using the ordering dict\n",
    "        # copy first in order not to change data_we_have\n",
    "        data = data_we_have.copy()\n",
    "        # now data_we_have has S_n column\n",
    "        data['S_n'] = data.apply(lambda row: ordering_dic[int(row['Biomarker'])], axis = 1)\n",
    "\n",
    "        # add kj and affected based on the initial randomized participant_stages\n",
    "        data = add_kj_and_affected(data, participant_stages, num_participants)\n",
    "        # print(data.head())\n",
    "\n",
    "        # get estimated_theta_phi\n",
    "        estimated_theta_phi = get_estimated_means_stds_df(biomarkers, data_we_have=data)\n",
    "\n",
    "        all_participant_ln_likelihood = 0 \n",
    "        for p in range(num_participants):\n",
    "            # this participant data\n",
    "            pdata = data[data.participant == p].reset_index(drop=True)\n",
    "\n",
    "            \"\"\"If this participant is not diseased (i.e., if we know k_j is equal to 0)\n",
    "            We still need to compute the likelihood of this participant seeing this sequence of biomarker data\n",
    "            but we do not need to estimate k_j like below\n",
    "\n",
    "            We still need to compute the likelihood because we need to add it to all_participant_ln_likelihood\n",
    "            \"\"\"\n",
    "            if p in non_diseased_participants:\n",
    "                this_participant_likelihood = compute_likelihood(\n",
    "                    pdata, k_j = 0, theta_phi = estimated_theta_phi)\n",
    "                this_participant_ln_likelihood = np.log(this_participant_likelihood)\n",
    "            else:\n",
    "                # initiaze stage_likelihood\n",
    "                stage_likelihood = np.zeros(num_biomarkers + 1)\n",
    "                for k_j in range(num_biomarkers +1):\n",
    "                    # even though data above has everything, it is filled up by random stages\n",
    "                    # we don't like it and want to know the true k_j. All the following is to update participant_stages\n",
    "\n",
    "                    # likelihood for this participant to have this specific sequence of biomarker values\n",
    "                    participant_likelihood = compute_likelihood(pdata, k_j, estimated_theta_phi)\n",
    "                    if math.isnan(participant_likelihood):\n",
    "                        print(pdata)\n",
    "                        print(estimated_theta_phi)\n",
    "                    \n",
    "                    # pdata_with_this_kj = fill_up_pdata(pdata=pdata, k_j=k_j)\n",
    "                    # # likelihood for this participant to have this sequence of biomarker values\n",
    "                    # participant_likelihood = 1\n",
    "                    # for i, row in pdata_with_this_kj.iterrows():\n",
    "                    #     biomarker = int(row['Biomarker'])\n",
    "                    #     measurement = row['measurement']\n",
    "                    #     affected = row['affected']\n",
    "                    #     participant_likelihood *= compute_single_measurement_likelihood(\n",
    "                    #         estimated_theta_phi, biomarker, affected, measurement)\n",
    "\n",
    "                    # update each stage likelihood for this participant\n",
    "                    stage_likelihood[k_j] = participant_likelihood\n",
    "                likelihood_sum = np.sum(stage_likelihood)\n",
    "                normalized_stage_likelihood = [l/likelihood_sum for l in stage_likelihood]\n",
    "                sampled_stage = np.random.choice(np.arange(num_biomarkers + 1), p = normalized_stage_likelihood)\n",
    "                participant_stages[p] = sampled_stage   \n",
    "\n",
    "                # if participant is in sample_stage, what is the likelihood of seeing this sequence of biomarker data:\n",
    "                this_participant_likelihood =  stage_likelihood[sampled_stage]\n",
    "\n",
    "                # then, update all_participant_likelihood\n",
    "                if this_participant_likelihood == 0:\n",
    "                    this_participant_ln_likelihood = np.log(this_participant_likelihood + 1e20)\n",
    "                else:\n",
    "                    this_participant_ln_likelihood = np.log(this_participant_likelihood)\n",
    "            all_participant_ln_likelihood += this_participant_ln_likelihood\n",
    "            \n",
    "        # if all_participant_ln_likelihood > best_likelihood:\n",
    "        #     best_likelihood = all_participant_ln_likelihood \n",
    "        #     best_order = new_order\n",
    "        # else: \n",
    "        # we do not need the above because if if all_participant_ln_likelihood > best_likelihood\n",
    "        # then acceptance_ratio is larger than 1\n",
    "        acceptance_ratio = np.exp(all_participant_ln_likelihood - best_likelihood)\n",
    "        random_number = np.random.rand()\n",
    "        if random_number < acceptance_ratio:\n",
    "            best_likelihood = all_participant_ln_likelihood\n",
    "            best_order = new_order\n",
    "        \n",
    "        if _ >= burn_in and _ % thining == 0:\n",
    "            all_ordering.append(best_order)\n",
    "\n",
    "        print(f\"iteration {_ + 1} done\")\n",
    "    return best_order, participant_stages, all_ordering\n"
   ]
  },
  {
   "cell_type": "code",
   "execution_count": 27,
   "metadata": {},
   "outputs": [
    {
     "name": "stdout",
     "output_type": "stream",
     "text": [
      "iteration 1 done\n"
     ]
    },
    {
     "name": "stdout",
     "output_type": "stream",
     "text": [
      "iteration 2 done\n"
     ]
    },
    {
     "name": "stdout",
     "output_type": "stream",
     "text": [
      "iteration 3 done\n"
     ]
    },
    {
     "name": "stdout",
     "output_type": "stream",
     "text": [
      "iteration 4 done\n"
     ]
    },
    {
     "name": "stdout",
     "output_type": "stream",
     "text": [
      "iteration 5 done\n"
     ]
    },
    {
     "name": "stdout",
     "output_type": "stream",
     "text": [
      "iteration 6 done\n"
     ]
    },
    {
     "name": "stdout",
     "output_type": "stream",
     "text": [
      "iteration 7 done\n"
     ]
    },
    {
     "name": "stdout",
     "output_type": "stream",
     "text": [
      "iteration 8 done\n"
     ]
    },
    {
     "name": "stdout",
     "output_type": "stream",
     "text": [
      "iteration 9 done\n"
     ]
    },
    {
     "name": "stdout",
     "output_type": "stream",
     "text": [
      "iteration 10 done\n"
     ]
    }
   ],
   "source": [
    "best_order, participant_stages, all_ordering = metropolis_hastings_unknown_theta_phi(\n",
    "    data_we_have, iterations = 10, burn_in=1, thining=2)"
   ]
  },
  {
   "cell_type": "code",
   "execution_count": 28,
   "metadata": {},
   "outputs": [
    {
     "data": {
      "text/plain": [
       "(array([ 5,  9,  2,  3, 10,  7,  8,  6,  4,  1]),\n",
       " array([ 1,  5,  2,  6,  8,  3,  9,  7,  4, 10]))"
      ]
     },
     "execution_count": 28,
     "metadata": {},
     "output_type": "execute_result"
    }
   ],
   "source": [
    "best_order, np.array(list(real_ordering_dic.values()))"
   ]
  },
  {
   "cell_type": "code",
   "execution_count": 29,
   "metadata": {},
   "outputs": [
    {
     "data": {
      "text/plain": [
       "array([ 7, 10,  0, 10,  9,  3,  8, 10,  6,  9,  8,  5, 10,  4,  5,  0,  6,\n",
       "        8,  8,  3,  5,  8,  3, 10,  2,  9,  9,  9,  0,  3,  6, 10,  6,  9,\n",
       "       10,  0,  7,  0,  9,  0,  9,  8,  7,  7,  9,  6, 10,  2,  8, 10, 10,\n",
       "        3, 10,  4,  4,  6, 10,  2,  4,  5,  6,  1,  6,  3,  9,  2,  3,  5,\n",
       "        8,  4,  3,  4,  6,  8,  2,  9,  4,  8,  1,  7, 10,  0,  1, 10,  8,\n",
       "        5, 10,  0,  4, 10,  9,  8,  0,  8,  8,  2, 10, 10,  3,  8])"
      ]
     },
     "execution_count": 29,
     "metadata": {},
     "output_type": "execute_result"
    }
   ],
   "source": [
    "participant_stages"
   ]
  },
  {
   "cell_type": "code",
   "execution_count": 30,
   "metadata": {},
   "outputs": [
    {
     "data": {
      "text/plain": [
       "[array([ 5,  9,  1, 10,  3,  7,  6,  2,  4,  8]),\n",
       " array([ 5,  9,  8, 10,  3,  7,  2,  6,  4,  1]),\n",
       " array([ 5,  9,  8, 10,  3,  7,  2,  6,  4,  1]),\n",
       " array([ 5,  9,  2, 10,  3,  7,  8,  6,  4,  1])]"
      ]
     },
     "execution_count": 30,
     "metadata": {},
     "output_type": "execute_result"
    }
   ],
   "source": [
    "all_ordering"
   ]
  },
  {
   "cell_type": "code",
   "execution_count": 31,
   "metadata": {},
   "outputs": [
    {
     "data": {
      "text/plain": [
       "array([[0., 0., 0., 0., 0., 0., 0., 0., 0., 0.],\n",
       "       [0., 0., 0., 0., 0., 0., 0., 0., 0., 0.],\n",
       "       [0., 0., 0., 0., 0., 0., 0., 0., 0., 0.],\n",
       "       [0., 0., 0., 0., 0., 0., 0., 0., 0., 0.],\n",
       "       [0., 0., 0., 0., 0., 0., 0., 0., 0., 0.],\n",
       "       [0., 0., 0., 0., 0., 0., 0., 0., 0., 0.],\n",
       "       [0., 0., 0., 0., 0., 0., 0., 0., 0., 0.],\n",
       "       [0., 0., 0., 0., 0., 0., 0., 0., 0., 0.],\n",
       "       [0., 0., 0., 0., 0., 0., 0., 0., 0., 0.],\n",
       "       [0., 0., 0., 0., 0., 0., 0., 0., 0., 0.]])"
      ]
     },
     "execution_count": 31,
     "metadata": {},
     "output_type": "execute_result"
    }
   ],
   "source": [
    "data_to_plot = np.zeros((10,10))\n",
    "# data_to_plot[stage-1, biomarker]\n",
    "# data_to_plot[2,1] = 3\n",
    "data_to_plot"
   ]
  },
  {
   "cell_type": "code",
   "execution_count": 32,
   "metadata": {},
   "outputs": [],
   "source": [
    "for array in all_ordering:\n",
    "    for biomarker, stage in enumerate(array):\n",
    "        data_to_plot[stage-1, biomarker] += 1"
   ]
  },
  {
   "cell_type": "code",
   "execution_count": 33,
   "metadata": {},
   "outputs": [
    {
     "data": {
      "text/plain": [
       "array([[0.  , 0.  , 0.25, 0.  , 0.  , 0.  , 0.  , 0.  , 0.  , 0.75],\n",
       "       [0.  , 0.  , 0.25, 0.  , 0.  , 0.  , 0.5 , 0.25, 0.  , 0.  ],\n",
       "       [0.  , 0.  , 0.  , 0.  , 1.  , 0.  , 0.  , 0.  , 0.  , 0.  ],\n",
       "       [0.  , 0.  , 0.  , 0.  , 0.  , 0.  , 0.  , 0.  , 1.  , 0.  ],\n",
       "       [1.  , 0.  , 0.  , 0.  , 0.  , 0.  , 0.  , 0.  , 0.  , 0.  ],\n",
       "       [0.  , 0.  , 0.  , 0.  , 0.  , 0.  , 0.25, 0.75, 0.  , 0.  ],\n",
       "       [0.  , 0.  , 0.  , 0.  , 0.  , 1.  , 0.  , 0.  , 0.  , 0.  ],\n",
       "       [0.  , 0.  , 0.5 , 0.  , 0.  , 0.  , 0.25, 0.  , 0.  , 0.25],\n",
       "       [0.  , 1.  , 0.  , 0.  , 0.  , 0.  , 0.  , 0.  , 0.  , 0.  ],\n",
       "       [0.  , 0.  , 0.  , 1.  , 0.  , 0.  , 0.  , 0.  , 0.  , 0.  ]])"
      ]
     },
     "execution_count": 33,
     "metadata": {},
     "output_type": "execute_result"
    }
   ],
   "source": [
    "# each array is in the array list is for a stage\n",
    "data_to_plot\n",
    "data_to_plot[0].sum()\n",
    "data_to_plot = data_to_plot/data_to_plot[0].sum()\n",
    "data_to_plot"
   ]
  },
  {
   "cell_type": "code",
   "execution_count": 34,
   "metadata": {},
   "outputs": [
    {
     "data": {
      "text/html": [
       "<div>\n",
       "<style scoped>\n",
       "    .dataframe tbody tr th:only-of-type {\n",
       "        vertical-align: middle;\n",
       "    }\n",
       "\n",
       "    .dataframe tbody tr th {\n",
       "        vertical-align: top;\n",
       "    }\n",
       "\n",
       "    .dataframe thead th {\n",
       "        text-align: right;\n",
       "    }\n",
       "</style>\n",
       "<table border=\"1\" class=\"dataframe\">\n",
       "  <thead>\n",
       "    <tr style=\"text-align: right;\">\n",
       "      <th></th>\n",
       "      <th>0</th>\n",
       "      <th>1</th>\n",
       "      <th>2</th>\n",
       "      <th>3</th>\n",
       "      <th>4</th>\n",
       "      <th>5</th>\n",
       "      <th>6</th>\n",
       "      <th>7</th>\n",
       "      <th>8</th>\n",
       "      <th>9</th>\n",
       "    </tr>\n",
       "  </thead>\n",
       "  <tbody>\n",
       "    <tr>\n",
       "      <th>1</th>\n",
       "      <td>0.0</td>\n",
       "      <td>0.0</td>\n",
       "      <td>0.25</td>\n",
       "      <td>0.0</td>\n",
       "      <td>0.0</td>\n",
       "      <td>0.0</td>\n",
       "      <td>0.00</td>\n",
       "      <td>0.00</td>\n",
       "      <td>0.0</td>\n",
       "      <td>0.75</td>\n",
       "    </tr>\n",
       "    <tr>\n",
       "      <th>2</th>\n",
       "      <td>0.0</td>\n",
       "      <td>0.0</td>\n",
       "      <td>0.25</td>\n",
       "      <td>0.0</td>\n",
       "      <td>0.0</td>\n",
       "      <td>0.0</td>\n",
       "      <td>0.50</td>\n",
       "      <td>0.25</td>\n",
       "      <td>0.0</td>\n",
       "      <td>0.00</td>\n",
       "    </tr>\n",
       "    <tr>\n",
       "      <th>3</th>\n",
       "      <td>0.0</td>\n",
       "      <td>0.0</td>\n",
       "      <td>0.00</td>\n",
       "      <td>0.0</td>\n",
       "      <td>1.0</td>\n",
       "      <td>0.0</td>\n",
       "      <td>0.00</td>\n",
       "      <td>0.00</td>\n",
       "      <td>0.0</td>\n",
       "      <td>0.00</td>\n",
       "    </tr>\n",
       "    <tr>\n",
       "      <th>4</th>\n",
       "      <td>0.0</td>\n",
       "      <td>0.0</td>\n",
       "      <td>0.00</td>\n",
       "      <td>0.0</td>\n",
       "      <td>0.0</td>\n",
       "      <td>0.0</td>\n",
       "      <td>0.00</td>\n",
       "      <td>0.00</td>\n",
       "      <td>1.0</td>\n",
       "      <td>0.00</td>\n",
       "    </tr>\n",
       "    <tr>\n",
       "      <th>5</th>\n",
       "      <td>1.0</td>\n",
       "      <td>0.0</td>\n",
       "      <td>0.00</td>\n",
       "      <td>0.0</td>\n",
       "      <td>0.0</td>\n",
       "      <td>0.0</td>\n",
       "      <td>0.00</td>\n",
       "      <td>0.00</td>\n",
       "      <td>0.0</td>\n",
       "      <td>0.00</td>\n",
       "    </tr>\n",
       "    <tr>\n",
       "      <th>6</th>\n",
       "      <td>0.0</td>\n",
       "      <td>0.0</td>\n",
       "      <td>0.00</td>\n",
       "      <td>0.0</td>\n",
       "      <td>0.0</td>\n",
       "      <td>0.0</td>\n",
       "      <td>0.25</td>\n",
       "      <td>0.75</td>\n",
       "      <td>0.0</td>\n",
       "      <td>0.00</td>\n",
       "    </tr>\n",
       "    <tr>\n",
       "      <th>7</th>\n",
       "      <td>0.0</td>\n",
       "      <td>0.0</td>\n",
       "      <td>0.00</td>\n",
       "      <td>0.0</td>\n",
       "      <td>0.0</td>\n",
       "      <td>1.0</td>\n",
       "      <td>0.00</td>\n",
       "      <td>0.00</td>\n",
       "      <td>0.0</td>\n",
       "      <td>0.00</td>\n",
       "    </tr>\n",
       "    <tr>\n",
       "      <th>8</th>\n",
       "      <td>0.0</td>\n",
       "      <td>0.0</td>\n",
       "      <td>0.50</td>\n",
       "      <td>0.0</td>\n",
       "      <td>0.0</td>\n",
       "      <td>0.0</td>\n",
       "      <td>0.25</td>\n",
       "      <td>0.00</td>\n",
       "      <td>0.0</td>\n",
       "      <td>0.25</td>\n",
       "    </tr>\n",
       "    <tr>\n",
       "      <th>9</th>\n",
       "      <td>0.0</td>\n",
       "      <td>1.0</td>\n",
       "      <td>0.00</td>\n",
       "      <td>0.0</td>\n",
       "      <td>0.0</td>\n",
       "      <td>0.0</td>\n",
       "      <td>0.00</td>\n",
       "      <td>0.00</td>\n",
       "      <td>0.0</td>\n",
       "      <td>0.00</td>\n",
       "    </tr>\n",
       "    <tr>\n",
       "      <th>10</th>\n",
       "      <td>0.0</td>\n",
       "      <td>0.0</td>\n",
       "      <td>0.00</td>\n",
       "      <td>1.0</td>\n",
       "      <td>0.0</td>\n",
       "      <td>0.0</td>\n",
       "      <td>0.00</td>\n",
       "      <td>0.00</td>\n",
       "      <td>0.0</td>\n",
       "      <td>0.00</td>\n",
       "    </tr>\n",
       "  </tbody>\n",
       "</table>\n",
       "</div>"
      ],
      "text/plain": [
       "      0    1     2    3    4    5     6     7    8     9\n",
       "1   0.0  0.0  0.25  0.0  0.0  0.0  0.00  0.00  0.0  0.75\n",
       "2   0.0  0.0  0.25  0.0  0.0  0.0  0.50  0.25  0.0  0.00\n",
       "3   0.0  0.0  0.00  0.0  1.0  0.0  0.00  0.00  0.0  0.00\n",
       "4   0.0  0.0  0.00  0.0  0.0  0.0  0.00  0.00  1.0  0.00\n",
       "5   1.0  0.0  0.00  0.0  0.0  0.0  0.00  0.00  0.0  0.00\n",
       "6   0.0  0.0  0.00  0.0  0.0  0.0  0.25  0.75  0.0  0.00\n",
       "7   0.0  0.0  0.00  0.0  0.0  1.0  0.00  0.00  0.0  0.00\n",
       "8   0.0  0.0  0.50  0.0  0.0  0.0  0.25  0.00  0.0  0.25\n",
       "9   0.0  1.0  0.00  0.0  0.0  0.0  0.00  0.00  0.0  0.00\n",
       "10  0.0  0.0  0.00  1.0  0.0  0.0  0.00  0.00  0.0  0.00"
      ]
     },
     "execution_count": 34,
     "metadata": {},
     "output_type": "execute_result"
    }
   ],
   "source": [
    "data_to_plot_df = pd.DataFrame(data_to_plot)\n",
    "data_to_plot_df.index = pd.RangeIndex(start=1, stop=len(data_to_plot_df) + 1)\n",
    "data_to_plot_df"
   ]
  },
  {
   "cell_type": "code",
   "execution_count": 35,
   "metadata": {},
   "outputs": [
    {
     "data": {
      "image/png": "[encoded data removed]",
      "text/plain": [
       "<Figure size 640x480 with 2 Axes>"
      ]
     },
     "metadata": {},
     "output_type": "display_data"
    }
   ],
   "source": [
    "sns.heatmap(data_to_plot_df.transpose(), annot=True, cmap=\"Greys\", linewidths=.5, cbar_kws={'label': 'Probability'})\n",
    "plt.xlabel('Stage')\n",
    "plt.ylabel('Biomarker')\n",
    "plt.title('Heatmap of Biomarkers Involvement in Stages')\n",
    "plt.show()"
   ]
  }
 ],
 "metadata": {
  "kernelspec": {
   "display_name": "bayes",
   "language": "python",
   "name": "python3"
  },
  "language_info": {
   "codemirror_mode": {
    "name": "ipython",
    "version": 3
   },
   "file_extension": ".py",
   "mimetype": "text/x-python",
   "name": "python",
   "nbconvert_exporter": "python",
   "pygments_lexer": "ipython3",
   "version": "3.8.19"
  }
 },
 "nbformat": 4,
 "nbformat_minor": 2
}