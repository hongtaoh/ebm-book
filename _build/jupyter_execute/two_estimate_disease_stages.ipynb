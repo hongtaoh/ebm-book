{
 "cells": [
  {
   "cell_type": "markdown",
   "metadata": {},
   "source": [
    "# Estimating participants' disease stages\n",
    "\n",
    ">Next, I'd get it working with less and less information assumed to be known. You could either start inferring the participant's stage of disease or the order for biomarkers next. I'd probably do the participant's state of disease.\n",
    "\n",
    ">For the stage of disease for a participant, I'd do probably derive a gibbs sampling step by calculating each stage's relative likelihood based on the probabilities of the biomarker values ASSUMING they are at that stage. Then you normalize and sample from that discrete distribution.  \n",
    "\n",
    "## Known $\\theta$ and $\\phi$\n",
    "\n",
    "First, let us assume that we know $\\theta$ and $\\phi$. We also know at which disease stage a biomarker is affected (i.e., $S_n$). Basically, in the `data` below, we do not have these two columns: `k_j` and `affected_or_not`. \n",
    "\n",
    "For each participant, I will iterate through all possible stages. For each stage, I will calculate the likelihood of seeing the observed sequence of biomarker values using the following formula:\n",
    "\n",
    "$$p(X_{j} | S , z_j = 1, k_j) = \\prod_{i=1}^{k_j}{p(X_{S(i)j} \\mid \\theta_n )} \\prod_{i=k_j+1}^N{p(X_{S(i)j} \\mid \\phi_n)}$$\n"
   ]
  },
  {
   "cell_type": "code",
   "execution_count": 1,
   "metadata": {},
   "outputs": [],
   "source": [
    "import pandas as pd \n",
    "import numpy as np \n",
    "import re \n",
    "import altair as alt \n",
    "import matplotlib.pyplot as plt \n",
    "from scipy.stats import mode\n",
    "\n",
    "num_iterations = 30"
   ]
  },
  {
   "cell_type": "code",
   "execution_count": 2,
   "metadata": {},
   "outputs": [
    {
     "data": {
      "text/html": [
       "<div>\n",
       "<style scoped>\n",
       "    .dataframe tbody tr th:only-of-type {\n",
       "        vertical-align: middle;\n",
       "    }\n",
       "\n",
       "    .dataframe tbody tr th {\n",
       "        vertical-align: top;\n",
       "    }\n",
       "\n",
       "    .dataframe thead th {\n",
       "        text-align: right;\n",
       "    }\n",
       "</style>\n",
       "<table border=\"1\" class=\"dataframe\">\n",
       "  <thead>\n",
       "    <tr style=\"text-align: right;\">\n",
       "      <th></th>\n",
       "      <th>participant</th>\n",
       "      <th>biomarker</th>\n",
       "      <th>measurement</th>\n",
       "      <th>k_j</th>\n",
       "      <th>S_n</th>\n",
       "      <th>affected_or_not</th>\n",
       "      <th>Diseased</th>\n",
       "    </tr>\n",
       "  </thead>\n",
       "  <tbody>\n",
       "    <tr>\n",
       "      <th>0</th>\n",
       "      <td>0</td>\n",
       "      <td>MMSE</td>\n",
       "      <td>28.812457</td>\n",
       "      <td>5</td>\n",
       "      <td>5</td>\n",
       "      <td>affected</td>\n",
       "      <td>True</td>\n",
       "    </tr>\n",
       "    <tr>\n",
       "      <th>1</th>\n",
       "      <td>1</td>\n",
       "      <td>MMSE</td>\n",
       "      <td>28.483480</td>\n",
       "      <td>8</td>\n",
       "      <td>5</td>\n",
       "      <td>affected</td>\n",
       "      <td>True</td>\n",
       "    </tr>\n",
       "    <tr>\n",
       "      <th>2</th>\n",
       "      <td>2</td>\n",
       "      <td>MMSE</td>\n",
       "      <td>27.483507</td>\n",
       "      <td>5</td>\n",
       "      <td>5</td>\n",
       "      <td>affected</td>\n",
       "      <td>True</td>\n",
       "    </tr>\n",
       "    <tr>\n",
       "      <th>3</th>\n",
       "      <td>3</td>\n",
       "      <td>MMSE</td>\n",
       "      <td>27.886646</td>\n",
       "      <td>9</td>\n",
       "      <td>5</td>\n",
       "      <td>affected</td>\n",
       "      <td>True</td>\n",
       "    </tr>\n",
       "    <tr>\n",
       "      <th>4</th>\n",
       "      <td>4</td>\n",
       "      <td>MMSE</td>\n",
       "      <td>27.412189</td>\n",
       "      <td>8</td>\n",
       "      <td>5</td>\n",
       "      <td>affected</td>\n",
       "      <td>True</td>\n",
       "    </tr>\n",
       "  </tbody>\n",
       "</table>\n",
       "</div>"
      ],
      "text/plain": [
       "   participant biomarker  measurement  k_j  S_n affected_or_not  Diseased\n",
       "0            0      MMSE    28.812457    5    5        affected      True\n",
       "1            1      MMSE    28.483480    8    5        affected      True\n",
       "2            2      MMSE    27.483507    5    5        affected      True\n",
       "3            3      MMSE    27.886646    9    5        affected      True\n",
       "4            4      MMSE    27.412189    8    5        affected      True"
      ]
     },
     "execution_count": 2,
     "metadata": {},
     "output_type": "execute_result"
    }
   ],
   "source": [
    "data = pd.read_csv('data/participant_data.csv')\n",
    "# data.Biomarker = [re.sub(\"Biomarker \", \"\", text) for text in data.Biomarker.tolist()]\n",
    "data['Diseased'] = data.apply(lambda row: row.k_j > 0, axis = 1)\n",
    "data.head()\n",
    "# but remember that we do not know k_j which is what we are trying to estimate. "
   ]
  },
  {
   "cell_type": "code",
   "execution_count": 3,
   "metadata": {},
   "outputs": [],
   "source": [
    "# participant id: stage\n",
    "actual_participant_stage_dic = dict(zip(data.participant, data.k_j))\n",
    "\n",
    "participants = data.participant.unique()\n",
    "\n",
    "# 11 stages in total, [0, 10].\n",
    "num_stages = len(data.k_j.unique())\n",
    "\n",
    "# biomarkers\n",
    "biomarkers = np.array(data.biomarker.unique())\n",
    "\n",
    "## These are the healthy participants (Participant ID)\n",
    "non_diseased_participants = list(set(data.loc[data.Diseased == False].participant))"
   ]
  },
  {
   "cell_type": "code",
   "execution_count": 4,
   "metadata": {},
   "outputs": [
    {
     "data": {
      "text/plain": [
       "[32, 89, 34, 98, 36, 37, 38, 70, 72, 41, 73, 43, 49, 52, 21, 93, 57, 29]"
      ]
     },
     "execution_count": 4,
     "metadata": {},
     "output_type": "execute_result"
    }
   ],
   "source": [
    "non_diseased_participants"
   ]
  },
  {
   "cell_type": "markdown",
   "metadata": {},
   "source": [
    "Note that in `participant_data.csv`, $S_n \\geq 1$ because $S_n$ means the disease stage associated with a specific biomarker. $k_j \\geq 0$, indicating that participants may not be in any of the 10 disease stages (i.e., when $k_j = 0$). "
   ]
  },
  {
   "cell_type": "code",
   "execution_count": 5,
   "metadata": {},
   "outputs": [
    {
     "data": {
      "text/plain": [
       "array([ 5,  6,  3,  4,  1,  7,  8,  2,  9, 10])"
      ]
     },
     "execution_count": 5,
     "metadata": {},
     "output_type": "execute_result"
    }
   ],
   "source": [
    "data.S_n.unique()"
   ]
  },
  {
   "cell_type": "code",
   "execution_count": 6,
   "metadata": {},
   "outputs": [
    {
     "data": {
      "text/plain": [
       "array([ 5,  8,  9,  7,  6,  1,  3,  2, 10,  0,  4])"
      ]
     },
     "execution_count": 6,
     "metadata": {},
     "output_type": "execute_result"
    }
   ],
   "source": [
    "data.k_j.unique()"
   ]
  },
  {
   "cell_type": "code",
   "execution_count": 7,
   "metadata": {},
   "outputs": [
    {
     "data": {
      "text/html": [
       "<div>\n",
       "<style scoped>\n",
       "    .dataframe tbody tr th:only-of-type {\n",
       "        vertical-align: middle;\n",
       "    }\n",
       "\n",
       "    .dataframe tbody tr th {\n",
       "        vertical-align: top;\n",
       "    }\n",
       "\n",
       "    .dataframe thead th {\n",
       "        text-align: right;\n",
       "    }\n",
       "</style>\n",
       "<table border=\"1\" class=\"dataframe\">\n",
       "  <thead>\n",
       "    <tr style=\"text-align: right;\">\n",
       "      <th></th>\n",
       "      <th>biomarker</th>\n",
       "      <th>theta_mean</th>\n",
       "      <th>theta_std</th>\n",
       "      <th>phi_mean</th>\n",
       "      <th>phi_std</th>\n",
       "    </tr>\n",
       "  </thead>\n",
       "  <tbody>\n",
       "    <tr>\n",
       "      <th>0</th>\n",
       "      <td>MMSE</td>\n",
       "      <td>28.0</td>\n",
       "      <td>0.666667</td>\n",
       "      <td>22.0</td>\n",
       "      <td>2.666667</td>\n",
       "    </tr>\n",
       "    <tr>\n",
       "      <th>1</th>\n",
       "      <td>ADAS</td>\n",
       "      <td>-6.0</td>\n",
       "      <td>1.333333</td>\n",
       "      <td>-20.0</td>\n",
       "      <td>4.000000</td>\n",
       "    </tr>\n",
       "    <tr>\n",
       "      <th>2</th>\n",
       "      <td>AB</td>\n",
       "      <td>250.0</td>\n",
       "      <td>50.000000</td>\n",
       "      <td>150.0</td>\n",
       "      <td>16.666667</td>\n",
       "    </tr>\n",
       "    <tr>\n",
       "      <th>3</th>\n",
       "      <td>P-Tau</td>\n",
       "      <td>-25.0</td>\n",
       "      <td>16.666667</td>\n",
       "      <td>-50.0</td>\n",
       "      <td>33.333333</td>\n",
       "    </tr>\n",
       "    <tr>\n",
       "      <th>4</th>\n",
       "      <td>HIP-FCI</td>\n",
       "      <td>5.0</td>\n",
       "      <td>1.666667</td>\n",
       "      <td>-5.0</td>\n",
       "      <td>6.666667</td>\n",
       "    </tr>\n",
       "    <tr>\n",
       "      <th>5</th>\n",
       "      <td>HIP-GMI</td>\n",
       "      <td>0.4</td>\n",
       "      <td>0.233333</td>\n",
       "      <td>0.3</td>\n",
       "      <td>0.333333</td>\n",
       "    </tr>\n",
       "    <tr>\n",
       "      <th>6</th>\n",
       "      <td>AVLT-Sum</td>\n",
       "      <td>40.0</td>\n",
       "      <td>15.000000</td>\n",
       "      <td>20.0</td>\n",
       "      <td>6.666667</td>\n",
       "    </tr>\n",
       "    <tr>\n",
       "      <th>7</th>\n",
       "      <td>PCC-FCI</td>\n",
       "      <td>12.0</td>\n",
       "      <td>4.000000</td>\n",
       "      <td>5.0</td>\n",
       "      <td>3.333333</td>\n",
       "    </tr>\n",
       "    <tr>\n",
       "      <th>8</th>\n",
       "      <td>FUS-GMI</td>\n",
       "      <td>0.6</td>\n",
       "      <td>0.066667</td>\n",
       "      <td>0.5</td>\n",
       "      <td>0.066667</td>\n",
       "    </tr>\n",
       "    <tr>\n",
       "      <th>9</th>\n",
       "      <td>FUS-FCI</td>\n",
       "      <td>-10.0</td>\n",
       "      <td>3.333333</td>\n",
       "      <td>-20.0</td>\n",
       "      <td>6.000000</td>\n",
       "    </tr>\n",
       "  </tbody>\n",
       "</table>\n",
       "</div>"
      ],
      "text/plain": [
       "  biomarker  theta_mean  theta_std  phi_mean    phi_std\n",
       "0      MMSE        28.0   0.666667      22.0   2.666667\n",
       "1      ADAS        -6.0   1.333333     -20.0   4.000000\n",
       "2        AB       250.0  50.000000     150.0  16.666667\n",
       "3     P-Tau       -25.0  16.666667     -50.0  33.333333\n",
       "4   HIP-FCI         5.0   1.666667      -5.0   6.666667\n",
       "5   HIP-GMI         0.4   0.233333       0.3   0.333333\n",
       "6  AVLT-Sum        40.0  15.000000      20.0   6.666667\n",
       "7   PCC-FCI        12.0   4.000000       5.0   3.333333\n",
       "8   FUS-GMI         0.6   0.066667       0.5   0.066667\n",
       "9   FUS-FCI       -10.0   3.333333     -20.0   6.000000"
      ]
     },
     "execution_count": 7,
     "metadata": {},
     "output_type": "execute_result"
    }
   ],
   "source": [
    "theta_phi = pd.read_csv('data/means_stds.csv')\n",
    "theta_phi"
   ]
  },
  {
   "cell_type": "code",
   "execution_count": 8,
   "metadata": {},
   "outputs": [
    {
     "data": {
      "text/html": [
       "<div>\n",
       "<style scoped>\n",
       "    .dataframe tbody tr th:only-of-type {\n",
       "        vertical-align: middle;\n",
       "    }\n",
       "\n",
       "    .dataframe tbody tr th {\n",
       "        vertical-align: top;\n",
       "    }\n",
       "\n",
       "    .dataframe thead th {\n",
       "        text-align: right;\n",
       "    }\n",
       "</style>\n",
       "<table border=\"1\" class=\"dataframe\">\n",
       "  <thead>\n",
       "    <tr style=\"text-align: right;\">\n",
       "      <th></th>\n",
       "      <th>biomarker</th>\n",
       "      <th>theta_mean</th>\n",
       "      <th>theta_std</th>\n",
       "      <th>phi_mean</th>\n",
       "      <th>phi_std</th>\n",
       "    </tr>\n",
       "  </thead>\n",
       "  <tbody>\n",
       "    <tr>\n",
       "      <th>0</th>\n",
       "      <td>MMSE</td>\n",
       "      <td>27.749847</td>\n",
       "      <td>1.080606</td>\n",
       "      <td>21.519517</td>\n",
       "      <td>2.052817</td>\n",
       "    </tr>\n",
       "    <tr>\n",
       "      <th>1</th>\n",
       "      <td>ADAS</td>\n",
       "      <td>-6.848710</td>\n",
       "      <td>2.102802</td>\n",
       "      <td>-20.300459</td>\n",
       "      <td>3.607851</td>\n",
       "    </tr>\n",
       "    <tr>\n",
       "      <th>2</th>\n",
       "      <td>AB</td>\n",
       "      <td>264.695750</td>\n",
       "      <td>33.367857</td>\n",
       "      <td>160.509185</td>\n",
       "      <td>24.250826</td>\n",
       "    </tr>\n",
       "    <tr>\n",
       "      <th>3</th>\n",
       "      <td>P-Tau</td>\n",
       "      <td>-21.009352</td>\n",
       "      <td>16.289284</td>\n",
       "      <td>-70.234372</td>\n",
       "      <td>20.638271</td>\n",
       "    </tr>\n",
       "    <tr>\n",
       "      <th>4</th>\n",
       "      <td>HIP-FCI</td>\n",
       "      <td>5.014734</td>\n",
       "      <td>2.034476</td>\n",
       "      <td>-7.668885</td>\n",
       "      <td>3.316033</td>\n",
       "    </tr>\n",
       "    <tr>\n",
       "      <th>5</th>\n",
       "      <td>HIP-GMI</td>\n",
       "      <td>0.606567</td>\n",
       "      <td>0.193665</td>\n",
       "      <td>0.080034</td>\n",
       "      <td>0.141308</td>\n",
       "    </tr>\n",
       "    <tr>\n",
       "      <th>6</th>\n",
       "      <td>AVLT-Sum</td>\n",
       "      <td>35.518807</td>\n",
       "      <td>10.181715</td>\n",
       "      <td>16.678844</td>\n",
       "      <td>6.135888</td>\n",
       "    </tr>\n",
       "    <tr>\n",
       "      <th>7</th>\n",
       "      <td>PCC-FCI</td>\n",
       "      <td>13.109337</td>\n",
       "      <td>2.370943</td>\n",
       "      <td>5.201028</td>\n",
       "      <td>2.594366</td>\n",
       "    </tr>\n",
       "    <tr>\n",
       "      <th>8</th>\n",
       "      <td>FUS-GMI</td>\n",
       "      <td>0.592786</td>\n",
       "      <td>0.051816</td>\n",
       "      <td>0.449570</td>\n",
       "      <td>0.046020</td>\n",
       "    </tr>\n",
       "    <tr>\n",
       "      <th>9</th>\n",
       "      <td>FUS-FCI</td>\n",
       "      <td>-24.399193</td>\n",
       "      <td>3.457663</td>\n",
       "      <td>-14.359324</td>\n",
       "      <td>3.808322</td>\n",
       "    </tr>\n",
       "  </tbody>\n",
       "</table>\n",
       "</div>"
      ],
      "text/plain": [
       "  biomarker  theta_mean  theta_std    phi_mean    phi_std\n",
       "0      MMSE   27.749847   1.080606   21.519517   2.052817\n",
       "1      ADAS   -6.848710   2.102802  -20.300459   3.607851\n",
       "2        AB  264.695750  33.367857  160.509185  24.250826\n",
       "3     P-Tau  -21.009352  16.289284  -70.234372  20.638271\n",
       "4   HIP-FCI    5.014734   2.034476   -7.668885   3.316033\n",
       "5   HIP-GMI    0.606567   0.193665    0.080034   0.141308\n",
       "6  AVLT-Sum   35.518807  10.181715   16.678844   6.135888\n",
       "7   PCC-FCI   13.109337   2.370943    5.201028   2.594366\n",
       "8   FUS-GMI    0.592786   0.051816    0.449570   0.046020\n",
       "9   FUS-FCI  -24.399193   3.457663  -14.359324   3.808322"
      ]
     },
     "execution_count": 8,
     "metadata": {},
     "output_type": "execute_result"
    }
   ],
   "source": [
    "theta_phi_kmeans = pd.read_csv(\"data/estimate_means_stds_kmeans.csv\")\n",
    "theta_phi_kmeans"
   ]
  },
  {
   "cell_type": "code",
   "execution_count": 9,
   "metadata": {},
   "outputs": [],
   "source": [
    "def compute_single_measurement_likelihood(theta_phi, biomarker, affected, measurement):\n",
    "    '''Computes the likelihood of the measurement value of a single biomarker\n",
    "    We know the normal distribution defined by either theta or phi\n",
    "    and we know the measurement. This will give us the probability\n",
    "    of this given measurement value. \n",
    "\n",
    "    input:\n",
    "    - theta_phi: the dataframe containing theta and phi values for each biomarker\n",
    "    - biomarker: a string of biomarker name\n",
    "    - affected: a boolean \n",
    "    - measurement: the observed value for a biomarker in a specific participant\n",
    "\n",
    "    output: a scalar\n",
    "    '''\n",
    "    biomarker_params = theta_phi[theta_phi.biomarker == biomarker].reset_index()\n",
    "    mu = biomarker_params['theta_mean'][0] if affected else biomarker_params['phi_mean'][0]\n",
    "    std = biomarker_params['theta_std'][0] if affected else biomarker_params['phi_std'][0]\n",
    "    likelihood = np.exp(-(measurement - mu)**2/(2*std**2))/np.sqrt(2*np.pi*std**2)\n",
    "    return likelihood"
   ]
  },
  {
   "cell_type": "code",
   "execution_count": 10,
   "metadata": {},
   "outputs": [],
   "source": [
    "def compute_likelihood(pdata, k_j, theta_phi):\n",
    "    '''This implementes the formula of https://ebm-book2.vercel.app/distributions.html#known-k-j\n",
    "    Inputs:\n",
    "        - pdata: data that belongs to a specific participant\n",
    "        - k_j: the disease stage the participant is at \n",
    "        - theta_phi: a dataframe containing theta and phi means & vars for all biomarkers\n",
    "    Outputs:\n",
    "        - the likelihood of seeing this sequence of measurements if the participant is at this k_j\n",
    "    '''\n",
    "    likelihood = 1\n",
    "    for i, row in pdata.iterrows():\n",
    "        biomarker = row['biomarker']\n",
    "        measurement = row['measurement']\n",
    "        affected = k_j >= row['S_n']\n",
    "        likelihood *= compute_single_measurement_likelihood(\n",
    "            theta_phi, biomarker, affected, measurement)\n",
    "    return likelihood"
   ]
  },
  {
   "cell_type": "markdown",
   "metadata": {},
   "source": [
    "## For all participants"
   ]
  },
  {
   "cell_type": "code",
   "execution_count": 11,
   "metadata": {},
   "outputs": [],
   "source": [
    "def update_estimated_participant_stage_dic(num_stages, p, p_data, theta_phi, estimated_participant_stage_dic):\n",
    "    # initiaze stage_likelihood\n",
    "    stage_likelihood = np.zeros(num_stages)\n",
    "    for k in range(num_stages):\n",
    "        # assume participant is in this stage; compute the likelihood of seeing \n",
    "        # this sequence of observed biomarker measurement\n",
    "        # [0, 10] Note that k CAN be 0\n",
    "        likelihood = compute_likelihood(p_data, k, theta_phi=theta_phi)\n",
    "        stage_likelihood[k] = likelihood\n",
    "    # estimated_participant_stage_dic[p] = np.argmax(stage_likelihood)\n",
    "    likelihood_sum = np.sum(stage_likelihood)\n",
    "    normalized_stage_likelihood = [l/likelihood_sum for l in stage_likelihood]\n",
    "    sampled_stage = np.random.choice(np.arange(num_stages), p = normalized_stage_likelihood)\n",
    "    estimated_participant_stage_dic[p] = sampled_stage        "
   ]
  },
  {
   "cell_type": "markdown",
   "metadata": {},
   "source": [
    "If we run the calculation for only once:"
   ]
  },
  {
   "cell_type": "code",
   "execution_count": 12,
   "metadata": {},
   "outputs": [
    {
     "data": {
      "text/plain": [
       "array([ 5,  9,  5,  7,  8,  8,  5,  8,  4,  8,  8,  5,  1,  9,  6,  2,  5,\n",
       "        6,  7,  1,  5,  0,  8,  5,  4,  5,  8,  6,  5,  0,  1,  3,  0,  0,\n",
       "        1,  4,  0,  0,  0, 10,  1,  0,  7,  1,  5,  3,  2,  7,  3,  0,  4,\n",
       "        6,  0,  5,  2,  6,  3,  0, 10,  4,  6,  4,  5,  1,  8,  2,  4,  6,\n",
       "        7, 10,  0, 10,  0,  0, 10,  8,  7,  4,  7,  4, 10,  9,  6,  7,  7,\n",
       "        6,  6,  7,  3,  0,  8,  9,  8,  0,  2,  1,  1,  5,  0,  1])"
      ]
     },
     "execution_count": 12,
     "metadata": {},
     "output_type": "execute_result"
    }
   ],
   "source": [
    "estimated_participant_stage_dic = {}\n",
    "for p in participants:\n",
    "    p_data = data[data.participant == p].reset_index(drop=True)\n",
    "    update_estimated_participant_stage_dic(\n",
    "        num_stages, p, p_data, theta_phi, estimated_participant_stage_dic)\n",
    "estimated_stages_run_once = np.array(list(estimated_participant_stage_dic.values()))\n",
    "estimated_stages_run_once"
   ]
  },
  {
   "cell_type": "markdown",
   "metadata": {},
   "source": [
    "Note that if I run the algorithm once, the `sampled_stage` might not be the one with highest probability. So I did with multiple iterations. I obtained multiple `estimated_participant_stage_dic`. Then I used the mode for each participant. However, still, the results are not optimal. I do not understand why. "
   ]
  },
  {
   "cell_type": "code",
   "execution_count": 13,
   "metadata": {},
   "outputs": [],
   "source": [
    "num_iterations = 5\n",
    "estimated_participant_stage_dic_list = []\n",
    "\n",
    "for _ in range(num_iterations):\n",
    "    estimated_participant_stage_dic = {}\n",
    "    for p in participants:\n",
    "        p_data = data[data.participant == p].reset_index(drop=True)\n",
    "        update_estimated_participant_stage_dic(\n",
    "            num_stages, p, p_data, theta_phi, estimated_participant_stage_dic)\n",
    "    estimated_participant_stage_dic_list.append(estimated_participant_stage_dic)"
   ]
  },
  {
   "cell_type": "code",
   "execution_count": 14,
   "metadata": {},
   "outputs": [
    {
     "data": {
      "text/plain": [
       "5"
      ]
     },
     "execution_count": 14,
     "metadata": {},
     "output_type": "execute_result"
    }
   ],
   "source": [
    "len(estimated_participant_stage_dic_list)"
   ]
  },
  {
   "cell_type": "code",
   "execution_count": 15,
   "metadata": {},
   "outputs": [],
   "source": [
    "lists_of_values_array = []\n",
    "for dic in estimated_participant_stage_dic_list:\n",
    "    values_array = np.array(list(dic.values()))\n",
    "    lists_of_values_array.append(values_array)\n",
    "# np.array(lists_of_values_array)"
   ]
  },
  {
   "cell_type": "code",
   "execution_count": 16,
   "metadata": {},
   "outputs": [
    {
     "data": {
      "text/plain": [
       "array([ 5,  9,  5,  9,  7,  7,  5,  6,  2,  8,  8,  5,  1,  6,  6,  2,  5,\n",
       "        6, 10,  2,  5,  0,  6,  5,  4,  5,  8,  7,  5,  0,  1,  4,  0,  1,\n",
       "        1,  4,  0,  0,  0, 10,  1,  1,  6,  0,  5,  3,  1,  6,  5,  0,  4,\n",
       "        6,  0,  5,  2,  9,  3,  0, 10,  4,  7,  4,  5,  1,  9,  1,  4,  6,\n",
       "        7, 10,  0, 10,  0,  0, 10,  8,  6,  4,  6,  4,  9,  9,  6,  7,  6,\n",
       "        6,  7,  6,  3,  0,  8,  9,  9,  0,  2,  1,  1,  5,  0,  1])"
      ]
     },
     "execution_count": 16,
     "metadata": {},
     "output_type": "execute_result"
    }
   ],
   "source": [
    "# mode in each column, axis = 0\n",
    "estimated_stages_run_multiple_times = mode(np.array(lists_of_values_array), axis=0, keepdims=False).mode\n",
    "estimated_stages_run_multiple_times"
   ]
  },
  {
   "cell_type": "code",
   "execution_count": 17,
   "metadata": {},
   "outputs": [],
   "source": [
    "actual_stages = np.array(list(actual_participant_stage_dic.values()))\n",
    "differences_run_once = estimated_stages_run_once - actual_stages\n",
    "differences_run_multiple_times = estimated_stages_run_multiple_times - actual_stages"
   ]
  },
  {
   "cell_type": "code",
   "execution_count": 18,
   "metadata": {},
   "outputs": [],
   "source": [
    "# differences"
   ]
  },
  {
   "cell_type": "code",
   "execution_count": 19,
   "metadata": {},
   "outputs": [],
   "source": [
    "def scatter_plot_of_stage_differences(stage_differences):\n",
    "    '''Scatter Plot of the Difference at each index\n",
    "    Input:\n",
    "    - stage_differences: estimated_stages - actual stages. Result should be a 1-dim np array\n",
    "    '''\n",
    "    plt.figure(figsize=(10, 6))\n",
    "    plt.scatter(range(100), stage_differences, alpha=0.6)\n",
    "    plt.axhline(y=0, color='red', linestyle='--')\n",
    "    plt.title(\"Scatter Plot of Stage Difference for Each Participant\")\n",
    "    plt.xlabel(\"Participant\")\n",
    "    plt.ylabel(\"Difference (Estimated Stage - True Stage)\")\n",
    "    plt.grid(True)\n",
    "    plt.show()"
   ]
  },
  {
   "cell_type": "markdown",
   "metadata": {},
   "source": [
    "Let's compare whether running multiple times is worth it:"
   ]
  },
  {
   "cell_type": "code",
   "execution_count": 20,
   "metadata": {},
   "outputs": [
    {
     "data": {
      "image/png": "[encoded data removed]",
      "text/plain": [
       "<Figure size 1000x600 with 1 Axes>"
      ]
     },
     "metadata": {},
     "output_type": "display_data"
    }
   ],
   "source": [
    "scatter_plot_of_stage_differences(differences_run_once)"
   ]
  },
  {
   "cell_type": "code",
   "execution_count": 21,
   "metadata": {},
   "outputs": [
    {
     "data": {
      "image/png": "[encoded data removed]",
      "text/plain": [
       "<Figure size 1000x600 with 1 Axes>"
      ]
     },
     "metadata": {},
     "output_type": "display_data"
    }
   ],
   "source": [
    "scatter_plot_of_stage_differences(differences_run_multiple_times)"
   ]
  },
  {
   "cell_type": "markdown",
   "metadata": {},
   "source": [
    "From the above figure, it seems that running multiple times may not increase the accuracy. \n",
    "\n",
    "## Cases when our algorithm may not work"
   ]
  },
  {
   "cell_type": "code",
   "execution_count": 22,
   "metadata": {},
   "outputs": [
    {
     "data": {
      "text/plain": [
       "30"
      ]
     },
     "execution_count": 22,
     "metadata": {},
     "output_type": "execute_result"
    }
   ],
   "source": [
    "# These are the participants whose results using our algorithm \n",
    "# generates different stages than actual stages\n",
    "non_zero_indices = np.nonzero(differences_run_multiple_times)[0]\n",
    "p_ids_with_different_results = non_zero_indices\n",
    "len(p_ids_with_different_results)"
   ]
  },
  {
   "cell_type": "code",
   "execution_count": 23,
   "metadata": {},
   "outputs": [
    {
     "data": {
      "text/html": [
       "<div>\n",
       "<style scoped>\n",
       "    .dataframe tbody tr th:only-of-type {\n",
       "        vertical-align: middle;\n",
       "    }\n",
       "\n",
       "    .dataframe tbody tr th {\n",
       "        vertical-align: top;\n",
       "    }\n",
       "\n",
       "    .dataframe thead th {\n",
       "        text-align: right;\n",
       "    }\n",
       "</style>\n",
       "<table border=\"1\" class=\"dataframe\">\n",
       "  <thead>\n",
       "    <tr style=\"text-align: right;\">\n",
       "      <th></th>\n",
       "      <th>participant</th>\n",
       "      <th>biomarker</th>\n",
       "      <th>measurement</th>\n",
       "      <th>k_j</th>\n",
       "      <th>S_n</th>\n",
       "      <th>affected_or_not</th>\n",
       "      <th>Diseased</th>\n",
       "    </tr>\n",
       "  </thead>\n",
       "  <tbody>\n",
       "    <tr>\n",
       "      <th>0</th>\n",
       "      <td>41</td>\n",
       "      <td>MMSE</td>\n",
       "      <td>16.784208</td>\n",
       "      <td>0</td>\n",
       "      <td>5</td>\n",
       "      <td>not_affected</td>\n",
       "      <td>False</td>\n",
       "    </tr>\n",
       "    <tr>\n",
       "      <th>1</th>\n",
       "      <td>41</td>\n",
       "      <td>ADAS</td>\n",
       "      <td>-18.238085</td>\n",
       "      <td>0</td>\n",
       "      <td>6</td>\n",
       "      <td>not_affected</td>\n",
       "      <td>False</td>\n",
       "    </tr>\n",
       "    <tr>\n",
       "      <th>2</th>\n",
       "      <td>41</td>\n",
       "      <td>AB</td>\n",
       "      <td>149.003665</td>\n",
       "      <td>0</td>\n",
       "      <td>3</td>\n",
       "      <td>not_affected</td>\n",
       "      <td>False</td>\n",
       "    </tr>\n",
       "    <tr>\n",
       "      <th>3</th>\n",
       "      <td>41</td>\n",
       "      <td>P-Tau</td>\n",
       "      <td>-49.844551</td>\n",
       "      <td>0</td>\n",
       "      <td>4</td>\n",
       "      <td>not_affected</td>\n",
       "      <td>False</td>\n",
       "    </tr>\n",
       "    <tr>\n",
       "      <th>4</th>\n",
       "      <td>41</td>\n",
       "      <td>HIP-FCI</td>\n",
       "      <td>10.395680</td>\n",
       "      <td>0</td>\n",
       "      <td>1</td>\n",
       "      <td>not_affected</td>\n",
       "      <td>False</td>\n",
       "    </tr>\n",
       "    <tr>\n",
       "      <th>5</th>\n",
       "      <td>41</td>\n",
       "      <td>HIP-GMI</td>\n",
       "      <td>0.498206</td>\n",
       "      <td>0</td>\n",
       "      <td>7</td>\n",
       "      <td>not_affected</td>\n",
       "      <td>False</td>\n",
       "    </tr>\n",
       "    <tr>\n",
       "      <th>6</th>\n",
       "      <td>41</td>\n",
       "      <td>AVLT-Sum</td>\n",
       "      <td>24.227311</td>\n",
       "      <td>0</td>\n",
       "      <td>8</td>\n",
       "      <td>not_affected</td>\n",
       "      <td>False</td>\n",
       "    </tr>\n",
       "    <tr>\n",
       "      <th>7</th>\n",
       "      <td>41</td>\n",
       "      <td>PCC-FCI</td>\n",
       "      <td>-3.212796</td>\n",
       "      <td>0</td>\n",
       "      <td>2</td>\n",
       "      <td>not_affected</td>\n",
       "      <td>False</td>\n",
       "    </tr>\n",
       "    <tr>\n",
       "      <th>8</th>\n",
       "      <td>41</td>\n",
       "      <td>FUS-GMI</td>\n",
       "      <td>0.469877</td>\n",
       "      <td>0</td>\n",
       "      <td>9</td>\n",
       "      <td>not_affected</td>\n",
       "      <td>False</td>\n",
       "    </tr>\n",
       "    <tr>\n",
       "      <th>9</th>\n",
       "      <td>41</td>\n",
       "      <td>FUS-FCI</td>\n",
       "      <td>-19.112203</td>\n",
       "      <td>0</td>\n",
       "      <td>10</td>\n",
       "      <td>not_affected</td>\n",
       "      <td>False</td>\n",
       "    </tr>\n",
       "  </tbody>\n",
       "</table>\n",
       "</div>"
      ],
      "text/plain": [
       "   participant biomarker  measurement  k_j  S_n affected_or_not  Diseased\n",
       "0           41      MMSE    16.784208    0    5    not_affected     False\n",
       "1           41      ADAS   -18.238085    0    6    not_affected     False\n",
       "2           41        AB   149.003665    0    3    not_affected     False\n",
       "3           41     P-Tau   -49.844551    0    4    not_affected     False\n",
       "4           41   HIP-FCI    10.395680    0    1    not_affected     False\n",
       "5           41   HIP-GMI     0.498206    0    7    not_affected     False\n",
       "6           41  AVLT-Sum    24.227311    0    8    not_affected     False\n",
       "7           41   PCC-FCI    -3.212796    0    2    not_affected     False\n",
       "8           41   FUS-GMI     0.469877    0    9    not_affected     False\n",
       "9           41   FUS-FCI   -19.112203    0   10    not_affected     False"
      ]
     },
     "execution_count": 23,
     "metadata": {},
     "output_type": "execute_result"
    }
   ],
   "source": [
    "participant_index = np.random.choice(p_ids_with_different_results)\n",
    "p_data = data[data.participant == participant_index].reset_index(drop=True)\n",
    "p_data"
   ]
  },
  {
   "cell_type": "code",
   "execution_count": 24,
   "metadata": {},
   "outputs": [
    {
     "data": {
      "text/html": [
       "<div>\n",
       "<style scoped>\n",
       "    .dataframe tbody tr th:only-of-type {\n",
       "        vertical-align: middle;\n",
       "    }\n",
       "\n",
       "    .dataframe tbody tr th {\n",
       "        vertical-align: top;\n",
       "    }\n",
       "\n",
       "    .dataframe thead th {\n",
       "        text-align: right;\n",
       "    }\n",
       "</style>\n",
       "<table border=\"1\" class=\"dataframe\">\n",
       "  <thead>\n",
       "    <tr style=\"text-align: right;\">\n",
       "      <th></th>\n",
       "      <th>likelihood</th>\n",
       "    </tr>\n",
       "  </thead>\n",
       "  <tbody>\n",
       "    <tr>\n",
       "      <th>0</th>\n",
       "      <td>2.385806e-13</td>\n",
       "    </tr>\n",
       "    <tr>\n",
       "      <th>1</th>\n",
       "      <td>7.275879e-14</td>\n",
       "    </tr>\n",
       "    <tr>\n",
       "      <th>2</th>\n",
       "      <td>9.120301e-16</td>\n",
       "    </tr>\n",
       "    <tr>\n",
       "      <th>3</th>\n",
       "      <td>3.959867e-17</td>\n",
       "    </tr>\n",
       "    <tr>\n",
       "      <th>4</th>\n",
       "      <td>2.607301e-17</td>\n",
       "    </tr>\n",
       "    <tr>\n",
       "      <th>5</th>\n",
       "      <td>2.445632e-77</td>\n",
       "    </tr>\n",
       "    <tr>\n",
       "      <th>7</th>\n",
       "      <td>6.413011e-95</td>\n",
       "    </tr>\n",
       "    <tr>\n",
       "      <th>6</th>\n",
       "      <td>4.110069e-95</td>\n",
       "    </tr>\n",
       "    <tr>\n",
       "      <th>8</th>\n",
       "      <td>2.004909e-95</td>\n",
       "    </tr>\n",
       "    <tr>\n",
       "      <th>9</th>\n",
       "      <td>3.304916e-96</td>\n",
       "    </tr>\n",
       "    <tr>\n",
       "      <th>10</th>\n",
       "      <td>1.433729e-97</td>\n",
       "    </tr>\n",
       "  </tbody>\n",
       "</table>\n",
       "</div>"
      ],
      "text/plain": [
       "      likelihood\n",
       "0   2.385806e-13\n",
       "1   7.275879e-14\n",
       "2   9.120301e-16\n",
       "3   3.959867e-17\n",
       "4   2.607301e-17\n",
       "5   2.445632e-77\n",
       "7   6.413011e-95\n",
       "6   4.110069e-95\n",
       "8   2.004909e-95\n",
       "9   3.304916e-96\n",
       "10  1.433729e-97"
      ]
     },
     "execution_count": 24,
     "metadata": {},
     "output_type": "execute_result"
    }
   ],
   "source": [
    "num_stages = len(data.k_j.unique())\n",
    "stage_likelihood = np.zeros(num_stages)\n",
    "for k in range(num_stages):\n",
    "    # assume participant is in this stage; compute the likelihood of seeing \n",
    "    # this sequence of observed biomarker measurement\n",
    "    # [0, 10] Note that k CAN be 0\n",
    "    likelihood = compute_likelihood(p_data, k, theta_phi=theta_phi)\n",
    "    stage_likelihood[k] = likelihood\n",
    "p_stage_likelihood_df = pd.DataFrame(stage_likelihood, columns=['likelihood'])\n",
    "p_stage_likelihood_df.sort_values(by = \"likelihood\", ascending=False)"
   ]
  },
  {
   "cell_type": "markdown",
   "metadata": {},
   "source": [
    "\n",
    "## Unknown $\\theta$ and $\\phi$\n",
    "\n",
    "Suppose we do not have access to the parameters for biomarker value distributions; i.e., we do not know $\\theta$ and $\\phi$. "
   ]
  },
  {
   "cell_type": "code",
   "execution_count": 25,
   "metadata": {},
   "outputs": [
    {
     "data": {
      "text/html": [
       "<div>\n",
       "<style scoped>\n",
       "    .dataframe tbody tr th:only-of-type {\n",
       "        vertical-align: middle;\n",
       "    }\n",
       "\n",
       "    .dataframe tbody tr th {\n",
       "        vertical-align: top;\n",
       "    }\n",
       "\n",
       "    .dataframe thead th {\n",
       "        text-align: right;\n",
       "    }\n",
       "</style>\n",
       "<table border=\"1\" class=\"dataframe\">\n",
       "  <thead>\n",
       "    <tr style=\"text-align: right;\">\n",
       "      <th></th>\n",
       "      <th>participant</th>\n",
       "      <th>biomarker</th>\n",
       "      <th>measurement</th>\n",
       "      <th>S_n</th>\n",
       "      <th>Diseased</th>\n",
       "    </tr>\n",
       "  </thead>\n",
       "  <tbody>\n",
       "    <tr>\n",
       "      <th>0</th>\n",
       "      <td>0</td>\n",
       "      <td>MMSE</td>\n",
       "      <td>28.812457</td>\n",
       "      <td>5</td>\n",
       "      <td>True</td>\n",
       "    </tr>\n",
       "    <tr>\n",
       "      <th>1</th>\n",
       "      <td>1</td>\n",
       "      <td>MMSE</td>\n",
       "      <td>28.483480</td>\n",
       "      <td>5</td>\n",
       "      <td>True</td>\n",
       "    </tr>\n",
       "    <tr>\n",
       "      <th>2</th>\n",
       "      <td>2</td>\n",
       "      <td>MMSE</td>\n",
       "      <td>27.483507</td>\n",
       "      <td>5</td>\n",
       "      <td>True</td>\n",
       "    </tr>\n",
       "    <tr>\n",
       "      <th>3</th>\n",
       "      <td>3</td>\n",
       "      <td>MMSE</td>\n",
       "      <td>27.886646</td>\n",
       "      <td>5</td>\n",
       "      <td>True</td>\n",
       "    </tr>\n",
       "    <tr>\n",
       "      <th>4</th>\n",
       "      <td>4</td>\n",
       "      <td>MMSE</td>\n",
       "      <td>27.412189</td>\n",
       "      <td>5</td>\n",
       "      <td>True</td>\n",
       "    </tr>\n",
       "  </tbody>\n",
       "</table>\n",
       "</div>"
      ],
      "text/plain": [
       "   participant biomarker  measurement  S_n  Diseased\n",
       "0            0      MMSE    28.812457    5      True\n",
       "1            1      MMSE    28.483480    5      True\n",
       "2            2      MMSE    27.483507    5      True\n",
       "3            3      MMSE    27.886646    5      True\n",
       "4            4      MMSE    27.412189    5      True"
      ]
     },
     "execution_count": 25,
     "metadata": {},
     "output_type": "execute_result"
    }
   ],
   "source": [
    "data_we_have = data.drop(['k_j', 'affected_or_not'], axis = 1)\n",
    "data_we_have.head()"
   ]
  },
  {
   "cell_type": "markdown",
   "metadata": {},
   "source": [
    "First, we need to fill up data to have the two columns: `k_j` and `affected`. We didn't do that above because we did not need to estimate `theta` and `phi`. Now, we have to. And to estimate `theta` and `phi`, we need to have the column of `affected`. "
   ]
  },
  {
   "cell_type": "code",
   "execution_count": 26,
   "metadata": {},
   "outputs": [],
   "source": [
    "def fill_up_data_we_have(data_we_have, participant_stages, participants):\n",
    "    '''This is to fill up data_we_have. \n",
    "    Basically, add two columns: k_j, and affected, based on the initial or updated participant_stages\n",
    "    Essentially, all we do below is to get the most accurate participant_stages\n",
    "\n",
    "    Note: we do not have the real participant_stages right now. \n",
    "    \n",
    "    Inputs:\n",
    "        - data_we_have\n",
    "        - participant_stages: np array \n",
    "        - participants: 0-99\n",
    "    '''\n",
    "    participant_stage_dic = dict(zip(np.arange(0,len(participants)), participant_stages))\n",
    "    data_we_have['k_j'] = data_we_have.apply(lambda row: participant_stage_dic[row.participant], axis = 1)\n",
    "    data_we_have['affected'] = data_we_have.apply(lambda row: row.k_j >= row.S_n, axis = 1)\n",
    "    return data_we_have "
   ]
  },
  {
   "cell_type": "code",
   "execution_count": 27,
   "metadata": {},
   "outputs": [],
   "source": [
    "def estimate_params_exact(m0, n0, s0_sq, v0, data):\n",
    "    '''This is to estimate means and vars based on conjugate priors\n",
    "    Inputs:\n",
    "        - data: a vector of measurements \n",
    "        - m0: prior estimate of $\\mu$.\n",
    "        - n0: how strongly is the prior belief in $m_0$ is held.\n",
    "        - s0_sq: prior estimate of $\\sigma^2$.\n",
    "        - v0: prior degress of freedome, influencing the certainty of $s_0^2$.\n",
    "    \n",
    "    Outputs:\n",
    "        - mu estiate, std estimate\n",
    "    '''\n",
    "    # Data summary\n",
    "    sample_mean = np.mean(data)\n",
    "    sample_size = len(data)\n",
    "    sample_var = np.var(data, ddof=1)  # ddof=1 for unbiased estimator\n",
    "\n",
    "    # Update hyperparameters for the Normal-Inverse Gamma posterior\n",
    "    updated_m0 = (n0 * m0 + sample_size * sample_mean) / (n0 + sample_size)\n",
    "    updated_n0 = n0 + sample_size\n",
    "    updated_v0 = v0 + sample_size \n",
    "    updated_s0_sq = (1 / updated_v0) * ((sample_size - 1) * sample_var + v0 * s0_sq + \n",
    "                    (n0 * sample_size / updated_n0) * (sample_mean - m0)**2)\n",
    "    updated_alpha = updated_v0/2\n",
    "    updated_beta = updated_v0*updated_s0_sq/2\n",
    "\n",
    "    # Posterior estimates\n",
    "    mu_posterior_mean = updated_m0\n",
    "    sigma_squared_posterior_mean = updated_beta/updated_alpha\n",
    "\n",
    "    mu_estimation = mu_posterior_mean\n",
    "    std_estimation = np.sqrt(sigma_squared_posterior_mean)\n",
    "\n",
    "    return mu_estimation, std_estimation"
   ]
  },
  {
   "cell_type": "markdown",
   "metadata": {},
   "source": [
    "There is one issue we need to fix, i.e., when there is only one observation in `data_full`:"
   ]
  },
  {
   "cell_type": "code",
   "execution_count": 28,
   "metadata": {},
   "outputs": [
    {
     "data": {
      "text/html": [
       "<div>\n",
       "<style scoped>\n",
       "    .dataframe tbody tr th:only-of-type {\n",
       "        vertical-align: middle;\n",
       "    }\n",
       "\n",
       "    .dataframe tbody tr th {\n",
       "        vertical-align: top;\n",
       "    }\n",
       "\n",
       "    .dataframe thead th {\n",
       "        text-align: right;\n",
       "    }\n",
       "</style>\n",
       "<table border=\"1\" class=\"dataframe\">\n",
       "  <thead>\n",
       "    <tr style=\"text-align: right;\">\n",
       "      <th></th>\n",
       "      <th>participant</th>\n",
       "      <th>biomarker</th>\n",
       "      <th>measurement</th>\n",
       "      <th>S_n</th>\n",
       "      <th>Diseased</th>\n",
       "      <th>k_j</th>\n",
       "      <th>affected</th>\n",
       "    </tr>\n",
       "  </thead>\n",
       "  <tbody>\n",
       "    <tr>\n",
       "      <th>933</th>\n",
       "      <td>33</td>\n",
       "      <td>FUS-FCI</td>\n",
       "      <td>-26.125547</td>\n",
       "      <td>10</td>\n",
       "      <td>True</td>\n",
       "      <td>10</td>\n",
       "      <td>True</td>\n",
       "    </tr>\n",
       "  </tbody>\n",
       "</table>\n",
       "</div>"
      ],
      "text/plain": [
       "     participant biomarker  measurement  S_n  Diseased  k_j  affected\n",
       "933           33   FUS-FCI   -26.125547   10      True   10      True"
      ]
     },
     "execution_count": 28,
     "metadata": {},
     "output_type": "execute_result"
    }
   ],
   "source": [
    "participant_stages = np.array([ 6,  5,  3,  4,  8,  8,  6,  0,  9,  4,  7,  8,  8,  2,  2,  4,  8,\n",
    "        2,  6,  5,  7,  3,  4,  6,  7,  8,  0,  0,  5,  7,  2,  9,  0, 10,\n",
    "        1,  7,  3,  3,  7,  2,  0,  6,  4,  0,  2,  0,  8,  6,  5,  7,  6,\n",
    "        9,  8,  3,  7,  9,  6,  9,  8,  9,  9,  1,  0,  5,  2,  7,  5,  7,\n",
    "        8,  8,  7,  5,  6,  9,  3,  5,  2,  3,  5,  1,  8,  7,  3,  5,  7,\n",
    "        0,  7,  4,  3,  6,  5,  0,  2,  0,  4,  1,  5,  1,  6,  1])\n",
    "data_we_have = data.drop(['k_j', 'affected_or_not'], axis = 1)\n",
    "data_we_have = fill_up_data_we_have(data_we_have, participant_stages, participants)\n",
    "data_full = data_we_have[(data_we_have.biomarker == \"FUS-FCI\") & (data_we_have.affected == True)]\n",
    "data_full"
   ]
  },
  {
   "cell_type": "code",
   "execution_count": 29,
   "metadata": {},
   "outputs": [
    {
     "data": {
      "text/plain": [
       "1"
      ]
     },
     "execution_count": 29,
     "metadata": {},
     "output_type": "execute_result"
    }
   ],
   "source": [
    "len(data_full)"
   ]
  },
  {
   "cell_type": "markdown",
   "metadata": {},
   "source": [
    "How to fix this issue? We have to rely on `estimated_means_stds_kmeans.csv`. "
   ]
  },
  {
   "cell_type": "code",
   "execution_count": 30,
   "metadata": {},
   "outputs": [
    {
     "data": {
      "text/html": [
       "<div>\n",
       "<style scoped>\n",
       "    .dataframe tbody tr th:only-of-type {\n",
       "        vertical-align: middle;\n",
       "    }\n",
       "\n",
       "    .dataframe tbody tr th {\n",
       "        vertical-align: top;\n",
       "    }\n",
       "\n",
       "    .dataframe thead th {\n",
       "        text-align: right;\n",
       "    }\n",
       "</style>\n",
       "<table border=\"1\" class=\"dataframe\">\n",
       "  <thead>\n",
       "    <tr style=\"text-align: right;\">\n",
       "      <th></th>\n",
       "      <th>biomarker</th>\n",
       "      <th>theta_mean</th>\n",
       "      <th>theta_std</th>\n",
       "      <th>phi_mean</th>\n",
       "      <th>phi_std</th>\n",
       "    </tr>\n",
       "  </thead>\n",
       "  <tbody>\n",
       "    <tr>\n",
       "      <th>0</th>\n",
       "      <td>MMSE</td>\n",
       "      <td>27.749847</td>\n",
       "      <td>1.080606</td>\n",
       "      <td>21.519517</td>\n",
       "      <td>2.052817</td>\n",
       "    </tr>\n",
       "    <tr>\n",
       "      <th>1</th>\n",
       "      <td>ADAS</td>\n",
       "      <td>-6.848710</td>\n",
       "      <td>2.102802</td>\n",
       "      <td>-20.300459</td>\n",
       "      <td>3.607851</td>\n",
       "    </tr>\n",
       "    <tr>\n",
       "      <th>2</th>\n",
       "      <td>AB</td>\n",
       "      <td>264.695750</td>\n",
       "      <td>33.367857</td>\n",
       "      <td>160.509185</td>\n",
       "      <td>24.250826</td>\n",
       "    </tr>\n",
       "    <tr>\n",
       "      <th>3</th>\n",
       "      <td>P-Tau</td>\n",
       "      <td>-21.009352</td>\n",
       "      <td>16.289284</td>\n",
       "      <td>-70.234372</td>\n",
       "      <td>20.638271</td>\n",
       "    </tr>\n",
       "    <tr>\n",
       "      <th>4</th>\n",
       "      <td>HIP-FCI</td>\n",
       "      <td>5.014734</td>\n",
       "      <td>2.034476</td>\n",
       "      <td>-7.668885</td>\n",
       "      <td>3.316033</td>\n",
       "    </tr>\n",
       "    <tr>\n",
       "      <th>5</th>\n",
       "      <td>HIP-GMI</td>\n",
       "      <td>0.606567</td>\n",
       "      <td>0.193665</td>\n",
       "      <td>0.080034</td>\n",
       "      <td>0.141308</td>\n",
       "    </tr>\n",
       "    <tr>\n",
       "      <th>6</th>\n",
       "      <td>AVLT-Sum</td>\n",
       "      <td>35.518807</td>\n",
       "      <td>10.181715</td>\n",
       "      <td>16.678844</td>\n",
       "      <td>6.135888</td>\n",
       "    </tr>\n",
       "    <tr>\n",
       "      <th>7</th>\n",
       "      <td>PCC-FCI</td>\n",
       "      <td>13.109337</td>\n",
       "      <td>2.370943</td>\n",
       "      <td>5.201028</td>\n",
       "      <td>2.594366</td>\n",
       "    </tr>\n",
       "    <tr>\n",
       "      <th>8</th>\n",
       "      <td>FUS-GMI</td>\n",
       "      <td>0.592786</td>\n",
       "      <td>0.051816</td>\n",
       "      <td>0.449570</td>\n",
       "      <td>0.046020</td>\n",
       "    </tr>\n",
       "    <tr>\n",
       "      <th>9</th>\n",
       "      <td>FUS-FCI</td>\n",
       "      <td>-24.399193</td>\n",
       "      <td>3.457663</td>\n",
       "      <td>-14.359324</td>\n",
       "      <td>3.808322</td>\n",
       "    </tr>\n",
       "  </tbody>\n",
       "</table>\n",
       "</div>"
      ],
      "text/plain": [
       "  biomarker  theta_mean  theta_std    phi_mean    phi_std\n",
       "0      MMSE   27.749847   1.080606   21.519517   2.052817\n",
       "1      ADAS   -6.848710   2.102802  -20.300459   3.607851\n",
       "2        AB  264.695750  33.367857  160.509185  24.250826\n",
       "3     P-Tau  -21.009352  16.289284  -70.234372  20.638271\n",
       "4   HIP-FCI    5.014734   2.034476   -7.668885   3.316033\n",
       "5   HIP-GMI    0.606567   0.193665    0.080034   0.141308\n",
       "6  AVLT-Sum   35.518807  10.181715   16.678844   6.135888\n",
       "7   PCC-FCI   13.109337   2.370943    5.201028   2.594366\n",
       "8   FUS-GMI    0.592786   0.051816    0.449570   0.046020\n",
       "9   FUS-FCI  -24.399193   3.457663  -14.359324   3.808322"
      ]
     },
     "execution_count": 30,
     "metadata": {},
     "output_type": "execute_result"
    }
   ],
   "source": [
    "theta_phi_kmeans"
   ]
  },
  {
   "cell_type": "code",
   "execution_count": 31,
   "metadata": {},
   "outputs": [
    {
     "data": {
      "text/plain": [
       "27.74984661512872"
      ]
     },
     "execution_count": 31,
     "metadata": {},
     "output_type": "execute_result"
    }
   ],
   "source": [
    "theta_phi_kmeans[theta_phi_kmeans.biomarker == 'MMSE']['theta_mean'][0]"
   ]
  },
  {
   "cell_type": "code",
   "execution_count": 32,
   "metadata": {},
   "outputs": [],
   "source": [
    "def get_estimated_means_stds_df(biomarkers, data_we_have, theta_phi_kmeans):\n",
    "    '''To get estimated parameters, returns a Pandas DataFrame\n",
    "    Input:\n",
    "    - biomarkers: biomarkers \n",
    "    - data_we_have: participants data filled with initial or updated participant_stages\n",
    "\n",
    "    Output: \n",
    "    - estimate_means_std_df, just like means_stds_df, containing the estimated mean and std_dev for \n",
    "      distribution of biomarker values when the biomarker is affected and not affected\n",
    "\n",
    "    Note that, there is one bug we need to fix: Sometimes, data_full might have only one observation or no ob\n",
    "    '''\n",
    "     # empty list of dictionaries to store the estimates \n",
    "    means_stds_estimate_dict_list = []\n",
    "    \n",
    "    for biomarker in biomarkers: \n",
    "        dic = {'biomarker': biomarker}  # Initialize dictionary outside the inner loop\n",
    "        for affected in [True, False]:\n",
    "            data_full = data_we_have[(data_we_have.biomarker == biomarker) & (\n",
    "            data_we_have.affected == affected)]\n",
    "            if len(data_full) > 1:\n",
    "                data = data_full.measurement\n",
    "                mu_estimate, std_estimate = estimate_params_exact(\n",
    "                    m0 = 0, n0 = 1, s0_sq = 1, v0 = 1, data=data)\n",
    "                if affected:\n",
    "                    dic['theta_mean'] = mu_estimate\n",
    "                    dic['theta_std'] = std_estimate\n",
    "                else:\n",
    "                    dic['phi_mean'] = mu_estimate\n",
    "                    dic['phi_std'] = std_estimate\n",
    "            # If there is only one observation, resort to theta_phi_kmeans\n",
    "            else:\n",
    "                theta_phi_kmeans_biomarker_row = theta_phi_kmeans[theta_phi_kmeans.biomarker == biomarker]\n",
    "                if affected:\n",
    "                    dic['theta_mean'] = theta_phi_kmeans_biomarker_row['theta_mean'][0]\n",
    "                    dic['theta_std'] = theta_phi_kmeans_biomarker_row['theta_std'][0]\n",
    "                else:\n",
    "                    dic['phi_mean'] = theta_phi_kmeans_biomarker_row['phi_mean'][0]\n",
    "                    dic['phi_std'] = theta_phi_kmeans_biomarker_row['phi_std'][0]\n",
    "        # print(f\"biomarker {biomarker} done!\")\n",
    "        means_stds_estimate_dict_list.append(dic)\n",
    "    estimate_means_stds_df = pd.DataFrame(means_stds_estimate_dict_list)\n",
    "    return estimate_means_stds_df "
   ]
  },
  {
   "cell_type": "markdown",
   "metadata": {},
   "source": [
    "### Randomized initilization\n",
    "\n",
    "A potential bug occurs here: suppose in one iteration, among `participant_stages`, there is only one participant whose stage is $10$. In this situation, biomarker FUS-FCI which corresponses to stage 10, has only one measurement for `affected==True`, and we cannot obtain the std of FUS-FCI. "
   ]
  },
  {
   "cell_type": "code",
   "execution_count": 33,
   "metadata": {},
   "outputs": [
    {
     "data": {
      "text/plain": [
       "11"
      ]
     },
     "execution_count": 33,
     "metadata": {},
     "output_type": "execute_result"
    }
   ],
   "source": [
    "num_stages"
   ]
  },
  {
   "cell_type": "code",
   "execution_count": 34,
   "metadata": {},
   "outputs": [],
   "source": [
    "# initialize participant_stages \n",
    "# num_stages = 11 as earlier defined\n",
    "participant_stages = np.random.randint(low = 0, high = num_stages, size = len(participants))\n",
    "\n",
    "# this is what we already know\n",
    "participant_stages[non_diseased_participants] = 0"
   ]
  },
  {
   "cell_type": "code",
   "execution_count": 35,
   "metadata": {},
   "outputs": [],
   "source": [
    "def count_10s(array):\n",
    "    \"\"\"Count how many 10 are in an array\n",
    "    \"\"\"\n",
    "    return np.count_nonzero(array == 10)\n",
    "\n",
    "def df_contains_nan(df):\n",
    "    \"\"\"check whether a dataframe contains nan \n",
    "    \"\"\"\n",
    "    return df.isnull().values.any()"
   ]
  },
  {
   "cell_type": "code",
   "execution_count": 36,
   "metadata": {},
   "outputs": [
    {
     "data": {
      "text/plain": [
       "7"
      ]
     },
     "execution_count": 36,
     "metadata": {},
     "output_type": "execute_result"
    }
   ],
   "source": [
    "count_10s(actual_stages)"
   ]
  },
  {
   "cell_type": "code",
   "execution_count": 37,
   "metadata": {},
   "outputs": [],
   "source": [
    "for i in range(num_iterations):\n",
    "    # print(f\"Number of participants in stage 10: {count_10s(participant_stages)}\")\n",
    "    # fill up data_we_have with the current participant_stages\n",
    "    data_we_have = fill_up_data_we_have(data_we_have, participant_stages, participants)\n",
    "    estimated_means_stds_df = get_estimated_means_stds_df(biomarkers, data_we_have, theta_phi_kmeans)\n",
    "    # print(f\"There are nan values in estimated_means_stds_df: {df_contains_nan(estimated_means_stds_df)}\")\n",
    "    for p in participants:\n",
    "        # update participant_stages ONLY IF we do NOT know its k_j\n",
    "        if p not in non_diseased_participants:\n",
    "            p_data = data_we_have[data_we_have.participant == p].reset_index(drop=True)\n",
    "            # initiaze stage_likelihood\n",
    "            stage_likelihood = np.zeros(num_stages)\n",
    "            # note that it should be [0, 10]\n",
    "            for k in range(num_stages):\n",
    "            # [0, 10] Note that k CAN be 0\n",
    "                likelihood = compute_likelihood(p_data, k, theta_phi = estimated_means_stds_df)\n",
    "                stage_likelihood[k] = likelihood\n",
    "            likelihood_sum = np.sum(stage_likelihood)\n",
    "            try:\n",
    "                normalized_stage_likelihood = [l/likelihood_sum for l in stage_likelihood]\n",
    "            except:\n",
    "                print(stage_likelihood)\n",
    "            sampled_stage = np.random.choice(np.arange(num_stages), p = normalized_stage_likelihood)\n",
    "            participant_stages[p] = sampled_stage   \n",
    "    # print(i)      \n",
    "    if (i+1) % 10 == 0:\n",
    "        print(f\"iteration {i + 1} done\")"
   ]
  },
  {
   "cell_type": "code",
   "execution_count": 38,
   "metadata": {},
   "outputs": [],
   "source": [
    "# estimated_means_stds_df = get_estimated_means_stds_df(biomarkers, data_we_have)\n",
    "# estimated_means_stds_df"
   ]
  },
  {
   "cell_type": "markdown",
   "metadata": {},
   "source": [
    "### Result after gibbs sampling"
   ]
  },
  {
   "cell_type": "code",
   "execution_count": 39,
   "metadata": {},
   "outputs": [
    {
     "data": {
      "image/png": "[encoded data removed]",
      "text/plain": [
       "<Figure size 1000x600 with 1 Axes>"
      ]
     },
     "metadata": {},
     "output_type": "display_data"
    }
   ],
   "source": [
    "estimated_stages = participant_stages\n",
    "actual_stages = np.array(list(actual_participant_stage_dic.values()))\n",
    "differences = estimated_stages - actual_stages\n",
    "scatter_plot_of_stage_differences(differences)"
   ]
  },
  {
   "cell_type": "markdown",
   "metadata": {},
   "source": [
    "### Trying initializing participant stages as the actual stages\n",
    "\n",
    "We can see that if we initlize participant stages as the actual stages, the result is much better. "
   ]
  },
  {
   "cell_type": "code",
   "execution_count": 40,
   "metadata": {},
   "outputs": [],
   "source": [
    "participant_stages = actual_stages\n",
    "for i in range(num_iterations):\n",
    "    # fill up data_we_have with current participant_stages\n",
    "    data_we_have = fill_up_data_we_have(data_we_have, participant_stages, participants)\n",
    "    estimated_means_stds_df = get_estimated_means_stds_df(biomarkers, data_we_have, theta_phi_kmeans)\n",
    "    for p in participants:\n",
    "        p_data = data_we_have[data_we_have.participant == p].reset_index(drop=True)\n",
    "        # initiaze stage_likelihood\n",
    "        stage_likelihood = np.zeros(num_stages)\n",
    "        # note that it is [0, 10]\n",
    "        for k in range(num_stages):\n",
    "            likelihood = compute_likelihood(p_data, k, theta_phi = estimated_means_stds_df)\n",
    "            stage_likelihood[k] = likelihood\n",
    "        likelihood_sum = np.sum(stage_likelihood)\n",
    "        normalized_stage_likelihood = [l/likelihood_sum for l in stage_likelihood]\n",
    "        sampled_stage = np.random.choice(np.arange(num_stages), p = normalized_stage_likelihood)\n",
    "        participant_stages[p] = sampled_stage         \n",
    "    if (i+1) % 10 == 0:\n",
    "        print(f\"iteration {i + 1} done\")"
   ]
  },
  {
   "cell_type": "code",
   "execution_count": 41,
   "metadata": {},
   "outputs": [
    {
     "data": {
      "image/png": "[encoded data removed]",
      "text/plain": [
       "<Figure size 1000x600 with 1 Axes>"
      ]
     },
     "metadata": {},
     "output_type": "display_data"
    }
   ],
   "source": [
    "estimated_stages = participant_stages\n",
    "actual_stages = np.array(list(actual_participant_stage_dic.values()))\n",
    "differences = estimated_stages - actual_stages\n",
    "scatter_plot_of_stage_differences(differences)"
   ]
  },
  {
   "cell_type": "markdown",
   "metadata": {},
   "source": [
    "## Conclusions\n",
    "\n",
    "It seems that:\n",
    "1. Having the actual participant stages as the initial stage won't help the final result a lot. \n",
    "2. Having 100 iterations won't generate a much better result than having 10 iterations. "
   ]
  }
 ],
 "metadata": {
  "kernelspec": {
   "display_name": "bayes",
   "language": "python",
   "name": "python3"
  },
  "language_info": {
   "codemirror_mode": {
    "name": "ipython",
    "version": 3
   },
   "file_extension": ".py",
   "mimetype": "text/x-python",
   "name": "python",
   "nbconvert_exporter": "python",
   "pygments_lexer": "ipython3",
   "version": "3.8.19"
  }
 },
 "nbformat": 4,
 "nbformat_minor": 2
}