{
 "cells": [
  {
   "cell_type": "markdown",
   "metadata": {},
   "source": [
    "# Estimating $k_j$\n",
    "\n",
    ">Next, I'd get it working with less and less information assumed to be known. You could either start inferring the participant's stage of disease or the order for biomarkers next. I'd probably do the participant's state of disease.\n",
    "\n",
    ">For the stage of disease for a participant, I'd do probably derive a gibbs sampling step by calculating each stage's relative likelihood based on the probabilities of the biomarker values ASSUMING they are at that stage. Then you normalize and sample from that discrete distribution.  \n",
    "\n",
    "## Known $\\theta$ and $\\phi$\n",
    "\n",
    "First, let us assume that we know $\\theta$ and $\\phi$. We also know at which disease stage a biomarker is affected. Basically, in the `data` below, we do not have these two columns: `k_j` and `affected_or_not`. \n",
    "\n",
    "For each participant, I will iterate through all possible stages. For each stage, I will calculate the likelihood of seeing the observed biomarker sequence of values using the following formula:\n",
    "\n",
    "$$p(X_{j} | S , z_j = 1, k_j) = \\prod_{i=1}^{k_j}{p(X_{S(i)j} \\mid \\theta_n )} \\prod_{i=k_j+1}^N{p(X_{S(i)j} \\mid \\phi_n)}$$\n",
    "\n",
    "Then the stage associated with the maximum likelihood will be the estimated disease stage for this participant. \n"
   ]
  },
  {
   "cell_type": "code",
   "execution_count": 87,
   "metadata": {},
   "outputs": [
    {
     "data": {
      "text/html": [
       "<div>\n",
       "<style scoped>\n",
       "    .dataframe tbody tr th:only-of-type {\n",
       "        vertical-align: middle;\n",
       "    }\n",
       "\n",
       "    .dataframe tbody tr th {\n",
       "        vertical-align: top;\n",
       "    }\n",
       "\n",
       "    .dataframe thead th {\n",
       "        text-align: right;\n",
       "    }\n",
       "</style>\n",
       "<table border=\"1\" class=\"dataframe\">\n",
       "  <thead>\n",
       "    <tr style=\"text-align: right;\">\n",
       "      <th></th>\n",
       "      <th>Biomarker</th>\n",
       "      <th>participant</th>\n",
       "      <th>measurement</th>\n",
       "      <th>k_j</th>\n",
       "      <th>S_n</th>\n",
       "      <th>affected_or_not</th>\n",
       "    </tr>\n",
       "  </thead>\n",
       "  <tbody>\n",
       "    <tr>\n",
       "      <th>0</th>\n",
       "      <td>0</td>\n",
       "      <td>0</td>\n",
       "      <td>0.457546</td>\n",
       "      <td>8</td>\n",
       "      <td>7</td>\n",
       "      <td>affected</td>\n",
       "    </tr>\n",
       "    <tr>\n",
       "      <th>1</th>\n",
       "      <td>0</td>\n",
       "      <td>1</td>\n",
       "      <td>1.103317</td>\n",
       "      <td>7</td>\n",
       "      <td>7</td>\n",
       "      <td>affected</td>\n",
       "    </tr>\n",
       "    <tr>\n",
       "      <th>2</th>\n",
       "      <td>0</td>\n",
       "      <td>2</td>\n",
       "      <td>1.380441</td>\n",
       "      <td>9</td>\n",
       "      <td>7</td>\n",
       "      <td>affected</td>\n",
       "    </tr>\n",
       "    <tr>\n",
       "      <th>3</th>\n",
       "      <td>0</td>\n",
       "      <td>3</td>\n",
       "      <td>14.069878</td>\n",
       "      <td>3</td>\n",
       "      <td>7</td>\n",
       "      <td>not_affected</td>\n",
       "    </tr>\n",
       "    <tr>\n",
       "      <th>4</th>\n",
       "      <td>0</td>\n",
       "      <td>4</td>\n",
       "      <td>11.457832</td>\n",
       "      <td>0</td>\n",
       "      <td>7</td>\n",
       "      <td>not_affected</td>\n",
       "    </tr>\n",
       "  </tbody>\n",
       "</table>\n",
       "</div>"
      ],
      "text/plain": [
       "  Biomarker  participant  measurement  k_j  S_n affected_or_not\n",
       "0         0            0     0.457546    8    7        affected\n",
       "1         0            1     1.103317    7    7        affected\n",
       "2         0            2     1.380441    9    7        affected\n",
       "3         0            3    14.069878    3    7    not_affected\n",
       "4         0            4    11.457832    0    7    not_affected"
      ]
     },
     "execution_count": 87,
     "metadata": {},
     "output_type": "execute_result"
    }
   ],
   "source": [
    "import pandas as pd \n",
    "import numpy as np \n",
    "import re \n",
    "import altair as alt \n",
    "import matplotlib.pyplot as plt \n",
    "data = pd.read_csv('data/participant_data.csv')\n",
    "data.Biomarker = [re.sub(\"Biomarker \", \"\", text) for text in data.Biomarker.tolist()]\n",
    "data.head()\n",
    "# but remember that we do not know k_j which is what we are trying to estimate. "
   ]
  },
  {
   "cell_type": "code",
   "execution_count": 73,
   "metadata": {},
   "outputs": [
    {
     "data": {
      "text/html": [
       "<div>\n",
       "<style scoped>\n",
       "    .dataframe tbody tr th:only-of-type {\n",
       "        vertical-align: middle;\n",
       "    }\n",
       "\n",
       "    .dataframe tbody tr th {\n",
       "        vertical-align: top;\n",
       "    }\n",
       "\n",
       "    .dataframe thead th {\n",
       "        text-align: right;\n",
       "    }\n",
       "</style>\n",
       "<table border=\"1\" class=\"dataframe\">\n",
       "  <thead>\n",
       "    <tr style=\"text-align: right;\">\n",
       "      <th></th>\n",
       "      <th>biomarker</th>\n",
       "      <th>theta_mean</th>\n",
       "      <th>theta_var</th>\n",
       "      <th>phi_mean</th>\n",
       "      <th>phi_var</th>\n",
       "    </tr>\n",
       "  </thead>\n",
       "  <tbody>\n",
       "    <tr>\n",
       "      <th>0</th>\n",
       "      <td>0</td>\n",
       "      <td>1.0</td>\n",
       "      <td>0.3</td>\n",
       "      <td>12.0</td>\n",
       "      <td>1.3</td>\n",
       "    </tr>\n",
       "    <tr>\n",
       "      <th>1</th>\n",
       "      <td>1</td>\n",
       "      <td>3.0</td>\n",
       "      <td>0.5</td>\n",
       "      <td>11.0</td>\n",
       "      <td>2.4</td>\n",
       "    </tr>\n",
       "    <tr>\n",
       "      <th>2</th>\n",
       "      <td>2</td>\n",
       "      <td>5.0</td>\n",
       "      <td>0.2</td>\n",
       "      <td>14.0</td>\n",
       "      <td>1.4</td>\n",
       "    </tr>\n",
       "    <tr>\n",
       "      <th>3</th>\n",
       "      <td>3</td>\n",
       "      <td>6.0</td>\n",
       "      <td>1.3</td>\n",
       "      <td>16.0</td>\n",
       "      <td>0.9</td>\n",
       "    </tr>\n",
       "    <tr>\n",
       "      <th>4</th>\n",
       "      <td>4</td>\n",
       "      <td>8.0</td>\n",
       "      <td>3.3</td>\n",
       "      <td>18.0</td>\n",
       "      <td>1.5</td>\n",
       "    </tr>\n",
       "  </tbody>\n",
       "</table>\n",
       "</div>"
      ],
      "text/plain": [
       "   biomarker  theta_mean  theta_var  phi_mean  phi_var\n",
       "0          0         1.0        0.3      12.0      1.3\n",
       "1          1         3.0        0.5      11.0      2.4\n",
       "2          2         5.0        0.2      14.0      1.4\n",
       "3          3         6.0        1.3      16.0      0.9\n",
       "4          4         8.0        3.3      18.0      1.5"
      ]
     },
     "execution_count": 73,
     "metadata": {},
     "output_type": "execute_result"
    }
   ],
   "source": [
    "theta_phi = pd.read_csv('data/means_vars.csv')\n",
    "theta_phi.head()"
   ]
  },
  {
   "cell_type": "code",
   "execution_count": 74,
   "metadata": {},
   "outputs": [],
   "source": [
    "def compute_likelihood(theta_phi, biomarker, affected, measurement):\n",
    "    '''Computes the likelihood of the given measurement data\n",
    "    We know the normal distribution defined by either theta or phi\n",
    "    and we know the measurement. This will give us the probability\n",
    "    of the given measurement. \n",
    "\n",
    "    input:\n",
    "    - theta_phi: the dataframe containing theta and phi values for each biomarker\n",
    "    - biomarker: an integer between 0 and 9 \n",
    "    - affected: boolean \n",
    "    - measurement: the observed value for a biomarker in a specific participant\n",
    "\n",
    "    output: a number \n",
    "    '''\n",
    "    biomarker_params = theta_phi[theta_phi.biomarker == biomarker].reset_index()\n",
    "    mu = biomarker_params['theta_mean'][0] if affected else biomarker_params['phi_mean'][0]\n",
    "    var = biomarker_params['theta_var'][0] if affected else biomarker_params['phi_var'][0]\n",
    "    sigma = np.sqrt(var)\n",
    "    return np.exp(-(measurement - mu)**2/(2*sigma**2))/np.sqrt(2*np.pi*sigma**2)"
   ]
  },
  {
   "cell_type": "code",
   "execution_count": 75,
   "metadata": {},
   "outputs": [
    {
     "data": {
      "text/plain": [
       "7"
      ]
     },
     "execution_count": 75,
     "metadata": {},
     "output_type": "execute_result"
    }
   ],
   "source": [
    "p_data = data[data.participant == 1].reset_index(drop= True)\n",
    "p_data.k_j[0]\n",
    "# biomarker_data = p_data[p_data.Biomarker == str(0)].reset_index(drop=True)\n",
    "# biomarker_data"
   ]
  },
  {
   "cell_type": "code",
   "execution_count": 76,
   "metadata": {},
   "outputs": [],
   "source": [
    "biomarkers = np.random.randint(0, 10, size = 10)\n",
    "participants = data.participant.unique()\n",
    "num_iterations = 1000\n",
    "num_stages = len(data.S_n.unique())\n",
    "estimated_stage_dic = {}\n",
    "actual_stage_dic = {}\n",
    "\n",
    "# stages = np.random.randint(0, num_stages, len(participants))\n",
    "\n",
    "for p in participants:\n",
    "    p_data = data[data.participant == p].reset_index(drop=True)\n",
    "    actual_stage_dic[p] = p_data.k_j[0]\n",
    "    stage_likelihood = np.zeros(num_stages)\n",
    "    # assume participant is in this stage; compute the likelihood of seeing \n",
    "    # this sequence of observed biomarker measuremen\n",
    "    # [0, 9]\n",
    "    for k in range(num_stages):\n",
    "        likelihood = 1 \n",
    "        for biomarker in biomarkers:\n",
    "            biomaker_data = p_data[p_data.Biomarker == str(biomarker)].reset_index(drop=True)\n",
    "            measurement = biomaker_data.measurement[0]\n",
    "            biomarker_stage = biomaker_data.S_n[0]\n",
    "            affected = k >= biomarker_stage\n",
    "            # the final updated likelihood is the likelihood of seeing \n",
    "            # this sequence of data of the total number of biomarkers \n",
    "\n",
    "            # This is using the equation here: https://ebm-book2.vercel.app/distributions.html#known-k-j\n",
    "            likelihood *= compute_likelihood(\n",
    "                theta_phi, biomarker, affected, measurement\n",
    "            )\n",
    "\n",
    "            # if the participant is in this stage, what is the likelihood of seeing this \n",
    "            # sequence of values\n",
    "            stage_likelihood[k] = likelihood\n",
    "    max_likelihood_stage = pd.Series(stage_likelihood).idxmax()\n",
    "    estimated_stage_dic[p] = max_likelihood_stage           "
   ]
  },
  {
   "cell_type": "code",
   "execution_count": 92,
   "metadata": {},
   "outputs": [],
   "source": [
    "estimated_stages = np.array(list(estimated_stage_dic.values()))\n",
    "actual_stages = np.array(list(actual_stage_dic.values()))\n",
    "differences = estimated_stages - actual_stages\n",
    "# difference_df = pd.DataFrame(differences, columns=['discrepancy']).reset_index(names = ['participant'])\n",
    "# difference_df.head()\n",
    "# alt.Chart(difference_df).mark_circle(size = 60).encode(\n",
    "#     x = \"participant\",\n",
    "#     y = 'discrepancy'\n",
    "# )"
   ]
  },
  {
   "cell_type": "code",
   "execution_count": 93,
   "metadata": {},
   "outputs": [
    {
     "data": {
      "image/png": "[encoded data removed]",
      "text/plain": [
       "<Figure size 1000x600 with 1 Axes>"
      ]
     },
     "metadata": {},
     "output_type": "display_data"
    }
   ],
   "source": [
    "# 2. Scatter Plot of the Differences at each index\n",
    "plt.figure(figsize=(10, 6))\n",
    "plt.scatter(range(100), differences, alpha=0.6)\n",
    "plt.axhline(y=0, color='red', linestyle='--')\n",
    "plt.title(\"Scatter Plot of Differences at Each Index\")\n",
    "plt.xlabel(\"Index\")\n",
    "plt.ylabel(\"Difference (Estimated - Original)\")\n",
    "plt.grid(True)\n",
    "plt.show()\n"
   ]
  }
 ],
 "metadata": {
  "kernelspec": {
   "display_name": "bayes",
   "language": "python",
   "name": "python3"
  },
  "language_info": {
   "codemirror_mode": {
    "name": "ipython",
    "version": 3
   },
   "file_extension": ".py",
   "mimetype": "text/x-python",
   "name": "python",
   "nbconvert_exporter": "python",
   "pygments_lexer": "ipython3",
   "version": "3.8.19"
  }
 },
 "nbformat": 4,
 "nbformat_minor": 2
}
