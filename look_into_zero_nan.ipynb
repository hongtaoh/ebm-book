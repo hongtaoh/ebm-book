{
 "cells": [
  {
   "cell_type": "code",
   "execution_count": 1,
   "metadata": {},
   "outputs": [],
   "source": [
    "# import sys\n",
    "# import os\n",
    "# # Get the current working directory\n",
    "# current_dir = os.getcwd()\n",
    "# # Get the parent directory\n",
    "# parent_dir = os.path.abspath(os.path.join(current_dir, '..'))\n",
    "# # Add the parent directory to sys.path\n",
    "# sys.path.insert(0, parent_dir)\n",
    "# # Now you can import the module\n",
    "import eval\n",
    "import utils \n",
    "import pandas as pd \n",
    "import numpy as np \n"
   ]
  },
  {
   "cell_type": "code",
   "execution_count": 2,
   "metadata": {},
   "outputs": [
    {
     "data": {
      "text/html": [
       "<div>\n",
       "<style scoped>\n",
       "    .dataframe tbody tr th:only-of-type {\n",
       "        vertical-align: middle;\n",
       "    }\n",
       "\n",
       "    .dataframe tbody tr th {\n",
       "        vertical-align: top;\n",
       "    }\n",
       "\n",
       "    .dataframe thead th {\n",
       "        text-align: right;\n",
       "    }\n",
       "</style>\n",
       "<table border=\"1\" class=\"dataframe\">\n",
       "  <thead>\n",
       "    <tr style=\"text-align: right;\">\n",
       "      <th></th>\n",
       "      <th>participant_category</th>\n",
       "      <th>participant</th>\n",
       "      <th>timestamp</th>\n",
       "      <th>diseased</th>\n",
       "      <th>biomarker</th>\n",
       "      <th>measurement</th>\n",
       "    </tr>\n",
       "  </thead>\n",
       "  <tbody>\n",
       "    <tr>\n",
       "      <th>0</th>\n",
       "      <td>CN</td>\n",
       "      <td>0</td>\n",
       "      <td>6/2/2011</td>\n",
       "      <td>False</td>\n",
       "      <td>FCI(HIP)</td>\n",
       "      <td>-2.544567</td>\n",
       "    </tr>\n",
       "    <tr>\n",
       "      <th>1</th>\n",
       "      <td>CN</td>\n",
       "      <td>1</td>\n",
       "      <td>9/2/2011</td>\n",
       "      <td>False</td>\n",
       "      <td>FCI(HIP)</td>\n",
       "      <td>-1.603212</td>\n",
       "    </tr>\n",
       "    <tr>\n",
       "      <th>2</th>\n",
       "      <td>CN</td>\n",
       "      <td>2</td>\n",
       "      <td>10/11/2011</td>\n",
       "      <td>False</td>\n",
       "      <td>FCI(HIP)</td>\n",
       "      <td>-4.716009</td>\n",
       "    </tr>\n",
       "    <tr>\n",
       "      <th>3</th>\n",
       "      <td>CN</td>\n",
       "      <td>3</td>\n",
       "      <td>8/8/2011</td>\n",
       "      <td>False</td>\n",
       "      <td>FCI(HIP)</td>\n",
       "      <td>-4.232625</td>\n",
       "    </tr>\n",
       "    <tr>\n",
       "      <th>4</th>\n",
       "      <td>CN</td>\n",
       "      <td>4</td>\n",
       "      <td>11/28/2011</td>\n",
       "      <td>False</td>\n",
       "      <td>FCI(HIP)</td>\n",
       "      <td>3.628361</td>\n",
       "    </tr>\n",
       "  </tbody>\n",
       "</table>\n",
       "</div>"
      ],
      "text/plain": [
       "  participant_category  participant      timestamp  diseased biomarker  \\\n",
       "0                   CN            0     6/2/2011       False  FCI(HIP)   \n",
       "1                   CN            1     9/2/2011       False  FCI(HIP)   \n",
       "2                   CN            2   10/11/2011       False  FCI(HIP)   \n",
       "3                   CN            3     8/8/2011       False  FCI(HIP)   \n",
       "4                   CN            4   11/28/2011       False  FCI(HIP)   \n",
       "\n",
       "   measurement  \n",
       "0    -2.544567  \n",
       "1    -1.603212  \n",
       "2    -4.716009  \n",
       "3    -4.232625  \n",
       "4     3.628361  "
      ]
     },
     "execution_count": 2,
     "metadata": {},
     "output_type": "execute_result"
    }
   ],
   "source": [
    "data_we_have = eval.get_data_we_have(\"Chen Data\")\n",
    "data_we_have.head()"
   ]
  },
  {
   "cell_type": "code",
   "execution_count": 3,
   "metadata": {},
   "outputs": [],
   "source": [
    "n_participants = len(data_we_have.participant.unique())\n",
    "biomarkers = data_we_have.biomarker.unique()\n",
    "n_biomarkers = len(biomarkers)\n",
    "n_stages = n_biomarkers + 1\n",
    "non_diseased_participant_ids = data_we_have.loc[\n",
    "    data_we_have.diseased == False].participant.unique()\n",
    "diseased_stages = np.arange(start = 1, stop = n_stages, step = 1)"
   ]
  },
  {
   "cell_type": "code",
   "execution_count": 4,
   "metadata": {},
   "outputs": [
    {
     "data": {
      "text/plain": [
       "array(['FCI(HIP)', 'GMI(HIP)', 'FCI(Fusi)', 'FCI(PCC)', 'GMI(FUS)'],\n",
       "      dtype=object)"
      ]
     },
     "execution_count": 4,
     "metadata": {},
     "output_type": "execute_result"
    }
   ],
   "source": [
    "biomarkers"
   ]
  },
  {
   "cell_type": "code",
   "execution_count": 5,
   "metadata": {},
   "outputs": [
    {
     "data": {
      "text/plain": [
       "array([ 0,  1,  2,  3,  4,  5,  6,  7,  8,  9, 10, 11, 12, 13, 14, 15, 16,\n",
       "       17, 18, 19, 20, 21, 22, 23, 24, 25, 26, 27, 28, 29, 30, 31, 32, 33,\n",
       "       34, 35, 36, 37, 38, 39, 40, 41, 42, 43, 44])"
      ]
     },
     "execution_count": 5,
     "metadata": {},
     "output_type": "execute_result"
    }
   ],
   "source": [
    "non_diseased_participant_ids"
   ]
  },
  {
   "cell_type": "code",
   "execution_count": 6,
   "metadata": {},
   "outputs": [],
   "source": [
    "# obtain the iniial theta and phi estimates\n",
    "theta_phi_estimates = utils.get_theta_phi_estimates(\n",
    "    data_we_have, \n",
    "    biomarkers, \n",
    "    n_clusters = 2,\n",
    "    method = \"kmeans_only\"\n",
    ")"
   ]
  },
  {
   "cell_type": "code",
   "execution_count": 7,
   "metadata": {},
   "outputs": [
    {
     "data": {
      "text/plain": [
       "{'FCI(HIP)': {'biomarker': 'FCI(HIP)',\n",
       "  'theta_mean': 2.794917625,\n",
       "  'theta_std': 2.98306574670749,\n",
       "  'phi_mean': -5.5467342625,\n",
       "  'phi_std': 2.8879831330080417},\n",
       " 'GMI(HIP)': {'biomarker': 'GMI(HIP)',\n",
       "  'theta_mean': 0.34177775,\n",
       "  'theta_std': 0.054570909143271694,\n",
       "  'phi_mean': 0.48224531818181815,\n",
       "  'phi_std': 0.03770391154730424},\n",
       " 'FCI(Fusi)': {'biomarker': 'FCI(Fusi)',\n",
       "  'theta_mean': -19.76701769565217,\n",
       "  'theta_std': 4.183856110793558,\n",
       "  'phi_mean': -10.216921918367348,\n",
       "  'phi_std': 3.0212944958761407},\n",
       " 'FCI(PCC)': {'biomarker': 'FCI(PCC)',\n",
       "  'theta_mean': 11.5831335625,\n",
       "  'theta_std': 3.358986644655652,\n",
       "  'phi_mean': 1.781998375,\n",
       "  'phi_std': 3.292063019837533},\n",
       " 'GMI(FUS)': {'biomarker': 'GMI(FUS)',\n",
       "  'theta_mean': 0.45710670731707315,\n",
       "  'theta_std': 0.04466654633967503,\n",
       "  'phi_mean': 0.5691499611650485,\n",
       "  'phi_std': 0.035734410895616346}}"
      ]
     },
     "execution_count": 7,
     "metadata": {},
     "output_type": "execute_result"
    }
   ],
   "source": [
    "theta_phi_estimates"
   ]
  },
  {
   "cell_type": "code",
   "execution_count": 8,
   "metadata": {},
   "outputs": [],
   "source": [
    "# truth = pd.read_csv(\"data/means_stds.csv\")\n",
    "# truth"
   ]
  },
  {
   "cell_type": "code",
   "execution_count": 9,
   "metadata": {},
   "outputs": [],
   "source": [
    "current_accepted_order = np.random.permutation(np.arange(1, n_stages))\n",
    "current_accepted_order_dict = dict(zip(biomarkers, current_accepted_order))\n",
    "current_accepted_likelihood = -np.inf"
   ]
  },
  {
   "cell_type": "code",
   "execution_count": 10,
   "metadata": {},
   "outputs": [],
   "source": [
    "iterations = 100"
   ]
  },
  {
   "cell_type": "markdown",
   "metadata": {},
   "source": [
    "## Iteration"
   ]
  },
  {
   "cell_type": "code",
   "execution_count": 11,
   "metadata": {},
   "outputs": [],
   "source": [
    "# for i in range(iterations):\n",
    "#     new_order = current_accepted_order.copy()\n",
    "#     utils.shuffle_order(new_order, n_shuffle=2)\n",
    "#     current_order_dict = dict(zip(biomarkers, new_order))\n",
    "\n",
    "#     all_ll, hashmap = utils.calculate_all_participant_ln_likelihood_and_update_hashmap(\n",
    "#         data_we_have,\n",
    "#         current_order_dict,\n",
    "#         n_participants,\n",
    "#         non_diseased_participant_ids,\n",
    "#         theta_phi_estimates,\n",
    "#         diseased_stages,\n",
    "#     )   \n",
    "\n",
    "#     theta_phi_estimates = utils.soft_kmeans_theta_phi_estimates(\n",
    "#         i,\n",
    "#         data_we_have, \n",
    "#         biomarkers, \n",
    "#         current_order_dict, \n",
    "#         n_participants, \n",
    "#         non_diseased_participant_ids, \n",
    "#         hashmap, \n",
    "#         diseased_stages, \n",
    "#         seed=1234\n",
    "#     )\n",
    "\n",
    "#     prob_of_accepting_new_order = np.exp(\n",
    "#         all_ll - current_accepted_likelihood)\n",
    "\n",
    "#     # it will definitly update at the first iteration\n",
    "#     if np.random.rand() < prob_of_accepting_new_order:\n",
    "#         print(\"change now\")\n",
    "#         current_accepted_order = new_order\n",
    "#         current_accepted_likelihood = all_ll\n",
    "#         current_accepted_order_dict = current_order_dict\n",
    "#     print(f\"iteration {i+1} done!\")\n",
    "#     print(theta_phi_estimates)"
   ]
  },
  {
   "cell_type": "code",
   "execution_count": 12,
   "metadata": {},
   "outputs": [],
   "source": [
    "# new_order = current_accepted_order.copy()\n",
    "# # random.shuffle(new_order)\n",
    "# utils.shuffle_order(new_order, n_shuffle=2)\n",
    "# current_order_dict = dict(zip(biomarkers, new_order))\n",
    "# current_order_dict"
   ]
  },
  {
   "cell_type": "code",
   "execution_count": 13,
   "metadata": {},
   "outputs": [],
   "source": [
    "# all_ll, hashmap = utils.calculate_all_participant_ln_likelihood_and_update_hashmap(\n",
    "#         data_we_have,\n",
    "#         current_order_dict,\n",
    "#         n_participants,\n",
    "#         non_diseased_participant_ids,\n",
    "#         theta_phi_estimates,\n",
    "#         diseased_stages,\n",
    "# )\n",
    "# all_ll, hashmap"
   ]
  },
  {
   "cell_type": "code",
   "execution_count": 14,
   "metadata": {},
   "outputs": [],
   "source": [
    "# hashmap[49]"
   ]
  },
  {
   "cell_type": "code",
   "execution_count": 15,
   "metadata": {},
   "outputs": [],
   "source": [
    "# theta_phi_estimates = utils.soft_kmeans_theta_phi_estimates(\n",
    "#     iteration,\n",
    "#     data_we_have, \n",
    "#     biomarkers, \n",
    "#     current_order_dict, \n",
    "#     n_participants, \n",
    "#     non_diseased_participant_ids, \n",
    "#     hashmap, \n",
    "#     diseased_stages, \n",
    "#     seed=1234\n",
    "# )"
   ]
  },
  {
   "cell_type": "code",
   "execution_count": 16,
   "metadata": {},
   "outputs": [],
   "source": [
    "# theta_phi_estimates"
   ]
  },
  {
   "cell_type": "code",
   "execution_count": 17,
   "metadata": {},
   "outputs": [],
   "source": [
    "# prob_of_accepting_new_order = np.exp(\n",
    "#     all_ll - current_accepted_likelihood)\n",
    "\n",
    "# # it will definitly update at the first iteration\n",
    "# if np.random.rand() < prob_of_accepting_new_order:\n",
    "#     print(\"change now\")\n",
    "#     current_accepted_order = new_order\n",
    "#     current_accepted_likelihood = all_ll\n",
    "#     current_accepted_order_dict = current_order_dict"
   ]
  },
  {
   "cell_type": "code",
   "execution_count": 18,
   "metadata": {},
   "outputs": [],
   "source": [
    "# iteration +="
   ]
  },
  {
   "cell_type": "code",
   "execution_count": 19,
   "metadata": {},
   "outputs": [
    {
     "data": {
      "text/html": [
       "<div>\n",
       "<style scoped>\n",
       "    .dataframe tbody tr th:only-of-type {\n",
       "        vertical-align: middle;\n",
       "    }\n",
       "\n",
       "    .dataframe tbody tr th {\n",
       "        vertical-align: top;\n",
       "    }\n",
       "\n",
       "    .dataframe thead th {\n",
       "        text-align: right;\n",
       "    }\n",
       "</style>\n",
       "<table border=\"1\" class=\"dataframe\">\n",
       "  <thead>\n",
       "    <tr style=\"text-align: right;\">\n",
       "      <th></th>\n",
       "      <th>biomarker</th>\n",
       "      <th>theta_mean</th>\n",
       "      <th>theta_std</th>\n",
       "      <th>phi_mean</th>\n",
       "      <th>phi_std</th>\n",
       "    </tr>\n",
       "  </thead>\n",
       "  <tbody>\n",
       "    <tr>\n",
       "      <th>0</th>\n",
       "      <td>HIP-FCI</td>\n",
       "      <td>-5.0</td>\n",
       "      <td>6.666667</td>\n",
       "      <td>5.0</td>\n",
       "      <td>1.666667</td>\n",
       "    </tr>\n",
       "    <tr>\n",
       "      <th>1</th>\n",
       "      <td>HIP-GMI</td>\n",
       "      <td>0.3</td>\n",
       "      <td>0.333333</td>\n",
       "      <td>0.4</td>\n",
       "      <td>0.233333</td>\n",
       "    </tr>\n",
       "    <tr>\n",
       "      <th>2</th>\n",
       "      <td>FUS-FCI</td>\n",
       "      <td>-20.0</td>\n",
       "      <td>6.000000</td>\n",
       "      <td>-10.0</td>\n",
       "      <td>3.333333</td>\n",
       "    </tr>\n",
       "    <tr>\n",
       "      <th>3</th>\n",
       "      <td>PCC-FCI</td>\n",
       "      <td>5.0</td>\n",
       "      <td>3.333333</td>\n",
       "      <td>12.0</td>\n",
       "      <td>4.000000</td>\n",
       "    </tr>\n",
       "    <tr>\n",
       "      <th>4</th>\n",
       "      <td>FUS-GMI</td>\n",
       "      <td>0.5</td>\n",
       "      <td>0.066667</td>\n",
       "      <td>0.6</td>\n",
       "      <td>0.066667</td>\n",
       "    </tr>\n",
       "  </tbody>\n",
       "</table>\n",
       "</div>"
      ],
      "text/plain": [
       "  biomarker  theta_mean  theta_std  phi_mean   phi_std\n",
       "0   HIP-FCI        -5.0   6.666667       5.0  1.666667\n",
       "1   HIP-GMI         0.3   0.333333       0.4  0.233333\n",
       "2   FUS-FCI       -20.0   6.000000     -10.0  3.333333\n",
       "3   PCC-FCI         5.0   3.333333      12.0  4.000000\n",
       "4   FUS-GMI         0.5   0.066667       0.6  0.066667"
      ]
     },
     "execution_count": 19,
     "metadata": {},
     "output_type": "execute_result"
    }
   ],
   "source": [
    "truth = pd.read_csv(\"data/means_stds.csv\")\n",
    "truth"
   ]
  },
  {
   "cell_type": "markdown",
   "metadata": {},
   "source": [
    "## look into hashmaps of theta phi estimates json file"
   ]
  },
  {
   "cell_type": "code",
   "execution_count": 27,
   "metadata": {},
   "outputs": [],
   "source": [
    "import json \n",
    "# Reading from a JSON file\n",
    "with open('logs/chen_data_kmeans/hashmaps_of_theta_phi_estimates.json', 'r') as json_file:\n",
    "    data_loaded = json.load(json_file)"
   ]
  },
  {
   "cell_type": "code",
   "execution_count": 28,
   "metadata": {},
   "outputs": [
    {
     "data": {
      "text/plain": [
       "{'FCI(HIP)': {'biomarker': 'FCI(HIP)',\n",
       "  'theta_mean': -1.9396229696969696,\n",
       "  'theta_std': 4.986024776060235,\n",
       "  'phi_mean': -1.6186964222222229,\n",
       "  'phi_std': 5.262970995813476},\n",
       " 'GMI(HIP)': {'biomarker': 'GMI(HIP)',\n",
       "  'theta_mean': 0.4097219803921569,\n",
       "  'theta_std': 0.08419352556531448,\n",
       "  'phi_mean': 0.437433559139785,\n",
       "  'phi_std': 0.07899232177202208},\n",
       " 'FCI(Fusi)': {'biomarker': 'FCI(Fusi)',\n",
       "  'theta_mean': -13.045811622222224,\n",
       "  'theta_std': 4.97584325673387,\n",
       "  'phi_mean': -13.368481202020204,\n",
       "  'phi_std': 5.892646494637161},\n",
       " 'FCI(PCC)': {'biomarker': 'FCI(PCC)',\n",
       "  'theta_mean': 4.424282739130435,\n",
       "  'theta_std': 5.272753803558161,\n",
       "  'phi_mean': 5.342298459183673,\n",
       "  'phi_std': 5.8473013483067175},\n",
       " 'GMI(FUS)': {'biomarker': 'GMI(FUS)',\n",
       "  'theta_mean': 0.5290389333333333,\n",
       "  'theta_std': 0.06461078133817055,\n",
       "  'phi_mean': 0.540980494949495,\n",
       "  'phi_std': 0.06270119815432038}}"
      ]
     },
     "execution_count": 28,
     "metadata": {},
     "output_type": "execute_result"
    }
   ],
   "source": [
    "theta_phi_estimates = data_loaded['673']\n",
    "theta_phi_estimates"
   ]
  },
  {
   "cell_type": "code",
   "execution_count": 29,
   "metadata": {},
   "outputs": [
    {
     "data": {
      "text/plain": [
       "{'FCI(HIP)': 1, 'GMI(HIP)': 2, 'FCI(Fusi)': 4, 'FCI(PCC)': 3, 'GMI(FUS)': 5}"
      ]
     },
     "execution_count": 29,
     "metadata": {},
     "output_type": "execute_result"
    }
   ],
   "source": [
    "order = [1,2,4,3,5]\n",
    "current_order_dict = dict(zip(biomarkers, order))\n",
    "current_order_dict"
   ]
  },
  {
   "cell_type": "code",
   "execution_count": 33,
   "metadata": {},
   "outputs": [
    {
     "name": "stdout",
     "output_type": "stream",
     "text": [
      "{1: 0.2080119764369462, 2: 0.21657845763398434, 3: 0.255827103905391, 4: 0.1702972123559848, 5: 0.1492852496676937}\n",
      "{1: 0.22268650399171647, 2: 0.18137564296561268, 3: 0.1976437950864918, 4: 0.21770422743712348, 5: 0.1805898305190556}\n",
      "{1: 0.17744747646993025, 2: 0.1707980498238841, 3: 0.20195166473547432, 4: 0.24010549788542104, 5: 0.20969731108529038}\n",
      "{1: 0.23712739906000924, 2: 0.16497649831415928, 3: 0.19433341981993338, 4: 0.21996605977754471, 5: 0.18359662302835333}\n",
      "{1: 0.4537875901031549, 2: 0.3222563661202611, 3: 0.09662197735933818, 4: 0.06633172057309482, 5: 0.061002345844150964}\n",
      "{1: 0.24799660902851098, 2: 0.16136138963957264, 3: 0.19093183935959981, 4: 0.22248168801141172, 5: 0.177228473960905}\n",
      "{1: 0.14477571555734545, 2: 0.18500922429877872, 3: 0.21889530604636542, 4: 0.23831905694975206, 5: 0.2130006971477584}\n",
      "{1: 0.10456897805291845, 2: 0.18732363454120263, 3: 0.20813638995370112, 4: 0.23827332236460025, 5: 0.2616976750875775}\n",
      "{1: 0.2291859562344829, 2: 0.16662139447805818, 3: 0.1908622781722873, 4: 0.22719630909295466, 5: 0.18613406202221677}\n",
      "{1: 0.08624681385739295, 2: 0.1870896387507345, 3: 0.22034290418991842, 4: 0.20659028330732823, 5: 0.2997303598946258}\n",
      "{1: 0.2589738080787332, 2: 0.16883768817535572, 3: 0.18486860559234033, 4: 0.21173630922500625, 5: 0.1755835889285645}\n",
      "{1: 0.3051234433886976, 2: 0.20739555506793622, 3: 0.1619163683954317, 4: 0.17754148618561102, 5: 0.14802314696232344}\n",
      "{1: 0.2304208300475332, 2: 0.18621395575918306, 3: 0.1788453153852645, 4: 0.20450728600677373, 5: 0.20001261280124558}\n",
      "{1: 0.22701246842360612, 2: 0.18061374553027973, 3: 0.18335620756135934, 4: 0.21817592862709764, 5: 0.19084164985765717}\n",
      "{1: 0.2428226690593309, 2: 0.1833417926931, 3: 0.19147484176729093, 4: 0.20288681457987423, 5: 0.1794738819004039}\n",
      "{1: 0.2578216411314799, 2: 0.16744485307210724, 3: 0.1920076579938894, 4: 0.19794802189733626, 5: 0.18477782590518718}\n",
      "{1: 0.24005065402149797, 2: 0.1884456170103456, 3: 0.17713665203421863, 4: 0.2089968750591851, 5: 0.18537020187475267}\n",
      "{1: 0.21134326228123476, 2: 0.16594891029926778, 3: 0.18993300157600962, 4: 0.22114978431565144, 5: 0.21162504152783637}\n",
      "{1: 0.10133675510779662, 2: 0.1524246943012257, 3: 0.17840731164348847, 4: 0.20280907999862777, 5: 0.36502215894886153}\n",
      "{1: 0.1469068636207192, 2: 0.18642503742583477, 3: 0.18853920406571492, 4: 0.22271141211145642, 5: 0.2554174827762747}\n",
      "{1: 0.192828877326824, 2: 0.18829488610220466, 3: 0.22304197966890632, 4: 0.19776158105465036, 5: 0.19807267584741467}\n",
      "{1: 0.3082018312011716, 2: 0.2727324245538647, 3: 0.15053634910788669, 4: 0.13300000350031083, 5: 0.1355293916367661}\n",
      "{1: 0.26475275087514927, 2: 0.18843165722953933, 3: 0.17814431954231136, 4: 0.21053112993750708, 5: 0.15814014241549304}\n",
      "{1: 0.34982893631072837, 2: 0.3608390296492444, 3: 0.16351948396878482, 4: 0.0669755788097526, 5: 0.05883697126148986}\n",
      "{1: 0.16266200952651322, 2: 0.17562447500339495, 3: 0.19982415108399398, 4: 0.23706686018605483, 5: 0.2248225042000431}\n",
      "{1: 0.10706012836707067, 2: 0.14857084194851394, 3: 0.17597140802936267, 4: 0.20001272512835494, 5: 0.3683848965266977}\n",
      "{1: 0.20352358997177317, 2: 0.164770564746549, 3: 0.18886259558317542, 4: 0.22474040893890218, 5: 0.21810284075960032}\n",
      "{1: 0.12936064516226992, 2: 0.16575986628940698, 3: 0.18855589939969128, 4: 0.2234515411632117, 5: 0.29287204798542005}\n",
      "{1: 0.22057582270419587, 2: 0.18201076196061017, 3: 0.20519490517843533, 4: 0.18684762827772736, 5: 0.2053708818790313}\n",
      "{1: 0.19173207268989578, 2: 0.16295881792438924, 3: 0.1913212182094022, 4: 0.20934467047054725, 5: 0.24464322070576552}\n",
      "{1: 0.22651733220409861, 2: 0.188035799013449, 3: 0.18492559033946476, 4: 0.20677681726509925, 5: 0.19374446117788835}\n",
      "{1: 0.20771714256985357, 2: 0.1559163737186895, 3: 0.18442654960223745, 4: 0.21790041033201443, 5: 0.2340395237772051}\n",
      "{1: 0.23715743411626605, 2: 0.16810218493199852, 3: 0.18607130839937414, 4: 0.2212501104350401, 5: 0.1874189621173214}\n",
      "{1: 0.257190760468767, 2: 0.20004228640327934, 3: 0.16640143956010825, 4: 0.1864634807804065, 5: 0.18990203278743895}\n",
      "{1: 0.1500381945600048, 2: 0.17984895626128078, 3: 0.20679966146602152, 4: 0.24517721667436412, 5: 0.21813597103832877}\n",
      "{1: 0.2245403048937694, 2: 0.15810512476500294, 3: 0.18604645755613586, 4: 0.21841751698426626, 5: 0.2128905958008255}\n",
      "{1: 0.17440145355149808, 2: 0.19450475263678974, 3: 0.22449679394746605, 4: 0.19667142694096015, 5: 0.20992557292328592}\n",
      "{1: 0.2248817594420203, 2: 0.16898303940698028, 3: 0.19063390873707106, 4: 0.21445540853708323, 5: 0.20104588387684513}\n",
      "{1: 0.15701773930269752, 2: 0.17860888385187396, 3: 0.2111851675242495, 4: 0.25090238465641584, 5: 0.20228582466476316}\n",
      "{1: 0.20045498714252505, 2: 0.17701133798554955, 3: 0.19964821852304895, 4: 0.20795004861130528, 5: 0.21493540773757122}\n",
      "{1: 0.4292364150673955, 2: 0.27987629535406633, 3: 0.13594462395509185, 4: 0.087240255572831, 5: 0.06770241005061553}\n",
      "{1: 0.23376404569075673, 2: 0.19241923015614437, 3: 0.21754325234949734, 4: 0.19199555442030683, 5: 0.16427791738329464}\n",
      "{1: 0.09069940329178505, 2: 0.18394781818945907, 3: 0.20661377565118957, 4: 0.2379720964946277, 5: 0.28076690637293855}\n",
      "{1: 0.19204843699735646, 2: 0.5455500878758336, 3: 0.18927016645838074, 4: 0.02600360238202548, 5: 0.04712770628640381}\n",
      "{1: 0.23077394481615368, 2: 0.16700332145441515, 3: 0.18775621654294308, 4: 0.21983853339235776, 5: 0.19462798379413027}\n",
      "{1: 0.19761747002823668, 2: 0.18051249102049652, 3: 0.19250051714712477, 4: 0.22136068426684735, 5: 0.20800883753729466}\n",
      "{1: 0.16378415049094153, 2: 0.17560908724700416, 3: 0.20445599039650192, 4: 0.23946704058412366, 5: 0.21668373128142868}\n",
      "{1: 0.2343538980256352, 2: 0.17172051232595703, 3: 0.20311831704648584, 4: 0.20515942795528516, 5: 0.18564784464663675}\n",
      "{1: 0.2082202954817674, 2: 0.23441766553562324, 3: 0.16361040722104236, 4: 0.18946678797027333, 5: 0.2042848437912937}\n",
      "{1: 0.2014532282932154, 2: 0.26256351352296653, 3: 0.16766200313080443, 4: 0.19456947538986813, 5: 0.1737517796631456}\n",
      "{1: 0.12688080546543865, 2: 0.18341993865313733, 3: 0.2123049404414798, 4: 0.2480603528281991, 5: 0.2293339626117451}\n",
      "{1: 0.13984939819424005, 2: 0.24075011622257267, 3: 0.19007391220037897, 4: 0.19420580907141174, 5: 0.23512076431139656}\n",
      "{1: 0.2187385394241916, 2: 0.17964508247739247, 3: 0.19203488158686932, 4: 0.20746271515100875, 5: 0.20211878136053793}\n",
      "{1: 0.1103565068536562, 2: 0.24676176230169197, 3: 0.29223725290217517, 4: 0.13712412532599613, 5: 0.2135203526164804}\n",
      "{1: 0.22239079181860183, 2: 0.16340307774275178, 3: 0.1930872163291684, 4: 0.22614213824071877, 5: 0.19497677586875922}\n",
      "{1: 0.23517512067249527, 2: 0.16979972305752114, 3: 0.19712631514110227, 4: 0.19106783651788722, 5: 0.20683100461099405}\n",
      "{1: 0.2396757342084536, 2: 0.1751598521444641, 3: 0.20453614445209498, 4: 0.2112011392156991, 5: 0.16942712997928824}\n",
      "{1: 0.2106777526980242, 2: 0.18301282192939608, 3: 0.210859859696367, 4: 0.2142196742663912, 5: 0.1812298914098215}\n",
      "{1: 0.17635606264246503, 2: 0.1849294058800014, 3: 0.218912984814138, 4: 0.21233540512874627, 5: 0.20746614153464926}\n",
      "{1: 0.14488513408984086, 2: 0.16708713603712952, 3: 0.19405780675809417, 4: 0.22411587844638958, 5: 0.26985404466854584}\n",
      "{1: 0.27849994546201107, 2: 0.20837847555683042, 3: 0.16146719460551157, 4: 0.1802067530058415, 5: 0.17144763136980537}\n",
      "{1: 0.2997490135729298, 2: 0.25499863564577796, 3: 0.2023353420241839, 4: 0.12036216104567354, 5: 0.12255484771143474}\n",
      "{1: 0.22369769209245344, 2: 0.15807490665059903, 3: 0.18474473064172833, 4: 0.219278245262461, 5: 0.21420442535275827}\n",
      "{1: 0.24493275960429006, 2: 0.16355195248068777, 3: 0.18602439999194442, 4: 0.21598216645009424, 5: 0.18950872147298337}\n",
      "{1: 0.2415763260765765, 2: 0.15964756099367158, 3: 0.1890966016613663, 4: 0.22204672022554786, 5: 0.1876327910428377}\n",
      "{1: 0.10852728198021352, 2: 0.1482656557757365, 3: 0.16166657811687923, 4: 0.19237769296073481, 5: 0.3891627911664358}\n",
      "{1: 0.2651532744815529, 2: 0.1643918856260363, 3: 0.18933546248942584, 4: 0.21388767559341404, 5: 0.1672317018095708}\n",
      "{1: 0.12722500838079281, 2: 0.1609219911025178, 3: 0.1897532035970812, 4: 0.22196034499258374, 5: 0.30013945192702446}\n",
      "{1: 0.1768362644099891, 2: 0.1912402000226758, 3: 0.20188986533037503, 4: 0.18276688746912986, 5: 0.24726678276783023}\n",
      "{1: 0.18126393500597707, 2: 0.2035161815508237, 3: 0.18796306739606705, 4: 0.21581551558479475, 5: 0.21144130046233736}\n",
      "{1: 0.18880034078570535, 2: 0.2364562755124174, 3: 0.1854558624179886, 4: 0.20726975635560851, 5: 0.18201776492828012}\n",
      "{1: 0.2829216786909124, 2: 0.3118347282463626, 3: 0.20417068690233764, 4: 0.10243972682135663, 5: 0.09863317933903062}\n",
      "{1: 0.23649633498097303, 2: 0.24050135927085475, 3: 0.22886083183200046, 4: 0.12937443612812696, 5: 0.16476703778804475}\n",
      "{1: 0.08063006208164232, 2: 0.20695873847008026, 3: 0.1791655875298517, 4: 0.20378042848047168, 5: 0.32946518343795417}\n",
      "{1: 0.20207574265686745, 2: 0.1866851094114417, 3: 0.18453647711439275, 4: 0.2190635041440706, 5: 0.2076391666732274}\n",
      "{1: 0.11897553221901652, 2: 0.19452094746259724, 3: 0.20950146768364886, 4: 0.22953615558414803, 5: 0.24746589705058938}\n",
      "{1: 0.07426725975049034, 2: 0.20372763829329904, 3: 0.23682035440532237, 4: 0.2305822164562999, 5: 0.2546025310945883}\n",
      "{1: 0.2204151653297755, 2: 0.3090309470357822, 3: 0.23475097014502116, 4: 0.11324855616706844, 5: 0.12255436132235263}\n",
      "{1: 0.13032771689864964, 2: 0.19570000155523765, 3: 0.2077788898975698, 4: 0.21905270093706466, 5: 0.24714069071147837}\n",
      "{1: 0.17303333350641809, 2: 0.3714659763982871, 3: 0.23235597089974522, 4: 0.11247570693876384, 5: 0.1106690122567857}\n",
      "{1: 0.18212178728671802, 2: 0.1874670624481459, 3: 0.19608106183774396, 4: 0.2092172375293039, 5: 0.22511285089808816}\n",
      "{1: 0.08751231132967613, 2: 0.188252846853352, 3: 0.2228232332485588, 4: 0.2512516114939569, 5: 0.25015999707445613}\n",
      "{1: 0.14686119200346615, 2: 0.21624691578919425, 3: 0.2540670418584923, 4: 0.20057665912130038, 5: 0.18224819122754687}\n",
      "{1: 0.12661448767110325, 2: 0.17959056343371813, 3: 0.20851187664460002, 4: 0.24175527610624198, 5: 0.24352779614433667}\n",
      "{1: 0.24875594694611722, 2: 0.24010802176977, 3: 0.20760520173595226, 4: 0.13166864232468922, 5: 0.17186218722347132}\n",
      "{1: 0.23778658244981962, 2: 0.19869875382026395, 3: 0.23140799339664114, 4: 0.17097849975583038, 5: 0.16112817057744483}\n",
      "{1: 0.19290462340990985, 2: 0.1709501672337653, 3: 0.20123064723745154, 4: 0.23901946039125815, 5: 0.19589510172761526}\n",
      "{1: 0.16556538243016486, 2: 0.20803295075178088, 3: 0.17826630788806352, 4: 0.19277107849801264, 5: 0.25536428043197795}\n",
      "{1: 0.09316733383913166, 2: 0.1659306335942279, 3: 0.19653610436485244, 4: 0.20523200104189326, 5: 0.33913392715989454}\n",
      "{1: 0.2671945140456081, 2: 0.22836657728337073, 3: 0.16716497845636755, 4: 0.16881638618011363, 5: 0.16845754403453983}\n",
      "{1: 0.17121846341369112, 2: 0.20484950532519922, 3: 0.19230691954149112, 4: 0.22887501625322657, 5: 0.20275009546639208}\n",
      "{1: 0.1725745062768389, 2: 0.17261282915465853, 3: 0.19905056819432287, 4: 0.23456294291934862, 5: 0.22119915345483104}\n",
      "{1: 0.05224512508015146, 2: 0.2154601268749613, 3: 0.20105501669726933, 4: 0.22462211474795382, 5: 0.306617616599664}\n",
      "{1: 0.07278359571738294, 2: 0.22747031255114714, 3: 0.26556263952851644, 4: 0.17846842841564065, 5: 0.2557150237873129}\n",
      "{1: 0.22341633507340816, 2: 0.30792939330040103, 3: 0.18045885524457136, 4: 0.14355492163623393, 5: 0.14464049474538537}\n",
      "{1: 0.15355911924576712, 2: 0.1843345041536786, 3: 0.20369487423633847, 4: 0.22950579941961305, 5: 0.2289057029446028}\n",
      "{1: 0.07206244024124595, 2: 0.17634261398248058, 3: 0.20487092456113135, 4: 0.16800049081955667, 5: 0.3787235303955855}\n",
      "{1: 0.06537275373858165, 2: 0.18388769671937377, 3: 0.2153934230721286, 4: 0.21089272032413497, 5: 0.3244534061457809}\n",
      "{1: 0.2106675819941739, 2: 0.16561783481817624, 3: 0.19164012137061165, 4: 0.22735398045800853, 5: 0.20472048135902976}\n"
     ]
    }
   ],
   "source": [
    "data = data_we_have.copy()\n",
    "data['S_n'] = data.apply(lambda row: current_order_dict[row['biomarker']], axis = 1)\n",
    "all_participant_ln_likelihood = 0 \n",
    "hashmap_of_normalized_stage_likelihood_dicts = {}\n",
    "for p in range(n_participants):\n",
    "    pdata = data[data.participant == p].reset_index(drop=True)\n",
    "    if p in non_diseased_participant_ids:\n",
    "        this_participant_likelihood = utils.compute_likelihood(\n",
    "            pdata, k_j=0, theta_phi = theta_phi_estimates)\n",
    "        this_participant_ln_likelihood = np.log(this_participant_likelihood + 1e-10)\n",
    "    else:\n",
    "        # initiaze stage_likelihood\n",
    "        stage_likelihood_dict = dict(zip(diseased_stages, [0]*len(diseased_stages)))\n",
    "        for k_j in diseased_stages:\n",
    "            kj_likelihood = utils.compute_likelihood(pdata, k_j, theta_phi_estimates)\n",
    "            # update each stage likelihood for this participant\n",
    "            stage_likelihood_dict[k_j] = kj_likelihood\n",
    "        # print(stage_likelihood_dict)\n",
    "        likelihood_sum = sum(stage_likelihood_dict.values())\n",
    "        if likelihood_sum == 0:\n",
    "            print(f\"likelihood_sum is zero. Order dict is {current_order_dict}\")\n",
    "        normalized_stage_likelihood = [l/likelihood_sum for l in stage_likelihood_dict.values()]\n",
    "        normalized_stage_likelihood_dict = dict(\n",
    "            zip(diseased_stages, normalized_stage_likelihood))\n",
    "        print(normalized_stage_likelihood_dict)\n",
    "        hashmap_of_normalized_stage_likelihood_dicts[p] = normalized_stage_likelihood_dict\n",
    "        this_participant_likelihood = utils.weighted_average_likelihood(\n",
    "            pdata, diseased_stages, normalized_stage_likelihood_dict, theta_phi_estimates)\n",
    "        this_participant_ln_likelihood = np.log(this_participant_likelihood + 1e-10)\n",
    "    all_participant_ln_likelihood += this_participant_ln_likelihood"
   ]
  },
  {
   "cell_type": "code",
   "execution_count": null,
   "metadata": {},
   "outputs": [],
   "source": []
  }
 ],
 "metadata": {
  "kernelspec": {
   "display_name": "bayes",
   "language": "python",
   "name": "python3"
  },
  "language_info": {
   "codemirror_mode": {
    "name": "ipython",
    "version": 3
   },
   "file_extension": ".py",
   "mimetype": "text/x-python",
   "name": "python",
   "nbconvert_exporter": "python",
   "pygments_lexer": "ipython3",
   "version": "3.8.19"
  }
 },
 "nbformat": 4,
 "nbformat_minor": 2
}
