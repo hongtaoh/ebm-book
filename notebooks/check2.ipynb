{
 "cells": [
  {
   "cell_type": "code",
   "execution_count": 46,
   "metadata": {},
   "outputs": [],
   "source": [
    "import pandas as pd \n",
    "import numpy as np \n",
    "import utils"
   ]
  },
  {
   "cell_type": "code",
   "execution_count": 47,
   "metadata": {},
   "outputs": [],
   "source": [
    "burn_in = 1000\n",
    "thining = 20\n",
    "real_order = [1, 3, 5, 2, 4]"
   ]
  },
  {
   "cell_type": "code",
   "execution_count": 48,
   "metadata": {},
   "outputs": [],
   "source": [
    "def obtain_most_likely_order(df, burn_in, thining):\n",
    "    \"\"\"Obtain the most likely order based on all the accepted orders \n",
    "    Inputs:\n",
    "        - all_current_accepted_order_dicts \n",
    "        - burn_in\n",
    "        - thining\n",
    "    Outputs:\n",
    "        - a dictionary where key is biomarker and value is the most likely order for that biomarker\n",
    "    \"\"\"\n",
    "    df = pd.DataFrame(all_current_accepted_order_dicts)\n",
    "    biomarker_stage_probability_df = utils.get_biomarker_stage_probability(df, burn_in, thining)\n",
    "    dic = {}\n",
    "    assigned_stages = set()\n",
    "    for i, biomarker in enumerate(biomarker_stage_probability_df.index):\n",
    "        # probability array for that biomarker \n",
    "        prob_arr = np.array(biomarker_stage_probability_df.iloc[i, :])\n",
    "        max_prob = np.max(prob_arr)\n",
    "        occurances = np.sum(prob_arr == max_prob)\n",
    "        if occurances > 1:\n",
    "            # get the indcies of all stages with max prob \n",
    "            indices = np.where(prob_arr == max_prob)[0]\n",
    "            # filter out already assigned stages\n",
    "            available_indices = [idx for idx in indices if idx + 1 not in assigned_stages]\n",
    "            if available_indices:\n",
    "                max_value_idx = available_indices[0] + 1\n",
    "            else:\n",
    "                raise ValueError(\"Something wrong here\")\n",
    "        else:\n",
    "            max_value_idx = np.argmax(prob_arr) + 1\n",
    "        dic[biomarker] = max_value_idx\n",
    "        assigned_stages.add(max_value_idx)\n",
    "    return dic "
   ]
  },
  {
   "cell_type": "code",
   "execution_count": 49,
   "metadata": {},
   "outputs": [],
   "source": [
    "df = pd.read_csv(\n",
    "    \"logs/uniform_prior/chen_data_conjugate_priors/all_current_accepted_order_dicts.csv\").drop(\n",
    "        \"iteration\", axis = 1)"
   ]
  },
  {
   "cell_type": "code",
   "execution_count": 50,
   "metadata": {},
   "outputs": [
    {
     "data": {
      "text/html": [
       "<div>\n",
       "<style scoped>\n",
       "    .dataframe tbody tr th:only-of-type {\n",
       "        vertical-align: middle;\n",
       "    }\n",
       "\n",
       "    .dataframe tbody tr th {\n",
       "        vertical-align: top;\n",
       "    }\n",
       "\n",
       "    .dataframe thead th {\n",
       "        text-align: right;\n",
       "    }\n",
       "</style>\n",
       "<table border=\"1\" class=\"dataframe\">\n",
       "  <thead>\n",
       "    <tr style=\"text-align: right;\">\n",
       "      <th></th>\n",
       "      <th>FCI(HIP)-1</th>\n",
       "      <th>GMI(HIP)-3</th>\n",
       "      <th>FCI(Fusi)-5</th>\n",
       "      <th>FCI(PCC)-2</th>\n",
       "      <th>GMI(FUS)-4</th>\n",
       "    </tr>\n",
       "  </thead>\n",
       "  <tbody>\n",
       "    <tr>\n",
       "      <th>0</th>\n",
       "      <td>4</td>\n",
       "      <td>3</td>\n",
       "      <td>5</td>\n",
       "      <td>2</td>\n",
       "      <td>1</td>\n",
       "    </tr>\n",
       "    <tr>\n",
       "      <th>1</th>\n",
       "      <td>4</td>\n",
       "      <td>2</td>\n",
       "      <td>5</td>\n",
       "      <td>3</td>\n",
       "      <td>1</td>\n",
       "    </tr>\n",
       "    <tr>\n",
       "      <th>2</th>\n",
       "      <td>4</td>\n",
       "      <td>2</td>\n",
       "      <td>5</td>\n",
       "      <td>3</td>\n",
       "      <td>1</td>\n",
       "    </tr>\n",
       "    <tr>\n",
       "      <th>3</th>\n",
       "      <td>1</td>\n",
       "      <td>2</td>\n",
       "      <td>5</td>\n",
       "      <td>3</td>\n",
       "      <td>4</td>\n",
       "    </tr>\n",
       "    <tr>\n",
       "      <th>4</th>\n",
       "      <td>1</td>\n",
       "      <td>2</td>\n",
       "      <td>5</td>\n",
       "      <td>3</td>\n",
       "      <td>4</td>\n",
       "    </tr>\n",
       "  </tbody>\n",
       "</table>\n",
       "</div>"
      ],
      "text/plain": [
       "   FCI(HIP)-1  GMI(HIP)-3  FCI(Fusi)-5  FCI(PCC)-2  GMI(FUS)-4\n",
       "0           4           3            5           2           1\n",
       "1           4           2            5           3           1\n",
       "2           4           2            5           3           1\n",
       "3           1           2            5           3           4\n",
       "4           1           2            5           3           4"
      ]
     },
     "execution_count": 50,
     "metadata": {},
     "output_type": "execute_result"
    }
   ],
   "source": [
    "df.head()"
   ]
  },
  {
   "cell_type": "code",
   "execution_count": 51,
   "metadata": {},
   "outputs": [
    {
     "data": {
      "text/plain": [
       "{'FCI(HIP)-1': 2,\n",
       " 'GMI(HIP)-3': 3,\n",
       " 'FCI(Fusi)-5': 5,\n",
       " 'FCI(PCC)-2': 1,\n",
       " 'GMI(FUS)-4': 4}"
      ]
     },
     "execution_count": 51,
     "metadata": {},
     "output_type": "execute_result"
    }
   ],
   "source": [
    "most_likely_order_dic = obtain_most_likely_order(\n",
    "                df, burn_in, thining)\n",
    "most_likely_order_dic"
   ]
  },
  {
   "cell_type": "code",
   "execution_count": 52,
   "metadata": {},
   "outputs": [
    {
     "data": {
      "text/plain": [
       "array([2, 3, 5, 1, 4])"
      ]
     },
     "execution_count": 52,
     "metadata": {},
     "output_type": "execute_result"
    }
   ],
   "source": [
    "most_likely_order = np.array(list(most_likely_order_dic.values()))\n",
    "most_likely_order"
   ]
  },
  {
   "cell_type": "code",
   "execution_count": 58,
   "metadata": {},
   "outputs": [
    {
     "data": {
      "text/plain": [
       "{1, 2, 3, 4, 5}"
      ]
     },
     "execution_count": 58,
     "metadata": {},
     "output_type": "execute_result"
    }
   ],
   "source": [
    "set(most_likely_order)"
   ]
  },
  {
   "cell_type": "code",
   "execution_count": 53,
   "metadata": {},
   "outputs": [],
   "source": [
    "if set(most_likely_order) != set(real_order):\n",
    "    print(\"This most likelihood has repeated stages.\")"
   ]
  },
  {
   "cell_type": "code",
   "execution_count": 54,
   "metadata": {},
   "outputs": [
    {
     "data": {
      "text/plain": [
       "array([0, 1, 1, 0, 1])"
      ]
     },
     "execution_count": 54,
     "metadata": {},
     "output_type": "execute_result"
    }
   ],
   "source": [
    "matches = (most_likely_order == np.array(real_order)).astype(int)\n",
    "\n",
    "matches"
   ]
  },
  {
   "cell_type": "code",
   "execution_count": 55,
   "metadata": {},
   "outputs": [
    {
     "data": {
      "text/plain": [
       "3"
      ]
     },
     "execution_count": 55,
     "metadata": {},
     "output_type": "execute_result"
    }
   ],
   "source": [
    "np.sum(matches)"
   ]
  },
  {
   "cell_type": "code",
   "execution_count": 56,
   "metadata": {},
   "outputs": [],
   "source": [
    "\n",
    "# Element-wise comparison\n",
    "matches = most_likely_order == real_order\n",
    "# Count the number of matching elements\n",
    "num_overlap = np.sum(matches)\n",
    "accuracy = num_overlap/len(real_order)"
   ]
  },
  {
   "cell_type": "code",
   "execution_count": 57,
   "metadata": {},
   "outputs": [
    {
     "data": {
      "text/plain": [
       "0.6"
      ]
     },
     "execution_count": 57,
     "metadata": {},
     "output_type": "execute_result"
    }
   ],
   "source": [
    "accuracy"
   ]
  },
  {
   "cell_type": "code",
   "execution_count": null,
   "metadata": {},
   "outputs": [],
   "source": []
  }
 ],
 "metadata": {
  "kernelspec": {
   "display_name": "bayes",
   "language": "python",
   "name": "python3"
  },
  "language_info": {
   "codemirror_mode": {
    "name": "ipython",
    "version": 3
   },
   "file_extension": ".py",
   "mimetype": "text/x-python",
   "name": "python",
   "nbconvert_exporter": "python",
   "pygments_lexer": "ipython3",
   "version": "3.8.19"
  }
 },
 "nbformat": 4,
 "nbformat_minor": 2
}
