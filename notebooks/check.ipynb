{
 "cells": [
  {
   "cell_type": "code",
   "execution_count": 1,
   "metadata": {},
   "outputs": [],
   "source": [
    "import pandas as pd \n",
    "import numpy as np \n",
    "import matplotlib.pyplot as plt\n",
    "import utils"
   ]
  },
  {
   "cell_type": "code",
   "execution_count": 2,
   "metadata": {},
   "outputs": [],
   "source": [
    "dic = {\"combination1\": 2, \"combination3\": 3}"
   ]
  },
  {
   "cell_type": "code",
   "execution_count": 3,
   "metadata": {},
   "outputs": [
    {
     "data": {
      "text/html": [
       "<div>\n",
       "<style scoped>\n",
       "    .dataframe tbody tr th:only-of-type {\n",
       "        vertical-align: middle;\n",
       "    }\n",
       "\n",
       "    .dataframe tbody tr th {\n",
       "        vertical-align: top;\n",
       "    }\n",
       "\n",
       "    .dataframe thead th {\n",
       "        text-align: right;\n",
       "    }\n",
       "</style>\n",
       "<table border=\"1\" class=\"dataframe\">\n",
       "  <thead>\n",
       "    <tr style=\"text-align: right;\">\n",
       "      <th></th>\n",
       "      <th>Combination</th>\n",
       "      <th>Value</th>\n",
       "    </tr>\n",
       "  </thead>\n",
       "  <tbody>\n",
       "    <tr>\n",
       "      <th>0</th>\n",
       "      <td>combination1</td>\n",
       "      <td>2</td>\n",
       "    </tr>\n",
       "    <tr>\n",
       "      <th>1</th>\n",
       "      <td>combination3</td>\n",
       "      <td>3</td>\n",
       "    </tr>\n",
       "  </tbody>\n",
       "</table>\n",
       "</div>"
      ],
      "text/plain": [
       "    Combination  Value\n",
       "0  combination1      2\n",
       "1  combination3      3"
      ]
     },
     "execution_count": 3,
     "metadata": {},
     "output_type": "execute_result"
    }
   ],
   "source": [
    "# Convert the dictionary into a DataFrame\n",
    "df = pd.DataFrame(list(dic.items()), columns=[\"Combination\", \"Value\"])\n",
    "df"
   ]
  },
  {
   "cell_type": "code",
   "execution_count": 4,
   "metadata": {},
   "outputs": [
    {
     "data": {
      "image/png": "[encoded data removed]",
      "text/plain": [
       "<Figure size 800x600 with 1 Axes>"
      ]
     },
     "metadata": {},
     "output_type": "display_data"
    }
   ],
   "source": [
    "# Create a scatter plot\n",
    "plt.figure(figsize=(8, 6))\n",
    "plt.scatter(df[\"Combination\"], df[\"Value\"], color='blue', s=100)\n",
    "\n",
    "# Add labels and title\n",
    "plt.xlabel(\"Combination\")\n",
    "plt.ylabel(\"Value\")\n",
    "plt.title(\"Scatter Plot of Combination vs Value\")\n",
    "\n",
    "# Show the plot\n",
    "plt.show()"
   ]
  },
  {
   "cell_type": "code",
   "execution_count": 5,
   "metadata": {},
   "outputs": [],
   "source": [
    "iterations = 10\n",
    "burn_in = 4\n",
    "thining = 2\n",
    "n_shuffle = 2\n",
    "real_order = [1, 3, 5, 2, 4]\n",
    "S_ordering = np.array([\n",
    "    'HIP-FCI', 'PCC-FCI', 'HIP-GMI', 'FUS-GMI', 'FUS-FCI'\n",
    "])\n",
    "real_theta_phi = pd.read_csv('data/means_stds.csv')\n",
    "\n",
    "ns = [25, 50, 100, 150, 200]\n",
    "rs = [0.1, 0.2, 0.3, 0.5, 0.6]\n",
    "uniform_prior = True"
   ]
  },
  {
   "cell_type": "code",
   "execution_count": 6,
   "metadata": {},
   "outputs": [
    {
     "name": "stdout",
     "output_type": "stream",
     "text": [
      "data generation done!\n"
     ]
    }
   ],
   "source": [
    "participants_data = utils.generate_data_from_ebm(\n",
    "    n_participants = 25, \n",
    "    S_ordering = S_ordering, \n",
    "    real_theta_phi = real_theta_phi, \n",
    "    healthy_ratio = 0.4,\n",
    "    seed=1234,\n",
    ")"
   ]
  },
  {
   "cell_type": "code",
   "execution_count": 7,
   "metadata": {},
   "outputs": [
    {
     "data": {
      "text/html": [
       "<div>\n",
       "<style scoped>\n",
       "    .dataframe tbody tr th:only-of-type {\n",
       "        vertical-align: middle;\n",
       "    }\n",
       "\n",
       "    .dataframe tbody tr th {\n",
       "        vertical-align: top;\n",
       "    }\n",
       "\n",
       "    .dataframe thead th {\n",
       "        text-align: right;\n",
       "    }\n",
       "</style>\n",
       "<table border=\"1\" class=\"dataframe\">\n",
       "  <thead>\n",
       "    <tr style=\"text-align: right;\">\n",
       "      <th></th>\n",
       "      <th>participant</th>\n",
       "      <th>biomarker</th>\n",
       "      <th>measurement</th>\n",
       "      <th>diseased</th>\n",
       "    </tr>\n",
       "  </thead>\n",
       "  <tbody>\n",
       "    <tr>\n",
       "      <th>0</th>\n",
       "      <td>0</td>\n",
       "      <td>HIP-FCI (1)</td>\n",
       "      <td>6.125923</td>\n",
       "      <td>False</td>\n",
       "    </tr>\n",
       "    <tr>\n",
       "      <th>1</th>\n",
       "      <td>1</td>\n",
       "      <td>HIP-FCI (1)</td>\n",
       "      <td>-2.750416</td>\n",
       "      <td>True</td>\n",
       "    </tr>\n",
       "    <tr>\n",
       "      <th>2</th>\n",
       "      <td>2</td>\n",
       "      <td>HIP-FCI (1)</td>\n",
       "      <td>-4.168580</td>\n",
       "      <td>True</td>\n",
       "    </tr>\n",
       "    <tr>\n",
       "      <th>3</th>\n",
       "      <td>3</td>\n",
       "      <td>HIP-FCI (1)</td>\n",
       "      <td>4.055923</td>\n",
       "      <td>False</td>\n",
       "    </tr>\n",
       "    <tr>\n",
       "      <th>4</th>\n",
       "      <td>4</td>\n",
       "      <td>HIP-FCI (1)</td>\n",
       "      <td>4.772009</td>\n",
       "      <td>False</td>\n",
       "    </tr>\n",
       "    <tr>\n",
       "      <th>...</th>\n",
       "      <td>...</td>\n",
       "      <td>...</td>\n",
       "      <td>...</td>\n",
       "      <td>...</td>\n",
       "    </tr>\n",
       "    <tr>\n",
       "      <th>120</th>\n",
       "      <td>20</td>\n",
       "      <td>FUS-GMI (4)</td>\n",
       "      <td>0.515970</td>\n",
       "      <td>True</td>\n",
       "    </tr>\n",
       "    <tr>\n",
       "      <th>121</th>\n",
       "      <td>21</td>\n",
       "      <td>FUS-GMI (4)</td>\n",
       "      <td>0.535865</td>\n",
       "      <td>True</td>\n",
       "    </tr>\n",
       "    <tr>\n",
       "      <th>122</th>\n",
       "      <td>22</td>\n",
       "      <td>FUS-GMI (4)</td>\n",
       "      <td>0.653162</td>\n",
       "      <td>False</td>\n",
       "    </tr>\n",
       "    <tr>\n",
       "      <th>123</th>\n",
       "      <td>23</td>\n",
       "      <td>FUS-GMI (4)</td>\n",
       "      <td>0.565044</td>\n",
       "      <td>True</td>\n",
       "    </tr>\n",
       "    <tr>\n",
       "      <th>124</th>\n",
       "      <td>24</td>\n",
       "      <td>FUS-GMI (4)</td>\n",
       "      <td>0.633076</td>\n",
       "      <td>False</td>\n",
       "    </tr>\n",
       "  </tbody>\n",
       "</table>\n",
       "<p>125 rows × 4 columns</p>\n",
       "</div>"
      ],
      "text/plain": [
       "     participant    biomarker  measurement  diseased\n",
       "0              0  HIP-FCI (1)     6.125923     False\n",
       "1              1  HIP-FCI (1)    -2.750416      True\n",
       "2              2  HIP-FCI (1)    -4.168580      True\n",
       "3              3  HIP-FCI (1)     4.055923     False\n",
       "4              4  HIP-FCI (1)     4.772009     False\n",
       "..           ...          ...          ...       ...\n",
       "120           20  FUS-GMI (4)     0.515970      True\n",
       "121           21  FUS-GMI (4)     0.535865      True\n",
       "122           22  FUS-GMI (4)     0.653162     False\n",
       "123           23  FUS-GMI (4)     0.565044      True\n",
       "124           24  FUS-GMI (4)     0.633076     False\n",
       "\n",
       "[125 rows x 4 columns]"
      ]
     },
     "execution_count": 7,
     "metadata": {},
     "output_type": "execute_result"
    }
   ],
   "source": [
    "participants_data"
   ]
  },
  {
   "cell_type": "code",
   "execution_count": 8,
   "metadata": {},
   "outputs": [],
   "source": [
    "comb_str = f\"25_0.4\"\n",
    "log_folder_name = f\"n_and_r/logs/{comb_str}\""
   ]
  },
  {
   "cell_type": "code",
   "execution_count": 9,
   "metadata": {},
   "outputs": [
    {
     "name": "stdout",
     "output_type": "stream",
     "text": [
      "iteration 10 done, current accepted likelihood: -150.7683096578432, current acceptance ratio is 30.00 %, current accepted order is {'HIP-FCI (1)': 1, 'HIP-GMI (3)': 3, 'FUS-FCI (5)': 5, 'PCC-FCI (2)': 2, 'FUS-GMI (4)': 4}, \n",
      "done!\n"
     ]
    }
   ],
   "source": [
    "biomarker_best_order_dic, \\\n",
    "participant_stages, \\\n",
    "all_dicts, \\\n",
    "all_current_participant_stages,\\\n",
    "all_current_order_dicts, \\\n",
    "all_current_likelihoods, \\\n",
    "all_current_acceptance_ratios, \\\n",
    "final_acceptance_ratio = utils.metropolis_hastings_with_conjugate_priors(\n",
    "    participants_data, iterations, log_folder_name, n_shuffle, uniform_prior,\n",
    ")"
   ]
  },
  {
   "cell_type": "code",
   "execution_count": null,
   "metadata": {},
   "outputs": [],
   "source": []
  }
 ],
 "metadata": {
  "kernelspec": {
   "display_name": "bayes",
   "language": "python",
   "name": "python3"
  },
  "language_info": {
   "codemirror_mode": {
    "name": "ipython",
    "version": 3
   },
   "file_extension": ".py",
   "mimetype": "text/x-python",
   "name": "python",
   "nbconvert_exporter": "python",
   "pygments_lexer": "ipython3",
   "version": "3.8.19"
  }
 },
 "nbformat": 4,
 "nbformat_minor": 2
}
