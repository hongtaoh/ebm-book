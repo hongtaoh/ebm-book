{
 "cells": [
  {
   "cell_type": "code",
   "execution_count": 72,
   "metadata": {},
   "outputs": [],
   "source": [
    "import pandas as pd \n",
    "import numpy as np \n",
    "import utils\n",
    "import random\n",
    "\n",
    "order_one_simulated = [1,2,4,5,3]\n",
    "max_order_chen = [1,4,3,2,5]\n",
    "real_order = [1,3,5,2,4]"
   ]
  },
  {
   "cell_type": "code",
   "execution_count": 64,
   "metadata": {},
   "outputs": [],
   "source": [
    "def process_chen_data(file):\n",
    "    \"\"\"Prepare data for analysis below\n",
    "    \"\"\"\n",
    "    df = pd.read_excel(file)\n",
    "    df.rename(\n",
    "        columns={df.columns[0]: \n",
    "                 'participant_category', df.columns[1]: \n",
    "                 'participant'}, \n",
    "                 inplace=True)\n",
    "    # df = df[df.participant_category.isin(['CN', 'AD '])]\n",
    "    df['diseased'] = df.apply(lambda row: row.participant_category != 'CN', axis = 1)\n",
    "    df = pd.melt(df, id_vars=['participant_category', \"participant\", \"timestamp\", 'diseased'], \n",
    "                        value_vars=[\"FCI(HIP)\", \"GMI(HIP)\", \"FCI(Fusi)\", \"FCI(PCC)\", \"GMI(FUS)\"], \n",
    "                        var_name='biomarker', value_name='measurement')\n",
    "    # convert participant id\n",
    "    num_participant = len(df.participant.unique())\n",
    "    participant_string_id_dic = dict(zip(df.participant.unique(), [_ for _ in range(num_participant)]))\n",
    "    df['participant'] = df.apply(lambda row: participant_string_id_dic[row.participant], axis = 1 )\n",
    "    return df \n",
    "\n",
    "def get_data_we_have(data_source):\n",
    "    if data_source == \"Chen Data\":\n",
    "         data_we_have = process_chen_data(\"data/Chen2016Data.xlsx\")\n",
    "    else:\n",
    "        original_data = pd.read_csv('data/participant_data.csv')\n",
    "        original_data['diseased'] = original_data.apply(lambda row: row.k_j > 0, axis = 1)\n",
    "        data_we_have = original_data.drop(['k_j', 'S_n', 'affected_or_not'], axis = 1)\n",
    "    return data_we_have"
   ]
  },
  {
   "cell_type": "code",
   "execution_count": 65,
   "metadata": {},
   "outputs": [
    {
     "data": {
      "text/html": [
       "<div>\n",
       "<style scoped>\n",
       "    .dataframe tbody tr th:only-of-type {\n",
       "        vertical-align: middle;\n",
       "    }\n",
       "\n",
       "    .dataframe tbody tr th {\n",
       "        vertical-align: top;\n",
       "    }\n",
       "\n",
       "    .dataframe thead th {\n",
       "        text-align: right;\n",
       "    }\n",
       "</style>\n",
       "<table border=\"1\" class=\"dataframe\">\n",
       "  <thead>\n",
       "    <tr style=\"text-align: right;\">\n",
       "      <th></th>\n",
       "      <th>participant</th>\n",
       "      <th>biomarker</th>\n",
       "      <th>measurement</th>\n",
       "      <th>diseased</th>\n",
       "    </tr>\n",
       "  </thead>\n",
       "  <tbody>\n",
       "    <tr>\n",
       "      <th>0</th>\n",
       "      <td>0</td>\n",
       "      <td>HIP-FCI</td>\n",
       "      <td>23.239077</td>\n",
       "      <td>True</td>\n",
       "    </tr>\n",
       "    <tr>\n",
       "      <th>1</th>\n",
       "      <td>1</td>\n",
       "      <td>HIP-FCI</td>\n",
       "      <td>27.889339</td>\n",
       "      <td>False</td>\n",
       "    </tr>\n",
       "    <tr>\n",
       "      <th>2</th>\n",
       "      <td>2</td>\n",
       "      <td>HIP-FCI</td>\n",
       "      <td>19.442578</td>\n",
       "      <td>True</td>\n",
       "    </tr>\n",
       "    <tr>\n",
       "      <th>3</th>\n",
       "      <td>3</td>\n",
       "      <td>HIP-FCI</td>\n",
       "      <td>18.569040</td>\n",
       "      <td>True</td>\n",
       "    </tr>\n",
       "    <tr>\n",
       "      <th>4</th>\n",
       "      <td>4</td>\n",
       "      <td>HIP-FCI</td>\n",
       "      <td>24.009016</td>\n",
       "      <td>True</td>\n",
       "    </tr>\n",
       "  </tbody>\n",
       "</table>\n",
       "</div>"
      ],
      "text/plain": [
       "   participant biomarker  measurement  diseased\n",
       "0            0   HIP-FCI    23.239077      True\n",
       "1            1   HIP-FCI    27.889339     False\n",
       "2            2   HIP-FCI    19.442578      True\n",
       "3            3   HIP-FCI    18.569040      True\n",
       "4            4   HIP-FCI    24.009016      True"
      ]
     },
     "execution_count": 65,
     "metadata": {},
     "output_type": "execute_result"
    }
   ],
   "source": [
    "data_we_have = get_data_we_have(\"Simulated Data\")\n",
    "data_we_have.head()"
   ]
  },
  {
   "cell_type": "code",
   "execution_count": 66,
   "metadata": {},
   "outputs": [
    {
     "data": {
      "text/plain": [
       "array([5., 0., 1., 5., 2., 2., 0., 3., 4., 3., 4., 0., 5., 5., 2., 0., 1.,\n",
       "       0., 0., 2., 5., 0., 1., 1., 5., 1., 3., 3., 1., 2., 2., 2., 1., 3.,\n",
       "       1., 1., 2., 0., 1., 4., 4., 1., 0., 5., 4., 0., 4., 1., 5., 0., 1.,\n",
       "       5., 3., 1., 5., 5., 4., 0., 1., 5., 4., 4., 0., 2., 5., 2., 0., 1.,\n",
       "       2., 0., 4., 5., 3., 3., 5., 3., 4., 3., 2., 5., 3., 3., 4., 5., 5.,\n",
       "       5., 3., 0., 5., 3., 0., 3., 5., 0., 3., 4., 3., 2., 0., 0.])"
      ]
     },
     "execution_count": 66,
     "metadata": {},
     "output_type": "execute_result"
    }
   ],
   "source": [
    "all_participant_stages = pd.read_csv(\"logs/simulated_data_conjugate_priors/participant_stages_at_the_end_of_each_iteartion.csv\")\n",
    "participant_stages = np.array(all_participant_stages.iloc[-1, :])\n",
    "participant_stages"
   ]
  },
  {
   "cell_type": "code",
   "execution_count": 67,
   "metadata": {},
   "outputs": [],
   "source": [
    "def compute_ll_based_on_order_dict(\n",
    "        data_we_have,\n",
    "        order,\n",
    "        participant_stages,\n",
    "):\n",
    "        n_participants = len(data_we_have.participant.unique())\n",
    "        biomarkers = data_we_have.biomarker.unique()\n",
    "        n_biomarkers = len(biomarkers)\n",
    "        n_stages = n_biomarkers + 1\n",
    "        diseased_stages = np.arange(start = 1, stop = n_stages, step = 1)\n",
    "        non_diseased_participant_ids = data_we_have.loc[data_we_have.diseased == False].participant.unique()\n",
    "        diseased_participant_ids = data_we_have.loc[data_we_have.diseased == True].participant.unique()\n",
    "\n",
    "        order_dict = dict(zip(biomarkers, order))\n",
    "        data = data_we_have.copy()\n",
    "        data['S_n'] = data.apply(lambda row: order_dict[row['biomarker']], axis = 1)\n",
    "        # add kj and affected for the whole dataset based on participant_stages\n",
    "        # also modify diseased col (because it will be useful for the new theta_phi_kmeans)\n",
    "        data = utils.add_kj_and_affected_and_modify_diseased(data, participant_stages, n_participants)\n",
    "        theta_phi_kmeans = utils.get_theta_phi_kmeans(data.copy(), biomarkers, n_clusters = 2)\n",
    "        estimated_theta_phi =utils.get_theta_phi_conjugate_priors(biomarkers, data.copy(), theta_phi_kmeans)\n",
    "\n",
    "        all_participant_ln_likelihood = utils.compute_all_participant_ln_likelihood_and_update_participant_stages(\n",
    "                n_participants,\n",
    "                data,\n",
    "                non_diseased_participant_ids,\n",
    "                estimated_theta_phi,\n",
    "                diseased_stages,\n",
    "                participant_stages,\n",
    "        )\n",
    "        return all_participant_ln_likelihood\n",
    "    "
   ]
  },
  {
   "cell_type": "code",
   "execution_count": 69,
   "metadata": {},
   "outputs": [
    {
     "data": {
      "text/plain": [
       "-1735.5572304632897"
      ]
     },
     "execution_count": 69,
     "metadata": {},
     "output_type": "execute_result"
    }
   ],
   "source": [
    "simulated_ll_max_order = compute_ll_based_on_order_dict(\n",
    "        data_we_have,\n",
    "        order_one_simulated,\n",
    "        participant_stages,\n",
    ")\n",
    "simulated_ll_max_order"
   ]
  },
  {
   "cell_type": "code",
   "execution_count": 70,
   "metadata": {},
   "outputs": [
    {
     "data": {
      "text/plain": [
       "-1774.6685699166583"
      ]
     },
     "execution_count": 70,
     "metadata": {},
     "output_type": "execute_result"
    }
   ],
   "source": [
    "simulated_ll_real_order = compute_ll_based_on_order_dict(\n",
    "        data_we_have,\n",
    "        real_order,\n",
    "        participant_stages,\n",
    ")\n",
    "simulated_ll_real_order"
   ]
  },
  {
   "cell_type": "markdown",
   "metadata": {},
   "source": [
    "## Chen's data"
   ]
  },
  {
   "cell_type": "code",
   "execution_count": 71,
   "metadata": {},
   "outputs": [
    {
     "data": {
      "text/html": [
       "<div>\n",
       "<style scoped>\n",
       "    .dataframe tbody tr th:only-of-type {\n",
       "        vertical-align: middle;\n",
       "    }\n",
       "\n",
       "    .dataframe tbody tr th {\n",
       "        vertical-align: top;\n",
       "    }\n",
       "\n",
       "    .dataframe thead th {\n",
       "        text-align: right;\n",
       "    }\n",
       "</style>\n",
       "<table border=\"1\" class=\"dataframe\">\n",
       "  <thead>\n",
       "    <tr style=\"text-align: right;\">\n",
       "      <th></th>\n",
       "      <th>participant_category</th>\n",
       "      <th>participant</th>\n",
       "      <th>timestamp</th>\n",
       "      <th>diseased</th>\n",
       "      <th>biomarker</th>\n",
       "      <th>measurement</th>\n",
       "    </tr>\n",
       "  </thead>\n",
       "  <tbody>\n",
       "    <tr>\n",
       "      <th>0</th>\n",
       "      <td>CN</td>\n",
       "      <td>0</td>\n",
       "      <td>6/2/2011</td>\n",
       "      <td>False</td>\n",
       "      <td>FCI(HIP)</td>\n",
       "      <td>-2.544567</td>\n",
       "    </tr>\n",
       "    <tr>\n",
       "      <th>1</th>\n",
       "      <td>CN</td>\n",
       "      <td>1</td>\n",
       "      <td>9/2/2011</td>\n",
       "      <td>False</td>\n",
       "      <td>FCI(HIP)</td>\n",
       "      <td>-1.603212</td>\n",
       "    </tr>\n",
       "    <tr>\n",
       "      <th>2</th>\n",
       "      <td>CN</td>\n",
       "      <td>2</td>\n",
       "      <td>10/11/2011</td>\n",
       "      <td>False</td>\n",
       "      <td>FCI(HIP)</td>\n",
       "      <td>-4.716009</td>\n",
       "    </tr>\n",
       "    <tr>\n",
       "      <th>3</th>\n",
       "      <td>CN</td>\n",
       "      <td>3</td>\n",
       "      <td>8/8/2011</td>\n",
       "      <td>False</td>\n",
       "      <td>FCI(HIP)</td>\n",
       "      <td>-4.232625</td>\n",
       "    </tr>\n",
       "    <tr>\n",
       "      <th>4</th>\n",
       "      <td>CN</td>\n",
       "      <td>4</td>\n",
       "      <td>11/28/2011</td>\n",
       "      <td>False</td>\n",
       "      <td>FCI(HIP)</td>\n",
       "      <td>3.628361</td>\n",
       "    </tr>\n",
       "  </tbody>\n",
       "</table>\n",
       "</div>"
      ],
      "text/plain": [
       "  participant_category  participant      timestamp  diseased biomarker  \\\n",
       "0                   CN            0     6/2/2011       False  FCI(HIP)   \n",
       "1                   CN            1     9/2/2011       False  FCI(HIP)   \n",
       "2                   CN            2   10/11/2011       False  FCI(HIP)   \n",
       "3                   CN            3     8/8/2011       False  FCI(HIP)   \n",
       "4                   CN            4   11/28/2011       False  FCI(HIP)   \n",
       "\n",
       "   measurement  \n",
       "0    -2.544567  \n",
       "1    -1.603212  \n",
       "2    -4.716009  \n",
       "3    -4.232625  \n",
       "4     3.628361  "
      ]
     },
     "execution_count": 71,
     "metadata": {},
     "output_type": "execute_result"
    }
   ],
   "source": [
    "data_we_have = get_data_we_have(\"Chen Data\")\n",
    "data_we_have.head()"
   ]
  },
  {
   "cell_type": "code",
   "execution_count": 73,
   "metadata": {},
   "outputs": [
    {
     "data": {
      "text/plain": [
       "array([0., 0., 0., 0., 0., 0., 0., 0., 0., 0., 0., 0., 0., 0., 0., 0., 0.,\n",
       "       0., 0., 0., 0., 0., 0., 0., 0., 0., 0., 0., 0., 0., 0., 0., 0., 0.,\n",
       "       0., 0., 0., 0., 0., 0., 0., 0., 0., 0., 0., 2., 4., 1., 1., 3., 2.,\n",
       "       3., 3., 3., 5., 3., 1., 3., 1., 1., 1., 3., 1., 5., 2., 1., 4., 3.,\n",
       "       4., 2., 5., 1., 4., 3., 3., 1., 2., 3., 3., 2., 3., 5., 1., 2., 3.,\n",
       "       3., 2., 5., 5., 1., 1., 3., 1., 2., 4., 4., 5., 2., 5., 1., 2., 2.,\n",
       "       2., 4., 2., 4., 1., 3., 3., 2., 5., 3., 5., 5., 4., 4., 1., 5., 5.,\n",
       "       3., 4., 5., 5., 2., 4., 1., 5., 2., 3., 2., 2., 1., 5., 5., 2., 5.,\n",
       "       4., 5., 5., 5., 5., 5., 5., 1.])"
      ]
     },
     "execution_count": 73,
     "metadata": {},
     "output_type": "execute_result"
    }
   ],
   "source": [
    "all_participant_stages = pd.read_csv(\"logs/chen_data_conjugate_priors/participant_stages_at_the_end_of_each_iteartion.csv\")\n",
    "participant_stages = np.array(all_participant_stages.iloc[-1, :])\n",
    "participant_stages"
   ]
  },
  {
   "cell_type": "code",
   "execution_count": 74,
   "metadata": {},
   "outputs": [
    {
     "data": {
      "text/plain": [
       "-881.7017393719559"
      ]
     },
     "execution_count": 74,
     "metadata": {},
     "output_type": "execute_result"
    }
   ],
   "source": [
    "chen_ll_max_order = compute_ll_based_on_order_dict(\n",
    "        data_we_have,\n",
    "        max_order_chen,\n",
    "        participant_stages,\n",
    ")\n",
    "chen_ll_max_order"
   ]
  },
  {
   "cell_type": "code",
   "execution_count": 75,
   "metadata": {},
   "outputs": [
    {
     "data": {
      "text/plain": [
       "-900.2773076608739"
      ]
     },
     "execution_count": 75,
     "metadata": {},
     "output_type": "execute_result"
    }
   ],
   "source": [
    "chen_ll_real_order = compute_ll_based_on_order_dict(\n",
    "        data_we_have,\n",
    "        real_order,\n",
    "        participant_stages,\n",
    ")\n",
    "chen_ll_real_order"
   ]
  }
 ],
 "metadata": {
  "kernelspec": {
   "display_name": "bayes",
   "language": "python",
   "name": "python3"
  },
  "language_info": {
   "codemirror_mode": {
    "name": "ipython",
    "version": 3
   },
   "file_extension": ".py",
   "mimetype": "text/x-python",
   "name": "python",
   "nbconvert_exporter": "python",
   "pygments_lexer": "ipython3",
   "version": "3.8.19"
  }
 },
 "nbformat": 4,
 "nbformat_minor": 2
}
