{
 "cells": [
  {
   "cell_type": "markdown",
   "metadata": {},
   "source": [
    "# Aim\n",
    "\n",
    "This notebook is to calculate the likelihoods of max and real order for simulated and chen data, respectively. "
   ]
  },
  {
   "cell_type": "code",
   "execution_count": 25,
   "metadata": {},
   "outputs": [],
   "source": [
    "import utils\n",
    "import pandas as pd \n",
    "import numpy as np \n",
    "import eval "
   ]
  },
  {
   "cell_type": "markdown",
   "metadata": {},
   "source": [
    "## Simulated"
   ]
  },
  {
   "cell_type": "code",
   "execution_count": 26,
   "metadata": {},
   "outputs": [],
   "source": [
    "data_we_have = eval.get_data_we_have(\"Simulated Data\")\n",
    "max_order = [2, 5, 4, 3, 1]\n",
    "real_order = [1, 3, 5, 2, 4]"
   ]
  },
  {
   "cell_type": "code",
   "execution_count": 27,
   "metadata": {},
   "outputs": [],
   "source": [
    "n_participants = len(data_we_have.participant.unique())\n",
    "biomarkers = data_we_have.biomarker.unique()\n",
    "n_biomarkers = len(biomarkers)\n",
    "n_stages = n_biomarkers + 1\n",
    "non_diseased_participant_ids = data_we_have.loc[\n",
    "    data_we_have.diseased == False].participant.unique()\n",
    "diseased_stages = np.arange(start = 1, stop = n_stages, step = 1)"
   ]
  },
  {
   "cell_type": "code",
   "execution_count": 28,
   "metadata": {},
   "outputs": [],
   "source": [
    "theta_phi_estimates = utils.get_theta_phi_estimates(\n",
    "    data_we_have, \n",
    "    biomarkers, \n",
    "    n_clusters = 2,\n",
    "    method = \"kmeans_and_hierarchical_clustering\"\n",
    ")"
   ]
  },
  {
   "cell_type": "code",
   "execution_count": 29,
   "metadata": {},
   "outputs": [
    {
     "data": {
      "text/plain": [
       "{'HIP-FCI': 2, 'HIP-GMI': 5, 'FUS-FCI': 4, 'PCC-FCI': 3, 'FUS-GMI': 1}"
      ]
     },
     "execution_count": 29,
     "metadata": {},
     "output_type": "execute_result"
    }
   ],
   "source": [
    "max_order_dict = dict(zip(biomarkers, max_order))\n",
    "max_order_dict"
   ]
  },
  {
   "cell_type": "code",
   "execution_count": 30,
   "metadata": {},
   "outputs": [
    {
     "data": {
      "text/plain": [
       "-817.697288019683"
      ]
     },
     "execution_count": 30,
     "metadata": {},
     "output_type": "execute_result"
    }
   ],
   "source": [
    "all_participant_ln_likelihood = utils.compute_all_participant_ln_likelihood(\n",
    "    data_we_have,\n",
    "    max_order_dict,\n",
    "    n_participants,\n",
    "    non_diseased_participant_ids,\n",
    "    theta_phi_estimates,\n",
    "    diseased_stages,\n",
    ")\n",
    "all_participant_ln_likelihood"
   ]
  },
  {
   "cell_type": "code",
   "execution_count": 31,
   "metadata": {},
   "outputs": [
    {
     "data": {
      "text/plain": [
       "{'HIP-FCI': 1, 'HIP-GMI': 3, 'FUS-FCI': 5, 'PCC-FCI': 2, 'FUS-GMI': 4}"
      ]
     },
     "execution_count": 31,
     "metadata": {},
     "output_type": "execute_result"
    }
   ],
   "source": [
    "real_order_dict = dict(zip(biomarkers, real_order))\n",
    "real_order_dict"
   ]
  },
  {
   "cell_type": "code",
   "execution_count": 32,
   "metadata": {},
   "outputs": [
    {
     "data": {
      "text/plain": [
       "-851.6828144578428"
      ]
     },
     "execution_count": 32,
     "metadata": {},
     "output_type": "execute_result"
    }
   ],
   "source": [
    "all_participant_ln_likelihood = utils.compute_all_participant_ln_likelihood(\n",
    "    data_we_have,\n",
    "    real_order_dict,\n",
    "    n_participants,\n",
    "    non_diseased_participant_ids,\n",
    "    theta_phi_estimates,\n",
    "    diseased_stages,\n",
    ")\n",
    "all_participant_ln_likelihood"
   ]
  },
  {
   "cell_type": "markdown",
   "metadata": {},
   "source": [
    "## Chen Data"
   ]
  },
  {
   "cell_type": "code",
   "execution_count": 33,
   "metadata": {},
   "outputs": [],
   "source": [
    "data_we_have = eval.get_data_we_have(\"Chen Data\")\n",
    "max_order = [3, 5, 1, 4, 2]\n",
    "real_order = [1, 3, 5, 2, 4]"
   ]
  },
  {
   "cell_type": "code",
   "execution_count": 34,
   "metadata": {},
   "outputs": [],
   "source": [
    "n_participants = len(data_we_have.participant.unique())\n",
    "biomarkers = data_we_have.biomarker.unique()\n",
    "n_biomarkers = len(biomarkers)\n",
    "n_stages = n_biomarkers + 1\n",
    "non_diseased_participant_ids = data_we_have.loc[\n",
    "    data_we_have.diseased == False].participant.unique()\n",
    "diseased_stages = np.arange(start = 1, stop = n_stages, step = 1)"
   ]
  },
  {
   "cell_type": "code",
   "execution_count": 35,
   "metadata": {},
   "outputs": [],
   "source": [
    "theta_phi_estimates = utils.get_theta_phi_estimates(\n",
    "    data_we_have, \n",
    "    biomarkers, \n",
    "    n_clusters = 2,\n",
    "    method = \"kmeans_and_hierarchical_clustering\"\n",
    ")"
   ]
  },
  {
   "cell_type": "code",
   "execution_count": 36,
   "metadata": {},
   "outputs": [
    {
     "data": {
      "text/plain": [
       "{'FCI(HIP)': 3, 'GMI(HIP)': 5, 'FCI(Fusi)': 1, 'FCI(PCC)': 4, 'GMI(FUS)': 2}"
      ]
     },
     "execution_count": 36,
     "metadata": {},
     "output_type": "execute_result"
    }
   ],
   "source": [
    "max_order_dict = dict(zip(biomarkers, max_order))\n",
    "max_order_dict"
   ]
  },
  {
   "cell_type": "code",
   "execution_count": 37,
   "metadata": {},
   "outputs": [
    {
     "data": {
      "text/plain": [
       "-1074.8069836311095"
      ]
     },
     "execution_count": 37,
     "metadata": {},
     "output_type": "execute_result"
    }
   ],
   "source": [
    "all_participant_ln_likelihood = utils.compute_all_participant_ln_likelihood(\n",
    "    data_we_have,\n",
    "    max_order_dict,\n",
    "    n_participants,\n",
    "    non_diseased_participant_ids,\n",
    "    theta_phi_estimates,\n",
    "    diseased_stages,\n",
    ")\n",
    "all_participant_ln_likelihood"
   ]
  },
  {
   "cell_type": "code",
   "execution_count": 38,
   "metadata": {},
   "outputs": [
    {
     "data": {
      "text/plain": [
       "{'FCI(HIP)': 1, 'GMI(HIP)': 3, 'FCI(Fusi)': 5, 'FCI(PCC)': 2, 'GMI(FUS)': 4}"
      ]
     },
     "execution_count": 38,
     "metadata": {},
     "output_type": "execute_result"
    }
   ],
   "source": [
    "real_order_dict = dict(zip(biomarkers, real_order))\n",
    "real_order_dict"
   ]
  },
  {
   "cell_type": "code",
   "execution_count": 39,
   "metadata": {},
   "outputs": [
    {
     "data": {
      "text/plain": [
       "-1198.2782155380535"
      ]
     },
     "execution_count": 39,
     "metadata": {},
     "output_type": "execute_result"
    }
   ],
   "source": [
    "all_participant_ln_likelihood = utils.compute_all_participant_ln_likelihood(\n",
    "    data_we_have,\n",
    "    real_order_dict,\n",
    "    n_participants,\n",
    "    non_diseased_participant_ids,\n",
    "    theta_phi_estimates,\n",
    "    diseased_stages,\n",
    ")\n",
    "all_participant_ln_likelihood"
   ]
  }
 ],
 "metadata": {
  "kernelspec": {
   "display_name": "bayes",
   "language": "python",
   "name": "python3"
  },
  "language_info": {
   "codemirror_mode": {
    "name": "ipython",
    "version": 3
   },
   "file_extension": ".py",
   "mimetype": "text/x-python",
   "name": "python",
   "nbconvert_exporter": "python",
   "pygments_lexer": "ipython3",
   "version": "3.8.19"
  }
 },
 "nbformat": 4,
 "nbformat_minor": 2
}
