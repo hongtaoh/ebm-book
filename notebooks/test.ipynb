{
 "cells": [
  {
   "cell_type": "code",
   "execution_count": 2,
   "metadata": {},
   "outputs": [],
   "source": [
    "import pandas as pd\n",
    "import numpy as np"
   ]
  },
  {
   "cell_type": "markdown",
   "metadata": {},
   "source": [
    "Result using kmeans only and not making sure all healthy participants are in one cluster\n",
    "\n",
    "```\n",
    "biomarker  theta_mean  theta_std   phi_mean   phi_std\n",
    "0   HIP-FCI  -10.184583   4.277356   1.773465  3.610902\n",
    "1   HIP-GMI    0.055486   0.208481   0.562379  0.148628\n",
    "2   FUS-FCI  -17.456624   4.337658  -9.116586  2.245642\n",
    "3   PCC-FCI    4.647293   2.796464  12.062175  2.379832\n",
    "4   FUS-GMI    0.492764   0.051560   0.629581  0.039455\n",
    "```"
   ]
  },
  {
   "cell_type": "code",
   "execution_count": 3,
   "metadata": {},
   "outputs": [],
   "source": [
    "# # truth data; used to validate the estimates\n",
    "# truth = pd.read_csv('data/means_stds.csv')\n",
    "# truth"
   ]
  },
  {
   "cell_type": "code",
   "execution_count": 4,
   "metadata": {},
   "outputs": [],
   "source": [
    "dict = {\n",
    "    \"a\": {1: 0.2, 2: 0.4},\n",
    "    \"b\": {1: 0.2, 2: 0.4}\n",
    "}"
   ]
  },
  {
   "cell_type": "code",
   "execution_count": 5,
   "metadata": {},
   "outputs": [
    {
     "data": {
      "text/plain": [
       "0.2"
      ]
     },
     "execution_count": 5,
     "metadata": {},
     "output_type": "execute_result"
    }
   ],
   "source": [
    "dict['a'][1]"
   ]
  },
  {
   "cell_type": "code",
   "execution_count": 8,
   "metadata": {},
   "outputs": [],
   "source": [
    "a = []\n",
    "b = 1\n",
    "for i in range(10):\n",
    "    b = i\n",
    "    a.append(b)"
   ]
  },
  {
   "cell_type": "code",
   "execution_count": 9,
   "metadata": {},
   "outputs": [
    {
     "data": {
      "text/plain": [
       "[0, 1, 2, 3, 4, 5, 6, 7, 8, 9]"
      ]
     },
     "execution_count": 9,
     "metadata": {},
     "output_type": "execute_result"
    }
   ],
   "source": [
    "a"
   ]
  }
 ],
 "metadata": {
  "kernelspec": {
   "display_name": "bayes",
   "language": "python",
   "name": "python3"
  },
  "language_info": {
   "codemirror_mode": {
    "name": "ipython",
    "version": 3
   },
   "file_extension": ".py",
   "mimetype": "text/x-python",
   "name": "python",
   "nbconvert_exporter": "python",
   "pygments_lexer": "ipython3",
   "version": "3.8.19"
  }
 },
 "nbformat": 4,
 "nbformat_minor": 2
}
