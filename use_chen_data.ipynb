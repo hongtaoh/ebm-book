{
 "cells": [
  {
   "cell_type": "markdown",
   "metadata": {},
   "source": [
    "# Apply Algorithm to Chen's Data"
   ]
  },
  {
   "cell_type": "code",
   "execution_count": 32,
   "metadata": {},
   "outputs": [],
   "source": [
    "import pandas as pd \n",
    "import numpy as np \n",
    "import seaborn as sns\n",
    "import matplotlib.pyplot as plt \n",
    "from scipy.stats import norm\n",
    "from scipy.stats import mode\n",
    "from sklearn.cluster import KMeans\n",
    "\n",
    "iterations = 20\n",
    "burn_in = 10\n",
    "thining = 2"
   ]
  },
  {
   "cell_type": "markdown",
   "metadata": {},
   "source": [
    "## Preprocess data"
   ]
  },
  {
   "cell_type": "code",
   "execution_count": 33,
   "metadata": {},
   "outputs": [],
   "source": [
    "def get_data_we_have(file):\n",
    "    df = pd.read_excel(file)\n",
    "    df.rename(columns={df.columns[0]: 'participant_category', df.columns[1]: 'participant'}, inplace=True)\n",
    "    df['diseased'] = df.apply(lambda row: row.participant_category != 'CN', axis = 1)\n",
    "    df = pd.melt(df, id_vars=['participant_category', \"participant\", \"timestamp\", 'diseased'], \n",
    "                        value_vars=[\"FCI(HIP)\", \"GMI(HIP)\", \"FCI(Fusi)\", \"FCI(PCC)\", \"GMI(FUS)\"], \n",
    "                        var_name='biomarker', value_name='measurement')\n",
    "    # convert participant id\n",
    "    num_participant = len(df.participant.unique())\n",
    "    participant_string_id_dic = dict(zip(df.participant.unique(), [_ for _ in range(num_participant)]))\n",
    "    df['participant'] = df.apply(lambda row: participant_string_id_dic[row.participant], axis = 1 )\n",
    "    return df "
   ]
  },
  {
   "cell_type": "code",
   "execution_count": 34,
   "metadata": {},
   "outputs": [
    {
     "data": {
      "text/html": [
       "<div>\n",
       "<style scoped>\n",
       "    .dataframe tbody tr th:only-of-type {\n",
       "        vertical-align: middle;\n",
       "    }\n",
       "\n",
       "    .dataframe tbody tr th {\n",
       "        vertical-align: top;\n",
       "    }\n",
       "\n",
       "    .dataframe thead th {\n",
       "        text-align: right;\n",
       "    }\n",
       "</style>\n",
       "<table border=\"1\" class=\"dataframe\">\n",
       "  <thead>\n",
       "    <tr style=\"text-align: right;\">\n",
       "      <th></th>\n",
       "      <th>participant_category</th>\n",
       "      <th>participant</th>\n",
       "      <th>timestamp</th>\n",
       "      <th>diseased</th>\n",
       "      <th>biomarker</th>\n",
       "      <th>measurement</th>\n",
       "    </tr>\n",
       "  </thead>\n",
       "  <tbody>\n",
       "    <tr>\n",
       "      <th>0</th>\n",
       "      <td>CN</td>\n",
       "      <td>0</td>\n",
       "      <td>6/2/2011</td>\n",
       "      <td>False</td>\n",
       "      <td>FCI(HIP)</td>\n",
       "      <td>-2.544567</td>\n",
       "    </tr>\n",
       "    <tr>\n",
       "      <th>1</th>\n",
       "      <td>CN</td>\n",
       "      <td>1</td>\n",
       "      <td>9/2/2011</td>\n",
       "      <td>False</td>\n",
       "      <td>FCI(HIP)</td>\n",
       "      <td>-1.603212</td>\n",
       "    </tr>\n",
       "    <tr>\n",
       "      <th>2</th>\n",
       "      <td>CN</td>\n",
       "      <td>2</td>\n",
       "      <td>10/11/2011</td>\n",
       "      <td>False</td>\n",
       "      <td>FCI(HIP)</td>\n",
       "      <td>-4.716009</td>\n",
       "    </tr>\n",
       "    <tr>\n",
       "      <th>3</th>\n",
       "      <td>CN</td>\n",
       "      <td>3</td>\n",
       "      <td>8/8/2011</td>\n",
       "      <td>False</td>\n",
       "      <td>FCI(HIP)</td>\n",
       "      <td>-4.232625</td>\n",
       "    </tr>\n",
       "    <tr>\n",
       "      <th>4</th>\n",
       "      <td>CN</td>\n",
       "      <td>4</td>\n",
       "      <td>11/28/2011</td>\n",
       "      <td>False</td>\n",
       "      <td>FCI(HIP)</td>\n",
       "      <td>3.628361</td>\n",
       "    </tr>\n",
       "  </tbody>\n",
       "</table>\n",
       "</div>"
      ],
      "text/plain": [
       "  participant_category  participant      timestamp  diseased biomarker  \\\n",
       "0                   CN            0     6/2/2011       False  FCI(HIP)   \n",
       "1                   CN            1     9/2/2011       False  FCI(HIP)   \n",
       "2                   CN            2   10/11/2011       False  FCI(HIP)   \n",
       "3                   CN            3     8/8/2011       False  FCI(HIP)   \n",
       "4                   CN            4   11/28/2011       False  FCI(HIP)   \n",
       "\n",
       "   measurement  \n",
       "0    -2.544567  \n",
       "1    -1.603212  \n",
       "2    -4.716009  \n",
       "3    -4.232625  \n",
       "4     3.628361  "
      ]
     },
     "execution_count": 34,
     "metadata": {},
     "output_type": "execute_result"
    }
   ],
   "source": [
    "data_we_have = get_data_we_have(\"data/Chen2016Data.xlsx\")\n",
    "data_we_have.head()"
   ]
  },
  {
   "cell_type": "code",
   "execution_count": 35,
   "metadata": {},
   "outputs": [
    {
     "data": {
      "text/plain": [
       "(45, 144)"
      ]
     },
     "execution_count": 35,
     "metadata": {},
     "output_type": "execute_result"
    }
   ],
   "source": [
    "## These are the healthy participants (Participant ID)\n",
    "non_diseased_participants = list(set(data_we_have.loc[data_we_have.diseased == False].participant))\n",
    "len(non_diseased_participants), len(set(data_we_have.participant))"
   ]
  },
  {
   "cell_type": "code",
   "execution_count": 36,
   "metadata": {},
   "outputs": [
    {
     "data": {
      "text/plain": [
       "['FCI(HIP)', 'FCI(Fusi)', 'GMI(FUS)', 'GMI(HIP)', 'FCI(PCC)']"
      ]
     },
     "execution_count": 36,
     "metadata": {},
     "output_type": "execute_result"
    }
   ],
   "source": [
    "biomarkers = list(set(data_we_have.biomarker))\n",
    "biomarkers"
   ]
  },
  {
   "cell_type": "code",
   "execution_count": 37,
   "metadata": {},
   "outputs": [
    {
     "data": {
      "text/plain": [
       "5"
      ]
     },
     "execution_count": 37,
     "metadata": {},
     "output_type": "execute_result"
    }
   ],
   "source": [
    "num_biomarkers = len(biomarkers)\n",
    "num_biomarkers"
   ]
  },
  {
   "cell_type": "markdown",
   "metadata": {},
   "source": [
    "## Get Theta and Phi Estimates Using k-means"
   ]
  },
  {
   "cell_type": "code",
   "execution_count": 38,
   "metadata": {},
   "outputs": [],
   "source": [
    "def get_theta_phi_using_kmeans(data, biomarker, kmeans_setup):\n",
    "    \"\"\"To get theta and phi parametesr using Kmeans algorithm\n",
    "    Input:\n",
    "        - data: data we have right now, without access to S_n and kj\n",
    "        - biomarker: a string of biomarker name\n",
    "    Output:\n",
    "        mean and std of theta and phi\n",
    "    \"\"\"\n",
    "    # two empty clusters to strore measurements\n",
    "    clusters = [[] for _ in range(2)]\n",
    "    # dataframe for this biomarker\n",
    "    biomarker_df = data[data['biomarker'] == biomarker].reset_index(drop=True)\n",
    "    measurements = np.array(biomarker_df['measurement'])\n",
    "    # reshape to satisfy sklearn requirements\n",
    "    measurements = measurements.reshape(-1, 1)\n",
    "    # dataframe for non-diseased participants\n",
    "    healthy_df = biomarker_df[biomarker_df['diseased'] == False]\n",
    "    kmeans = kmeans_setup.fit(measurements)\n",
    "    predictions = kmeans.predict(measurements)\n",
    "    # to store measurements into their cluster\n",
    "    for i, prediction in enumerate(predictions):\n",
    "        clusters[prediction].append(measurements[i][0])\n",
    "    # which cluster are healthy participants in\n",
    "    healthy_predictions = kmeans.predict(measurements[healthy_df.index])\n",
    "    # the mode of the above predictions will be the phi cluster index\n",
    "    phi_cluster_idx = mode(healthy_predictions, keepdims=False).mode\n",
    "    theta_cluster_idx = 1 - phi_cluster_idx\n",
    "    theta_mean, theta_std = np.mean(clusters[theta_cluster_idx]), np.std(clusters[theta_cluster_idx])\n",
    "    phi_mean, phi_std = np.mean(clusters[phi_cluster_idx]), np.std(clusters[phi_cluster_idx])\n",
    "    return theta_mean, theta_std, phi_mean, phi_std"
   ]
  },
  {
   "cell_type": "code",
   "execution_count": 39,
   "metadata": {},
   "outputs": [],
   "source": [
    "def get_theta_phi_kmeans(data_we_have, biomarkers, n_clusters,):\n",
    "    kmeans_setup = KMeans(n_clusters, random_state=0, n_init=\"auto\")\n",
    "    # empty list of dictionaries to store the estimates \n",
    "    means_stds_estimate_dict_list = []\n",
    "    for biomarker in biomarkers:\n",
    "        dic = {'biomarker': biomarker}\n",
    "        theta_mean, theta_std, phi_mean, phi_std = get_theta_phi_using_kmeans(data_we_have, biomarker, kmeans_setup)\n",
    "        dic['theta_mean'] = theta_mean\n",
    "        dic['theta_std'] = theta_std\n",
    "        dic['phi_mean'] = phi_mean\n",
    "        dic['phi_std'] = phi_std\n",
    "        means_stds_estimate_dict_list.append(dic)\n",
    "    return pd.DataFrame(means_stds_estimate_dict_list)"
   ]
  },
  {
   "cell_type": "code",
   "execution_count": 40,
   "metadata": {},
   "outputs": [
    {
     "data": {
      "text/html": [
       "<div>\n",
       "<style scoped>\n",
       "    .dataframe tbody tr th:only-of-type {\n",
       "        vertical-align: middle;\n",
       "    }\n",
       "\n",
       "    .dataframe tbody tr th {\n",
       "        vertical-align: top;\n",
       "    }\n",
       "\n",
       "    .dataframe thead th {\n",
       "        text-align: right;\n",
       "    }\n",
       "</style>\n",
       "<table border=\"1\" class=\"dataframe\">\n",
       "  <thead>\n",
       "    <tr style=\"text-align: right;\">\n",
       "      <th></th>\n",
       "      <th>biomarker</th>\n",
       "      <th>theta_mean</th>\n",
       "      <th>theta_std</th>\n",
       "      <th>phi_mean</th>\n",
       "      <th>phi_std</th>\n",
       "    </tr>\n",
       "  </thead>\n",
       "  <tbody>\n",
       "    <tr>\n",
       "      <th>0</th>\n",
       "      <td>FCI(HIP)</td>\n",
       "      <td>2.794918</td>\n",
       "      <td>2.983066</td>\n",
       "      <td>-5.546734</td>\n",
       "      <td>2.887983</td>\n",
       "    </tr>\n",
       "    <tr>\n",
       "      <th>1</th>\n",
       "      <td>FCI(Fusi)</td>\n",
       "      <td>-19.767018</td>\n",
       "      <td>4.183856</td>\n",
       "      <td>-10.216922</td>\n",
       "      <td>3.021294</td>\n",
       "    </tr>\n",
       "    <tr>\n",
       "      <th>2</th>\n",
       "      <td>GMI(FUS)</td>\n",
       "      <td>0.457107</td>\n",
       "      <td>0.044667</td>\n",
       "      <td>0.569150</td>\n",
       "      <td>0.035734</td>\n",
       "    </tr>\n",
       "    <tr>\n",
       "      <th>3</th>\n",
       "      <td>GMI(HIP)</td>\n",
       "      <td>0.341778</td>\n",
       "      <td>0.054571</td>\n",
       "      <td>0.482245</td>\n",
       "      <td>0.037704</td>\n",
       "    </tr>\n",
       "    <tr>\n",
       "      <th>4</th>\n",
       "      <td>FCI(PCC)</td>\n",
       "      <td>11.583134</td>\n",
       "      <td>3.358987</td>\n",
       "      <td>1.781998</td>\n",
       "      <td>3.292063</td>\n",
       "    </tr>\n",
       "  </tbody>\n",
       "</table>\n",
       "</div>"
      ],
      "text/plain": [
       "   biomarker  theta_mean  theta_std   phi_mean   phi_std\n",
       "0   FCI(HIP)    2.794918   2.983066  -5.546734  2.887983\n",
       "1  FCI(Fusi)  -19.767018   4.183856 -10.216922  3.021294\n",
       "2   GMI(FUS)    0.457107   0.044667   0.569150  0.035734\n",
       "3   GMI(HIP)    0.341778   0.054571   0.482245  0.037704\n",
       "4   FCI(PCC)   11.583134   3.358987   1.781998  3.292063"
      ]
     },
     "execution_count": 40,
     "metadata": {},
     "output_type": "execute_result"
    }
   ],
   "source": [
    "theta_phi_kmeans = get_theta_phi_kmeans(data_we_have, biomarkers, n_clusters = 2)\n",
    "theta_phi_kmeans"
   ]
  },
  {
   "cell_type": "markdown",
   "metadata": {},
   "source": [
    "## Metropolis-Hastings Algorithm Implementation Solely Dependent on Theta_Phi_Kmeans"
   ]
  },
  {
   "cell_type": "code",
   "execution_count": 41,
   "metadata": {},
   "outputs": [],
   "source": [
    "def fill_up_pdata(pdata, k_j):\n",
    "    '''Fill up a single participant's data using k_j; basically add two columns: \n",
    "    k_j and affected\n",
    "    Note that this function assumes that pdata already has the S_n column\n",
    "    \n",
    "    Input:\n",
    "    - pdata: a dataframe of ten biomarker values for a specific participant \n",
    "    - k_j: a scalar\n",
    "    '''\n",
    "    data = pdata.copy()\n",
    "    data['k_j'] = k_j\n",
    "    data['affected'] = data.apply(lambda row: row.k_j >= row.S_n, axis = 1)\n",
    "    return data "
   ]
  },
  {
   "cell_type": "code",
   "execution_count": 42,
   "metadata": {},
   "outputs": [],
   "source": [
    "def compute_single_measurement_likelihood(theta_phi, biomarker, affected, measurement):\n",
    "    '''Computes the likelihood of the measurement value of a single biomarker\n",
    "    We know the normal distribution defined by either theta or phi\n",
    "    and we know the measurement. This will give us the probability\n",
    "    of this given measurement value. \n",
    "\n",
    "    input:\n",
    "    - theta_phi: the dataframe containing theta and phi values for each biomarker\n",
    "    - biomarker: an integer between 0 and 9 \n",
    "    - affected: boolean \n",
    "    - measurement: the observed value for a biomarker in a specific participant\n",
    "\n",
    "    output: a scalar\n",
    "    '''\n",
    "    biomarker_params = theta_phi[theta_phi.biomarker == biomarker].reset_index()\n",
    "    mu = biomarker_params['theta_mean'][0] if affected else biomarker_params['phi_mean'][0]\n",
    "    std = biomarker_params['theta_std'][0] if affected else biomarker_params['phi_std'][0]\n",
    "    var = std**2\n",
    "    likelihood = np.exp(-(measurement - mu)**2/(2*var))/np.sqrt(2*np.pi*var)\n",
    "    return likelihood"
   ]
  },
  {
   "cell_type": "code",
   "execution_count": 43,
   "metadata": {},
   "outputs": [],
   "source": [
    "def compute_likelihood(pdata, k_j, theta_phi):\n",
    "    '''This implementes the formula of https://ebm-book2.vercel.app/distributions.html#known-k-j\n",
    "    This function computes the likelihood of seeing this sequence of biomarker values for a specific participant\n",
    "    '''\n",
    "    data = fill_up_pdata(pdata, k_j)\n",
    "    likelihood = 1\n",
    "    for i, row in data.iterrows():\n",
    "        biomarker = row['biomarker']\n",
    "        measurement = row['measurement']\n",
    "        affected = row['affected']\n",
    "        likelihood *= compute_single_measurement_likelihood(\n",
    "            theta_phi, biomarker, affected, measurement)\n",
    "    return likelihood"
   ]
  },
  {
   "cell_type": "code",
   "execution_count": 44,
   "metadata": {},
   "outputs": [],
   "source": [
    "def metropolis_hastings_with_theta_phi_kmeans(\n",
    "        data_we_have, iterations, theta_phi, non_diseased_participants,\n",
    "        burn_in, thining, \n",
    "        ):\n",
    "    '''Implement the metropolis-hastings algorithm\n",
    "    Inputs: \n",
    "        - data: data_we_have\n",
    "        - iterations: number of iterations\n",
    "\n",
    "    Outputs:\n",
    "        - best_order: a numpy array\n",
    "        - best_likelihood: a scalar \n",
    "    '''\n",
    "    num_participants = len(data_we_have.participant.unique())\n",
    "    num_biomarkers = len(data_we_have.biomarker.unique())\n",
    "    num_stages = num_biomarkers + 1\n",
    "\n",
    "    all_dicts = []\n",
    "\n",
    "    # initialize an ordering and likelihood\n",
    "    # note that it should be a random permutation of numbers 1-10\n",
    "    best_order = np.random.permutation(np.arange(1, num_stages))\n",
    "    biomarker_names = np.array(list(data_we_have.biomarker.unique()))\n",
    "    biomarker_best_order_dic = dict(zip(biomarker_names, best_order))\n",
    "\n",
    "    best_likelihood = -np.inf\n",
    "\n",
    "    # initialize participant_stages \n",
    "    # note that high should be num_stages; otherwise, no participants will be in the stage of 10\n",
    "    participant_stages = np.random.randint(low = 0, high = num_stages, size = num_participants)\n",
    "    participant_stages[non_diseased_participants] = 0\n",
    "\n",
    "    for _ in range(iterations):\n",
    "        new_order = best_order.copy()\n",
    "        # randomly select two indices\n",
    "        a, b = np.random.choice(num_biomarkers, 2, replace=False)\n",
    "        # swapping the order\n",
    "        new_order[a], new_order[b] = new_order[b], new_order[a]\n",
    "        # biomarker - order dict\n",
    "        ordering_dic = dict(zip(biomarker_names, new_order))\n",
    "        # fill up S_n column using the ordering dict\n",
    "        # copy first in order not to change data_we_have\n",
    "        data = data_we_have.copy()\n",
    "        # now data_we_have has S_n column\n",
    "        data['S_n'] = data.apply(lambda row: ordering_dic[row['biomarker']], axis = 1)\n",
    "\n",
    "        all_participant_ln_likelihood = 0 \n",
    "        for p in range(num_participants):\n",
    "            # copy participant_stages \n",
    "            participant_stages_copy = participant_stages.copy()\n",
    "            # this participant data\n",
    "            pdata = data[data.participant == p].reset_index(drop=True)\n",
    "\n",
    "            \"\"\"If this participant is not diseased (i.e., if we know k_j is equal to 0)\n",
    "            We still need to compute the likelihood of this participant seeing this sequence of biomarker data\n",
    "            but we do not need to estimate k_j like below\n",
    "\n",
    "            We still need to compute the likelihood because we need to add it to all_participant_ln_likelihood\n",
    "            \"\"\"\n",
    "            if p in non_diseased_participants:\n",
    "                # the following will update pdata's kj and affect columns\n",
    "                this_participant_likelihood = compute_likelihood(\n",
    "                    pdata, k_j = 0, theta_phi = theta_phi)\n",
    "                this_participant_ln_likelihood = np.log(this_participant_likelihood)\n",
    "            else:\n",
    "                # initiaze stage_likelihood\n",
    "                stage_likelihood = np.zeros(num_stages)\n",
    "                for k_j in range(num_stages):\n",
    "                    # even though data above has everything, it is filled up by random stages\n",
    "                    # we don't like it and want to know the true k_j. All the following is to update participant_stages\n",
    "\n",
    "                    # likelihood for this participant to have this specific sequence of biomarker values\n",
    "                    participant_likelihood = compute_likelihood(pdata, k_j, theta_phi)\n",
    "\n",
    "                    # update each stage likelihood for this participant\n",
    "                    stage_likelihood[k_j] = participant_likelihood\n",
    "                likelihood_sum = np.sum(stage_likelihood)\n",
    "                normalized_stage_likelihood = [l/likelihood_sum for l in stage_likelihood]\n",
    "                sampled_stage = np.random.choice(np.arange(num_stages), p = normalized_stage_likelihood)\n",
    "                participant_stages_copy[p] = sampled_stage   \n",
    "\n",
    "                # if participant is at sample_stage, \n",
    "                # what is the likelihood of this participant having this sequence of biomarker data:\n",
    "                this_participant_likelihood =  stage_likelihood[sampled_stage]\n",
    "\n",
    "                # then, update all_participant_likelihood\n",
    "                if this_participant_likelihood == 0:\n",
    "                    this_participant_ln_likelihood = np.log(this_participant_likelihood + 1e20)\n",
    "                else:\n",
    "                    this_participant_ln_likelihood = np.log(this_participant_likelihood)\n",
    "            \"\"\"\n",
    "            All the codes in between are calculating this_participant_ln_likelihood. If we already know kj=0, then\n",
    "            it's very simple. If kj is unknown, we need to calculate the likelihood of seeing this sequence of biomarker\n",
    "            data at different stages, and get the relative likelihood before we get a sampled stage. Then we calculate\n",
    "            this_participant_ln_likelihood again. \n",
    "            \"\"\"\n",
    "            all_participant_ln_likelihood += this_participant_ln_likelihood\n",
    "            \n",
    "        \"\"\"\n",
    "        The key to both `metropolis_hastings_with_theta_phi_kmeans` and `metropolis_hastings` is to \n",
    "        compare best_likelihood and the likelihood of all participants having specific sequences of measurements\n",
    "        based on the assumed S_n. \n",
    "\n",
    "        The difference lies in how to calculate all_participant_ln_likelihood. \n",
    "\n",
    "        `metropolis_hastings_with_theta_phi_kmeans` tries to obtain k_j and calculate each likelihood exactly \n",
    "        whereas `metropolis_hastings` did not obtain exact k_j and calculate the average likelihood instead\n",
    "        \"\"\"\n",
    "        acceptance_ratio = np.exp(all_participant_ln_likelihood - best_likelihood)\n",
    "        random_number = np.random.rand()\n",
    "        if random_number < acceptance_ratio:\n",
    "            best_likelihood = all_participant_ln_likelihood\n",
    "            biomarker_best_order_dic = ordering_dic\n",
    "            participant_stages = participant_stages_copy\n",
    "        \n",
    "        if _ >= burn_in and _ % thining == 0:\n",
    "            all_dicts.append(ordering_dic)\n",
    "\n",
    "        if (_+1) % 10 == 0:\n",
    "            print(f\"iteration {_ + 1} done\")\n",
    "    return biomarker_best_order_dic, participant_stages, all_dicts"
   ]
  },
  {
   "cell_type": "code",
   "execution_count": 45,
   "metadata": {},
   "outputs": [
    {
     "name": "stdout",
     "output_type": "stream",
     "text": [
      "iteration 10 done\n",
      "iteration 20 done\n"
     ]
    }
   ],
   "source": [
    "biomarker_best_order_dic, participant_stages, all_dicts = metropolis_hastings_with_theta_phi_kmeans(\n",
    "    data_we_have, iterations, theta_phi = theta_phi_kmeans, \n",
    "    non_diseased_participants = non_diseased_participants,\n",
    "    burn_in = burn_in, thining = thining, )"
   ]
  },
  {
   "cell_type": "code",
   "execution_count": 46,
   "metadata": {},
   "outputs": [
    {
     "data": {
      "text/plain": [
       "[{'FCI(HIP)': 4, 'GMI(HIP)': 1, 'FCI(Fusi)': 2, 'FCI(PCC)': 3, 'GMI(FUS)': 5},\n",
       " {'FCI(HIP)': 5, 'GMI(HIP)': 1, 'FCI(Fusi)': 2, 'FCI(PCC)': 4, 'GMI(FUS)': 3},\n",
       " {'FCI(HIP)': 3, 'GMI(HIP)': 1, 'FCI(Fusi)': 2, 'FCI(PCC)': 5, 'GMI(FUS)': 4},\n",
       " {'FCI(HIP)': 4, 'GMI(HIP)': 3, 'FCI(Fusi)': 2, 'FCI(PCC)': 5, 'GMI(FUS)': 1},\n",
       " {'FCI(HIP)': 4, 'GMI(HIP)': 1, 'FCI(Fusi)': 5, 'FCI(PCC)': 2, 'GMI(FUS)': 3}]"
      ]
     },
     "execution_count": 46,
     "metadata": {},
     "output_type": "execute_result"
    }
   ],
   "source": [
    "all_dicts"
   ]
  },
  {
   "cell_type": "code",
   "execution_count": 47,
   "metadata": {},
   "outputs": [],
   "source": [
    "def get_biomarker_stage_probability(df, num_biomarkers):\n",
    "    # Create an empty list to hold dictionaries\n",
    "    dict_list = []\n",
    "\n",
    "    # for each biomarker\n",
    "    for col in df.columns:\n",
    "        dic = {\"biomarker\": col}\n",
    "        # get the frequency of biomarkers\n",
    "        stage_counts = df[col].value_counts()\n",
    "        # for each stage\n",
    "        for i in range(1, num_biomarkers + 1):\n",
    "            # get stage:prabability\n",
    "            dic[i] = stage_counts.get(i, 0)/len(df)\n",
    "        dict_list.append(dic)\n",
    "\n",
    "    dff = pd.DataFrame(dict_list)\n",
    "    dff.set_index(dff.columns[0], inplace=True)\n",
    "    return dff "
   ]
  },
  {
   "cell_type": "code",
   "execution_count": 48,
   "metadata": {},
   "outputs": [],
   "source": [
    "# import plotly.express as px\n",
    "\n",
    "# # Create the heatmap\n",
    "# fig = px.imshow(biomarker_stage_probability_df, \n",
    "#                 labels=dict(x=\"Stage\", y=\"Biomarker\", color=\"Probability\"),\n",
    "#                 x=[1, 2, 3, 4, 5],\n",
    "#                 y=biomarker_stage_probability_df.index,\n",
    "#                 color_continuous_scale='Greys'\n",
    "#                 )\n",
    "\n",
    "# # Update layout for better readability and set figure size\n",
    "# fig.update_layout(title=\"Biomarker Stage Probability Heatmap\",\n",
    "#                   width=600,   # Set the width of the figure\n",
    "#                   height=400)  # Set the height of the figure\n",
    "\n",
    "# # Show the plot\n",
    "# fig.show()"
   ]
  },
  {
   "cell_type": "code",
   "execution_count": 49,
   "metadata": {},
   "outputs": [
    {
     "data": {
      "image/png": "[encoded data removed]",
      "text/plain": [
       "<Figure size 640x480 with 2 Axes>"
      ]
     },
     "metadata": {},
     "output_type": "display_data"
    }
   ],
   "source": [
    "df = pd.DataFrame(all_dicts)\n",
    "biomarker_stage_probability_df = get_biomarker_stage_probability(df, num_biomarkers)\n",
    "sns.heatmap(biomarker_stage_probability_df, annot=True, cmap=\"Greys\", linewidths=.5, cbar_kws={'label': 'Probability'})\n",
    "plt.xlabel('Stage')\n",
    "plt.ylabel('Biomarker')\n",
    "plt.title('Heatmap of Biomarkers Involvement in Stages')\n",
    "plt.show()"
   ]
  },
  {
   "cell_type": "markdown",
   "metadata": {},
   "source": [
    "## Estimate Theta and Phi Based on Conjugate Priors"
   ]
  },
  {
   "cell_type": "code",
   "execution_count": 50,
   "metadata": {},
   "outputs": [],
   "source": [
    "def estimate_params_exact(m0, n0, s0_sq, v0, data):\n",
    "    '''This is to estimate means and vars based on conjugate priors\n",
    "    Inputs:\n",
    "        - data: a vector of measurements \n",
    "        - m0: prior estimate of $\\mu$.\n",
    "        - n0: how strongly is the prior belief in $m_0$ is held.\n",
    "        - s0_sq: prior estimate of $\\sigma^2$.\n",
    "        - v0: prior degress of freedome, influencing the certainty of $s_0^2$.\n",
    "    \n",
    "    Outputs:\n",
    "        - mu estiate, std estimate\n",
    "    '''\n",
    "    # Data summary\n",
    "    sample_mean = np.mean(data)\n",
    "    sample_size = len(data)\n",
    "    sample_var = np.var(data, ddof=1)  # ddof=1 for unbiased estimator\n",
    "\n",
    "    # Update hyperparameters for the Normal-Inverse Gamma posterior\n",
    "    updated_m0 = (n0 * m0 + sample_size * sample_mean) / (n0 + sample_size)\n",
    "    updated_n0 = n0 + sample_size\n",
    "    updated_v0 = v0 + sample_size \n",
    "    updated_s0_sq = (1 / updated_v0) * ((sample_size - 1) * sample_var + v0 * s0_sq + \n",
    "                    (n0 * sample_size / updated_n0) * (sample_mean - m0)**2)\n",
    "    updated_alpha = updated_v0/2\n",
    "    updated_beta = updated_v0*updated_s0_sq/2\n",
    "\n",
    "    # Posterior estimates\n",
    "    mu_posterior_mean = updated_m0\n",
    "    sigma_squared_posterior_mean = updated_beta/updated_alpha\n",
    "\n",
    "    mu_estimation = mu_posterior_mean\n",
    "    std_estimation = np.sqrt(sigma_squared_posterior_mean)\n",
    "\n",
    "    return mu_estimation, std_estimation"
   ]
  },
  {
   "cell_type": "code",
   "execution_count": 51,
   "metadata": {},
   "outputs": [],
   "source": [
    "def get_estimated_means_stds_df(biomarkers, data_we_have, theta_phi_kmeans):\n",
    "    '''To get estimated parameters, returns a Pandas DataFrame\n",
    "    Input:\n",
    "    - biomarkers: biomarkers \n",
    "    - data_we_have: participants data filled with initial or updated participant_stages\n",
    "\n",
    "    Output: \n",
    "    - estimate_means_std_df, just like means_stds_df, containing the estimated mean and std_dev for \n",
    "      distribution of biomarker values when the biomarker is affected and not affected\n",
    "\n",
    "    Note that, there is one bug we need to fix: Sometimes, data_full might have only one observation or no ob\n",
    "    '''\n",
    "     # empty list of dictionaries to store the estimates \n",
    "    means_stds_estimate_dict_list = []\n",
    "    \n",
    "    for biomarker in biomarkers: \n",
    "        dic = {'biomarker': biomarker}  # Initialize dictionary outside the inner loop\n",
    "        for affected in [True, False]:\n",
    "            data_full = data_we_have[(data_we_have.biomarker == biomarker) & (\n",
    "            data_we_have.affected == affected)]\n",
    "            if len(data_full) > 1:\n",
    "                measurements = data_full.measurement\n",
    "                mu_estimate, std_estimate = estimate_params_exact(\n",
    "                    m0 = 0, n0 = 1, s0_sq = 1, v0 = 1, data=measurements)\n",
    "                if affected:\n",
    "                    dic['theta_mean'] = mu_estimate\n",
    "                    dic['theta_std'] = std_estimate\n",
    "                else:\n",
    "                    dic['phi_mean'] = mu_estimate\n",
    "                    dic['phi_std'] = std_estimate\n",
    "            # If there is only one observation or not observation at all, resort to theta_phi_kmeans\n",
    "            # YES, IT IS POSSIBLE THAT DATA_FULL HERE IS NULL\n",
    "            # For example, if a biomarker indicates stage of (num_biomarkers), but all participants' stages\n",
    "            # are smaller than that stage; so that for all participants, this biomarker is not affected\n",
    "            else:\n",
    "                # DONT FORGTE RESET_INDEX; this because you are acessing [0]\n",
    "                theta_phi_kmeans_biomarker_row = theta_phi_kmeans[\n",
    "                    theta_phi_kmeans.biomarker == biomarker].reset_index(drop=True)\n",
    "                if affected:\n",
    "                    dic['theta_mean'] = theta_phi_kmeans_biomarker_row['theta_mean'][0]\n",
    "                    dic['theta_std'] = theta_phi_kmeans_biomarker_row['theta_std'][0]\n",
    "                else:\n",
    "                    dic['phi_mean'] = theta_phi_kmeans_biomarker_row['phi_mean'][0]\n",
    "                    dic['phi_std'] = theta_phi_kmeans_biomarker_row['phi_std'][0]\n",
    "        # print(f\"biomarker {biomarker} done!\")\n",
    "        means_stds_estimate_dict_list.append(dic)\n",
    "    estimate_means_stds_df = pd.DataFrame(means_stds_estimate_dict_list)\n",
    "    return estimate_means_stds_df "
   ]
  },
  {
   "cell_type": "code",
   "execution_count": 52,
   "metadata": {},
   "outputs": [],
   "source": [
    "def add_kj_and_affected(data_we_have, participant_stages, num_participants):\n",
    "    '''This is to fill up data_we_have. \n",
    "    Basically, add two columns: k_j, and affected, based on the initial or updated participant_stages\n",
    "    Note that we assume here we've already got S_n\n",
    "\n",
    "    Inputs:\n",
    "        - data_we_have\n",
    "        - participant_stages: np array \n",
    "        - participants: 0-99\n",
    "    '''\n",
    "    participant_stage_dic = dict(zip(np.arange(0, num_participants), participant_stages))\n",
    "    data_we_have['k_j'] = data_we_have.apply(lambda row: participant_stage_dic[row.participant], axis = 1)\n",
    "    data_we_have['affected'] = data_we_have.apply(lambda row: row.k_j >= row.S_n, axis = 1)\n",
    "    return data_we_have "
   ]
  },
  {
   "cell_type": "code",
   "execution_count": 53,
   "metadata": {},
   "outputs": [],
   "source": [
    "def metropolis_hastings_unknown_theta_phi(\n",
    "        data_we_have, iterations, non_diseased_participants, burn_in, thining, theta_phi_kmeans):\n",
    "    num_participants = len(data_we_have.participant.unique())\n",
    "    num_biomarkers = len(data_we_have.biomarker.unique())\n",
    "    biomarker_names = np.array(list(data_we_have.biomarker.unique()))\n",
    "\n",
    "    all_dicts = []\n",
    "\n",
    "    # initialize an ordering and likelihood\n",
    "    # note that it should be a random permutation of numbers 1-10\n",
    "    best_order = np.random.permutation(np.arange(1, num_biomarkers+1))\n",
    "    biomarker_best_order_dic = dict(zip(biomarker_names, best_order))\n",
    "    best_likelihood = -np.inf \n",
    "\n",
    "    # initialize participant_stages \n",
    "    # note that high should be num_biomarkers + 1; otherwise, no participants will be in the stage of 10\n",
    "    participant_stages = np.random.randint(low = 0, high = num_biomarkers + 1, size = num_participants)\n",
    "    participant_stages[non_diseased_participants] = 0\n",
    "\n",
    "    for _ in range(iterations):\n",
    "        participant_stages_copy = participant_stages.copy()\n",
    "        # when we update best_order below,\n",
    "        # in each iteration, new_order will also update\n",
    "        new_order = best_order.copy()\n",
    "        # randomly select two indices\n",
    "        a, b = np.random.choice(num_biomarkers, 2, replace=False)\n",
    "        # swaping the order\n",
    "        new_order[a], new_order[b] = new_order[b], new_order[a]\n",
    "\n",
    "        # likelihood of seeing all participants' data \n",
    "        # biomarker - order dict\n",
    "        ordering_dic = dict(zip(biomarker_names, new_order))\n",
    "        # fill up S_n column using the ordering dict\n",
    "        # copy first in order not to change data_we_have\n",
    "        data = data_we_have.copy()\n",
    "        # now data_we_have has S_n column\n",
    "        data['S_n'] = data.apply(lambda row: ordering_dic[row['biomarker']], axis = 1)\n",
    "\n",
    "        # add kj and affected based on the initial randomized participant_stages\n",
    "        data = add_kj_and_affected(data, participant_stages_copy, num_participants)\n",
    "        # print(data.head())\n",
    "\n",
    "        # get estimated_theta_phi\n",
    "        estimated_theta_phi = get_estimated_means_stds_df(biomarker_names, data_we_have=data, theta_phi_kmeans=theta_phi_kmeans)\n",
    "\n",
    "        all_participant_ln_likelihood = 0 \n",
    "        for p in range(num_participants):\n",
    "            # this participant data\n",
    "            pdata = data[data.participant == p].reset_index(drop=True)\n",
    "\n",
    "            \"\"\"If this participant is not diseased (i.e., if we know k_j is equal to 0)\n",
    "            We still need to compute the likelihood of this participant seeing this sequence of biomarker data\n",
    "            but we do not need to estimate k_j like below\n",
    "\n",
    "            We still need to compute the likelihood because we need to add it to all_participant_ln_likelihood\n",
    "            \"\"\"\n",
    "            if p in non_diseased_participants:\n",
    "                this_participant_likelihood = compute_likelihood(\n",
    "                    pdata, k_j = 0, theta_phi = estimated_theta_phi)\n",
    "                this_participant_ln_likelihood = np.log(this_participant_likelihood)\n",
    "            else:\n",
    "                # initiaze stage_likelihood\n",
    "                stage_likelihood = np.zeros(num_biomarkers + 1)\n",
    "                for k_j in range(num_biomarkers +1):\n",
    "                    # even though data above has everything, it is filled up by random stages\n",
    "                    # we don't like it and want to know the true k_j. All the following is to update participant_stages\n",
    "\n",
    "                    # likelihood for this participant to have this specific sequence of biomarker values\n",
    "                    participant_likelihood = compute_likelihood(pdata, k_j, estimated_theta_phi)\n",
    "\n",
    "                    # update each stage likelihood for this participant\n",
    "                    stage_likelihood[k_j] = participant_likelihood\n",
    "                likelihood_sum = np.sum(stage_likelihood)\n",
    "                normalized_stage_likelihood = [l/likelihood_sum for l in stage_likelihood]\n",
    "                sampled_stage = np.random.choice(np.arange(num_biomarkers + 1), p = normalized_stage_likelihood)\n",
    "                participant_stages_copy[p] = sampled_stage   \n",
    "\n",
    "                # if participant is in sampled_stage, what is the likelihood of seeing this sequence of biomarker data:\n",
    "                this_participant_likelihood =  stage_likelihood[sampled_stage]\n",
    "\n",
    "                # then, update all_participant_likelihood\n",
    "                if this_participant_likelihood == 0:\n",
    "                    this_participant_ln_likelihood = np.log(this_participant_likelihood + 1e20)\n",
    "                else:\n",
    "                    this_participant_ln_likelihood = np.log(this_participant_likelihood)\n",
    "            all_participant_ln_likelihood += this_participant_ln_likelihood\n",
    "            \n",
    "        acceptance_ratio = np.exp(all_participant_ln_likelihood - best_likelihood)\n",
    "        random_number = np.random.rand()\n",
    "        if random_number < acceptance_ratio:\n",
    "            best_likelihood = all_participant_ln_likelihood\n",
    "            biomarker_best_order_dic = ordering_dic\n",
    "            participant_stages = participant_stages_copy\n",
    "        \n",
    "        if _ >= burn_in and _ % thining == 0:\n",
    "            all_dicts.append(ordering_dic)\n",
    "\n",
    "        if (_+1) % 10 == 0:\n",
    "            print(f\"iteration {_ + 1} done\")\n",
    "    return biomarker_best_order_dic, participant_stages, all_dicts"
   ]
  },
  {
   "cell_type": "code",
   "execution_count": 54,
   "metadata": {},
   "outputs": [
    {
     "data": {
      "text/html": [
       "<div>\n",
       "<style scoped>\n",
       "    .dataframe tbody tr th:only-of-type {\n",
       "        vertical-align: middle;\n",
       "    }\n",
       "\n",
       "    .dataframe tbody tr th {\n",
       "        vertical-align: top;\n",
       "    }\n",
       "\n",
       "    .dataframe thead th {\n",
       "        text-align: right;\n",
       "    }\n",
       "</style>\n",
       "<table border=\"1\" class=\"dataframe\">\n",
       "  <thead>\n",
       "    <tr style=\"text-align: right;\">\n",
       "      <th></th>\n",
       "      <th>participant_category</th>\n",
       "      <th>participant</th>\n",
       "      <th>timestamp</th>\n",
       "      <th>diseased</th>\n",
       "      <th>biomarker</th>\n",
       "      <th>measurement</th>\n",
       "    </tr>\n",
       "  </thead>\n",
       "  <tbody>\n",
       "    <tr>\n",
       "      <th>0</th>\n",
       "      <td>CN</td>\n",
       "      <td>0</td>\n",
       "      <td>6/2/2011</td>\n",
       "      <td>False</td>\n",
       "      <td>FCI(HIP)</td>\n",
       "      <td>-2.544567</td>\n",
       "    </tr>\n",
       "    <tr>\n",
       "      <th>1</th>\n",
       "      <td>CN</td>\n",
       "      <td>1</td>\n",
       "      <td>9/2/2011</td>\n",
       "      <td>False</td>\n",
       "      <td>FCI(HIP)</td>\n",
       "      <td>-1.603212</td>\n",
       "    </tr>\n",
       "    <tr>\n",
       "      <th>2</th>\n",
       "      <td>CN</td>\n",
       "      <td>2</td>\n",
       "      <td>10/11/2011</td>\n",
       "      <td>False</td>\n",
       "      <td>FCI(HIP)</td>\n",
       "      <td>-4.716009</td>\n",
       "    </tr>\n",
       "    <tr>\n",
       "      <th>3</th>\n",
       "      <td>CN</td>\n",
       "      <td>3</td>\n",
       "      <td>8/8/2011</td>\n",
       "      <td>False</td>\n",
       "      <td>FCI(HIP)</td>\n",
       "      <td>-4.232625</td>\n",
       "    </tr>\n",
       "    <tr>\n",
       "      <th>4</th>\n",
       "      <td>CN</td>\n",
       "      <td>4</td>\n",
       "      <td>11/28/2011</td>\n",
       "      <td>False</td>\n",
       "      <td>FCI(HIP)</td>\n",
       "      <td>3.628361</td>\n",
       "    </tr>\n",
       "  </tbody>\n",
       "</table>\n",
       "</div>"
      ],
      "text/plain": [
       "  participant_category  participant      timestamp  diseased biomarker  \\\n",
       "0                   CN            0     6/2/2011       False  FCI(HIP)   \n",
       "1                   CN            1     9/2/2011       False  FCI(HIP)   \n",
       "2                   CN            2   10/11/2011       False  FCI(HIP)   \n",
       "3                   CN            3     8/8/2011       False  FCI(HIP)   \n",
       "4                   CN            4   11/28/2011       False  FCI(HIP)   \n",
       "\n",
       "   measurement  \n",
       "0    -2.544567  \n",
       "1    -1.603212  \n",
       "2    -4.716009  \n",
       "3    -4.232625  \n",
       "4     3.628361  "
      ]
     },
     "execution_count": 54,
     "metadata": {},
     "output_type": "execute_result"
    }
   ],
   "source": [
    "data_we_have.head()"
   ]
  },
  {
   "cell_type": "code",
   "execution_count": 55,
   "metadata": {},
   "outputs": [
    {
     "name": "stdout",
     "output_type": "stream",
     "text": [
      "iteration 10 done\n",
      "iteration 20 done\n"
     ]
    }
   ],
   "source": [
    "biomarker_best_order_dic, participant_stages, all_dicts = metropolis_hastings_unknown_theta_phi(\n",
    "    data_we_have, iterations, non_diseased_participants, \n",
    "    burn_in, thining, theta_phi_kmeans)"
   ]
  },
  {
   "cell_type": "code",
   "execution_count": 56,
   "metadata": {},
   "outputs": [
    {
     "data": {
      "image/png": "[encoded data removed]",
      "text/plain": [
       "<Figure size 640x480 with 2 Axes>"
      ]
     },
     "metadata": {},
     "output_type": "display_data"
    }
   ],
   "source": [
    "df = pd.DataFrame(all_dicts)\n",
    "biomarker_stage_probability_df = get_biomarker_stage_probability(df, num_biomarkers)\n",
    "sns.heatmap(biomarker_stage_probability_df, annot=True, cmap=\"Greys\", linewidths=.5, cbar_kws={'label': 'Probability'})\n",
    "plt.xlabel('Stage')\n",
    "plt.ylabel('Biomarker')\n",
    "plt.title('Heatmap of Biomarkers Involvement in Stages')\n",
    "plt.show()"
   ]
  },
  {
   "cell_type": "markdown",
   "metadata": {},
   "source": [
    "## Use Average Likelihood and Without Having to Estimate Each Participange Stage"
   ]
  },
  {
   "cell_type": "code",
   "execution_count": 57,
   "metadata": {},
   "outputs": [],
   "source": [
    "def average_all_likelihood(pdata, num_biomarkers, theta_phi):\n",
    "    '''This is to compute https://ebm-book2.vercel.app/distributions.html#unknown-k-j\n",
    "    '''\n",
    "    return np.mean([compute_likelihood(pdata=pdata, k_j=x, theta_phi=theta_phi) for x in range(num_biomarkers+1)])"
   ]
  },
  {
   "cell_type": "code",
   "execution_count": 58,
   "metadata": {},
   "outputs": [],
   "source": [
    "def compute_ln_likelihood_assuming_ordering(ordering_dic, data, num_participants, num_biomarkers, theta_phi):\n",
    "    \"\"\"Compute the (ln version of) the likelihood of seeing all participants' data,\n",
    "    assuming that we already know the ordering\n",
    "    Inputs:\n",
    "        - ordering: an array of ordering for biomarker 0-9\n",
    "        - data: data_we_have\n",
    "        - num_participants\n",
    "        - num_biomarkers \n",
    "    Outputs:\n",
    "        - ln(likelihood)\n",
    "    \"\"\"\n",
    "    # fill up S_n column using the ordering dict\n",
    "    # copy first in order not to change data_we_have\n",
    "    filled_data = data.copy()\n",
    "    filled_data['S_n'] = filled_data.apply(lambda row: ordering_dic[row['biomarker']], axis = 1)\n",
    "    ln_likelihood = 0 \n",
    "    for p in range(num_participants):\n",
    "        pdata = filled_data[filled_data.participant == p].reset_index(drop=True)\n",
    "        average_likelihood = average_all_likelihood(pdata, num_biomarkers, theta_phi)\n",
    "        p_ln_likelihood = (\n",
    "            # natural logarithm\n",
    "           np.log(average_likelihood) \n",
    "           if average_likelihood > 0\n",
    "           # this is to avoid np.log(0)\n",
    "           else np.log(average_likelihood + 1e-20)\n",
    "        )\n",
    "        ln_likelihood += p_ln_likelihood\n",
    "    return ln_likelihood"
   ]
  },
  {
   "cell_type": "markdown",
   "metadata": {},
   "source": [
    "A brush up on log:\n",
    "\n",
    "$L = P1 \\cdot P2 \\cdot P3$\n",
    "\n",
    "$\\ln(L) = \\ln (P1 \\cdot P2 \\cdot P3) = \\ln(P1) + \\ln(P2) + \\ln(P3)$"
   ]
  },
  {
   "cell_type": "code",
   "execution_count": 59,
   "metadata": {},
   "outputs": [],
   "source": [
    "def metropolis_hastings_average_likelihood(data, iterations, burn_in, thining, theta_phi):\n",
    "    '''Implement the metropolis-hastings algorithm\n",
    "    Inputs: \n",
    "        - data: data_we_have\n",
    "        - iterations: number of iterations\n",
    "\n",
    "    Outputs:\n",
    "        - best_order: a numpy array\n",
    "        - best_likelihood: a scalar \n",
    "    '''\n",
    "    num_participants = len(data.participant.unique())\n",
    "    num_biomarkers = len(data.biomarker.unique())\n",
    "\n",
    "    all_dicts = []\n",
    "\n",
    "    # initialize an ordering and likelihood\n",
    "    # note that it should be a random permutation of numbers 1-10\n",
    "    best_order = np.random.permutation(np.arange(1, num_biomarkers+1))\n",
    "    biomarker_names = np.array(list(data.biomarker.unique()))\n",
    "    biomarker_best_order_dic = dict(zip(biomarker_names, best_order))\n",
    "\n",
    "    best_likelihood = -np.inf \n",
    "    # best_order = np.array(list(real_ordering_dic.values()))\n",
    "    # best_likelihood = compute_likelihood_based_on_ordering(\n",
    "    #     best_order, data, num_participants, num_biomarkers, theta_phi\n",
    "    # )\n",
    "    for _ in range(iterations):\n",
    "        new_order = best_order.copy()\n",
    "        # randomly select two indices\n",
    "        a, b = np.random.choice(num_biomarkers, 2, replace=False)\n",
    "        # swapping the order\n",
    "        new_order[a], new_order[b] = new_order[b], new_order[a]\n",
    "        biomarker_new_order_dic = dict(zip(biomarker_names, new_order))\n",
    "        ln_likelihood = compute_ln_likelihood_assuming_ordering(\n",
    "            biomarker_new_order_dic, data, num_participants, num_biomarkers, theta_phi)\n",
    "        # if swapping results in higher likelihood, \n",
    "        # update the likelihood and accept the new ordering \n",
    "        if ln_likelihood > best_likelihood:\n",
    "            best_likelihood = ln_likelihood \n",
    "            biomarker_best_order_dic = biomarker_new_order_dic\n",
    "        else: \n",
    "            # ratio = likelihood/best_likelihood\n",
    "            # np.exp(a - b) = np.exp(a)/np.exp(b)\n",
    "            acceptance_ratio = np.exp(ln_likelihood - best_likelihood)\n",
    "            random_number = np.random.rand()\n",
    "            if random_number < acceptance_ratio:\n",
    "                best_likelihood = ln_likelihood\n",
    "                biomarker_best_order_dic = biomarker_new_order_dic\n",
    "\n",
    "        if _ >= burn_in and _ % thining == 0:\n",
    "            all_dicts.append(biomarker_new_order_dic)\n",
    "        \n",
    "        if (_+1) % 10 == 0:\n",
    "            print(f\"iteration {_ + 1} done\")\n",
    "\n",
    "    return biomarker_best_order_dic, best_likelihood, all_dicts"
   ]
  },
  {
   "cell_type": "code",
   "execution_count": 60,
   "metadata": {},
   "outputs": [
    {
     "name": "stdout",
     "output_type": "stream",
     "text": [
      "iteration 10 done\n",
      "iteration 20 done\n"
     ]
    }
   ],
   "source": [
    "biomarker_best_order_dic, best_likelihood, all_dicts = metropolis_hastings_average_likelihood(\n",
    "    data_we_have, iterations, burn_in = burn_in, thining=thining, theta_phi = theta_phi_kmeans)"
   ]
  },
  {
   "cell_type": "code",
   "execution_count": 61,
   "metadata": {},
   "outputs": [
    {
     "data": {
      "image/png": "[encoded data removed]",
      "text/plain": [
       "<Figure size 640x480 with 2 Axes>"
      ]
     },
     "metadata": {},
     "output_type": "display_data"
    }
   ],
   "source": [
    "df = pd.DataFrame(all_dicts)\n",
    "biomarker_stage_probability_df = get_biomarker_stage_probability(df, num_biomarkers)\n",
    "sns.heatmap(biomarker_stage_probability_df, annot=True, cmap=\"Greys\", linewidths=.5, cbar_kws={'label': 'Probability'})\n",
    "plt.xlabel('Stage')\n",
    "plt.ylabel('Biomarker')\n",
    "plt.title('Heatmap of Biomarkers Involvement in Stages')\n",
    "plt.show()"
   ]
  }
 ],
 "metadata": {
  "kernelspec": {
   "display_name": "bayes",
   "language": "python",
   "name": "python3"
  },
  "language_info": {
   "codemirror_mode": {
    "name": "ipython",
    "version": 3
   },
   "file_extension": ".py",
   "mimetype": "text/x-python",
   "name": "python",
   "nbconvert_exporter": "python",
   "pygments_lexer": "ipython3",
   "version": "3.8.19"
  }
 },
 "nbformat": 4,
 "nbformat_minor": 2
}
