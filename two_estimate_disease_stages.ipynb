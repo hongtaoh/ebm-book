{
 "cells": [
  {
   "cell_type": "markdown",
   "metadata": {},
   "source": [
    "# Estimating participants' disease stages\n",
    "\n",
    ">Next, I'd get it working with less and less information assumed to be known. You could either start inferring the participant's stage of disease or the order for biomarkers next. I'd probably do the participant's state of disease.\n",
    "\n",
    ">For the stage of disease for a participant, I'd do probably derive a gibbs sampling step by calculating each stage's relative likelihood based on the probabilities of the biomarker values ASSUMING they are at that stage. Then you normalize and sample from that discrete distribution.  \n",
    "\n",
    "## Known $\\theta$ and $\\phi$\n",
    "\n",
    "First, let us assume that we know $\\theta$ and $\\phi$. We also know at which disease stage a biomarker is affected (i.e., $S_n$). Basically, in the `data` below, we do not have these two columns: `k_j` and `affected_or_not`. \n",
    "\n",
    "For each participant, I will iterate through all possible stages. For each stage, I will calculate the likelihood of seeing the observed sequence of biomarker values using the following formula:\n",
    "\n",
    "$$p(X_{j} | S , z_j = 1, k_j) = \\prod_{i=1}^{k_j}{p(X_{S(i)j} \\mid \\theta_n )} \\prod_{i=k_j+1}^N{p(X_{S(i)j} \\mid \\phi_n)}$$\n"
   ]
  },
  {
   "cell_type": "code",
   "execution_count": 227,
   "metadata": {},
   "outputs": [
    {
     "data": {
      "text/html": [
       "<div>\n",
       "<style scoped>\n",
       "    .dataframe tbody tr th:only-of-type {\n",
       "        vertical-align: middle;\n",
       "    }\n",
       "\n",
       "    .dataframe tbody tr th {\n",
       "        vertical-align: top;\n",
       "    }\n",
       "\n",
       "    .dataframe thead th {\n",
       "        text-align: right;\n",
       "    }\n",
       "</style>\n",
       "<table border=\"1\" class=\"dataframe\">\n",
       "  <thead>\n",
       "    <tr style=\"text-align: right;\">\n",
       "      <th></th>\n",
       "      <th>Biomarker</th>\n",
       "      <th>participant</th>\n",
       "      <th>measurement</th>\n",
       "      <th>k_j</th>\n",
       "      <th>S_n</th>\n",
       "      <th>affected_or_not</th>\n",
       "      <th>Diseased</th>\n",
       "    </tr>\n",
       "  </thead>\n",
       "  <tbody>\n",
       "    <tr>\n",
       "      <th>0</th>\n",
       "      <td>0</td>\n",
       "      <td>0</td>\n",
       "      <td>26.344572</td>\n",
       "      <td>2</td>\n",
       "      <td>4</td>\n",
       "      <td>not_affected</td>\n",
       "      <td>True</td>\n",
       "    </tr>\n",
       "    <tr>\n",
       "      <th>1</th>\n",
       "      <td>0</td>\n",
       "      <td>1</td>\n",
       "      <td>0.161759</td>\n",
       "      <td>6</td>\n",
       "      <td>4</td>\n",
       "      <td>affected</td>\n",
       "      <td>True</td>\n",
       "    </tr>\n",
       "    <tr>\n",
       "      <th>2</th>\n",
       "      <td>0</td>\n",
       "      <td>2</td>\n",
       "      <td>1.288538</td>\n",
       "      <td>8</td>\n",
       "      <td>4</td>\n",
       "      <td>affected</td>\n",
       "      <td>True</td>\n",
       "    </tr>\n",
       "    <tr>\n",
       "      <th>3</th>\n",
       "      <td>0</td>\n",
       "      <td>3</td>\n",
       "      <td>1.318667</td>\n",
       "      <td>7</td>\n",
       "      <td>4</td>\n",
       "      <td>affected</td>\n",
       "      <td>True</td>\n",
       "    </tr>\n",
       "    <tr>\n",
       "      <th>4</th>\n",
       "      <td>0</td>\n",
       "      <td>4</td>\n",
       "      <td>1.102194</td>\n",
       "      <td>4</td>\n",
       "      <td>4</td>\n",
       "      <td>affected</td>\n",
       "      <td>True</td>\n",
       "    </tr>\n",
       "  </tbody>\n",
       "</table>\n",
       "</div>"
      ],
      "text/plain": [
       "  Biomarker  participant  measurement  k_j  S_n affected_or_not  Diseased\n",
       "0         0            0    26.344572    2    4    not_affected      True\n",
       "1         0            1     0.161759    6    4        affected      True\n",
       "2         0            2     1.288538    8    4        affected      True\n",
       "3         0            3     1.318667    7    4        affected      True\n",
       "4         0            4     1.102194    4    4        affected      True"
      ]
     },
     "execution_count": 227,
     "metadata": {},
     "output_type": "execute_result"
    }
   ],
   "source": [
    "import pandas as pd \n",
    "import numpy as np \n",
    "import re \n",
    "import altair as alt \n",
    "import matplotlib.pyplot as plt \n",
    "data = pd.read_csv('data/participant_data.csv')\n",
    "data.Biomarker = [re.sub(\"Biomarker \", \"\", text) for text in data.Biomarker.tolist()]\n",
    "data['Diseased'] = data.apply(lambda row: row.k_j > 0, axis = 1)\n",
    "data.head()\n",
    "# but remember that we do not know k_j which is what we are trying to estimate. "
   ]
  },
  {
   "cell_type": "code",
   "execution_count": 228,
   "metadata": {},
   "outputs": [
    {
     "data": {
      "text/plain": [
       "[64, 97, 66, 35, 98, 16, 80, 19, 85, 25, 90]"
      ]
     },
     "execution_count": 228,
     "metadata": {},
     "output_type": "execute_result"
    }
   ],
   "source": [
    "## These are the healthy participants (Participant ID)\n",
    "non_diseased_participants = list(set(data.loc[data.Diseased == False].participant))\n",
    "non_diseased_participants"
   ]
  },
  {
   "cell_type": "markdown",
   "metadata": {},
   "source": [
    "Note that in `participant_data.csv`, $S_n \\geq 1$ because $S_n$ means the disease stage associated with a specific biomarker. $k_j \\geq 0$, indicating that participants may not be in any of the 10 disease stages (i.e., when $k_j = 0$). "
   ]
  },
  {
   "cell_type": "code",
   "execution_count": 229,
   "metadata": {},
   "outputs": [
    {
     "data": {
      "text/plain": [
       "array([ 4,  8,  3,  5,  1,  2, 10,  7,  6,  9])"
      ]
     },
     "execution_count": 229,
     "metadata": {},
     "output_type": "execute_result"
    }
   ],
   "source": [
    "data.S_n.unique()"
   ]
  },
  {
   "cell_type": "code",
   "execution_count": 230,
   "metadata": {},
   "outputs": [
    {
     "data": {
      "text/plain": [
       "array([ 2,  6,  8,  7,  4,  9, 10,  5,  1,  0,  3])"
      ]
     },
     "execution_count": 230,
     "metadata": {},
     "output_type": "execute_result"
    }
   ],
   "source": [
    "data.k_j.unique()"
   ]
  },
  {
   "cell_type": "code",
   "execution_count": 231,
   "metadata": {},
   "outputs": [
    {
     "data": {
      "text/html": [
       "<div>\n",
       "<style scoped>\n",
       "    .dataframe tbody tr th:only-of-type {\n",
       "        vertical-align: middle;\n",
       "    }\n",
       "\n",
       "    .dataframe tbody tr th {\n",
       "        vertical-align: top;\n",
       "    }\n",
       "\n",
       "    .dataframe thead th {\n",
       "        text-align: right;\n",
       "    }\n",
       "</style>\n",
       "<table border=\"1\" class=\"dataframe\">\n",
       "  <thead>\n",
       "    <tr style=\"text-align: right;\">\n",
       "      <th></th>\n",
       "      <th>biomarker</th>\n",
       "      <th>theta_mean</th>\n",
       "      <th>theta_std</th>\n",
       "      <th>phi_mean</th>\n",
       "      <th>phi_std</th>\n",
       "    </tr>\n",
       "  </thead>\n",
       "  <tbody>\n",
       "    <tr>\n",
       "      <th>0</th>\n",
       "      <td>0</td>\n",
       "      <td>1.0</td>\n",
       "      <td>0.3</td>\n",
       "      <td>32.0</td>\n",
       "      <td>6.3</td>\n",
       "    </tr>\n",
       "    <tr>\n",
       "      <th>1</th>\n",
       "      <td>1</td>\n",
       "      <td>3.0</td>\n",
       "      <td>0.5</td>\n",
       "      <td>31.0</td>\n",
       "      <td>7.4</td>\n",
       "    </tr>\n",
       "    <tr>\n",
       "      <th>2</th>\n",
       "      <td>2</td>\n",
       "      <td>5.0</td>\n",
       "      <td>0.2</td>\n",
       "      <td>34.0</td>\n",
       "      <td>9.4</td>\n",
       "    </tr>\n",
       "    <tr>\n",
       "      <th>3</th>\n",
       "      <td>3</td>\n",
       "      <td>6.0</td>\n",
       "      <td>1.3</td>\n",
       "      <td>36.0</td>\n",
       "      <td>4.9</td>\n",
       "    </tr>\n",
       "    <tr>\n",
       "      <th>4</th>\n",
       "      <td>4</td>\n",
       "      <td>8.0</td>\n",
       "      <td>3.3</td>\n",
       "      <td>38.0</td>\n",
       "      <td>2.5</td>\n",
       "    </tr>\n",
       "  </tbody>\n",
       "</table>\n",
       "</div>"
      ],
      "text/plain": [
       "   biomarker  theta_mean  theta_std  phi_mean  phi_std\n",
       "0          0         1.0        0.3      32.0      6.3\n",
       "1          1         3.0        0.5      31.0      7.4\n",
       "2          2         5.0        0.2      34.0      9.4\n",
       "3          3         6.0        1.3      36.0      4.9\n",
       "4          4         8.0        3.3      38.0      2.5"
      ]
     },
     "execution_count": 231,
     "metadata": {},
     "output_type": "execute_result"
    }
   ],
   "source": [
    "theta_phi = pd.read_csv('data/means_stds.csv')\n",
    "theta_phi.head()"
   ]
  },
  {
   "cell_type": "code",
   "execution_count": 232,
   "metadata": {},
   "outputs": [],
   "source": [
    "def compute_single_measurement_likelihood(theta_phi, biomarker, affected, measurement):\n",
    "    '''Computes the likelihood of the measurement value of a single biomarker\n",
    "    We know the normal distribution defined by either theta or phi\n",
    "    and we know the measurement. This will give us the probability\n",
    "    of this given measurement value. \n",
    "\n",
    "    input:\n",
    "    - theta_phi: the dataframe containing theta and phi values for each biomarker\n",
    "    - biomarker: an integer between 0 and 9 \n",
    "    - affected: boolean \n",
    "    - measurement: the observed value for a biomarker in a specific participant\n",
    "\n",
    "    output: a scalar\n",
    "    '''\n",
    "    biomarker_params = theta_phi[theta_phi.biomarker == biomarker].reset_index()\n",
    "    mu = biomarker_params['theta_mean'][0] if affected else biomarker_params['phi_mean'][0]\n",
    "    std = biomarker_params['theta_std'][0] if affected else biomarker_params['phi_std'][0]\n",
    "    likelihood = np.exp(-(measurement - mu)**2/(2*std**2))/np.sqrt(2*np.pi*std**2)\n",
    "    return likelihood"
   ]
  },
  {
   "cell_type": "code",
   "execution_count": 233,
   "metadata": {},
   "outputs": [],
   "source": [
    "def compute_likelihood(pdata, k_j, theta_phi):\n",
    "    '''This implementes the formula of https://ebm-book2.vercel.app/distributions.html#known-k-j\n",
    "    Inputs:\n",
    "        - pdata: data that belongs to a specific participant\n",
    "        - k_j: the disease stage the participant is at \n",
    "        - theta_phi: a dataframe containing theta and phi means & vars for all biomarkers\n",
    "    Outputs:\n",
    "        - the likelihood of seeing this sequence of measurements if the participant is at this k_j\n",
    "    '''\n",
    "    likelihood = 1\n",
    "    for i, row in pdata.iterrows():\n",
    "        biomarker = int(row['Biomarker'])\n",
    "        measurement = row['measurement']\n",
    "        affected = k_j >= row['S_n']\n",
    "        likelihood *= compute_single_measurement_likelihood(\n",
    "            theta_phi, biomarker, affected, measurement)\n",
    "    return likelihood"
   ]
  },
  {
   "cell_type": "markdown",
   "metadata": {},
   "source": [
    "## Testing the algorithm with one single participant"
   ]
  },
  {
   "cell_type": "code",
   "execution_count": 234,
   "metadata": {},
   "outputs": [
    {
     "data": {
      "text/html": [
       "<div>\n",
       "<style scoped>\n",
       "    .dataframe tbody tr th:only-of-type {\n",
       "        vertical-align: middle;\n",
       "    }\n",
       "\n",
       "    .dataframe tbody tr th {\n",
       "        vertical-align: top;\n",
       "    }\n",
       "\n",
       "    .dataframe thead th {\n",
       "        text-align: right;\n",
       "    }\n",
       "</style>\n",
       "<table border=\"1\" class=\"dataframe\">\n",
       "  <thead>\n",
       "    <tr style=\"text-align: right;\">\n",
       "      <th></th>\n",
       "      <th>Biomarker</th>\n",
       "      <th>participant</th>\n",
       "      <th>measurement</th>\n",
       "      <th>k_j</th>\n",
       "      <th>S_n</th>\n",
       "      <th>affected_or_not</th>\n",
       "      <th>Diseased</th>\n",
       "    </tr>\n",
       "  </thead>\n",
       "  <tbody>\n",
       "    <tr>\n",
       "      <th>0</th>\n",
       "      <td>0</td>\n",
       "      <td>88</td>\n",
       "      <td>25.243808</td>\n",
       "      <td>2</td>\n",
       "      <td>4</td>\n",
       "      <td>not_affected</td>\n",
       "      <td>True</td>\n",
       "    </tr>\n",
       "    <tr>\n",
       "      <th>1</th>\n",
       "      <td>1</td>\n",
       "      <td>88</td>\n",
       "      <td>27.941957</td>\n",
       "      <td>2</td>\n",
       "      <td>8</td>\n",
       "      <td>not_affected</td>\n",
       "      <td>True</td>\n",
       "    </tr>\n",
       "    <tr>\n",
       "      <th>2</th>\n",
       "      <td>2</td>\n",
       "      <td>88</td>\n",
       "      <td>26.580921</td>\n",
       "      <td>2</td>\n",
       "      <td>3</td>\n",
       "      <td>not_affected</td>\n",
       "      <td>True</td>\n",
       "    </tr>\n",
       "    <tr>\n",
       "      <th>3</th>\n",
       "      <td>3</td>\n",
       "      <td>88</td>\n",
       "      <td>36.132631</td>\n",
       "      <td>2</td>\n",
       "      <td>5</td>\n",
       "      <td>not_affected</td>\n",
       "      <td>True</td>\n",
       "    </tr>\n",
       "    <tr>\n",
       "      <th>4</th>\n",
       "      <td>4</td>\n",
       "      <td>88</td>\n",
       "      <td>4.520667</td>\n",
       "      <td>2</td>\n",
       "      <td>1</td>\n",
       "      <td>affected</td>\n",
       "      <td>True</td>\n",
       "    </tr>\n",
       "  </tbody>\n",
       "</table>\n",
       "</div>"
      ],
      "text/plain": [
       "  Biomarker  participant  measurement  k_j  S_n affected_or_not  Diseased\n",
       "0         0           88    25.243808    2    4    not_affected      True\n",
       "1         1           88    27.941957    2    8    not_affected      True\n",
       "2         2           88    26.580921    2    3    not_affected      True\n",
       "3         3           88    36.132631    2    5    not_affected      True\n",
       "4         4           88     4.520667    2    1        affected      True"
      ]
     },
     "execution_count": 234,
     "metadata": {},
     "output_type": "execute_result"
    }
   ],
   "source": [
    "participant_index = 88\n",
    "p_data = data[data.participant == participant_index].reset_index(drop=True)\n",
    "p_data.head()"
   ]
  },
  {
   "cell_type": "code",
   "execution_count": 235,
   "metadata": {},
   "outputs": [
    {
     "data": {
      "text/html": [
       "<div>\n",
       "<style scoped>\n",
       "    .dataframe tbody tr th:only-of-type {\n",
       "        vertical-align: middle;\n",
       "    }\n",
       "\n",
       "    .dataframe tbody tr th {\n",
       "        vertical-align: top;\n",
       "    }\n",
       "\n",
       "    .dataframe thead th {\n",
       "        text-align: right;\n",
       "    }\n",
       "</style>\n",
       "<table border=\"1\" class=\"dataframe\">\n",
       "  <thead>\n",
       "    <tr style=\"text-align: right;\">\n",
       "      <th></th>\n",
       "      <th>log likelihood</th>\n",
       "    </tr>\n",
       "  </thead>\n",
       "  <tbody>\n",
       "    <tr>\n",
       "      <th>2</th>\n",
       "      <td>2.980990e-14</td>\n",
       "    </tr>\n",
       "    <tr>\n",
       "      <th>1</th>\n",
       "      <td>3.692221e-24</td>\n",
       "    </tr>\n",
       "    <tr>\n",
       "      <th>0</th>\n",
       "      <td>9.691404e-63</td>\n",
       "    </tr>\n",
       "    <tr>\n",
       "      <th>3</th>\n",
       "      <td>0.000000e+00</td>\n",
       "    </tr>\n",
       "    <tr>\n",
       "      <th>4</th>\n",
       "      <td>0.000000e+00</td>\n",
       "    </tr>\n",
       "    <tr>\n",
       "      <th>5</th>\n",
       "      <td>0.000000e+00</td>\n",
       "    </tr>\n",
       "    <tr>\n",
       "      <th>6</th>\n",
       "      <td>0.000000e+00</td>\n",
       "    </tr>\n",
       "    <tr>\n",
       "      <th>7</th>\n",
       "      <td>0.000000e+00</td>\n",
       "    </tr>\n",
       "    <tr>\n",
       "      <th>8</th>\n",
       "      <td>0.000000e+00</td>\n",
       "    </tr>\n",
       "    <tr>\n",
       "      <th>9</th>\n",
       "      <td>0.000000e+00</td>\n",
       "    </tr>\n",
       "    <tr>\n",
       "      <th>10</th>\n",
       "      <td>0.000000e+00</td>\n",
       "    </tr>\n",
       "  </tbody>\n",
       "</table>\n",
       "</div>"
      ],
      "text/plain": [
       "    log likelihood\n",
       "2     2.980990e-14\n",
       "1     3.692221e-24\n",
       "0     9.691404e-63\n",
       "3     0.000000e+00\n",
       "4     0.000000e+00\n",
       "5     0.000000e+00\n",
       "6     0.000000e+00\n",
       "7     0.000000e+00\n",
       "8     0.000000e+00\n",
       "9     0.000000e+00\n",
       "10    0.000000e+00"
      ]
     },
     "execution_count": 235,
     "metadata": {},
     "output_type": "execute_result"
    }
   ],
   "source": [
    "num_stages = len(data.k_j.unique())\n",
    "stage_log_likelihood = np.zeros(num_stages)\n",
    "for k in range(num_stages):\n",
    "    # assume participant is in this stage; compute the likelihood of seeing \n",
    "    # this sequence of observed biomarker measurement\n",
    "    # [0, 10] Note that k CAN be 0\n",
    "    log_likelihood = compute_likelihood(p_data, k, theta_phi=theta_phi)\n",
    "    stage_log_likelihood[k] = log_likelihood\n",
    "p_stage_log_likelihood_df = pd.DataFrame(stage_log_likelihood, columns=['log likelihood'])\n",
    "p_stage_log_likelihood_df.sort_values(by = \"log likelihood\", ascending=False)"
   ]
  },
  {
   "cell_type": "markdown",
   "metadata": {},
   "source": [
    "## For all participants"
   ]
  },
  {
   "cell_type": "code",
   "execution_count": 236,
   "metadata": {},
   "outputs": [],
   "source": [
    "# Disable scientific notation\n",
    "np.set_printoptions(suppress=True)\n",
    "\n",
    "# biomarkers: [0, 9]\n",
    "biomarkers = np.arange(start = 0, stop = 10, step = 1)\n",
    "participants = data.participant.unique()\n",
    "num_iterations = 1500\n",
    "# 11 stages in total, [0, 10].\n",
    "num_stages = len(data.k_j.unique())\n",
    "estimated_stage_dic = {}\n",
    "actual_stage_dic = {}\n",
    "\n",
    "for p in participants:\n",
    "    p_data = data[data.participant == p].reset_index(drop=True)\n",
    "    actual_stage_dic[p] = p_data.k_j[0]\n",
    "    # initiaze stage_likelihood\n",
    "    stage_likelihood = np.zeros(num_stages)\n",
    "    for k in range(num_stages):\n",
    "        # assume participant is in this stage; compute the likelihood of seeing \n",
    "        # this sequence of observed biomarker measurement\n",
    "        # [0, 10] Note that k CAN be 0\n",
    "        likelihood = compute_likelihood(p_data, k, theta_phi=theta_phi)\n",
    "        stage_likelihood[k] = likelihood\n",
    "    # estimated_stage_dic[p] = np.argmax(stage_likelihood)\n",
    "    likelihood_sum = np.sum(stage_likelihood)\n",
    "    normalized_stage_likelihood = [l/likelihood_sum for l in stage_likelihood]\n",
    "    sampled_stage = np.random.choice(np.arange(num_stages), p = normalized_stage_likelihood)\n",
    "    estimated_stage_dic[p] = sampled_stage         "
   ]
  },
  {
   "cell_type": "code",
   "execution_count": 237,
   "metadata": {},
   "outputs": [],
   "source": [
    "estimated_stages = np.array(list(estimated_stage_dic.values()))\n",
    "actual_stages = np.array(list(actual_stage_dic.values()))\n",
    "differences = estimated_stages - actual_stages"
   ]
  },
  {
   "cell_type": "code",
   "execution_count": 238,
   "metadata": {},
   "outputs": [
    {
     "data": {
      "text/plain": [
       "0"
      ]
     },
     "execution_count": 238,
     "metadata": {},
     "output_type": "execute_result"
    }
   ],
   "source": [
    "differences[0]"
   ]
  },
  {
   "cell_type": "code",
   "execution_count": 239,
   "metadata": {},
   "outputs": [],
   "source": [
    "def scatter_plot_of_stage_differences(stage_differences):\n",
    "    '''Scatter Plot of the Difference at each index\n",
    "    Input:\n",
    "    - stage_differences: estimated_stages - actual stages. Result should be a 1-dim np array\n",
    "    '''\n",
    "    plt.figure(figsize=(10, 6))\n",
    "    plt.scatter(range(100), stage_differences, alpha=0.6)\n",
    "    plt.axhline(y=0, color='red', linestyle='--')\n",
    "    plt.title(\"Scatter Plot of Stage Difference for Each Participant\")\n",
    "    plt.xlabel(\"Participant\")\n",
    "    plt.ylabel(\"Difference (Estimated Stage - True Stage)\")\n",
    "    plt.grid(True)\n",
    "    plt.show()"
   ]
  },
  {
   "cell_type": "code",
   "execution_count": 240,
   "metadata": {},
   "outputs": [
    {
     "data": {
      "image/png": "[encoded data removed]",
      "text/plain": [
       "<Figure size 1000x600 with 1 Axes>"
      ]
     },
     "metadata": {},
     "output_type": "display_data"
    }
   ],
   "source": [
    "scatter_plot_of_stage_differences(differences)"
   ]
  },
  {
   "cell_type": "markdown",
   "metadata": {},
   "source": [
    "From the above figure, it is clear that the method we employed successfully estimated the stage each participant is in.\n",
    "\n",
    "## Unknown $\\theta$ and $\\phi$\n",
    "\n",
    "Suppose we do not have access to the parameters for biomarker value distributions; i.e., we do not know $\\theta$ and $\\phi$. "
   ]
  },
  {
   "cell_type": "code",
   "execution_count": 241,
   "metadata": {},
   "outputs": [
    {
     "data": {
      "text/html": [
       "<div>\n",
       "<style scoped>\n",
       "    .dataframe tbody tr th:only-of-type {\n",
       "        vertical-align: middle;\n",
       "    }\n",
       "\n",
       "    .dataframe tbody tr th {\n",
       "        vertical-align: top;\n",
       "    }\n",
       "\n",
       "    .dataframe thead th {\n",
       "        text-align: right;\n",
       "    }\n",
       "</style>\n",
       "<table border=\"1\" class=\"dataframe\">\n",
       "  <thead>\n",
       "    <tr style=\"text-align: right;\">\n",
       "      <th></th>\n",
       "      <th>Biomarker</th>\n",
       "      <th>participant</th>\n",
       "      <th>measurement</th>\n",
       "      <th>S_n</th>\n",
       "      <th>Diseased</th>\n",
       "    </tr>\n",
       "  </thead>\n",
       "  <tbody>\n",
       "    <tr>\n",
       "      <th>0</th>\n",
       "      <td>0</td>\n",
       "      <td>0</td>\n",
       "      <td>26.344572</td>\n",
       "      <td>4</td>\n",
       "      <td>True</td>\n",
       "    </tr>\n",
       "    <tr>\n",
       "      <th>1</th>\n",
       "      <td>0</td>\n",
       "      <td>1</td>\n",
       "      <td>0.161759</td>\n",
       "      <td>4</td>\n",
       "      <td>True</td>\n",
       "    </tr>\n",
       "    <tr>\n",
       "      <th>2</th>\n",
       "      <td>0</td>\n",
       "      <td>2</td>\n",
       "      <td>1.288538</td>\n",
       "      <td>4</td>\n",
       "      <td>True</td>\n",
       "    </tr>\n",
       "    <tr>\n",
       "      <th>3</th>\n",
       "      <td>0</td>\n",
       "      <td>3</td>\n",
       "      <td>1.318667</td>\n",
       "      <td>4</td>\n",
       "      <td>True</td>\n",
       "    </tr>\n",
       "    <tr>\n",
       "      <th>4</th>\n",
       "      <td>0</td>\n",
       "      <td>4</td>\n",
       "      <td>1.102194</td>\n",
       "      <td>4</td>\n",
       "      <td>True</td>\n",
       "    </tr>\n",
       "  </tbody>\n",
       "</table>\n",
       "</div>"
      ],
      "text/plain": [
       "  Biomarker  participant  measurement  S_n  Diseased\n",
       "0         0            0    26.344572    4      True\n",
       "1         0            1     0.161759    4      True\n",
       "2         0            2     1.288538    4      True\n",
       "3         0            3     1.318667    4      True\n",
       "4         0            4     1.102194    4      True"
      ]
     },
     "execution_count": 241,
     "metadata": {},
     "output_type": "execute_result"
    }
   ],
   "source": [
    "data_we_have = data.drop(['k_j', 'affected_or_not'], axis = 1)\n",
    "data_we_have.head()"
   ]
  },
  {
   "cell_type": "code",
   "execution_count": 242,
   "metadata": {},
   "outputs": [],
   "source": [
    "def fill_up_data_we_have(data_we_have, participant_stages, participants):\n",
    "    '''This is to fill up data_we_have. \n",
    "    Basically, add two columns: k_j, and affected, based on the initial or updated participant_stages\n",
    "    Essentially, all we do below is to get the most accurate participant_stages\n",
    "\n",
    "    Note: we do not have the real participant_stages right now. \n",
    "    \n",
    "    Inputs:\n",
    "        - data_we_have\n",
    "        - participant_stages: np array \n",
    "        - participants: 0-99\n",
    "    '''\n",
    "    participant_stage_dic = dict(zip(np.arange(0,len(participants)), participant_stages))\n",
    "    data_we_have['k_j'] = data_we_have.apply(lambda row: participant_stage_dic[row.participant], axis = 1)\n",
    "    data_we_have['affected'] = data_we_have.apply(lambda row: row.k_j >= row.S_n, axis = 1)\n",
    "    return data_we_have "
   ]
  },
  {
   "cell_type": "code",
   "execution_count": 243,
   "metadata": {},
   "outputs": [],
   "source": [
    "def estimate_params_exact(m0, n0, s0_sq, v0, data):\n",
    "    '''This is to estimate means and vars based on conjugate priors\n",
    "    Inputs:\n",
    "        - data: a vector of measurements \n",
    "        - m0: prior estimate of $\\mu$.\n",
    "        - n0: how strongly is the prior belief in $m_0$ is held.\n",
    "        - s0_sq: prior estimate of $\\sigma^2$.\n",
    "        - v0: prior degress of freedome, influencing the certainty of $s_0^2$.\n",
    "    \n",
    "    Outputs:\n",
    "        - mu estiate, std estimate\n",
    "    '''\n",
    "    # Data summary\n",
    "    sample_mean = np.mean(data)\n",
    "    sample_size = len(data)\n",
    "    sample_var = np.var(data, ddof=1)  # ddof=1 for unbiased estimator\n",
    "\n",
    "    # Update hyperparameters for the Normal-Inverse Gamma posterior\n",
    "    updated_m0 = (n0 * m0 + sample_size * sample_mean) / (n0 + sample_size)\n",
    "    updated_n0 = n0 + sample_size\n",
    "    updated_v0 = v0 + sample_size \n",
    "    updated_s0_sq = (1 / updated_v0) * ((sample_size - 1) * sample_var + v0 * s0_sq + \n",
    "                    (n0 * sample_size / updated_n0) * (sample_mean - m0)**2)\n",
    "    updated_alpha = updated_v0/2\n",
    "    updated_beta = updated_v0*updated_s0_sq/2\n",
    "\n",
    "    # Posterior estimates\n",
    "    mu_posterior_mean = updated_m0\n",
    "    sigma_squared_posterior_mean = updated_beta/updated_alpha\n",
    "\n",
    "    mu_estimation = mu_posterior_mean\n",
    "    std_estimation = np.sqrt(sigma_squared_posterior_mean)\n",
    "\n",
    "    return mu_estimation, std_estimation"
   ]
  },
  {
   "cell_type": "code",
   "execution_count": 244,
   "metadata": {},
   "outputs": [],
   "source": [
    "def get_estimated_means_stds_df(biomarkers, data_we_have):\n",
    "    '''To get estimated parameters, returns a Pandas DataFrame\n",
    "    Input:\n",
    "    - biomarkers: 0-9\n",
    "    - data_we_have: participants data filled with initial or updated participant_stages\n",
    "\n",
    "    Output: \n",
    "    - estimate_means_std_df, just like means_stds_df, containing the estimated mean and std_dev for \n",
    "      distribution of biomarker values when the biomarker is affected and not affected\n",
    "    '''\n",
    "    # empty list of dictionaries to store the estimations\n",
    "    means_stds_estimate_dict_list = []\n",
    "    for biomarker in biomarkers: \n",
    "        dic = {'biomarker': biomarker}  # Initialize dictionary outside the inner loop\n",
    "        for affected in [True, False]:\n",
    "            data_full = data_we_have[(data_we_have.Biomarker == str(biomarker)) & (\n",
    "            data_we_have.affected == affected)]\n",
    "            data = np.array(data_full.measurement)\n",
    "            # if len(data) == 0:\n",
    "            #     print(data_full)\n",
    "            mu_estimate, std_estimate = estimate_params_exact(\n",
    "                m0 = 0, n0 = 1, s0_sq = 1, v0 = 1, data=data)\n",
    "            if affected:\n",
    "                dic['theta_mean'] = mu_estimate\n",
    "                dic['theta_std'] = std_estimate\n",
    "            else:\n",
    "                dic['phi_mean'] = mu_estimate\n",
    "                dic['phi_std'] = std_estimate\n",
    "        means_stds_estimate_dict_list.append(dic)\n",
    "    estimate_means_stds_df = pd.DataFrame(means_stds_estimate_dict_list)\n",
    "    return estimate_means_stds_df "
   ]
  },
  {
   "cell_type": "markdown",
   "metadata": {},
   "source": [
    "### Initialization "
   ]
  },
  {
   "cell_type": "code",
   "execution_count": 245,
   "metadata": {},
   "outputs": [],
   "source": [
    "biomarkers = np.arange(start = 0, stop = 10, step = 1)\n",
    "participants = data.participant.unique()\n",
    "num_iterations = 10\n",
    "# # note that this is only 1-10, so the num_stage is 10\n",
    "# num_stages = len(data_we_have.S_n.unique())"
   ]
  },
  {
   "cell_type": "markdown",
   "metadata": {},
   "source": [
    "### Randomized initilization"
   ]
  },
  {
   "cell_type": "code",
   "execution_count": 246,
   "metadata": {},
   "outputs": [
    {
     "data": {
      "image/png": "[encoded data removed]",
      "text/plain": [
       "<Figure size 1000x600 with 1 Axes>"
      ]
     },
     "metadata": {},
     "output_type": "display_data"
    }
   ],
   "source": [
    "# initialize participant_stages \n",
    "# num_stages = 11 as earlier defined\n",
    "participant_stages = np.random.randint(low = 0, high = num_stages+1, size = len(participants))\n",
    "participant_stages[non_diseased_participants] = 0\n",
    "\n",
    "estimated_stages = participant_stages\n",
    "actual_stages = np.array(list(actual_stage_dic.values()))\n",
    "differences = estimated_stages - actual_stages\n",
    "\n",
    "scatter_plot_of_stage_differences(differences)"
   ]
  },
  {
   "cell_type": "markdown",
   "metadata": {},
   "source": [
    "<!-- ### Edge cases\n",
    "\n",
    "Below is an issue I have when I get the maximum rather than taking the weighted random sample:\n",
    "\n",
    ">When running the function `get_estimated_means_vars_df`, an edge case exists when a biomarker (Say, Biomarker $T$) indicates stage 1. In the initial set-up, since we randomized participant_stages, some participants might be in stage 0. Therefore, for this biomarker, it has both affected and not affected cases. However, this edge case  exists in later iterations where I cannot ensure that the updated `participant_stages` still contains 0. In those scenarios, this biomarker does not have not affected cases. That is to say, in `data_we_have` filled up by that `participant_stages`, the `k_j` column has no values of $0$. \n",
    "\n",
    ">Why would this cause issues? Suppose no participants are in stage $0$. Then rows where Biomarker $T$ resides have no `False` in the column of `affected`. Because `estimated_means_vars_df` is obtained from `data_we_have` which is in turn based upon `participant_stages`, `estimated_means_vars_df` does not have values for phi for Biomarker $T$. Then in the following codes, in the `for` loop of `for k in range(num_stages)`, when `k = 0` and `biomarker = T`, we have `affected = False`. When computing `likelihood` there will be an issue because in `estimated_means_vars_df`, there are no `phi` values for biomarker $T$.\n",
    "\n",
    ">I haven't figured out how to solve this issue. \n",
    "\n",
    "I don't have this issue anymore. Most likely because I will get 0 sometime in each iteration.  -->"
   ]
  },
  {
   "cell_type": "code",
   "execution_count": 247,
   "metadata": {},
   "outputs": [
    {
     "name": "stdout",
     "output_type": "stream",
     "text": [
      "iteration 0 done\n",
      "iteration 1 done\n",
      "iteration 2 done\n",
      "iteration 3 done\n",
      "iteration 4 done\n",
      "iteration 5 done\n",
      "iteration 6 done\n",
      "iteration 7 done\n",
      "iteration 8 done\n",
      "iteration 9 done\n"
     ]
    }
   ],
   "source": [
    "for i in range(num_iterations):\n",
    "    # fill up data_we_have with the current participant_stages\n",
    "    data_we_have = fill_up_data_we_have(data_we_have, participant_stages, participants)\n",
    "    estimated_means_stds_df = get_estimated_means_stds_df(biomarkers, data_we_have)\n",
    "    for p in participants:\n",
    "        if p not in non_diseased_participants:\n",
    "            p_data = data_we_have[data_we_have.participant == p].reset_index(drop=True)\n",
    "            # initiaze stage_likelihood\n",
    "            stage_likelihood = np.zeros(num_stages)\n",
    "            # note that it should be [0, 10]\n",
    "            for k in range(num_stages):\n",
    "            # [0, 10] Note that k CAN be 0\n",
    "                likelihood = compute_likelihood(p_data, k, theta_phi = estimated_means_stds_df)\n",
    "                stage_likelihood[k] = likelihood\n",
    "            likelihood_sum = np.sum(stage_likelihood)\n",
    "            normalized_stage_likelihood = [l/likelihood_sum for l in stage_likelihood]\n",
    "            sampled_stage = np.random.choice(np.arange(num_stages), p = normalized_stage_likelihood)\n",
    "            participant_stages[p] = sampled_stage         \n",
    "    print(f\"iteration {i} done\")"
   ]
  },
  {
   "cell_type": "markdown",
   "metadata": {},
   "source": [
    "### Result after gibbs sampling"
   ]
  },
  {
   "cell_type": "code",
   "execution_count": 248,
   "metadata": {},
   "outputs": [
    {
     "data": {
      "image/png": "[encoded data removed]",
      "text/plain": [
       "<Figure size 1000x600 with 1 Axes>"
      ]
     },
     "metadata": {},
     "output_type": "display_data"
    }
   ],
   "source": [
    "estimated_stages = participant_stages\n",
    "actual_stages = np.array(list(actual_stage_dic.values()))\n",
    "differences = estimated_stages - actual_stages\n",
    "scatter_plot_of_stage_differences(differences)"
   ]
  },
  {
   "cell_type": "markdown",
   "metadata": {},
   "source": [
    "### Trying initializing participant stages as the actual stages\n",
    "\n",
    "We can see that if we initlize participant stages as the actual stages, the result is much better. "
   ]
  },
  {
   "cell_type": "code",
   "execution_count": 249,
   "metadata": {},
   "outputs": [
    {
     "name": "stdout",
     "output_type": "stream",
     "text": [
      "iteration 0 done\n",
      "iteration 1 done\n",
      "iteration 2 done\n",
      "iteration 3 done\n",
      "iteration 4 done\n",
      "iteration 5 done\n",
      "iteration 6 done\n",
      "iteration 7 done\n",
      "iteration 8 done\n",
      "iteration 9 done\n"
     ]
    }
   ],
   "source": [
    "participant_stages = actual_stages\n",
    "for i in range(num_iterations):\n",
    "    # fill up data_we_have with current participant_stages\n",
    "    data_we_have = fill_up_data_we_have(data_we_have, participant_stages, participants)\n",
    "    estimated_means_stds_df = get_estimated_means_stds_df(biomarkers, data_we_have)\n",
    "    for p in participants:\n",
    "        p_data = data_we_have[data_we_have.participant == p].reset_index(drop=True)\n",
    "        # initiaze stage_likelihood\n",
    "        stage_likelihood = np.zeros(num_stages)\n",
    "        # note that it is [0, 10]\n",
    "        for k in range(num_stages):\n",
    "            likelihood = compute_likelihood(p_data, k, theta_phi = estimated_means_stds_df)\n",
    "            stage_likelihood[k] = likelihood\n",
    "        likelihood_sum = np.sum(stage_likelihood)\n",
    "        normalized_stage_likelihood = [l/likelihood_sum for l in stage_likelihood]\n",
    "        sampled_stage = np.random.choice(np.arange(num_stages), p = normalized_stage_likelihood)\n",
    "        participant_stages[p] = sampled_stage         \n",
    "    print(f\"iteration {i} done\")"
   ]
  },
  {
   "cell_type": "code",
   "execution_count": 250,
   "metadata": {},
   "outputs": [
    {
     "data": {
      "image/png": "[encoded data removed]",
      "text/plain": [
       "<Figure size 1000x600 with 1 Axes>"
      ]
     },
     "metadata": {},
     "output_type": "display_data"
    }
   ],
   "source": [
    "estimated_stages = participant_stages\n",
    "actual_stages = np.array(list(actual_stage_dic.values()))\n",
    "differences = estimated_stages - actual_stages\n",
    "scatter_plot_of_stage_differences(differences)"
   ]
  }
 ],
 "metadata": {
  "kernelspec": {
   "display_name": "bayes",
   "language": "python",
   "name": "python3"
  },
  "language_info": {
   "codemirror_mode": {
    "name": "ipython",
    "version": 3
   },
   "file_extension": ".py",
   "mimetype": "text/x-python",
   "name": "python",
   "nbconvert_exporter": "python",
   "pygments_lexer": "ipython3",
   "version": "3.8.19"
  }
 },
 "nbformat": 4,
 "nbformat_minor": 2
}
