{
 "cells": [
  {
   "cell_type": "markdown",
   "metadata": {},
   "source": [
    "# Estimating participants' disease stages\n",
    "\n",
    ">Next, I'd get it working with less and less information assumed to be known. You could either start inferring the participant's stage of disease or the order for biomarkers next. I'd probably do the participant's state of disease.\n",
    "\n",
    ">For the stage of disease for a participant, I'd do probably derive a gibbs sampling step by calculating each stage's relative likelihood based on the probabilities of the biomarker values ASSUMING they are at that stage. Then you normalize and sample from that discrete distribution.  \n",
    "\n",
    "## Known $\\theta$ and $\\phi$\n",
    "\n",
    "First, let us assume that we know $\\theta$ and $\\phi$. We also know at which disease stage a biomarker is affected (i.e., $S_n$). Basically, in the `data` below, we do not have these two columns: `k_j` and `affected_or_not`. \n",
    "\n",
    "For each participant, I will iterate through all possible stages. For each stage, I will calculate the likelihood of seeing the observed sequence of biomarker values using the following formula:\n",
    "\n",
    "$$p(X_{j} | S , z_j = 1, k_j) = \\prod_{i=1}^{k_j}{p(X_{S(i)j} \\mid \\theta_n )} \\prod_{i=k_j+1}^N{p(X_{S(i)j} \\mid \\phi_n)}$$\n"
   ]
  },
  {
   "cell_type": "code",
   "execution_count": 295,
   "metadata": {},
   "outputs": [
    {
     "data": {
      "text/html": [
       "<div>\n",
       "<style scoped>\n",
       "    .dataframe tbody tr th:only-of-type {\n",
       "        vertical-align: middle;\n",
       "    }\n",
       "\n",
       "    .dataframe tbody tr th {\n",
       "        vertical-align: top;\n",
       "    }\n",
       "\n",
       "    .dataframe thead th {\n",
       "        text-align: right;\n",
       "    }\n",
       "</style>\n",
       "<table border=\"1\" class=\"dataframe\">\n",
       "  <thead>\n",
       "    <tr style=\"text-align: right;\">\n",
       "      <th></th>\n",
       "      <th>participant</th>\n",
       "      <th>biomarker</th>\n",
       "      <th>measurement</th>\n",
       "      <th>k_j</th>\n",
       "      <th>S_n</th>\n",
       "      <th>affected_or_not</th>\n",
       "      <th>Diseased</th>\n",
       "    </tr>\n",
       "  </thead>\n",
       "  <tbody>\n",
       "    <tr>\n",
       "      <th>0</th>\n",
       "      <td>0</td>\n",
       "      <td>MMSE</td>\n",
       "      <td>27.988703</td>\n",
       "      <td>6</td>\n",
       "      <td>5</td>\n",
       "      <td>affected</td>\n",
       "      <td>True</td>\n",
       "    </tr>\n",
       "    <tr>\n",
       "      <th>1</th>\n",
       "      <td>1</td>\n",
       "      <td>MMSE</td>\n",
       "      <td>28.058068</td>\n",
       "      <td>5</td>\n",
       "      <td>5</td>\n",
       "      <td>affected</td>\n",
       "      <td>True</td>\n",
       "    </tr>\n",
       "    <tr>\n",
       "      <th>2</th>\n",
       "      <td>2</td>\n",
       "      <td>MMSE</td>\n",
       "      <td>23.613659</td>\n",
       "      <td>3</td>\n",
       "      <td>5</td>\n",
       "      <td>not_affected</td>\n",
       "      <td>True</td>\n",
       "    </tr>\n",
       "    <tr>\n",
       "      <th>3</th>\n",
       "      <td>3</td>\n",
       "      <td>MMSE</td>\n",
       "      <td>27.403555</td>\n",
       "      <td>1</td>\n",
       "      <td>5</td>\n",
       "      <td>not_affected</td>\n",
       "      <td>True</td>\n",
       "    </tr>\n",
       "    <tr>\n",
       "      <th>4</th>\n",
       "      <td>4</td>\n",
       "      <td>MMSE</td>\n",
       "      <td>24.649868</td>\n",
       "      <td>0</td>\n",
       "      <td>5</td>\n",
       "      <td>not_affected</td>\n",
       "      <td>False</td>\n",
       "    </tr>\n",
       "  </tbody>\n",
       "</table>\n",
       "</div>"
      ],
      "text/plain": [
       "   participant biomarker  measurement  k_j  S_n affected_or_not  Diseased\n",
       "0            0      MMSE    27.988703    6    5        affected      True\n",
       "1            1      MMSE    28.058068    5    5        affected      True\n",
       "2            2      MMSE    23.613659    3    5    not_affected      True\n",
       "3            3      MMSE    27.403555    1    5    not_affected      True\n",
       "4            4      MMSE    24.649868    0    5    not_affected     False"
      ]
     },
     "execution_count": 295,
     "metadata": {},
     "output_type": "execute_result"
    }
   ],
   "source": [
    "import pandas as pd \n",
    "import numpy as np \n",
    "import re \n",
    "import altair as alt \n",
    "import matplotlib.pyplot as plt \n",
    "from scipy.stats import mode\n",
    "data = pd.read_csv('data/participant_data.csv')\n",
    "# data.Biomarker = [re.sub(\"Biomarker \", \"\", text) for text in data.Biomarker.tolist()]\n",
    "data['Diseased'] = data.apply(lambda row: row.k_j > 0, axis = 1)\n",
    "data.head()\n",
    "# but remember that we do not know k_j which is what we are trying to estimate. "
   ]
  },
  {
   "cell_type": "code",
   "execution_count": 296,
   "metadata": {},
   "outputs": [],
   "source": [
    "# participant id: stage\n",
    "actual_participant_stage_dic = dict(zip(data.participant, data.k_j))\n",
    "\n",
    "participants = data.participant.unique()\n",
    "\n",
    "# 11 stages in total, [0, 10].\n",
    "num_stages = len(data.k_j.unique())\n",
    "\n",
    "# biomarkers\n",
    "biomarkers = np.array(data.biomarker.unique())\n",
    "\n",
    "## These are the healthy participants (Participant ID)\n",
    "non_diseased_participants = list(set(data.loc[data.Diseased == False].participant))"
   ]
  },
  {
   "cell_type": "code",
   "execution_count": 297,
   "metadata": {},
   "outputs": [
    {
     "data": {
      "text/plain": [
       "[4, 70, 74, 76, 77, 46, 81, 52, 87, 56, 26]"
      ]
     },
     "execution_count": 297,
     "metadata": {},
     "output_type": "execute_result"
    }
   ],
   "source": [
    "non_diseased_participants"
   ]
  },
  {
   "cell_type": "markdown",
   "metadata": {},
   "source": [
    "Note that in `participant_data.csv`, $S_n \\geq 1$ because $S_n$ means the disease stage associated with a specific biomarker. $k_j \\geq 0$, indicating that participants may not be in any of the 10 disease stages (i.e., when $k_j = 0$). "
   ]
  },
  {
   "cell_type": "code",
   "execution_count": 298,
   "metadata": {},
   "outputs": [
    {
     "data": {
      "text/plain": [
       "array([ 5,  6,  3,  4,  1,  7,  8,  2,  9, 10])"
      ]
     },
     "execution_count": 298,
     "metadata": {},
     "output_type": "execute_result"
    }
   ],
   "source": [
    "data.S_n.unique()"
   ]
  },
  {
   "cell_type": "code",
   "execution_count": 299,
   "metadata": {},
   "outputs": [
    {
     "data": {
      "text/plain": [
       "array([ 6,  5,  3,  1,  0, 10,  8,  9,  7,  4,  2])"
      ]
     },
     "execution_count": 299,
     "metadata": {},
     "output_type": "execute_result"
    }
   ],
   "source": [
    "data.k_j.unique()"
   ]
  },
  {
   "cell_type": "code",
   "execution_count": 300,
   "metadata": {},
   "outputs": [
    {
     "data": {
      "text/html": [
       "<div>\n",
       "<style scoped>\n",
       "    .dataframe tbody tr th:only-of-type {\n",
       "        vertical-align: middle;\n",
       "    }\n",
       "\n",
       "    .dataframe tbody tr th {\n",
       "        vertical-align: top;\n",
       "    }\n",
       "\n",
       "    .dataframe thead th {\n",
       "        text-align: right;\n",
       "    }\n",
       "</style>\n",
       "<table border=\"1\" class=\"dataframe\">\n",
       "  <thead>\n",
       "    <tr style=\"text-align: right;\">\n",
       "      <th></th>\n",
       "      <th>biomarker</th>\n",
       "      <th>theta_mean</th>\n",
       "      <th>theta_std</th>\n",
       "      <th>phi_mean</th>\n",
       "      <th>phi_std</th>\n",
       "    </tr>\n",
       "  </thead>\n",
       "  <tbody>\n",
       "    <tr>\n",
       "      <th>0</th>\n",
       "      <td>MMSE</td>\n",
       "      <td>28.0</td>\n",
       "      <td>0.666667</td>\n",
       "      <td>22.0</td>\n",
       "      <td>2.666667</td>\n",
       "    </tr>\n",
       "    <tr>\n",
       "      <th>1</th>\n",
       "      <td>ADAS</td>\n",
       "      <td>-6.0</td>\n",
       "      <td>1.333333</td>\n",
       "      <td>-20.0</td>\n",
       "      <td>4.000000</td>\n",
       "    </tr>\n",
       "    <tr>\n",
       "      <th>2</th>\n",
       "      <td>AB</td>\n",
       "      <td>250.0</td>\n",
       "      <td>50.000000</td>\n",
       "      <td>150.0</td>\n",
       "      <td>16.666667</td>\n",
       "    </tr>\n",
       "    <tr>\n",
       "      <th>3</th>\n",
       "      <td>P-Tau</td>\n",
       "      <td>-25.0</td>\n",
       "      <td>16.666667</td>\n",
       "      <td>-50.0</td>\n",
       "      <td>33.333333</td>\n",
       "    </tr>\n",
       "    <tr>\n",
       "      <th>4</th>\n",
       "      <td>HIP-FCI</td>\n",
       "      <td>5.0</td>\n",
       "      <td>1.666667</td>\n",
       "      <td>-5.0</td>\n",
       "      <td>6.666667</td>\n",
       "    </tr>\n",
       "    <tr>\n",
       "      <th>5</th>\n",
       "      <td>HIP-GMI</td>\n",
       "      <td>0.4</td>\n",
       "      <td>0.233333</td>\n",
       "      <td>0.3</td>\n",
       "      <td>0.333333</td>\n",
       "    </tr>\n",
       "    <tr>\n",
       "      <th>6</th>\n",
       "      <td>AVLT-Sum</td>\n",
       "      <td>40.0</td>\n",
       "      <td>15.000000</td>\n",
       "      <td>20.0</td>\n",
       "      <td>6.666667</td>\n",
       "    </tr>\n",
       "    <tr>\n",
       "      <th>7</th>\n",
       "      <td>PCC-FCI</td>\n",
       "      <td>12.0</td>\n",
       "      <td>4.000000</td>\n",
       "      <td>5.0</td>\n",
       "      <td>3.333333</td>\n",
       "    </tr>\n",
       "    <tr>\n",
       "      <th>8</th>\n",
       "      <td>FUS-GMI</td>\n",
       "      <td>0.6</td>\n",
       "      <td>0.066667</td>\n",
       "      <td>0.5</td>\n",
       "      <td>0.066667</td>\n",
       "    </tr>\n",
       "    <tr>\n",
       "      <th>9</th>\n",
       "      <td>FUS-FCI</td>\n",
       "      <td>-10.0</td>\n",
       "      <td>3.333333</td>\n",
       "      <td>-20.0</td>\n",
       "      <td>6.000000</td>\n",
       "    </tr>\n",
       "  </tbody>\n",
       "</table>\n",
       "</div>"
      ],
      "text/plain": [
       "  biomarker  theta_mean  theta_std  phi_mean    phi_std\n",
       "0      MMSE        28.0   0.666667      22.0   2.666667\n",
       "1      ADAS        -6.0   1.333333     -20.0   4.000000\n",
       "2        AB       250.0  50.000000     150.0  16.666667\n",
       "3     P-Tau       -25.0  16.666667     -50.0  33.333333\n",
       "4   HIP-FCI         5.0   1.666667      -5.0   6.666667\n",
       "5   HIP-GMI         0.4   0.233333       0.3   0.333333\n",
       "6  AVLT-Sum        40.0  15.000000      20.0   6.666667\n",
       "7   PCC-FCI        12.0   4.000000       5.0   3.333333\n",
       "8   FUS-GMI         0.6   0.066667       0.5   0.066667\n",
       "9   FUS-FCI       -10.0   3.333333     -20.0   6.000000"
      ]
     },
     "execution_count": 300,
     "metadata": {},
     "output_type": "execute_result"
    }
   ],
   "source": [
    "theta_phi = pd.read_csv('data/means_stds.csv')\n",
    "theta_phi"
   ]
  },
  {
   "cell_type": "code",
   "execution_count": 301,
   "metadata": {},
   "outputs": [],
   "source": [
    "def compute_single_measurement_likelihood(theta_phi, biomarker, affected, measurement):\n",
    "    '''Computes the likelihood of the measurement value of a single biomarker\n",
    "    We know the normal distribution defined by either theta or phi\n",
    "    and we know the measurement. This will give us the probability\n",
    "    of this given measurement value. \n",
    "\n",
    "    input:\n",
    "    - theta_phi: the dataframe containing theta and phi values for each biomarker\n",
    "    - biomarker: a string of biomarker name\n",
    "    - affected: a boolean \n",
    "    - measurement: the observed value for a biomarker in a specific participant\n",
    "\n",
    "    output: a scalar\n",
    "    '''\n",
    "    biomarker_params = theta_phi[theta_phi.biomarker == biomarker].reset_index()\n",
    "    mu = biomarker_params['theta_mean'][0] if affected else biomarker_params['phi_mean'][0]\n",
    "    std = biomarker_params['theta_std'][0] if affected else biomarker_params['phi_std'][0]\n",
    "    likelihood = np.exp(-(measurement - mu)**2/(2*std**2))/np.sqrt(2*np.pi*std**2)\n",
    "    return likelihood"
   ]
  },
  {
   "cell_type": "code",
   "execution_count": 302,
   "metadata": {},
   "outputs": [],
   "source": [
    "def compute_likelihood(pdata, k_j, theta_phi):\n",
    "    '''This implementes the formula of https://ebm-book2.vercel.app/distributions.html#known-k-j\n",
    "    Inputs:\n",
    "        - pdata: data that belongs to a specific participant\n",
    "        - k_j: the disease stage the participant is at \n",
    "        - theta_phi: a dataframe containing theta and phi means & vars for all biomarkers\n",
    "    Outputs:\n",
    "        - the likelihood of seeing this sequence of measurements if the participant is at this k_j\n",
    "    '''\n",
    "    likelihood = 1\n",
    "    for i, row in pdata.iterrows():\n",
    "        biomarker = row['biomarker']\n",
    "        measurement = row['measurement']\n",
    "        affected = k_j >= row['S_n']\n",
    "        likelihood *= compute_single_measurement_likelihood(\n",
    "            theta_phi, biomarker, affected, measurement)\n",
    "    return likelihood"
   ]
  },
  {
   "cell_type": "markdown",
   "metadata": {},
   "source": [
    "## Cases when our algorithm does not work"
   ]
  },
  {
   "cell_type": "code",
   "execution_count": 303,
   "metadata": {},
   "outputs": [],
   "source": [
    "# These are the participants whose results using our algorithm \n",
    "# generates different stages than actual stages\n",
    "\n",
    "p_ids_with_different_results = [4,  5,  6,  9, 10, 13, 14, 16, 18, 20, 21, 24, 26, 30, 34, 35, 39,\n",
    "        41, 45, 46, 47, 49, 52, 58, 59, 61, 66, 68, 69, 71, 72, 76, 80, 81,\n",
    "        84, 85, 89, 92, 94, 97, 98]"
   ]
  },
  {
   "cell_type": "code",
   "execution_count": 304,
   "metadata": {},
   "outputs": [
    {
     "data": {
      "text/html": [
       "<div>\n",
       "<style scoped>\n",
       "    .dataframe tbody tr th:only-of-type {\n",
       "        vertical-align: middle;\n",
       "    }\n",
       "\n",
       "    .dataframe tbody tr th {\n",
       "        vertical-align: top;\n",
       "    }\n",
       "\n",
       "    .dataframe thead th {\n",
       "        text-align: right;\n",
       "    }\n",
       "</style>\n",
       "<table border=\"1\" class=\"dataframe\">\n",
       "  <thead>\n",
       "    <tr style=\"text-align: right;\">\n",
       "      <th></th>\n",
       "      <th>participant</th>\n",
       "      <th>biomarker</th>\n",
       "      <th>measurement</th>\n",
       "      <th>k_j</th>\n",
       "      <th>S_n</th>\n",
       "      <th>affected_or_not</th>\n",
       "      <th>Diseased</th>\n",
       "    </tr>\n",
       "  </thead>\n",
       "  <tbody>\n",
       "    <tr>\n",
       "      <th>0</th>\n",
       "      <td>97</td>\n",
       "      <td>MMSE</td>\n",
       "      <td>26.438538</td>\n",
       "      <td>4</td>\n",
       "      <td>5</td>\n",
       "      <td>not_affected</td>\n",
       "      <td>True</td>\n",
       "    </tr>\n",
       "    <tr>\n",
       "      <th>1</th>\n",
       "      <td>97</td>\n",
       "      <td>ADAS</td>\n",
       "      <td>-26.041602</td>\n",
       "      <td>4</td>\n",
       "      <td>6</td>\n",
       "      <td>not_affected</td>\n",
       "      <td>True</td>\n",
       "    </tr>\n",
       "    <tr>\n",
       "      <th>2</th>\n",
       "      <td>97</td>\n",
       "      <td>AB</td>\n",
       "      <td>216.985381</td>\n",
       "      <td>4</td>\n",
       "      <td>3</td>\n",
       "      <td>affected</td>\n",
       "      <td>True</td>\n",
       "    </tr>\n",
       "    <tr>\n",
       "      <th>3</th>\n",
       "      <td>97</td>\n",
       "      <td>P-Tau</td>\n",
       "      <td>-57.941960</td>\n",
       "      <td>4</td>\n",
       "      <td>4</td>\n",
       "      <td>affected</td>\n",
       "      <td>True</td>\n",
       "    </tr>\n",
       "    <tr>\n",
       "      <th>4</th>\n",
       "      <td>97</td>\n",
       "      <td>HIP-FCI</td>\n",
       "      <td>4.604881</td>\n",
       "      <td>4</td>\n",
       "      <td>1</td>\n",
       "      <td>affected</td>\n",
       "      <td>True</td>\n",
       "    </tr>\n",
       "    <tr>\n",
       "      <th>5</th>\n",
       "      <td>97</td>\n",
       "      <td>HIP-GMI</td>\n",
       "      <td>0.228995</td>\n",
       "      <td>4</td>\n",
       "      <td>7</td>\n",
       "      <td>not_affected</td>\n",
       "      <td>True</td>\n",
       "    </tr>\n",
       "    <tr>\n",
       "      <th>6</th>\n",
       "      <td>97</td>\n",
       "      <td>AVLT-Sum</td>\n",
       "      <td>22.187155</td>\n",
       "      <td>4</td>\n",
       "      <td>8</td>\n",
       "      <td>not_affected</td>\n",
       "      <td>True</td>\n",
       "    </tr>\n",
       "    <tr>\n",
       "      <th>7</th>\n",
       "      <td>97</td>\n",
       "      <td>PCC-FCI</td>\n",
       "      <td>9.834582</td>\n",
       "      <td>4</td>\n",
       "      <td>2</td>\n",
       "      <td>affected</td>\n",
       "      <td>True</td>\n",
       "    </tr>\n",
       "    <tr>\n",
       "      <th>8</th>\n",
       "      <td>97</td>\n",
       "      <td>FUS-GMI</td>\n",
       "      <td>0.540103</td>\n",
       "      <td>4</td>\n",
       "      <td>9</td>\n",
       "      <td>not_affected</td>\n",
       "      <td>True</td>\n",
       "    </tr>\n",
       "    <tr>\n",
       "      <th>9</th>\n",
       "      <td>97</td>\n",
       "      <td>FUS-FCI</td>\n",
       "      <td>-16.839313</td>\n",
       "      <td>4</td>\n",
       "      <td>10</td>\n",
       "      <td>not_affected</td>\n",
       "      <td>True</td>\n",
       "    </tr>\n",
       "  </tbody>\n",
       "</table>\n",
       "</div>"
      ],
      "text/plain": [
       "   participant biomarker  measurement  k_j  S_n affected_or_not  Diseased\n",
       "0           97      MMSE    26.438538    4    5    not_affected      True\n",
       "1           97      ADAS   -26.041602    4    6    not_affected      True\n",
       "2           97        AB   216.985381    4    3        affected      True\n",
       "3           97     P-Tau   -57.941960    4    4        affected      True\n",
       "4           97   HIP-FCI     4.604881    4    1        affected      True\n",
       "5           97   HIP-GMI     0.228995    4    7    not_affected      True\n",
       "6           97  AVLT-Sum    22.187155    4    8    not_affected      True\n",
       "7           97   PCC-FCI     9.834582    4    2        affected      True\n",
       "8           97   FUS-GMI     0.540103    4    9    not_affected      True\n",
       "9           97   FUS-FCI   -16.839313    4   10    not_affected      True"
      ]
     },
     "execution_count": 304,
     "metadata": {},
     "output_type": "execute_result"
    }
   ],
   "source": [
    "participant_index = np.random.choice(p_ids_with_different_results)\n",
    "p_data = data[data.participant == participant_index].reset_index(drop=True)\n",
    "p_data"
   ]
  },
  {
   "cell_type": "code",
   "execution_count": 305,
   "metadata": {},
   "outputs": [
    {
     "data": {
      "text/html": [
       "<div>\n",
       "<style scoped>\n",
       "    .dataframe tbody tr th:only-of-type {\n",
       "        vertical-align: middle;\n",
       "    }\n",
       "\n",
       "    .dataframe tbody tr th {\n",
       "        vertical-align: top;\n",
       "    }\n",
       "\n",
       "    .dataframe thead th {\n",
       "        text-align: right;\n",
       "    }\n",
       "</style>\n",
       "<table border=\"1\" class=\"dataframe\">\n",
       "  <thead>\n",
       "    <tr style=\"text-align: right;\">\n",
       "      <th></th>\n",
       "      <th>likelihood</th>\n",
       "    </tr>\n",
       "  </thead>\n",
       "  <tbody>\n",
       "    <tr>\n",
       "      <th>3</th>\n",
       "      <td>3.424518e-11</td>\n",
       "    </tr>\n",
       "    <tr>\n",
       "      <th>5</th>\n",
       "      <td>1.028130e-11</td>\n",
       "    </tr>\n",
       "    <tr>\n",
       "      <th>4</th>\n",
       "      <td>9.991809e-12</td>\n",
       "    </tr>\n",
       "    <tr>\n",
       "      <th>2</th>\n",
       "      <td>3.969527e-14</td>\n",
       "    </tr>\n",
       "    <tr>\n",
       "      <th>1</th>\n",
       "      <td>1.926505e-14</td>\n",
       "    </tr>\n",
       "    <tr>\n",
       "      <th>0</th>\n",
       "      <td>1.754607e-15</td>\n",
       "    </tr>\n",
       "    <tr>\n",
       "      <th>7</th>\n",
       "      <td>9.355659e-60</td>\n",
       "    </tr>\n",
       "    <tr>\n",
       "      <th>6</th>\n",
       "      <td>8.374350e-60</td>\n",
       "    </tr>\n",
       "    <tr>\n",
       "      <th>8</th>\n",
       "      <td>2.167906e-60</td>\n",
       "    </tr>\n",
       "    <tr>\n",
       "      <th>9</th>\n",
       "      <td>1.735136e-60</td>\n",
       "    </tr>\n",
       "    <tr>\n",
       "      <th>10</th>\n",
       "      <td>4.372250e-61</td>\n",
       "    </tr>\n",
       "  </tbody>\n",
       "</table>\n",
       "</div>"
      ],
      "text/plain": [
       "      likelihood\n",
       "3   3.424518e-11\n",
       "5   1.028130e-11\n",
       "4   9.991809e-12\n",
       "2   3.969527e-14\n",
       "1   1.926505e-14\n",
       "0   1.754607e-15\n",
       "7   9.355659e-60\n",
       "6   8.374350e-60\n",
       "8   2.167906e-60\n",
       "9   1.735136e-60\n",
       "10  4.372250e-61"
      ]
     },
     "execution_count": 305,
     "metadata": {},
     "output_type": "execute_result"
    }
   ],
   "source": [
    "num_stages = len(data.k_j.unique())\n",
    "stage_likelihood = np.zeros(num_stages)\n",
    "for k in range(num_stages):\n",
    "    # assume participant is in this stage; compute the likelihood of seeing \n",
    "    # this sequence of observed biomarker measurement\n",
    "    # [0, 10] Note that k CAN be 0\n",
    "    likelihood = compute_likelihood(p_data, k, theta_phi=theta_phi)\n",
    "    stage_likelihood[k] = likelihood\n",
    "p_stage_likelihood_df = pd.DataFrame(stage_likelihood, columns=['likelihood'])\n",
    "p_stage_likelihood_df.sort_values(by = \"likelihood\", ascending=False)"
   ]
  },
  {
   "cell_type": "markdown",
   "metadata": {},
   "source": [
    "## For all participants"
   ]
  },
  {
   "cell_type": "code",
   "execution_count": 306,
   "metadata": {},
   "outputs": [],
   "source": [
    "def update_estimaged_participant_stage_dic(num_stages, p, p_data, theta_phi, estimated_participant_stage_dic):\n",
    "    # initiaze stage_likelihood\n",
    "    stage_likelihood = np.zeros(num_stages)\n",
    "    for k in range(num_stages):\n",
    "        # assume participant is in this stage; compute the likelihood of seeing \n",
    "        # this sequence of observed biomarker measurement\n",
    "        # [0, 10] Note that k CAN be 0\n",
    "        likelihood = compute_likelihood(p_data, k, theta_phi=theta_phi)\n",
    "        stage_likelihood[k] = likelihood\n",
    "    # estimated_participant_stage_dic[p] = np.argmax(stage_likelihood)\n",
    "    likelihood_sum = np.sum(stage_likelihood)\n",
    "    normalized_stage_likelihood = [l/likelihood_sum for l in stage_likelihood]\n",
    "    sampled_stage = np.random.choice(np.arange(num_stages), p = normalized_stage_likelihood)\n",
    "    estimated_participant_stage_dic[p] = sampled_stage        "
   ]
  },
  {
   "cell_type": "markdown",
   "metadata": {},
   "source": [
    "Note that if I run the algorithm once, the `sampled_stage` might not be the one with highest probability. So I did with multiple iterations. I obtained multiple `estimated_participant_stage_dic`. Then I used the mode for each participant. However, still, the results are not optimal. I do not understand why. "
   ]
  },
  {
   "cell_type": "code",
   "execution_count": 307,
   "metadata": {},
   "outputs": [],
   "source": [
    "num_iterations = 2\n",
    "estimated_participant_stage_dic = {}\n",
    "estimated_participant_stage_dic_list = []\n",
    "\n",
    "for _ in range(num_iterations):\n",
    "    for p in participants:\n",
    "        p_data = data[data.participant == p].reset_index(drop=True)\n",
    "        update_estimaged_participant_stage_dic(\n",
    "            num_stages, p, p_data, theta_phi, estimated_participant_stage_dic)\n",
    "    estimated_participant_stage_dic_list.append(estimated_participant_stage_dic)"
   ]
  },
  {
   "cell_type": "code",
   "execution_count": 308,
   "metadata": {},
   "outputs": [],
   "source": [
    "lists_of_values_array = []\n",
    "for dic in estimated_participant_stage_dic_list:\n",
    "    values_array = np.array(list(dic.values()))\n",
    "    lists_of_values_array.append(values_array)\n",
    "# len(lists_of_values_array)\n",
    "stacked_lists_of_values_array = np.stack(lists_of_values_array, axis = 0)\n",
    "# stacked_lists_of_values_array.shape\n",
    "estimated_stages = mode(stacked_lists_of_values_array, axis=0, keepdims=False)[0]"
   ]
  },
  {
   "cell_type": "code",
   "execution_count": 309,
   "metadata": {},
   "outputs": [],
   "source": [
    "# estimated_stages = np.array(list(estimated_participant_stage_dic.values()))\n",
    "actual_stages = np.array(list(actual_participant_stage_dic.values()))\n",
    "differences = estimated_stages - actual_stages\n",
    "# non_zero_indices = np.nonzero(differences)\n",
    "# non_zero_indices"
   ]
  },
  {
   "cell_type": "code",
   "execution_count": 310,
   "metadata": {},
   "outputs": [
    {
     "data": {
      "text/plain": [
       "array([ 1,  0,  0,  0,  0,  0,  0, -2, -2, -2,  0,  1, -1,  0,  0, -1,  1,\n",
       "        0, -4,  0,  0,  0,  1,  0,  0,  0,  0,  0,  0,  1, -1, -1,  0,  0,\n",
       "        2,  0,  1,  1,  0,  0,  0,  0, -1,  0,  0,  1,  0, -2,  1,  1,  0,\n",
       "        0,  2,  0,  0, -2,  0,  0,  0,  0,  0, -1,  0,  0, -1,  0,  0,  0,\n",
       "       -2,  1,  2,  0,  0,  0,  4, -1,  1,  0,  0, -1,  0,  0,  0,  3,  0,\n",
       "        3,  0,  0,  1,  0, -1,  2,  0,  0,  1, -2,  0, -1,  0,  0])"
      ]
     },
     "execution_count": 310,
     "metadata": {},
     "output_type": "execute_result"
    }
   ],
   "source": [
    "differences"
   ]
  },
  {
   "cell_type": "code",
   "execution_count": 311,
   "metadata": {},
   "outputs": [],
   "source": [
    "def scatter_plot_of_stage_differences(stage_differences):\n",
    "    '''Scatter Plot of the Difference at each index\n",
    "    Input:\n",
    "    - stage_differences: estimated_stages - actual stages. Result should be a 1-dim np array\n",
    "    '''\n",
    "    plt.figure(figsize=(10, 6))\n",
    "    plt.scatter(range(100), stage_differences, alpha=0.6)\n",
    "    plt.axhline(y=0, color='red', linestyle='--')\n",
    "    plt.title(\"Scatter Plot of Stage Difference for Each Participant\")\n",
    "    plt.xlabel(\"Participant\")\n",
    "    plt.ylabel(\"Difference (Estimated Stage - True Stage)\")\n",
    "    plt.grid(True)\n",
    "    plt.show()"
   ]
  },
  {
   "cell_type": "code",
   "execution_count": 312,
   "metadata": {},
   "outputs": [
    {
     "data": {
      "image/png": "[encoded data removed]",
      "text/plain": [
       "<Figure size 1000x600 with 1 Axes>"
      ]
     },
     "metadata": {},
     "output_type": "display_data"
    }
   ],
   "source": [
    "scatter_plot_of_stage_differences(differences)"
   ]
  },
  {
   "cell_type": "markdown",
   "metadata": {},
   "source": [
    "From the above figure, it is clear that the method we employed successfully estimated the stage each participant is in.\n",
    "\n",
    "## Unknown $\\theta$ and $\\phi$\n",
    "\n",
    "Suppose we do not have access to the parameters for biomarker value distributions; i.e., we do not know $\\theta$ and $\\phi$. "
   ]
  },
  {
   "cell_type": "code",
   "execution_count": 313,
   "metadata": {},
   "outputs": [
    {
     "data": {
      "text/html": [
       "<div>\n",
       "<style scoped>\n",
       "    .dataframe tbody tr th:only-of-type {\n",
       "        vertical-align: middle;\n",
       "    }\n",
       "\n",
       "    .dataframe tbody tr th {\n",
       "        vertical-align: top;\n",
       "    }\n",
       "\n",
       "    .dataframe thead th {\n",
       "        text-align: right;\n",
       "    }\n",
       "</style>\n",
       "<table border=\"1\" class=\"dataframe\">\n",
       "  <thead>\n",
       "    <tr style=\"text-align: right;\">\n",
       "      <th></th>\n",
       "      <th>participant</th>\n",
       "      <th>biomarker</th>\n",
       "      <th>measurement</th>\n",
       "      <th>S_n</th>\n",
       "      <th>Diseased</th>\n",
       "    </tr>\n",
       "  </thead>\n",
       "  <tbody>\n",
       "    <tr>\n",
       "      <th>0</th>\n",
       "      <td>0</td>\n",
       "      <td>MMSE</td>\n",
       "      <td>27.988703</td>\n",
       "      <td>5</td>\n",
       "      <td>True</td>\n",
       "    </tr>\n",
       "    <tr>\n",
       "      <th>1</th>\n",
       "      <td>1</td>\n",
       "      <td>MMSE</td>\n",
       "      <td>28.058068</td>\n",
       "      <td>5</td>\n",
       "      <td>True</td>\n",
       "    </tr>\n",
       "    <tr>\n",
       "      <th>2</th>\n",
       "      <td>2</td>\n",
       "      <td>MMSE</td>\n",
       "      <td>23.613659</td>\n",
       "      <td>5</td>\n",
       "      <td>True</td>\n",
       "    </tr>\n",
       "    <tr>\n",
       "      <th>3</th>\n",
       "      <td>3</td>\n",
       "      <td>MMSE</td>\n",
       "      <td>27.403555</td>\n",
       "      <td>5</td>\n",
       "      <td>True</td>\n",
       "    </tr>\n",
       "    <tr>\n",
       "      <th>4</th>\n",
       "      <td>4</td>\n",
       "      <td>MMSE</td>\n",
       "      <td>24.649868</td>\n",
       "      <td>5</td>\n",
       "      <td>False</td>\n",
       "    </tr>\n",
       "  </tbody>\n",
       "</table>\n",
       "</div>"
      ],
      "text/plain": [
       "   participant biomarker  measurement  S_n  Diseased\n",
       "0            0      MMSE    27.988703    5      True\n",
       "1            1      MMSE    28.058068    5      True\n",
       "2            2      MMSE    23.613659    5      True\n",
       "3            3      MMSE    27.403555    5      True\n",
       "4            4      MMSE    24.649868    5     False"
      ]
     },
     "execution_count": 313,
     "metadata": {},
     "output_type": "execute_result"
    }
   ],
   "source": [
    "data_we_have = data.drop(['k_j', 'affected_or_not'], axis = 1)\n",
    "data_we_have.head()"
   ]
  },
  {
   "cell_type": "code",
   "execution_count": 314,
   "metadata": {},
   "outputs": [],
   "source": [
    "def fill_up_data_we_have(data_we_have, participant_stages, participants):\n",
    "    '''This is to fill up data_we_have. \n",
    "    Basically, add two columns: k_j, and affected, based on the initial or updated participant_stages\n",
    "    Essentially, all we do below is to get the most accurate participant_stages\n",
    "\n",
    "    Note: we do not have the real participant_stages right now. \n",
    "    \n",
    "    Inputs:\n",
    "        - data_we_have\n",
    "        - participant_stages: np array \n",
    "        - participants: 0-99\n",
    "    '''\n",
    "    participant_stage_dic = dict(zip(np.arange(0,len(participants)), participant_stages))\n",
    "    data_we_have['k_j'] = data_we_have.apply(lambda row: participant_stage_dic[row.participant], axis = 1)\n",
    "    data_we_have['affected'] = data_we_have.apply(lambda row: row.k_j >= row.S_n, axis = 1)\n",
    "    return data_we_have "
   ]
  },
  {
   "cell_type": "code",
   "execution_count": 315,
   "metadata": {},
   "outputs": [],
   "source": [
    "def estimate_params_exact(m0, n0, s0_sq, v0, data):\n",
    "    '''This is to estimate means and vars based on conjugate priors\n",
    "    Inputs:\n",
    "        - data: a vector of measurements \n",
    "        - m0: prior estimate of $\\mu$.\n",
    "        - n0: how strongly is the prior belief in $m_0$ is held.\n",
    "        - s0_sq: prior estimate of $\\sigma^2$.\n",
    "        - v0: prior degress of freedome, influencing the certainty of $s_0^2$.\n",
    "    \n",
    "    Outputs:\n",
    "        - mu estiate, std estimate\n",
    "    '''\n",
    "    # Data summary\n",
    "    sample_mean = np.mean(data)\n",
    "    sample_size = len(data)\n",
    "    sample_var = np.var(data, ddof=1)  # ddof=1 for unbiased estimator\n",
    "\n",
    "    # Update hyperparameters for the Normal-Inverse Gamma posterior\n",
    "    updated_m0 = (n0 * m0 + sample_size * sample_mean) / (n0 + sample_size)\n",
    "    updated_n0 = n0 + sample_size\n",
    "    updated_v0 = v0 + sample_size \n",
    "    updated_s0_sq = (1 / updated_v0) * ((sample_size - 1) * sample_var + v0 * s0_sq + \n",
    "                    (n0 * sample_size / updated_n0) * (sample_mean - m0)**2)\n",
    "    updated_alpha = updated_v0/2\n",
    "    updated_beta = updated_v0*updated_s0_sq/2\n",
    "\n",
    "    # Posterior estimates\n",
    "    mu_posterior_mean = updated_m0\n",
    "    sigma_squared_posterior_mean = updated_beta/updated_alpha\n",
    "\n",
    "    mu_estimation = mu_posterior_mean\n",
    "    std_estimation = np.sqrt(sigma_squared_posterior_mean)\n",
    "\n",
    "    return mu_estimation, std_estimation"
   ]
  },
  {
   "cell_type": "code",
   "execution_count": 316,
   "metadata": {},
   "outputs": [],
   "source": [
    "def get_estimated_means_stds_df(biomarkers, data_we_have):\n",
    "    '''To get estimated parameters, returns a Pandas DataFrame\n",
    "    Input:\n",
    "    - biomarkers: biomarkers \n",
    "    - data_we_have: participants data filled with initial or updated participant_stages\n",
    "\n",
    "    Output: \n",
    "    - estimate_means_std_df, just like means_stds_df, containing the estimated mean and std_dev for \n",
    "      distribution of biomarker values when the biomarker is affected and not affected\n",
    "    '''\n",
    "     # empty list of dictionaries to store the estimates \n",
    "    means_stds_estimate_dict_list = []\n",
    "    \n",
    "    for biomarker in biomarkers: \n",
    "        dic = {'biomarker': biomarker}  # Initialize dictionary outside the inner loop\n",
    "        for affected in [True, False]:\n",
    "            data_full = data_we_have[(data_we_have.biomarker == biomarker) & (\n",
    "            data_we_have.affected == affected)]\n",
    "            data = data_full.measurement\n",
    "            mu_estimate, std_estimate = estimate_params_exact(\n",
    "                m0 = 0, n0 = 1, s0_sq = 1, v0 = 1, data=data)\n",
    "            if affected:\n",
    "                dic['theta_mean'] = mu_estimate\n",
    "                dic['theta_std'] = std_estimate\n",
    "            else:\n",
    "                dic['phi_mean'] = mu_estimate\n",
    "                dic['phi_std'] = std_estimate\n",
    "        # print(f\"biomarker {biomarker} done!\")\n",
    "        means_stds_estimate_dict_list.append(dic)\n",
    "    estimate_means_stds_df = pd.DataFrame(means_stds_estimate_dict_list)\n",
    "    return estimate_means_stds_df "
   ]
  },
  {
   "cell_type": "markdown",
   "metadata": {},
   "source": [
    "### Randomized initilization\n",
    "\n",
    "A potential bug occurs here: suppose in one iteration, among `participant_stages`, there is only one participant whose stage is $10$. In this situation, biomarker FUS-FCI which corresponses to stage 10, has only one measurement for `affected==True`, and we cannot obtain the std of FUS-FCI. "
   ]
  },
  {
   "cell_type": "code",
   "execution_count": 317,
   "metadata": {},
   "outputs": [
    {
     "data": {
      "text/plain": [
       "11"
      ]
     },
     "execution_count": 317,
     "metadata": {},
     "output_type": "execute_result"
    }
   ],
   "source": [
    "num_stages"
   ]
  },
  {
   "cell_type": "code",
   "execution_count": 318,
   "metadata": {},
   "outputs": [],
   "source": [
    "# initialize participant_stages \n",
    "# num_stages = 11 as earlier defined\n",
    "participant_stages = np.random.randint(low = 0, high = num_stages, size = len(participants))\n",
    "\n",
    "# this is what we already know\n",
    "participant_stages[non_diseased_participants] = 0"
   ]
  },
  {
   "cell_type": "code",
   "execution_count": 319,
   "metadata": {},
   "outputs": [],
   "source": [
    "def count_10s(array):\n",
    "    \"\"\"Count how many 10 are in an array\n",
    "    \"\"\"\n",
    "    return np.count_nonzero(array == 10)\n",
    "\n",
    "def df_contains_nan(df):\n",
    "    \"\"\"check whether a dataframe contains nan \n",
    "    \"\"\"\n",
    "    return df.isnull().values.any()"
   ]
  },
  {
   "cell_type": "code",
   "execution_count": 320,
   "metadata": {},
   "outputs": [
    {
     "data": {
      "text/plain": [
       "10"
      ]
     },
     "execution_count": 320,
     "metadata": {},
     "output_type": "execute_result"
    }
   ],
   "source": [
    "count_10s(actual_stages)"
   ]
  },
  {
   "cell_type": "code",
   "execution_count": 321,
   "metadata": {},
   "outputs": [
    {
     "name": "stdout",
     "output_type": "stream",
     "text": [
      "Number of participants in stage 10: 7\n",
      "There are nan values in estimated_means_stds_df: False\n",
      "iteration 0 done\n",
      "Number of participants in stage 10: 4\n",
      "There are nan values in estimated_means_stds_df: False\n",
      "iteration 1 done\n"
     ]
    }
   ],
   "source": [
    "num_iterations = 2\n",
    "for i in range(num_iterations):\n",
    "    print(f\"Number of participants in stage 10: {count_10s(participant_stages)}\")\n",
    "    # fill up data_we_have with the current participant_stages\n",
    "    data_we_have = fill_up_data_we_have(data_we_have, participant_stages, participants)\n",
    "    estimated_means_stds_df = get_estimated_means_stds_df(biomarkers, data_we_have)\n",
    "    print(f\"There are nan values in estimated_means_stds_df: {df_contains_nan(estimated_means_stds_df)}\")\n",
    "    for p in participants:\n",
    "        # update participant_stages ONLY IF we do NOT know its k_j\n",
    "        if p not in non_diseased_participants:\n",
    "            p_data = data_we_have[data_we_have.participant == p].reset_index(drop=True)\n",
    "            # initiaze stage_likelihood\n",
    "            stage_likelihood = np.zeros(num_stages)\n",
    "            # note that it should be [0, 10]\n",
    "            for k in range(num_stages):\n",
    "            # [0, 10] Note that k CAN be 0\n",
    "                likelihood = compute_likelihood(p_data, k, theta_phi = estimated_means_stds_df)\n",
    "                stage_likelihood[k] = likelihood\n",
    "            likelihood_sum = np.sum(stage_likelihood)\n",
    "            try:\n",
    "                normalized_stage_likelihood = [l/likelihood_sum for l in stage_likelihood]\n",
    "            except:\n",
    "                print(stage_likelihood)\n",
    "            sampled_stage = np.random.choice(np.arange(num_stages), p = normalized_stage_likelihood)\n",
    "            participant_stages[p] = sampled_stage         \n",
    "    print(f\"iteration {i} done\")"
   ]
  },
  {
   "cell_type": "code",
   "execution_count": 322,
   "metadata": {},
   "outputs": [
    {
     "data": {
      "text/html": [
       "<div>\n",
       "<style scoped>\n",
       "    .dataframe tbody tr th:only-of-type {\n",
       "        vertical-align: middle;\n",
       "    }\n",
       "\n",
       "    .dataframe tbody tr th {\n",
       "        vertical-align: top;\n",
       "    }\n",
       "\n",
       "    .dataframe thead th {\n",
       "        text-align: right;\n",
       "    }\n",
       "</style>\n",
       "<table border=\"1\" class=\"dataframe\">\n",
       "  <thead>\n",
       "    <tr style=\"text-align: right;\">\n",
       "      <th></th>\n",
       "      <th>participant</th>\n",
       "      <th>biomarker</th>\n",
       "      <th>measurement</th>\n",
       "      <th>S_n</th>\n",
       "      <th>Diseased</th>\n",
       "      <th>k_j</th>\n",
       "      <th>affected</th>\n",
       "    </tr>\n",
       "  </thead>\n",
       "  <tbody>\n",
       "    <tr>\n",
       "      <th>933</th>\n",
       "      <td>33</td>\n",
       "      <td>FUS-FCI</td>\n",
       "      <td>-21.628344</td>\n",
       "      <td>10</td>\n",
       "      <td>True</td>\n",
       "      <td>10</td>\n",
       "      <td>True</td>\n",
       "    </tr>\n",
       "  </tbody>\n",
       "</table>\n",
       "</div>"
      ],
      "text/plain": [
       "     participant biomarker  measurement  S_n  Diseased  k_j  affected\n",
       "933           33   FUS-FCI   -21.628344   10      True   10      True"
      ]
     },
     "execution_count": 322,
     "metadata": {},
     "output_type": "execute_result"
    }
   ],
   "source": [
    "participant_stages = np.array([ 6,  5,  3,  4,  8,  8,  6,  0,  9,  4,  7,  8,  8,  2,  2,  4,  8,\n",
    "        2,  6,  5,  7,  3,  4,  6,  7,  8,  0,  0,  5,  7,  2,  9,  0, 10,\n",
    "        1,  7,  3,  3,  7,  2,  0,  6,  4,  0,  2,  0,  8,  6,  5,  7,  6,\n",
    "        9,  8,  3,  7,  9,  6,  9,  8,  9,  9,  1,  0,  5,  2,  7,  5,  7,\n",
    "        8,  8,  7,  5,  6,  9,  3,  5,  2,  3,  5,  1,  8,  7,  3,  5,  7,\n",
    "        0,  7,  4,  3,  6,  5,  0,  2,  0,  4,  1,  5,  1,  6,  1])\n",
    "data_we_have = data.drop(['k_j', 'affected_or_not'], axis = 1)\n",
    "data_we_have = fill_up_data_we_have(data_we_have, participant_stages, participants)\n",
    "data_full = data_we_have[(data_we_have.biomarker == \"FUS-FCI\") & (data_we_have.affected == True)]\n",
    "data_full"
   ]
  },
  {
   "cell_type": "code",
   "execution_count": 323,
   "metadata": {},
   "outputs": [
    {
     "data": {
      "text/html": [
       "<div>\n",
       "<style scoped>\n",
       "    .dataframe tbody tr th:only-of-type {\n",
       "        vertical-align: middle;\n",
       "    }\n",
       "\n",
       "    .dataframe tbody tr th {\n",
       "        vertical-align: top;\n",
       "    }\n",
       "\n",
       "    .dataframe thead th {\n",
       "        text-align: right;\n",
       "    }\n",
       "</style>\n",
       "<table border=\"1\" class=\"dataframe\">\n",
       "  <thead>\n",
       "    <tr style=\"text-align: right;\">\n",
       "      <th></th>\n",
       "      <th>biomarker</th>\n",
       "      <th>theta_mean</th>\n",
       "      <th>theta_std</th>\n",
       "      <th>phi_mean</th>\n",
       "      <th>phi_std</th>\n",
       "    </tr>\n",
       "  </thead>\n",
       "  <tbody>\n",
       "    <tr>\n",
       "      <th>0</th>\n",
       "      <td>MMSE</td>\n",
       "      <td>24.708796</td>\n",
       "      <td>4.863445</td>\n",
       "      <td>24.369141</td>\n",
       "      <td>5.087267</td>\n",
       "    </tr>\n",
       "    <tr>\n",
       "      <th>1</th>\n",
       "      <td>ADAS</td>\n",
       "      <td>-13.808989</td>\n",
       "      <td>8.227218</td>\n",
       "      <td>-13.716431</td>\n",
       "      <td>7.856878</td>\n",
       "    </tr>\n",
       "    <tr>\n",
       "      <th>2</th>\n",
       "      <td>AB</td>\n",
       "      <td>211.057727</td>\n",
       "      <td>58.617991</td>\n",
       "      <td>216.474525</td>\n",
       "      <td>71.396558</td>\n",
       "    </tr>\n",
       "    <tr>\n",
       "      <th>3</th>\n",
       "      <td>P-Tau</td>\n",
       "      <td>-36.420466</td>\n",
       "      <td>23.595211</td>\n",
       "      <td>-29.937703</td>\n",
       "      <td>26.678957</td>\n",
       "    </tr>\n",
       "    <tr>\n",
       "      <th>4</th>\n",
       "      <td>HIP-FCI</td>\n",
       "      <td>4.255548</td>\n",
       "      <td>2.865853</td>\n",
       "      <td>3.936176</td>\n",
       "      <td>4.337796</td>\n",
       "    </tr>\n",
       "    <tr>\n",
       "      <th>5</th>\n",
       "      <td>HIP-GMI</td>\n",
       "      <td>0.364241</td>\n",
       "      <td>0.314373</td>\n",
       "      <td>0.318151</td>\n",
       "      <td>0.327472</td>\n",
       "    </tr>\n",
       "    <tr>\n",
       "      <th>6</th>\n",
       "      <td>AVLT-Sum</td>\n",
       "      <td>24.139010</td>\n",
       "      <td>14.684888</td>\n",
       "      <td>24.562773</td>\n",
       "      <td>13.885790</td>\n",
       "    </tr>\n",
       "    <tr>\n",
       "      <th>7</th>\n",
       "      <td>PCC-FCI</td>\n",
       "      <td>10.354499</td>\n",
       "      <td>4.760110</td>\n",
       "      <td>11.201327</td>\n",
       "      <td>5.352349</td>\n",
       "    </tr>\n",
       "    <tr>\n",
       "      <th>8</th>\n",
       "      <td>FUS-GMI</td>\n",
       "      <td>0.464419</td>\n",
       "      <td>0.355202</td>\n",
       "      <td>0.515557</td>\n",
       "      <td>0.137937</td>\n",
       "    </tr>\n",
       "    <tr>\n",
       "      <th>9</th>\n",
       "      <td>FUS-FCI</td>\n",
       "      <td>-10.814172</td>\n",
       "      <td>NaN</td>\n",
       "      <td>-18.991407</td>\n",
       "      <td>6.567479</td>\n",
       "    </tr>\n",
       "  </tbody>\n",
       "</table>\n",
       "</div>"
      ],
      "text/plain": [
       "  biomarker  theta_mean  theta_std    phi_mean    phi_std\n",
       "0      MMSE   24.708796   4.863445   24.369141   5.087267\n",
       "1      ADAS  -13.808989   8.227218  -13.716431   7.856878\n",
       "2        AB  211.057727  58.617991  216.474525  71.396558\n",
       "3     P-Tau  -36.420466  23.595211  -29.937703  26.678957\n",
       "4   HIP-FCI    4.255548   2.865853    3.936176   4.337796\n",
       "5   HIP-GMI    0.364241   0.314373    0.318151   0.327472\n",
       "6  AVLT-Sum   24.139010  14.684888   24.562773  13.885790\n",
       "7   PCC-FCI   10.354499   4.760110   11.201327   5.352349\n",
       "8   FUS-GMI    0.464419   0.355202    0.515557   0.137937\n",
       "9   FUS-FCI  -10.814172        NaN  -18.991407   6.567479"
      ]
     },
     "execution_count": 323,
     "metadata": {},
     "output_type": "execute_result"
    }
   ],
   "source": [
    "estimated_means_stds_df = get_estimated_means_stds_df(biomarkers, data_we_have)\n",
    "estimated_means_stds_df"
   ]
  },
  {
   "cell_type": "markdown",
   "metadata": {},
   "source": [
    "### Result after gibbs sampling"
   ]
  },
  {
   "cell_type": "code",
   "execution_count": 324,
   "metadata": {},
   "outputs": [
    {
     "data": {
      "image/png": "[encoded data removed]",
      "text/plain": [
       "<Figure size 1000x600 with 1 Axes>"
      ]
     },
     "metadata": {},
     "output_type": "display_data"
    }
   ],
   "source": [
    "estimated_stages = participant_stages\n",
    "actual_stages = np.array(list(actual_participant_stage_dic.values()))\n",
    "differences = estimated_stages - actual_stages\n",
    "scatter_plot_of_stage_differences(differences)"
   ]
  },
  {
   "cell_type": "markdown",
   "metadata": {},
   "source": [
    "### Trying initializing participant stages as the actual stages\n",
    "\n",
    "We can see that if we initlize participant stages as the actual stages, the result is much better. "
   ]
  },
  {
   "cell_type": "code",
   "execution_count": 325,
   "metadata": {},
   "outputs": [
    {
     "name": "stdout",
     "output_type": "stream",
     "text": [
      "iteration 0 done\n",
      "iteration 1 done\n"
     ]
    }
   ],
   "source": [
    "participant_stages = actual_stages\n",
    "for i in range(num_iterations):\n",
    "    # fill up data_we_have with current participant_stages\n",
    "    data_we_have = fill_up_data_we_have(data_we_have, participant_stages, participants)\n",
    "    estimated_means_stds_df = get_estimated_means_stds_df(biomarkers, data_we_have)\n",
    "    for p in participants:\n",
    "        p_data = data_we_have[data_we_have.participant == p].reset_index(drop=True)\n",
    "        # initiaze stage_likelihood\n",
    "        stage_likelihood = np.zeros(num_stages)\n",
    "        # note that it is [0, 10]\n",
    "        for k in range(num_stages):\n",
    "            likelihood = compute_likelihood(p_data, k, theta_phi = estimated_means_stds_df)\n",
    "            stage_likelihood[k] = likelihood\n",
    "        likelihood_sum = np.sum(stage_likelihood)\n",
    "        normalized_stage_likelihood = [l/likelihood_sum for l in stage_likelihood]\n",
    "        sampled_stage = np.random.choice(np.arange(num_stages), p = normalized_stage_likelihood)\n",
    "        participant_stages[p] = sampled_stage         \n",
    "    print(f\"iteration {i} done\")"
   ]
  },
  {
   "cell_type": "code",
   "execution_count": 326,
   "metadata": {},
   "outputs": [
    {
     "data": {
      "image/png": "[encoded data removed]",
      "text/plain": [
       "<Figure size 1000x600 with 1 Axes>"
      ]
     },
     "metadata": {},
     "output_type": "display_data"
    }
   ],
   "source": [
    "estimated_stages = participant_stages\n",
    "actual_stages = np.array(list(actual_participant_stage_dic.values()))\n",
    "differences = estimated_stages - actual_stages\n",
    "scatter_plot_of_stage_differences(differences)"
   ]
  }
 ],
 "metadata": {
  "kernelspec": {
   "display_name": "bayes",
   "language": "python",
   "name": "python3"
  },
  "language_info": {
   "codemirror_mode": {
    "name": "ipython",
    "version": 3
   },
   "file_extension": ".py",
   "mimetype": "text/x-python",
   "name": "python",
   "nbconvert_exporter": "python",
   "pygments_lexer": "ipython3",
   "version": "3.8.19"
  }
 },
 "nbformat": 4,
 "nbformat_minor": 2
}
