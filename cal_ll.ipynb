{
 "cells": [
  {
   "cell_type": "markdown",
   "metadata": {},
   "source": [
    "# Calculate likelihoods"
   ]
  },
  {
   "cell_type": "code",
   "execution_count": 161,
   "metadata": {},
   "outputs": [],
   "source": [
    "import pandas as pd\n",
    "import numpy as np\n",
    "import utils\n",
    "\n",
    "def process_chen_data(file):\n",
    "    \"\"\"Prepare data for analysis below\n",
    "    \"\"\"\n",
    "    df = pd.read_excel(file)\n",
    "    df.rename(\n",
    "        columns={df.columns[0]: \n",
    "                 'participant_category', df.columns[1]: \n",
    "                 'participant'}, \n",
    "                 inplace=True)\n",
    "    # df = df[df.participant_category.isin(['CN', 'AD '])]\n",
    "    df['diseased'] = df.apply(lambda row: row.participant_category != 'CN', axis = 1)\n",
    "    df = pd.melt(df, id_vars=['participant_category', \"participant\", \"timestamp\", 'diseased'], \n",
    "                        value_vars=[\"FCI(HIP)\", \"GMI(HIP)\", \"FCI(Fusi)\", \"FCI(PCC)\", \"GMI(FUS)\"], \n",
    "                        var_name='biomarker', value_name='measurement')\n",
    "    # convert participant id\n",
    "    num_participant = len(df.participant.unique())\n",
    "    participant_string_id_dic = dict(zip(df.participant.unique(), [_ for _ in range(num_participant)]))\n",
    "    df['participant'] = df.apply(lambda row: participant_string_id_dic[row.participant], axis = 1 )\n",
    "    return df \n",
    "\n",
    "def get_data_we_have(data_source):\n",
    "    if data_source == \"Chen Data\":\n",
    "         data_we_have = process_chen_data(\"data/Chen2016Data.xlsx\")\n",
    "    else:\n",
    "        original_data = pd.read_csv('data/participant_data.csv')\n",
    "        original_data['diseased'] = original_data.apply(lambda row: row.k_j > 0, axis = 1)\n",
    "        data_we_have = original_data.drop(['k_j', 'S_n', 'affected_or_not'], axis = 1)\n",
    "    return data_we_have"
   ]
  },
  {
   "cell_type": "code",
   "execution_count": 162,
   "metadata": {},
   "outputs": [],
   "source": [
    "current_accepted_ll = -866.6745525609758"
   ]
  },
  {
   "cell_type": "code",
   "execution_count": 163,
   "metadata": {},
   "outputs": [
    {
     "data": {
      "text/plain": [
       "266.0"
      ]
     },
     "execution_count": 163,
     "metadata": {},
     "output_type": "execute_result"
    }
   ],
   "source": [
    "all_current_ll = pd.read_csv(\n",
    "    \"logs/chen_data_conjugate_priors/all_current_likelihoods.csv\")\n",
    "# the # of iteration that generated the first current likelihood\n",
    "that_iteration = all_current_ll[\n",
    "    all_current_ll.all_current_likelihoods == current_accepted_ll].reset_index().iloc[0, :]['iteration'] - 1\n",
    "that_iteration"
   ]
  },
  {
   "cell_type": "code",
   "execution_count": 164,
   "metadata": {},
   "outputs": [
    {
     "data": {
      "text/plain": [
       "numpy.float64"
      ]
     },
     "execution_count": 164,
     "metadata": {},
     "output_type": "execute_result"
    }
   ],
   "source": [
    "type(that_iteration - 1)"
   ]
  },
  {
   "cell_type": "code",
   "execution_count": 165,
   "metadata": {},
   "outputs": [
    {
     "data": {
      "text/plain": [
       "array([0, 0, 0, 0, 0, 0, 0, 0, 0, 0, 0, 0, 0, 0, 0, 0, 0, 0, 0, 0, 0, 0,\n",
       "       0, 0, 0, 0, 0, 0, 0, 0, 0, 0, 0, 0, 0, 0, 0, 0, 0, 0, 0, 0, 0, 0,\n",
       "       0, 1, 0, 3, 0, 2, 2, 4, 5, 2, 5, 1, 0, 1, 2, 2, 2, 1, 0, 5, 4, 4,\n",
       "       3, 1, 2, 2, 5, 2, 5, 5, 0, 1, 2, 2, 2, 4, 2, 0, 1, 2, 2, 2, 3, 4,\n",
       "       5, 0, 4, 4, 2, 3, 4, 3, 5, 2, 3, 2, 0, 2, 2, 1, 1, 1, 5, 2, 0, 1,\n",
       "       5, 2, 3, 1, 5, 4, 1, 5, 5, 1, 3, 3, 5, 5, 3, 0, 4, 4, 5, 5, 2, 0,\n",
       "       2, 5, 0, 0, 0, 5, 5, 3, 4, 5, 3, 3])"
      ]
     },
     "execution_count": 165,
     "metadata": {},
     "output_type": "execute_result"
    }
   ],
   "source": [
    "participant_stages_df = pd.read_csv(\n",
    "    \"logs/chen_data_conjugate_priors/all_current_participant_stages.csv\")\n",
    "participant_stages_df.head()\n",
    "participant_stages = participant_stages_df.iloc[int(that_iteration) - 1, 1:]\n",
    "np.array(participant_stages)"
   ]
  },
  {
   "cell_type": "code",
   "execution_count": 166,
   "metadata": {},
   "outputs": [
    {
     "data": {
      "text/plain": [
       "{'FCI(HIP)': 5, 'GMI(HIP)': 3, 'FCI(Fusi)': 2, 'FCI(PCC)': 1, 'GMI(FUS)': 4}"
      ]
     },
     "execution_count": 166,
     "metadata": {},
     "output_type": "execute_result"
    }
   ],
   "source": [
    "current_orderings = participant_stages_df = pd.read_csv(\n",
    "    \"logs/chen_data_conjugate_priors/all_current_order_dicts.csv\")\n",
    "current_orderings.head()\n",
    "current_ordering_dict = dict(current_orderings.iloc[-1, 1:])\n",
    "current_ordering_dict"
   ]
  },
  {
   "cell_type": "code",
   "execution_count": 167,
   "metadata": {},
   "outputs": [],
   "source": [
    "real_ordering_dict = {'FCI(HIP)': 1, 'GMI(HIP)': 3, 'FCI(Fusi)': 5, 'FCI(PCC)': 2, 'GMI(FUS)': 4}"
   ]
  },
  {
   "cell_type": "code",
   "execution_count": 168,
   "metadata": {},
   "outputs": [
    {
     "data": {
      "text/html": [
       "<div>\n",
       "<style scoped>\n",
       "    .dataframe tbody tr th:only-of-type {\n",
       "        vertical-align: middle;\n",
       "    }\n",
       "\n",
       "    .dataframe tbody tr th {\n",
       "        vertical-align: top;\n",
       "    }\n",
       "\n",
       "    .dataframe thead th {\n",
       "        text-align: right;\n",
       "    }\n",
       "</style>\n",
       "<table border=\"1\" class=\"dataframe\">\n",
       "  <thead>\n",
       "    <tr style=\"text-align: right;\">\n",
       "      <th></th>\n",
       "      <th>participant_category</th>\n",
       "      <th>participant</th>\n",
       "      <th>timestamp</th>\n",
       "      <th>diseased</th>\n",
       "      <th>biomarker</th>\n",
       "      <th>measurement</th>\n",
       "    </tr>\n",
       "  </thead>\n",
       "  <tbody>\n",
       "    <tr>\n",
       "      <th>0</th>\n",
       "      <td>CN</td>\n",
       "      <td>0</td>\n",
       "      <td>6/2/2011</td>\n",
       "      <td>False</td>\n",
       "      <td>FCI(HIP)</td>\n",
       "      <td>-2.544567</td>\n",
       "    </tr>\n",
       "    <tr>\n",
       "      <th>1</th>\n",
       "      <td>CN</td>\n",
       "      <td>1</td>\n",
       "      <td>9/2/2011</td>\n",
       "      <td>False</td>\n",
       "      <td>FCI(HIP)</td>\n",
       "      <td>-1.603212</td>\n",
       "    </tr>\n",
       "    <tr>\n",
       "      <th>2</th>\n",
       "      <td>CN</td>\n",
       "      <td>2</td>\n",
       "      <td>10/11/2011</td>\n",
       "      <td>False</td>\n",
       "      <td>FCI(HIP)</td>\n",
       "      <td>-4.716009</td>\n",
       "    </tr>\n",
       "    <tr>\n",
       "      <th>3</th>\n",
       "      <td>CN</td>\n",
       "      <td>3</td>\n",
       "      <td>8/8/2011</td>\n",
       "      <td>False</td>\n",
       "      <td>FCI(HIP)</td>\n",
       "      <td>-4.232625</td>\n",
       "    </tr>\n",
       "    <tr>\n",
       "      <th>4</th>\n",
       "      <td>CN</td>\n",
       "      <td>4</td>\n",
       "      <td>11/28/2011</td>\n",
       "      <td>False</td>\n",
       "      <td>FCI(HIP)</td>\n",
       "      <td>3.628361</td>\n",
       "    </tr>\n",
       "  </tbody>\n",
       "</table>\n",
       "</div>"
      ],
      "text/plain": [
       "  participant_category  participant      timestamp  diseased biomarker  \\\n",
       "0                   CN            0     6/2/2011       False  FCI(HIP)   \n",
       "1                   CN            1     9/2/2011       False  FCI(HIP)   \n",
       "2                   CN            2   10/11/2011       False  FCI(HIP)   \n",
       "3                   CN            3     8/8/2011       False  FCI(HIP)   \n",
       "4                   CN            4   11/28/2011       False  FCI(HIP)   \n",
       "\n",
       "   measurement  \n",
       "0    -2.544567  \n",
       "1    -1.603212  \n",
       "2    -4.716009  \n",
       "3    -4.232625  \n",
       "4     3.628361  "
      ]
     },
     "execution_count": 168,
     "metadata": {},
     "output_type": "execute_result"
    }
   ],
   "source": [
    "data_we_have = get_data_we_have(\"Chen Data\")\n",
    "biomarkers = data_we_have.biomarker.unique()\n",
    "n_biomarkers = len(biomarkers)\n",
    "n_stages = n_biomarkers + 1\n",
    "n_participants = len(data_we_have.participant.unique())\n",
    "theta_phi_kmeans = utils.get_theta_phi_kmeans(data_we_have, biomarkers, n_clusters = 2)\n",
    "data = data_we_have.copy()\n",
    "data.head()"
   ]
  },
  {
   "cell_type": "code",
   "execution_count": 169,
   "metadata": {},
   "outputs": [
    {
     "data": {
      "text/html": [
       "<div>\n",
       "<style scoped>\n",
       "    .dataframe tbody tr th:only-of-type {\n",
       "        vertical-align: middle;\n",
       "    }\n",
       "\n",
       "    .dataframe tbody tr th {\n",
       "        vertical-align: top;\n",
       "    }\n",
       "\n",
       "    .dataframe thead th {\n",
       "        text-align: right;\n",
       "    }\n",
       "</style>\n",
       "<table border=\"1\" class=\"dataframe\">\n",
       "  <thead>\n",
       "    <tr style=\"text-align: right;\">\n",
       "      <th></th>\n",
       "      <th>biomarker</th>\n",
       "      <th>theta_mean</th>\n",
       "      <th>theta_std</th>\n",
       "      <th>phi_mean</th>\n",
       "      <th>phi_std</th>\n",
       "    </tr>\n",
       "  </thead>\n",
       "  <tbody>\n",
       "    <tr>\n",
       "      <th>0</th>\n",
       "      <td>FCI(HIP)</td>\n",
       "      <td>2.794918</td>\n",
       "      <td>2.983066</td>\n",
       "      <td>-5.546734</td>\n",
       "      <td>2.887983</td>\n",
       "    </tr>\n",
       "    <tr>\n",
       "      <th>1</th>\n",
       "      <td>GMI(HIP)</td>\n",
       "      <td>0.341778</td>\n",
       "      <td>0.054571</td>\n",
       "      <td>0.482245</td>\n",
       "      <td>0.037704</td>\n",
       "    </tr>\n",
       "    <tr>\n",
       "      <th>2</th>\n",
       "      <td>FCI(Fusi)</td>\n",
       "      <td>-19.767018</td>\n",
       "      <td>4.183856</td>\n",
       "      <td>-10.216922</td>\n",
       "      <td>3.021294</td>\n",
       "    </tr>\n",
       "    <tr>\n",
       "      <th>3</th>\n",
       "      <td>FCI(PCC)</td>\n",
       "      <td>11.583134</td>\n",
       "      <td>3.358987</td>\n",
       "      <td>1.781998</td>\n",
       "      <td>3.292063</td>\n",
       "    </tr>\n",
       "    <tr>\n",
       "      <th>4</th>\n",
       "      <td>GMI(FUS)</td>\n",
       "      <td>0.457107</td>\n",
       "      <td>0.044667</td>\n",
       "      <td>0.569150</td>\n",
       "      <td>0.035734</td>\n",
       "    </tr>\n",
       "  </tbody>\n",
       "</table>\n",
       "</div>"
      ],
      "text/plain": [
       "   biomarker  theta_mean  theta_std   phi_mean   phi_std\n",
       "0   FCI(HIP)    2.794918   2.983066  -5.546734  2.887983\n",
       "1   GMI(HIP)    0.341778   0.054571   0.482245  0.037704\n",
       "2  FCI(Fusi)  -19.767018   4.183856 -10.216922  3.021294\n",
       "3   FCI(PCC)   11.583134   3.358987   1.781998  3.292063\n",
       "4   GMI(FUS)    0.457107   0.044667   0.569150  0.035734"
      ]
     },
     "execution_count": 169,
     "metadata": {},
     "output_type": "execute_result"
    }
   ],
   "source": [
    "theta_phi_kmeans.head()"
   ]
  },
  {
   "cell_type": "code",
   "execution_count": 170,
   "metadata": {},
   "outputs": [
    {
     "data": {
      "text/plain": [
       "array([ 0,  1,  2,  3,  4,  5,  6,  7,  8,  9, 10, 11, 12, 13, 14, 15, 16,\n",
       "       17, 18, 19, 20, 21, 22, 23, 24, 25, 26, 27, 28, 29, 30, 31, 32, 33,\n",
       "       34, 35, 36, 37, 38, 39, 40, 41, 42, 43, 44])"
      ]
     },
     "execution_count": 170,
     "metadata": {},
     "output_type": "execute_result"
    }
   ],
   "source": [
    "non_diseased_participants = data_we_have.loc[\n",
    "        data_we_have.diseased == False].participant.unique()\n",
    "non_diseased_participants"
   ]
  },
  {
   "cell_type": "code",
   "execution_count": 171,
   "metadata": {},
   "outputs": [
    {
     "data": {
      "text/plain": [
       "144"
      ]
     },
     "execution_count": 171,
     "metadata": {},
     "output_type": "execute_result"
    }
   ],
   "source": [
    "n_participants"
   ]
  },
  {
   "cell_type": "code",
   "execution_count": 172,
   "metadata": {},
   "outputs": [
    {
     "data": {
      "text/html": [
       "<div>\n",
       "<style scoped>\n",
       "    .dataframe tbody tr th:only-of-type {\n",
       "        vertical-align: middle;\n",
       "    }\n",
       "\n",
       "    .dataframe tbody tr th {\n",
       "        vertical-align: top;\n",
       "    }\n",
       "\n",
       "    .dataframe thead th {\n",
       "        text-align: right;\n",
       "    }\n",
       "</style>\n",
       "<table border=\"1\" class=\"dataframe\">\n",
       "  <thead>\n",
       "    <tr style=\"text-align: right;\">\n",
       "      <th></th>\n",
       "      <th>participant_category</th>\n",
       "      <th>participant</th>\n",
       "      <th>timestamp</th>\n",
       "      <th>diseased</th>\n",
       "      <th>biomarker</th>\n",
       "      <th>measurement</th>\n",
       "      <th>S_n</th>\n",
       "    </tr>\n",
       "  </thead>\n",
       "  <tbody>\n",
       "    <tr>\n",
       "      <th>0</th>\n",
       "      <td>CN</td>\n",
       "      <td>0</td>\n",
       "      <td>6/2/2011</td>\n",
       "      <td>False</td>\n",
       "      <td>FCI(HIP)</td>\n",
       "      <td>-2.544567</td>\n",
       "      <td>5</td>\n",
       "    </tr>\n",
       "    <tr>\n",
       "      <th>1</th>\n",
       "      <td>CN</td>\n",
       "      <td>1</td>\n",
       "      <td>9/2/2011</td>\n",
       "      <td>False</td>\n",
       "      <td>FCI(HIP)</td>\n",
       "      <td>-1.603212</td>\n",
       "      <td>5</td>\n",
       "    </tr>\n",
       "    <tr>\n",
       "      <th>2</th>\n",
       "      <td>CN</td>\n",
       "      <td>2</td>\n",
       "      <td>10/11/2011</td>\n",
       "      <td>False</td>\n",
       "      <td>FCI(HIP)</td>\n",
       "      <td>-4.716009</td>\n",
       "      <td>5</td>\n",
       "    </tr>\n",
       "    <tr>\n",
       "      <th>3</th>\n",
       "      <td>CN</td>\n",
       "      <td>3</td>\n",
       "      <td>8/8/2011</td>\n",
       "      <td>False</td>\n",
       "      <td>FCI(HIP)</td>\n",
       "      <td>-4.232625</td>\n",
       "      <td>5</td>\n",
       "    </tr>\n",
       "    <tr>\n",
       "      <th>4</th>\n",
       "      <td>CN</td>\n",
       "      <td>4</td>\n",
       "      <td>11/28/2011</td>\n",
       "      <td>False</td>\n",
       "      <td>FCI(HIP)</td>\n",
       "      <td>3.628361</td>\n",
       "      <td>5</td>\n",
       "    </tr>\n",
       "  </tbody>\n",
       "</table>\n",
       "</div>"
      ],
      "text/plain": [
       "  participant_category  participant      timestamp  diseased biomarker  \\\n",
       "0                   CN            0     6/2/2011       False  FCI(HIP)   \n",
       "1                   CN            1     9/2/2011       False  FCI(HIP)   \n",
       "2                   CN            2   10/11/2011       False  FCI(HIP)   \n",
       "3                   CN            3     8/8/2011       False  FCI(HIP)   \n",
       "4                   CN            4   11/28/2011       False  FCI(HIP)   \n",
       "\n",
       "   measurement  S_n  \n",
       "0    -2.544567    5  \n",
       "1    -1.603212    5  \n",
       "2    -4.716009    5  \n",
       "3    -4.232625    5  \n",
       "4     3.628361    5  "
      ]
     },
     "execution_count": 172,
     "metadata": {},
     "output_type": "execute_result"
    }
   ],
   "source": [
    "data['S_n'] = data.apply(lambda row: current_ordering_dict[row['biomarker']], axis = 1)\n",
    "data.head()"
   ]
  },
  {
   "cell_type": "code",
   "execution_count": 173,
   "metadata": {},
   "outputs": [
    {
     "data": {
      "text/html": [
       "<div>\n",
       "<style scoped>\n",
       "    .dataframe tbody tr th:only-of-type {\n",
       "        vertical-align: middle;\n",
       "    }\n",
       "\n",
       "    .dataframe tbody tr th {\n",
       "        vertical-align: top;\n",
       "    }\n",
       "\n",
       "    .dataframe thead th {\n",
       "        text-align: right;\n",
       "    }\n",
       "</style>\n",
       "<table border=\"1\" class=\"dataframe\">\n",
       "  <thead>\n",
       "    <tr style=\"text-align: right;\">\n",
       "      <th></th>\n",
       "      <th>participant_category</th>\n",
       "      <th>participant</th>\n",
       "      <th>timestamp</th>\n",
       "      <th>diseased</th>\n",
       "      <th>biomarker</th>\n",
       "      <th>measurement</th>\n",
       "      <th>S_n</th>\n",
       "      <th>k_j</th>\n",
       "      <th>affected</th>\n",
       "    </tr>\n",
       "  </thead>\n",
       "  <tbody>\n",
       "    <tr>\n",
       "      <th>0</th>\n",
       "      <td>CN</td>\n",
       "      <td>0</td>\n",
       "      <td>6/2/2011</td>\n",
       "      <td>False</td>\n",
       "      <td>FCI(HIP)</td>\n",
       "      <td>-2.544567</td>\n",
       "      <td>5</td>\n",
       "      <td>0</td>\n",
       "      <td>False</td>\n",
       "    </tr>\n",
       "    <tr>\n",
       "      <th>1</th>\n",
       "      <td>CN</td>\n",
       "      <td>1</td>\n",
       "      <td>9/2/2011</td>\n",
       "      <td>False</td>\n",
       "      <td>FCI(HIP)</td>\n",
       "      <td>-1.603212</td>\n",
       "      <td>5</td>\n",
       "      <td>0</td>\n",
       "      <td>False</td>\n",
       "    </tr>\n",
       "    <tr>\n",
       "      <th>2</th>\n",
       "      <td>CN</td>\n",
       "      <td>2</td>\n",
       "      <td>10/11/2011</td>\n",
       "      <td>False</td>\n",
       "      <td>FCI(HIP)</td>\n",
       "      <td>-4.716009</td>\n",
       "      <td>5</td>\n",
       "      <td>0</td>\n",
       "      <td>False</td>\n",
       "    </tr>\n",
       "    <tr>\n",
       "      <th>3</th>\n",
       "      <td>CN</td>\n",
       "      <td>3</td>\n",
       "      <td>8/8/2011</td>\n",
       "      <td>False</td>\n",
       "      <td>FCI(HIP)</td>\n",
       "      <td>-4.232625</td>\n",
       "      <td>5</td>\n",
       "      <td>0</td>\n",
       "      <td>False</td>\n",
       "    </tr>\n",
       "    <tr>\n",
       "      <th>4</th>\n",
       "      <td>CN</td>\n",
       "      <td>4</td>\n",
       "      <td>11/28/2011</td>\n",
       "      <td>False</td>\n",
       "      <td>FCI(HIP)</td>\n",
       "      <td>3.628361</td>\n",
       "      <td>5</td>\n",
       "      <td>0</td>\n",
       "      <td>False</td>\n",
       "    </tr>\n",
       "  </tbody>\n",
       "</table>\n",
       "</div>"
      ],
      "text/plain": [
       "  participant_category  participant      timestamp  diseased biomarker  \\\n",
       "0                   CN            0     6/2/2011       False  FCI(HIP)   \n",
       "1                   CN            1     9/2/2011       False  FCI(HIP)   \n",
       "2                   CN            2   10/11/2011       False  FCI(HIP)   \n",
       "3                   CN            3     8/8/2011       False  FCI(HIP)   \n",
       "4                   CN            4   11/28/2011       False  FCI(HIP)   \n",
       "\n",
       "   measurement  S_n  k_j  affected  \n",
       "0    -2.544567    5    0     False  \n",
       "1    -1.603212    5    0     False  \n",
       "2    -4.716009    5    0     False  \n",
       "3    -4.232625    5    0     False  \n",
       "4     3.628361    5    0     False  "
      ]
     },
     "execution_count": 173,
     "metadata": {},
     "output_type": "execute_result"
    }
   ],
   "source": [
    "data = utils.add_kj_and_affected(data, participant_stages, n_participants)\n",
    "data.head()"
   ]
  },
  {
   "cell_type": "code",
   "execution_count": 174,
   "metadata": {},
   "outputs": [
    {
     "data": {
      "text/html": [
       "<div>\n",
       "<style scoped>\n",
       "    .dataframe tbody tr th:only-of-type {\n",
       "        vertical-align: middle;\n",
       "    }\n",
       "\n",
       "    .dataframe tbody tr th {\n",
       "        vertical-align: top;\n",
       "    }\n",
       "\n",
       "    .dataframe thead th {\n",
       "        text-align: right;\n",
       "    }\n",
       "</style>\n",
       "<table border=\"1\" class=\"dataframe\">\n",
       "  <thead>\n",
       "    <tr style=\"text-align: right;\">\n",
       "      <th></th>\n",
       "      <th>biomarker</th>\n",
       "      <th>theta_mean</th>\n",
       "      <th>theta_std</th>\n",
       "      <th>phi_mean</th>\n",
       "      <th>phi_std</th>\n",
       "    </tr>\n",
       "  </thead>\n",
       "  <tbody>\n",
       "    <tr>\n",
       "      <th>0</th>\n",
       "      <td>FCI(HIP)</td>\n",
       "      <td>-2.513914</td>\n",
       "      <td>5.279185</td>\n",
       "      <td>-1.724161</td>\n",
       "      <td>5.033141</td>\n",
       "    </tr>\n",
       "    <tr>\n",
       "      <th>1</th>\n",
       "      <td>GMI(HIP)</td>\n",
       "      <td>0.342163</td>\n",
       "      <td>0.067984</td>\n",
       "      <td>0.467731</td>\n",
       "      <td>0.051609</td>\n",
       "    </tr>\n",
       "    <tr>\n",
       "      <th>2</th>\n",
       "      <td>FCI(Fusi)</td>\n",
       "      <td>-14.318009</td>\n",
       "      <td>5.821399</td>\n",
       "      <td>-12.246062</td>\n",
       "      <td>5.227981</td>\n",
       "    </tr>\n",
       "    <tr>\n",
       "      <th>3</th>\n",
       "      <td>FCI(PCC)</td>\n",
       "      <td>4.647519</td>\n",
       "      <td>6.051305</td>\n",
       "      <td>5.627510</td>\n",
       "      <td>5.060392</td>\n",
       "    </tr>\n",
       "    <tr>\n",
       "      <th>4</th>\n",
       "      <td>GMI(FUS)</td>\n",
       "      <td>0.479318</td>\n",
       "      <td>0.066167</td>\n",
       "      <td>0.554471</td>\n",
       "      <td>0.051420</td>\n",
       "    </tr>\n",
       "  </tbody>\n",
       "</table>\n",
       "</div>"
      ],
      "text/plain": [
       "   biomarker  theta_mean  theta_std   phi_mean   phi_std\n",
       "0   FCI(HIP)   -2.513914   5.279185  -1.724161  5.033141\n",
       "1   GMI(HIP)    0.342163   0.067984   0.467731  0.051609\n",
       "2  FCI(Fusi)  -14.318009   5.821399 -12.246062  5.227981\n",
       "3   FCI(PCC)    4.647519   6.051305   5.627510  5.060392\n",
       "4   GMI(FUS)    0.479318   0.066167   0.554471  0.051420"
      ]
     },
     "execution_count": 174,
     "metadata": {},
     "output_type": "execute_result"
    }
   ],
   "source": [
    "estimated_theta_phi = utils.get_theta_phi_conjugate_priors(\n",
    "            biomarkers, data, theta_phi_kmeans=theta_phi_kmeans)\n",
    "estimated_theta_phi.head()"
   ]
  },
  {
   "cell_type": "code",
   "execution_count": 175,
   "metadata": {},
   "outputs": [],
   "source": [
    "def cal_all_participant_ln_likelihood_based_on_ordering_and_participant_stages(\n",
    "        data_we_have,\n",
    "        ordering_dict,\n",
    "        participant_stages,\n",
    "        n_participants, \n",
    "        non_diseased_participants,\n",
    "        n_stages,\n",
    "        theta_phi_kmeans\n",
    "    ):\n",
    "    data = data_we_have.copy()\n",
    "    data['S_n'] = data.apply(lambda row: ordering_dict[row['biomarker']], axis = 1)\n",
    "    data = utils.add_kj_and_affected(data, participant_stages, n_participants)\n",
    "    # get estimated_theta_phi\n",
    "    estimated_theta_phi = utils.get_theta_phi_conjugate_priors(\n",
    "        biomarkers, data, theta_phi_kmeans)\n",
    "\n",
    "    all_participant_ln_likelihood = 0 \n",
    "    for p in range(n_participants):\n",
    "        # this participant data\n",
    "        pdata = data[data.participant == p].reset_index(drop=True)\n",
    "\n",
    "        \"\"\"If this participant is not diseased (i.e., if we know k_j is equal to 0)\n",
    "        We still need to compute the likelihood of this participant seeing this sequence of biomarker data\n",
    "        but we do not need to estimate k_j like below\n",
    "\n",
    "        We still need to compute the likelihood because we need to add it to all_participant_ln_likelihood\n",
    "        \"\"\"\n",
    "        if p in non_diseased_participants:\n",
    "            this_participant_likelihood = utils.compute_likelihood(\n",
    "                pdata, k_j = 0, theta_phi = estimated_theta_phi)\n",
    "            this_participant_ln_likelihood = np.log(this_participant_likelihood)\n",
    "        else:\n",
    "            # initiaze stage_likelihood\n",
    "            stage_likelihood = np.zeros(n_stages)\n",
    "            for k_j in range(n_stages):\n",
    "                # even though data above has everything, it is filled up by random stages\n",
    "                # we don't like it and want to know the true k_j. All the following is to update participant_stages\n",
    "\n",
    "                # likelihood for this participant to have this specific sequence of biomarker values\n",
    "                participant_likelihood = utils.compute_likelihood(pdata, k_j, estimated_theta_phi)\n",
    "\n",
    "                # update each stage likelihood for this participant\n",
    "                stage_likelihood[k_j] = participant_likelihood\n",
    "            likelihood_sum = np.sum(stage_likelihood)\n",
    "            normalized_stage_likelihood = [l/likelihood_sum for l in stage_likelihood]\n",
    "            # sampled_stage = np.random.choice(\n",
    "            #     np.arange(n_stages), p = normalized_stage_likelihood)\n",
    "            # participant_stages[p] = sampled_stage   \n",
    "\n",
    "            # if participant is in sampled_stage, what is the likelihood of \n",
    "            # seeing this sequence of biomarker data:\n",
    "            # this_participant_likelihood = stage_likelihood[sampled_stage]\n",
    "\n",
    "            # this_participant_likelihood = average_all_likelihood(pdata, num_biomarkers, estimated_theta_phi)\n",
    "\n",
    "            # use weighted average likelihood because we didn't know the exact participant stage\n",
    "            # all above to calculate participant_stage is only for the purpous of calculate theta_phi\n",
    "            this_participant_likelihood = utils.weighted_average_likelihood(\n",
    "                pdata, n_stages, normalized_stage_likelihood, estimated_theta_phi)\n",
    "            \n",
    "            # then, update all_participant_likelihood\n",
    "            if this_participant_likelihood == 0:\n",
    "                this_participant_ln_likelihood = np.log(this_participant_likelihood + 1e20)\n",
    "            else:\n",
    "                this_participant_ln_likelihood = np.log(this_participant_likelihood)\n",
    "        \"\"\"\n",
    "        All the codes in between are calculating this_participant_ln_likelihood. \n",
    "        If we already know kj=0, then\n",
    "        it's very simple. If kj is unknown, we need to calculate the likelihood of seeing \n",
    "        this sequence of biomarker\n",
    "        data at different stages, and get the relative likelihood before \n",
    "        we get a sampled stage (this is for estimating theta and phi). \n",
    "        Then we calculate this_participant_ln_likelihood using average likelihood. \n",
    "        \"\"\"\n",
    "        all_participant_ln_likelihood += this_participant_ln_likelihood\n",
    "    return all_participant_ln_likelihood"
   ]
  },
  {
   "cell_type": "code",
   "execution_count": 176,
   "metadata": {},
   "outputs": [],
   "source": [
    "current_ll = cal_all_participant_ln_likelihood_based_on_ordering_and_participant_stages(\n",
    "    data_we_have,\n",
    "    current_ordering_dict,\n",
    "    participant_stages,\n",
    "    n_participants, \n",
    "    non_diseased_participants,\n",
    "    n_stages,\n",
    "    theta_phi_kmeans,\n",
    ")"
   ]
  },
  {
   "cell_type": "code",
   "execution_count": 177,
   "metadata": {},
   "outputs": [
    {
     "data": {
      "text/plain": [
       "-888.9376221102552"
      ]
     },
     "execution_count": 177,
     "metadata": {},
     "output_type": "execute_result"
    }
   ],
   "source": [
    "current_ll"
   ]
  },
  {
   "cell_type": "code",
   "execution_count": 178,
   "metadata": {},
   "outputs": [],
   "source": [
    "real_ll = cal_all_participant_ln_likelihood_based_on_ordering_and_participant_stages(\n",
    "    data_we_have,\n",
    "    real_ordering_dict,\n",
    "    participant_stages,\n",
    "    n_participants, \n",
    "    non_diseased_participants,\n",
    "    n_stages,\n",
    "    theta_phi_kmeans\n",
    ")"
   ]
  },
  {
   "cell_type": "code",
   "execution_count": 179,
   "metadata": {},
   "outputs": [
    {
     "data": {
      "text/plain": [
       "-881.9991419141088"
      ]
     },
     "execution_count": 179,
     "metadata": {},
     "output_type": "execute_result"
    }
   ],
   "source": [
    "real_ll"
   ]
  }
 ],
 "metadata": {
  "kernelspec": {
   "display_name": "bayes",
   "language": "python",
   "name": "python3"
  },
  "language_info": {
   "codemirror_mode": {
    "name": "ipython",
    "version": 3
   },
   "file_extension": ".py",
   "mimetype": "text/x-python",
   "name": "python",
   "nbconvert_exporter": "python",
   "pygments_lexer": "ipython3",
   "version": "3.8.19"
  }
 },
 "nbformat": 4,
 "nbformat_minor": 2
}
