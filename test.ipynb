{
 "cells": [
  {
   "cell_type": "code",
   "execution_count": 39,
   "metadata": {},
   "outputs": [],
   "source": [
    "import pandas as pd\n",
    "import numpy as np"
   ]
  },
  {
   "cell_type": "markdown",
   "metadata": {},
   "source": [
    "## Analyze conjugate priors results"
   ]
  },
  {
   "cell_type": "code",
   "execution_count": 22,
   "metadata": {},
   "outputs": [],
   "source": [
    "# participant_stages_df = pd.read_csv(\"logs/conjugate_priors/all_current_participant_stages.csv\")\n",
    "# participant_stages_df.head()\n",
    "# participant_stages = participant_stages_df.iloc[-1, 1:]\n",
    "# np.array(participant_stages)"
   ]
  },
  {
   "cell_type": "markdown",
   "metadata": {},
   "source": [
    "```\n",
    "array([3, 4, 5, 4, 1, 2, 1, 4, 5, 1, 0, 3, 3, 5, 2, 0, 0, 4, 5, 4, 3, 4,\n",
    "       1, 0, 2, 5, 2, 4, 2, 0, 3, 0, 2, 4, 4, 5, 1, 5, 2, 2, 2, 5, 4, 1,\n",
    "       5, 1, 2, 0, 5, 1, 3, 3, 3, 1, 3, 4, 2, 4, 1, 4, 1, 2, 2, 4, 1, 3,\n",
    "       1, 2, 5, 0, 2, 0, 0, 3, 2, 2, 3, 3, 5, 4, 5, 2, 1, 5, 4, 0, 0, 1,\n",
    "       2, 4, 2, 2, 2, 1, 0, 3, 3, 0, 3, 4])\n",
    "```"
   ]
  },
  {
   "cell_type": "code",
   "execution_count": 23,
   "metadata": {},
   "outputs": [],
   "source": [
    "# current_best_order_dict = {'MMSE': 5, 'ADAS': 4, 'AB': 2, 'P-Tau': 3, 'HIP-FCI': 1}\n",
    "# real_order_dict = {'MMSE': 4, 'ADAS': 5, 'AB': 2, 'P-Tau': 3, 'HIP-FCI': 1}"
   ]
  },
  {
   "cell_type": "code",
   "execution_count": 24,
   "metadata": {},
   "outputs": [],
   "source": [
    "# original_data = pd.read_csv('data/participant_data.csv')\n",
    "# original_data['diseased'] = original_data.apply(lambda row: row.k_j > 0, axis = 1)\n",
    "# data = original_data.drop(['k_j', 'S_n', 'affected_or_not'], axis = 1)\n",
    "# theta_phi_kmeans = pd.read_csv(\"data/estimate_means_stds_kmeans.csv\")\n",
    "# biomarkers = data.biomarker.unique()\n",
    "# num_biomarkers = len(biomarkers)"
   ]
  },
  {
   "cell_type": "code",
   "execution_count": 25,
   "metadata": {},
   "outputs": [],
   "source": [
    "# # now data_we_have has S_n column\n",
    "# data['S_n'] = data.apply(lambda row: current_best_order_dict[row['biomarker']], axis = 1)\n",
    "\n",
    "# # add kj and affected for the whole dataset based on the initial randomized participant_stages\n",
    "# data = utils.add_kj_and_affected(data, participant_stages, num_participants)\n",
    "# # print(data.head())\n",
    "\n",
    "# # get estimated_theta_phi\n",
    "# estimated_theta_phi = utils.get_theta_phi_conjugate_priors(biomarkers, data, theta_phi_kmeans=theta_phi_kmeans)"
   ]
  },
  {
   "cell_type": "code",
   "execution_count": 26,
   "metadata": {},
   "outputs": [],
   "source": [
    "# current_best_likelihood = utils.compute_ln_likelihood_assuming_ordering(\n",
    "#     current_best_order_dict, data, num_biomarkers, estimated_theta_phi)\n",
    "# current_best_likelihood"
   ]
  },
  {
   "cell_type": "code",
   "execution_count": 27,
   "metadata": {},
   "outputs": [],
   "source": [
    "# # now data_we_have has S_n column\n",
    "# data['S_n'] = data.apply(lambda row: real_order_dict[row['biomarker']], axis = 1)\n",
    "\n",
    "# # add kj and affected for the whole dataset based on the initial randomized participant_stages\n",
    "# data = utils.add_kj_and_affected(data, participant_stages, num_participants)\n",
    "# # print(data.head())\n",
    "\n",
    "# # get estimated_theta_phi\n",
    "# estimated_theta_phi = utils.get_theta_phi_conjugate_priors(biomarkers, data, theta_phi_kmeans=theta_phi_kmeans)"
   ]
  },
  {
   "cell_type": "code",
   "execution_count": 28,
   "metadata": {},
   "outputs": [],
   "source": [
    "# real_likelihood = utils.compute_ln_likelihood_assuming_ordering(\n",
    "#     current_best_order_dict, data, num_biomarkers, estimated_theta_phi)\n",
    "# real_likelihood"
   ]
  },
  {
   "cell_type": "markdown",
   "metadata": {},
   "source": [
    "## new"
   ]
  },
  {
   "cell_type": "code",
   "execution_count": 19,
   "metadata": {},
   "outputs": [
    {
     "data": {
      "text/plain": [
       "[1, 3, 4, 5, 8, 9, 11, 12, 29, 33]"
      ]
     },
     "execution_count": 19,
     "metadata": {},
     "output_type": "execute_result"
    }
   ],
   "source": [
    "a = [1, 3, 4, 5, 8, 9, 11, 12, 29, 33]\n",
    "burn_in = 3\n",
    "import numpy as np\n",
    "a"
   ]
  },
  {
   "cell_type": "code",
   "execution_count": 20,
   "metadata": {},
   "outputs": [
    {
     "data": {
      "text/plain": [
       "[5, 8, 9, 11, 12, 29, 33]"
      ]
     },
     "execution_count": 20,
     "metadata": {},
     "output_type": "execute_result"
    }
   ],
   "source": [
    "a_toplot = a[burn_in:]\n",
    "a_toplot"
   ]
  },
  {
   "cell_type": "code",
   "execution_count": 22,
   "metadata": {},
   "outputs": [
    {
     "data": {
      "text/plain": [
       "array([ 4,  5,  6,  7,  8,  9, 10])"
      ]
     },
     "execution_count": 22,
     "metadata": {},
     "output_type": "execute_result"
    }
   ],
   "source": [
    "np.arange(burn_in+1, len(a)+1, 1)"
   ]
  },
  {
   "cell_type": "code",
   "execution_count": 25,
   "metadata": {},
   "outputs": [
    {
     "data": {
      "text/plain": [
       "True"
      ]
     },
     "execution_count": 25,
     "metadata": {},
     "output_type": "execute_result"
    }
   ],
   "source": [
    "a = -np.inf\n",
    "b = -np.inf \n",
    "a == b"
   ]
  },
  {
   "cell_type": "code",
   "execution_count": null,
   "metadata": {},
   "outputs": [],
   "source": []
  }
 ],
 "metadata": {
  "kernelspec": {
   "display_name": "bayes",
   "language": "python",
   "name": "python3"
  },
  "language_info": {
   "codemirror_mode": {
    "name": "ipython",
    "version": 3
   },
   "file_extension": ".py",
   "mimetype": "text/x-python",
   "name": "python",
   "nbconvert_exporter": "python",
   "pygments_lexer": "ipython3",
   "version": "3.8.19"
  }
 },
 "nbformat": 4,
 "nbformat_minor": 2
}
